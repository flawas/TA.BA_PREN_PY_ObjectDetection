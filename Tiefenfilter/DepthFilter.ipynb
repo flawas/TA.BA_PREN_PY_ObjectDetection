{
 "cells": [
  {
   "cell_type": "markdown",
   "id": "dcadbadf-c519-4b2f-ba4e-221fa685fdbb",
   "metadata": {},
   "source": [
    "# Color Filter"
   ]
  },
  {
   "cell_type": "code",
   "execution_count": null,
   "id": "c5933670-ec1c-4262-a788-12da4203ab61",
   "metadata": {
    "ExecuteTime": {
     "end_time": "2024-03-24T09:23:09.251890Z",
     "start_time": "2024-03-24T09:23:08.823495Z"
    }
   },
   "outputs": [],
   "source": [
    "import cv2\n",
    "import numpy as np\n",
    "import matplotlib.pyplot as plt # für RaspberryPi Code entfernen\n",
    "\n",
    "img = cv2.imread('Bild3.png')\n",
    "img = cv2.cvtColor(img, cv2.COLOR_BGR2RGB)\n",
    "hsv = cv2.cvtColor(img, cv2.COLOR_RGB2HSV)\n",
    "\n",
    "lower_red = np.array([0, 100, 110])\n",
    "upper_red = np.array([345, 255, 255])\n",
    "\n",
    "lower_blue = np.array([90, 95, 50])\n",
    "upper_blue = np.array([130, 255, 255])\n",
    "\n",
    "lower_yellow = np.array([25, 100, 100])\n",
    "upper_yellow = np.array([30, 255, 255])\n",
    "\n",
    "red_mask = cv2.inRange(hsv, lower_red, upper_red)\n",
    "blue_mask = cv2.inRange(hsv, lower_blue, upper_blue)\n",
    "yellow_mask = cv2.inRange(hsv, lower_yellow, upper_yellow)\n",
    "\n",
    "final_mask = red_mask + blue_mask + yellow_mask\n",
    "filter = cv2.bitwise_and(img, img, mask = final_mask)\n",
    "\n",
    "bilateral = cv2.bilateralFilter(filter, 15,100,100) #anpassen\n",
    "plt.imshow(bilateral) # für RaspberryPi Code entfernen\n",
    "plt.show() # für RaspberryPi Code entfernen\n",
    "\n",
    "result = cv2.cvtColor(filter, cv2.COLOR_BGR2RGB)\n",
    "bilateral = cv2.bilateralFilter(result, 15,100,100) #anpassen\n",
    "cv2.imwrite(\"Cubes3.png\", bilateral)"
   ]
  },
  {
   "cell_type": "markdown",
   "id": "1204978a-e159-4de3-b386-812dce49f06c",
   "metadata": {},
   "source": [
    "# Depth Map"
   ]
  },
  {
   "cell_type": "code",
   "execution_count": null,
   "id": "dcb461ca-decd-4d0b-a794-2971f27e9b2a",
   "metadata": {
    "ExecuteTime": {
     "end_time": "2024-03-24T09:25:32.585090Z",
     "start_time": "2024-03-24T09:24:19.807903Z"
    }
   },
   "outputs": [],
   "source": [
    "import cv2\n",
    "import torch\n",
    "import matplotlib.pyplot as plt # für RaspberryPi Code entfernen\n",
    "from matplotlib.colors import LinearSegmentedColormap\n",
    "\n",
    "filename = (\"Cubes2.png\")\n",
    "\n",
    "model_type = \"DPT_Large\"\n",
    "midas = torch.hub.load(\"intel-isl/MiDas\", model_type)\n",
    "\n",
    "midas_transforms = torch.hub.load(\"intel-isl/MiDas\", \"transforms\")\n",
    "if model_type == \"DPT_Large\" or model_type == \"DPT_Hybrid\":\n",
    "    transform = midas_transforms.dpt_transform\n",
    "\n",
    "device = torch.device(\"cpu\")\n",
    "img = cv2.imread(filename)\n",
    "img = cv2.cvtColor(img, cv2.COLOR_BGR2RGB)\n",
    "\n",
    "input_batch = transform(img).to(device)\n",
    "\n",
    "\n",
    "with torch.no_grad():\n",
    "    prediction = midas(input_batch)\n",
    "\n",
    "    prediction = torch.nn.functional.interpolate(\n",
    "        prediction.unsqueeze(1),\n",
    "        size=img.shape[:2],\n",
    "        mode=\"bicubic\",\n",
    "        align_corners=False,\n",
    "    ).squeeze()\n",
    "    \n",
    "output = prediction.cpu().numpy()\n",
    "\n",
    "plt.imshow(output, cmap='gray') # für RaspberryPi Code entfernen\n",
    "plt.show() # für RaspberryPi Code entfernen\n",
    "\n",
    "cv2.imwrite(\"DepthMap2.png\", output)"
   ]
  },
  {
   "cell_type": "markdown",
   "id": "07b46094-aa64-4a90-9e47-4360387bca14",
   "metadata": {},
   "source": [
    "# Image Segmentation"
   ]
  },
  {
   "cell_type": "code",
   "execution_count": null,
   "id": "a4ec1f8d-8a08-4f01-94a9-b98df7a6df7e",
   "metadata": {
    "ExecuteTime": {
     "end_time": "2024-03-24T09:25:53.742357Z",
     "start_time": "2024-03-24T09:25:53.515947Z"
    }
   },
   "outputs": [],
   "source": [
    "import cv2\n",
    "import numpy as np\n",
    "import matplotlib.pyplot as plt # für RaspberryPi Code entfernen\n",
    "\n",
    "depth_map = cv2.imread(\"DepthMap2.png\", cv2.IMREAD_GRAYSCALE)\n",
    "img = cv2.imread(\"Cubes2.png\")\n",
    "\n",
    "threshold_distance = 14\n",
    "\n",
    "mask = depth_map < threshold_distance\n",
    "\n",
    "img_rgb = cv2.cvtColor(img, cv2.COLOR_BGR2RGB)\n",
    "\n",
    "img_rgb[mask] = [0,0,0]\n",
    "\n",
    "gray_image = cv2.cvtColor(img_rgb, cv2.COLOR_BGR2GRAY)\n",
    "\n",
    "\n",
    "threshold = 10\n",
    "mask_black = cv2.threshold(gray_image, threshold, 255, cv2.THRESH_BINARY)[1]\n",
    "mask_white = cv2.bitwise_not(mask_black)\n",
    "\n",
    "img[mask_white == 255] = [255, 255, 255]\n",
    "cv2.imwrite(\"Result2.png\", img)\n",
    "\n",
    "img = cv2.cvtColor(img, cv2.COLOR_BGR2RGB)\n",
    "plt.imshow(img) # für RaspberryPi Code entfernen\n",
    "plt.show() # für RaspberryPi Code entfernen"
   ]
  },
  {
   "cell_type": "markdown",
   "id": "1178e410-a4f3-4221-bfeb-0aec877278eb",
   "metadata": {},
   "source": [
    "# Test"
   ]
  },
  {
   "cell_type": "code",
   "execution_count": null,
   "id": "84ce57db-89de-4169-8b96-e18be5d55d10",
   "metadata": {},
   "outputs": [],
   "source": [
    "import cv2\n",
    "import numpy as np\n",
    "Test = cv2.imread(\"Screenshot1.png\")\n",
    "Test[0:720,0:545] = [255,255,255]\n",
    "Test[0:720,745:1280] = [255,255,255]\n",
    "Test[0:140,0:1280] = [255,255,255]\n",
    "Test[320:720,0:1280] = [255,255,255]\n",
    "cv2.imwrite(\"Test.png\", Test)"
   ]
  },
  {
   "cell_type": "code",
   "execution_count": 10,
   "id": "a99b8906-5185-4871-8a72-8ef3825a4d39",
   "metadata": {},
   "outputs": [
    {
     "data": {
      "text/plain": [
       "True"
      ]
     },
     "execution_count": 10,
     "metadata": {},
     "output_type": "execute_result"
    }
   ],
   "source": [
    "import cv2\n",
    "\n",
    "frame = cv2.imread(\"Screenshot1.png\")\n",
    "frame[0:720,0:545] = [255,255,255]\n",
    "frame[0:720,745:1280] = [255,255,255]\n",
    "frame[0:140,0:1280] = [255,255,255]\n",
    "frame[320:720,0:1280] = [255,255,255]\n",
    "\n",
    "white = [230,230,230]\n",
    "black = [70,70,70]\n",
    "\n",
    "\n",
    "cv2.rectangle(frame, (575, 275), (625, 325), (255, 255, 255), 3) \n",
    "roi_bottom_left = frame[275:325, 575:625]\n",
    "average_color_bottom_left = np.mean(roi_bottom_left, axis=(0, 1))\n",
    "\n",
    "cv2.rectangle(frame, (650, 275), (700, 325), (255, 255, 255), 3) \n",
    "roi_bottom_right = frame[275:325, 650:700]\n",
    "average_color_bottom_right = np.mean(roi_bottom_right, axis=(0, 1))\n",
    "\n",
    "cv2.rectangle(frame, (650, 275), (700, 325), (255, 255, 255), 3) \n",
    "roi_bottom_right = frame[275:325, 650:700]\n",
    "average_color_bottom_right = np.mean(roi_bottom_right, axis=(0, 1))\n",
    "\n",
    "cv2.rectangle(frame, (575, 100), (625, 150), (255, 255, 255), 3) \n",
    "roi_above_left = frame[100:150, 650:700]\n",
    "average_color_above_left = np.mean(roi_above_left, axis=(0, 1))\n",
    "\n",
    "cv2.rectangle(frame, (650, 100), (700, 150), (255, 255, 255), 3) \n",
    "roi_above_right = frame[100:150, 650:700]\n",
    "average_color_above_right = np.mean(roi_above_right, axis=(0, 1))\n",
    "\n",
    "for x in average_color_bottom_left:\n",
    "    if x > white[0] and x > white[1] and x > white[2]:\n",
    "        frame[0:210,0:655] = [255,255,255]\n",
    "\n",
    "for x in average_color_bottom_right:\n",
    "    if x > black[0] and x > black[1] and x > black[2]:\n",
    "        frame[0:720,645:1280] = [255,255,255]\n",
    "\n",
    "\"\"\"for x in average_color_above_left:\n",
    "    if x > black[0] and x > black[1] and x > black[2]:\n",
    "        frame[0:210,0:655] = [255,255,255]\n",
    "\n",
    "for x in average_color_above_right:\n",
    "    if x > black[0] and x > black[1] and x > black[2]:\n",
    "        frame[0:210,655:1280] = [255,255,255]\"\"\"\n",
    "    \n",
    "cv2.imwrite(\"Test1.png\", frame)"
   ]
  },
  {
   "cell_type": "code",
   "execution_count": 9,
   "id": "8473d79d-f433-40d0-93ee-ba9b813e79fc",
   "metadata": {},
   "outputs": [
    {
     "name": "stdout",
     "output_type": "stream",
     "text": [
      "79.95973333333333 [[[120 105 101]\n",
      "  [118 103  99]\n",
      "  [ 92  84  79]\n",
      "  ...\n",
      "  [106  63  36]\n",
      "  [105  60  32]\n",
      "  [104  59  31]]\n",
      "\n",
      " [[139 126 122]\n",
      "  [138 125 121]\n",
      "  [135 127 122]\n",
      "  ...\n",
      "  [ 44  20   8]\n",
      "  [ 45  19   6]\n",
      "  [ 45  19   6]]\n",
      "\n",
      " [[ 74  61  57]\n",
      "  [ 81  68  64]\n",
      "  [ 76  68  63]\n",
      "  ...\n",
      "  [ 68  44  32]\n",
      "  [ 63  37  24]\n",
      "  [ 59  33  20]]\n",
      "\n",
      " ...\n",
      "\n",
      " [[ 93  85  83]\n",
      "  [ 92  84  82]\n",
      "  [ 92  84  82]\n",
      "  ...\n",
      "  [ 95  83  82]\n",
      "  [ 95  83  82]\n",
      "  [ 95  83  82]]\n",
      "\n",
      " [[ 93  85  83]\n",
      "  [ 92  84  82]\n",
      "  [ 92  84  82]\n",
      "  ...\n",
      "  [ 95  83  82]\n",
      "  [ 95  83  82]\n",
      "  [ 95  83  82]]\n",
      "\n",
      " [[ 93  85  83]\n",
      "  [ 92  84  82]\n",
      "  [ 92  84  82]\n",
      "  ...\n",
      "  [ 95  83  82]\n",
      "  [ 95  83  82]\n",
      "  [ 95  83  82]]]\n"
     ]
    }
   ],
   "source": [
    "import cv2\n",
    "Test = cv2.imread(\"Screenshot1.png\")\n",
    "PixelColor = Test[275:325, 650:700]\n",
    "print(PixelColor.mean(), PixelColor)"
   ]
  },
  {
   "cell_type": "code",
   "execution_count": null,
   "id": "383b0c00-805f-4928-ae25-6a75419145da",
   "metadata": {},
   "outputs": [],
   "source": []
  }
 ],
 "metadata": {
  "kernelspec": {
   "display_name": "Python 3 (ipykernel)",
   "language": "python",
   "name": "python3"
  },
  "language_info": {
   "codemirror_mode": {
    "name": "ipython",
    "version": 3
   },
   "file_extension": ".py",
   "mimetype": "text/x-python",
   "name": "python",
   "nbconvert_exporter": "python",
   "pygments_lexer": "ipython3",
   "version": "3.10.8"
  }
 },
 "nbformat": 4,
 "nbformat_minor": 5
}

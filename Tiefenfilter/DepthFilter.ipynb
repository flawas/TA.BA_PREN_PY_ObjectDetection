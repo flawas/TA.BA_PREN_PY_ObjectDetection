{
 "cells": [
  {
   "cell_type": "markdown",
   "id": "dcadbadf-c519-4b2f-ba4e-221fa685fdbb",
   "metadata": {},
   "source": [
    "# Color Filter"
   ]
  },
  {
   "cell_type": "code",
   "execution_count": null,
   "id": "c5933670-ec1c-4262-a788-12da4203ab61",
   "metadata": {
    "ExecuteTime": {
     "end_time": "2024-03-24T09:23:09.251890Z",
     "start_time": "2024-03-24T09:23:08.823495Z"
    }
   },
   "outputs": [],
   "source": [
    "import cv2\n",
    "import numpy as np\n",
    "import matplotlib.pyplot as plt # für RaspberryPi Code entfernen\n",
    "\n",
    "img = cv2.imread('Bild3.png')\n",
    "img = cv2.cvtColor(img, cv2.COLOR_BGR2RGB)\n",
    "hsv = cv2.cvtColor(img, cv2.COLOR_RGB2HSV)\n",
    "\n",
    "lower_red = np.array([0, 100, 110])\n",
    "upper_red = np.array([345, 255, 255])\n",
    "\n",
    "lower_blue = np.array([90, 95, 50])\n",
    "upper_blue = np.array([130, 255, 255])\n",
    "\n",
    "lower_yellow = np.array([25, 100, 100])\n",
    "upper_yellow = np.array([30, 255, 255])\n",
    "\n",
    "red_mask = cv2.inRange(hsv, lower_red, upper_red)\n",
    "blue_mask = cv2.inRange(hsv, lower_blue, upper_blue)\n",
    "yellow_mask = cv2.inRange(hsv, lower_yellow, upper_yellow)\n",
    "\n",
    "final_mask = red_mask + blue_mask + yellow_mask\n",
    "filter = cv2.bitwise_and(img, img, mask = final_mask)\n",
    "\n",
    "bilateral = cv2.bilateralFilter(filter, 15,100,100) #anpassen\n",
    "plt.imshow(bilateral) # für RaspberryPi Code entfernen\n",
    "plt.show() # für RaspberryPi Code entfernen\n",
    "\n",
    "result = cv2.cvtColor(filter, cv2.COLOR_BGR2RGB)\n",
    "bilateral = cv2.bilateralFilter(result, 15,100,100) #anpassen\n",
    "cv2.imwrite(\"Cubes3.png\", bilateral)"
   ]
  },
  {
   "cell_type": "markdown",
   "id": "1204978a-e159-4de3-b386-812dce49f06c",
   "metadata": {},
   "source": [
    "# Depth Map"
   ]
  },
  {
   "cell_type": "code",
   "execution_count": null,
   "id": "dcb461ca-decd-4d0b-a794-2971f27e9b2a",
   "metadata": {
    "ExecuteTime": {
     "end_time": "2024-03-24T09:25:32.585090Z",
     "start_time": "2024-03-24T09:24:19.807903Z"
    }
   },
   "outputs": [],
   "source": [
    "import cv2\n",
    "import torch\n",
    "import matplotlib.pyplot as plt # für RaspberryPi Code entfernen\n",
    "from matplotlib.colors import LinearSegmentedColormap\n",
    "\n",
    "filename = (\"Cubes2.png\")\n",
    "\n",
    "model_type = \"DPT_Large\"\n",
    "midas = torch.hub.load(\"intel-isl/MiDas\", model_type)\n",
    "\n",
    "midas_transforms = torch.hub.load(\"intel-isl/MiDas\", \"transforms\")\n",
    "if model_type == \"DPT_Large\" or model_type == \"DPT_Hybrid\":\n",
    "    transform = midas_transforms.dpt_transform\n",
    "\n",
    "device = torch.device(\"cpu\")\n",
    "img = cv2.imread(filename)\n",
    "img = cv2.cvtColor(img, cv2.COLOR_BGR2RGB)\n",
    "\n",
    "input_batch = transform(img).to(device)\n",
    "\n",
    "\n",
    "with torch.no_grad():\n",
    "    prediction = midas(input_batch)\n",
    "\n",
    "    prediction = torch.nn.functional.interpolate(\n",
    "        prediction.unsqueeze(1),\n",
    "        size=img.shape[:2],\n",
    "        mode=\"bicubic\",\n",
    "        align_corners=False,\n",
    "    ).squeeze()\n",
    "    \n",
    "output = prediction.cpu().numpy()\n",
    "\n",
    "plt.imshow(output, cmap='gray') # für RaspberryPi Code entfernen\n",
    "plt.show() # für RaspberryPi Code entfernen\n",
    "\n",
    "cv2.imwrite(\"DepthMap2.png\", output)"
   ]
  },
  {
   "cell_type": "markdown",
   "id": "07b46094-aa64-4a90-9e47-4360387bca14",
   "metadata": {},
   "source": [
    "# Image Segmentation"
   ]
  },
  {
   "cell_type": "code",
   "execution_count": null,
   "id": "a4ec1f8d-8a08-4f01-94a9-b98df7a6df7e",
   "metadata": {
    "ExecuteTime": {
     "end_time": "2024-03-24T09:25:53.742357Z",
     "start_time": "2024-03-24T09:25:53.515947Z"
    }
   },
   "outputs": [],
   "source": [
    "import cv2\n",
    "import numpy as np\n",
    "import matplotlib.pyplot as plt # für RaspberryPi Code entfernen\n",
    "\n",
    "depth_map = cv2.imread(\"DepthMap2.png\", cv2.IMREAD_GRAYSCALE)\n",
    "img = cv2.imread(\"Cubes2.png\")\n",
    "\n",
    "threshold_distance = 14\n",
    "\n",
    "mask = depth_map < threshold_distance\n",
    "\n",
    "img_rgb = cv2.cvtColor(img, cv2.COLOR_BGR2RGB)\n",
    "\n",
    "img_rgb[mask] = [0,0,0]\n",
    "\n",
    "gray_image = cv2.cvtColor(img_rgb, cv2.COLOR_BGR2GRAY)\n",
    "\n",
    "\n",
    "threshold = 10\n",
    "mask_black = cv2.threshold(gray_image, threshold, 255, cv2.THRESH_BINARY)[1]\n",
    "mask_white = cv2.bitwise_not(mask_black)\n",
    "\n",
    "img[mask_white == 255] = [255, 255, 255]\n",
    "cv2.imwrite(\"Result2.png\", img)\n",
    "\n",
    "img = cv2.cvtColor(img, cv2.COLOR_BGR2RGB)\n",
    "plt.imshow(img) # für RaspberryPi Code entfernen\n",
    "plt.show() # für RaspberryPi Code entfernen"
   ]
  },
  {
   "cell_type": "markdown",
   "id": "1178e410-a4f3-4221-bfeb-0aec877278eb",
   "metadata": {},
   "source": [
    "# Test"
   ]
  },
  {
   "cell_type": "code",
   "execution_count": null,
   "id": "7dd9ba70-3043-424c-b4c2-2d91c90cd592",
   "metadata": {},
   "outputs": [],
   "source": [
    "import numpy as np\n",
    "import cv2 as cv\n",
    "from matplotlib import pyplot as plt\n",
    " \n",
    "imgL = cv.imread('Cubes2.png', cv.IMREAD_GRAYSCALE)\n",
    "imgR = cv.imread('Cubes2.png', cv.IMREAD_GRAYSCALE)\n",
    " \n",
    "stereo = cv.StereoBM.create(numDisparities=16, blockSize=15)\n",
    "disparity = stereo.compute(imgL,imgR)\n",
    "plt.imshow(disparity,'gray')\n",
    "plt.show()"
   ]
  },
  {
   "cell_type": "code",
   "execution_count": 1,
   "id": "0b9831ca-8fc2-49f0-8546-df4b92b97faa",
   "metadata": {},
   "outputs": [],
   "source": [
    "import wget"
   ]
  },
  {
   "cell_type": "code",
   "execution_count": 3,
   "id": "c44aeaac-217d-4f5a-b57d-19c17098b96f",
   "metadata": {},
   "outputs": [
    {
     "name": "stderr",
     "output_type": "stream",
     "text": [
      "fatal: destination path 'BoostingMonocularDepth' already exists and is not an empty directory.\n"
     ]
    }
   ],
   "source": [
    "!git clone https://github.com/compphoto/BoostingMonocularDepth.git"
   ]
  },
  {
   "cell_type": "code",
   "execution_count": 4,
   "id": "fd983b41-db5f-43c3-a814-f20d601efce1",
   "metadata": {},
   "outputs": [
    {
     "name": "stdout",
     "output_type": "stream",
     "text": [
      "100% [......................................................................] 318268048 / 318268048"
     ]
    },
    {
     "data": {
      "text/plain": [
       "'latest_net_G.pth'"
      ]
     },
     "execution_count": 4,
     "metadata": {},
     "output_type": "execute_result"
    }
   ],
   "source": [
    "wget.download(\"https://sfu.ca/~yagiz/CVPR21/latest_net_G.pth\")"
   ]
  },
  {
   "cell_type": "code",
   "execution_count": null,
   "id": "e55f3c76-a61a-4d6b-b7a9-19ceda46c2db",
   "metadata": {},
   "outputs": [],
   "source": [
    "%cd BoostingMonocularDepth/pix2pix/"
   ]
  },
  {
   "cell_type": "code",
   "execution_count": null,
   "id": "736ab0d2-73bc-4af6-ac07-9ab9de2ae4a2",
   "metadata": {},
   "outputs": [],
   "source": [
    "!mkdir -p checkpoints"
   ]
  },
  {
   "cell_type": "code",
   "execution_count": null,
   "id": "ef7e152d-2b77-497c-89a9-e39a4295b98b",
   "metadata": {},
   "outputs": [],
   "source": [
    "%cd /BoostingMonocularDepth/pix2pix/checkpoints/"
   ]
  },
  {
   "cell_type": "code",
   "execution_count": null,
   "id": "d4e8dc7a-a442-42de-8181-225160ffbd1e",
   "metadata": {},
   "outputs": [],
   "source": [
    "!mkdir -p mergemodel"
   ]
  },
  {
   "cell_type": "code",
   "execution_count": 2,
   "id": "e0c29509-cd5a-4672-84a6-14bd4625d869",
   "metadata": {},
   "outputs": [
    {
     "name": "stdout",
     "output_type": "stream",
     "text": [
      "C:\\Users\\Silvan Mangold\\Desktop\\Studium\\Github\\PREN\\TA.BA_PREN_PY_ObjectDetection\\Tiefenfilter\n"
     ]
    },
    {
     "name": "stderr",
     "output_type": "stream",
     "text": [
      "C:\\Users\\Silvan Mangold\\AppData\\Local\\Programs\\Python\\Python310\\lib\\site-packages\\IPython\\core\\magics\\osm.py:417: UserWarning: using dhist requires you to install the `pickleshare` library.\n",
      "  self.shell.db['dhist'] = compress_dhist(dhist)[-100:]\n"
     ]
    }
   ],
   "source": [
    "%cd C:\\Users\\Silvan Mangold\\Desktop\\Studium\\Github\\PREN\\TA.BA_PREN_PY_ObjectDetection\\Tiefenfilter"
   ]
  },
  {
   "cell_type": "code",
   "execution_count": null,
   "id": "4c829e82-a545-4a1a-a316-7f046fac93fa",
   "metadata": {},
   "outputs": [],
   "source": [
    "!move latest_net_G.pth /BoostingMonocularDepth/pix2pix/checkpoints/mergemodel/"
   ]
  },
  {
   "cell_type": "code",
   "execution_count": null,
   "id": "43b37068-0404-4055-8620-abb1abaf2729",
   "metadata": {},
   "outputs": [],
   "source": [
    "wget.download(\"https://github.com/AlexeyAB/MiDaS/releases/download/midas_dpt/midas_v21-f6b98070.pt\")\n",
    "!move midas_v21-f6b98070.pt BoostingMonocularDepth/midas/model.pt"
   ]
  },
  {
   "cell_type": "code",
   "execution_count": null,
   "id": "0e2c942b-d26c-4a64-a4df-fc6e59e641e5",
   "metadata": {},
   "outputs": [],
   "source": [
    "wget.download(\"https://huggingface.co/lllyasviel/Annotators/resolve/850be791e8f704b2fa2e55ec9cc33a6ae3e28832/res101.pth\")\n",
    "!move res101.pth BoostingMonocularDepth/res101.pth"
   ]
  },
  {
   "cell_type": "code",
   "execution_count": null,
   "id": "aa9f52e0-7310-4285-b4d3-3abd525dc279",
   "metadata": {},
   "outputs": [],
   "source": [
    "%cd BoostingMonocularDepth/"
   ]
  },
  {
   "cell_type": "code",
   "execution_count": null,
   "id": "50ef674d-cc2e-4a6a-ae47-463c7141715d",
   "metadata": {},
   "outputs": [],
   "source": [
    "!python BoostingMonocularDepth/run.py --Final --data_dir inputs/ --output_dir outputs_leres/ --depthNet 0"
   ]
  },
  {
   "cell_type": "code",
   "execution_count": null,
   "id": "84ce57db-89de-4169-8b96-e18be5d55d10",
   "metadata": {},
   "outputs": [],
   "source": []
  }
 ],
 "metadata": {
  "kernelspec": {
   "display_name": "Python 3 (ipykernel)",
   "language": "python",
   "name": "python3"
  },
  "language_info": {
   "codemirror_mode": {
    "name": "ipython",
    "version": 3
   },
   "file_extension": ".py",
   "mimetype": "text/x-python",
   "name": "python",
   "nbconvert_exporter": "python",
   "pygments_lexer": "ipython3",
   "version": "3.10.8"
  }
 },
 "nbformat": 4,
 "nbformat_minor": 5
}

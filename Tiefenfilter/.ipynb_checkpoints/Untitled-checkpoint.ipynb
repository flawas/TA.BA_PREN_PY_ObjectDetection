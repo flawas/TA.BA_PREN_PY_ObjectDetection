{
 "cells": [
  {
   "cell_type": "markdown",
   "id": "4631cb42-24c5-4c13-9c23-dc0182c8e8fa",
   "metadata": {},
   "source": [
    "# Remove Background"
   ]
  },
  {
   "cell_type": "code",
   "execution_count": 11,
   "id": "9858a435-9f1f-48e2-a820-1e511221144e",
   "metadata": {
    "ExecuteTime": {
     "end_time": "2024-03-24T09:26:19.225141Z",
     "start_time": "2024-03-24T09:26:01.931371Z"
    }
   },
   "outputs": [],
   "source": [
    "import rembg\n",
    "import timm\n",
    "from PIL import Image\n",
    "\n",
    "def remove_background(input_path, output_path):\n",
    "    with open(input_path, \"rb\") as input_file, open(output_path, \"wb\") as output_file:\n",
    "        input_data = input_file.read()\n",
    "        output_data = rembg.remove(input_data)\n",
    "        output_file.write(output_data)\n",
    "\n",
    "# Specify input and output paths\n",
    "input_image_path = \"Bild1.png\"\n",
    "output_image_path = \"BackgroundRemoved.png\"\n",
    "\n",
    "# Remove background\n",
    "remove_background(input_image_path, output_image_path)"
   ]
  },
  {
   "cell_type": "markdown",
   "id": "dcadbadf-c519-4b2f-ba4e-221fa685fdbb",
   "metadata": {},
   "source": [
    "# Color Filter"
   ]
  },
  {
   "cell_type": "code",
   "execution_count": 26,
   "id": "c5933670-ec1c-4262-a788-12da4203ab61",
   "metadata": {
    "ExecuteTime": {
     "end_time": "2024-03-24T09:23:09.251890Z",
     "start_time": "2024-03-24T09:23:08.823495Z"
    }
   },
   "outputs": [
    {
     "data": {
      "text/plain": [
       "True"
      ]
     },
     "execution_count": 26,
     "metadata": {},
     "output_type": "execute_result"
    },
    {
     "data": {
      "image/png": "[encoded data removed]",
      "text/plain": [
       "<Figure size 640x480 with 1 Axes>"
      ]
     },
     "metadata": {},
     "output_type": "display_data"
    }
   ],
   "source": [
    "import cv2\n",
    "import numpy as np\n",
    "import matplotlib.pyplot as plt\n",
    "\n",
    "# Load the image\n",
    "img = cv2.imread('BackgroundRemoved.png')\n",
    "img = cv2.cvtColor(img, cv2.COLOR_BGR2RGB)\n",
    "\n",
    "# Convert the image to HSV color space\n",
    "hsv_img = cv2.cvtColor(img, cv2.COLOR_RGB2HSV)\n",
    "\n",
    "# Define ranges for red, blue, and yellow colors in HSV\n",
    "lower_red = np.array([0, 50, 70])\n",
    "upper_red = np.array([9, 255, 255])\n",
    "\n",
    "lower_blue = np.array([35, 140, 60])\n",
    "upper_blue = np.array([255, 255, 180])\n",
    "\n",
    "lower_yellow = np.array([25, 50, 70])\n",
    "upper_yellow = np.array([35, 255, 255])\n",
    "\n",
    "# Create masks for each color\n",
    "red_mask = cv2.inRange(hsv_img, lower_red, upper_red)\n",
    "blue_mask = cv2.inRange(hsv_img, lower_blue, upper_blue)\n",
    "yellow_mask = cv2.inRange(hsv_img, lower_yellow, upper_yellow)\n",
    "\n",
    "# Combine the masks\n",
    "combined_mask = cv2.bitwise_or(red_mask, blue_mask)\n",
    "combined_mask = cv2.bitwise_or(combined_mask, yellow_mask)\n",
    "\n",
    "# Create a mask for all colors except red, blue, and yellow\n",
    "other_mask = cv2.bitwise_not(combined_mask)\n",
    "\n",
    "# Set non-red, non-blue, and non-yellow pixels to white\n",
    "result = img.copy()\n",
    "result[other_mask != 0] = [255, 255, 255]\n",
    "plt.imshow(result)\n",
    "\n",
    "\n",
    "result = cv2.cvtColor(result, cv2.COLOR_BGR2RGB)\n",
    "cv2.imwrite(\"Cubes1.png\", result)"
   ]
  },
  {
   "cell_type": "markdown",
   "id": "1204978a-e159-4de3-b386-812dce49f06c",
   "metadata": {},
   "source": [
    "# Depth Map"
   ]
  },
  {
   "cell_type": "code",
   "execution_count": null,
   "id": "bce5517f-d65d-4194-bae5-ca4d9db336e9",
   "metadata": {},
   "outputs": [],
   "source": [
    "pip install timm"
   ]
  },
  {
   "cell_type": "code",
   "execution_count": 9,
   "id": "dcb461ca-decd-4d0b-a794-2971f27e9b2a",
   "metadata": {
    "ExecuteTime": {
     "end_time": "2024-03-24T09:25:32.585090Z",
     "start_time": "2024-03-24T09:24:19.807903Z"
    }
   },
   "outputs": [
    {
     "name": "stderr",
     "output_type": "stream",
     "text": [
      "Using cache found in C:\\Users\\Silvan Mangold/.cache\\torch\\hub\\intel-isl_MiDas_master\n",
      "Using cache found in C:\\Users\\Silvan Mangold/.cache\\torch\\hub\\intel-isl_MiDas_master\n"
     ]
    },
    {
     "ename": "error",
     "evalue": "OpenCV(4.8.0) D:\\a\\opencv-python\\opencv-python\\opencv\\modules\\imgproc\\src\\color.cpp:182: error: (-215:Assertion failed) !_src.empty() in function 'cv::cvtColor'\n",
     "output_type": "error",
     "traceback": [
      "\u001b[1;31m---------------------------------------------------------------------------\u001b[0m",
      "\u001b[1;31merror\u001b[0m                                     Traceback (most recent call last)",
      "Cell \u001b[1;32mIn[9], line 17\u001b[0m\n\u001b[0;32m     15\u001b[0m device \u001b[38;5;241m=\u001b[39m torch\u001b[38;5;241m.\u001b[39mdevice(\u001b[38;5;124m\"\u001b[39m\u001b[38;5;124mcpu\u001b[39m\u001b[38;5;124m\"\u001b[39m)\n\u001b[0;32m     16\u001b[0m img \u001b[38;5;241m=\u001b[39m cv2\u001b[38;5;241m.\u001b[39mimread(filename)\n\u001b[1;32m---> 17\u001b[0m img \u001b[38;5;241m=\u001b[39m \u001b[43mcv2\u001b[49m\u001b[38;5;241;43m.\u001b[39;49m\u001b[43mcvtColor\u001b[49m\u001b[43m(\u001b[49m\u001b[43mimg\u001b[49m\u001b[43m,\u001b[49m\u001b[43m \u001b[49m\u001b[43mcv2\u001b[49m\u001b[38;5;241;43m.\u001b[39;49m\u001b[43mCOLOR_BGR2RGB\u001b[49m\u001b[43m)\u001b[49m\n\u001b[0;32m     19\u001b[0m input_batch \u001b[38;5;241m=\u001b[39m transform(img)\u001b[38;5;241m.\u001b[39mto(device)\n\u001b[0;32m     21\u001b[0m \u001b[38;5;28;01mwith\u001b[39;00m torch\u001b[38;5;241m.\u001b[39mno_grad():\n",
      "\u001b[1;31merror\u001b[0m: OpenCV(4.8.0) D:\\a\\opencv-python\\opencv-python\\opencv\\modules\\imgproc\\src\\color.cpp:182: error: (-215:Assertion failed) !_src.empty() in function 'cv::cvtColor'\n"
     ]
    }
   ],
   "source": [
    "import cv2\n",
    "import torch\n",
    "import matplotlib.pyplot as plt\n",
    "from matplotlib.colors import LinearSegmentedColormap\n",
    "\n",
    "filename = (\"Cubes1.png.png\")\n",
    "\n",
    "model_type = \"DPT_Large\"\n",
    "midas = torch.hub.load(\"intel-isl/MiDas\", model_type)\n",
    "\n",
    "midas_transforms = torch.hub.load(\"intel-isl/MiDas\", \"transforms\")\n",
    "if model_type == \"DPT_Large\" or model_type == \"DPT_Hybrid\":\n",
    "    transform = midas_transforms.dpt_transform\n",
    "\n",
    "device = torch.device(\"cpu\")\n",
    "img = cv2.imread(filename)\n",
    "img = cv2.cvtColor(img, cv2.COLOR_BGR2RGB)\n",
    "\n",
    "input_batch = transform(img).to(device)\n",
    "\n",
    "with torch.no_grad():\n",
    "    prediction = midas(input_batch)\n",
    "\n",
    "    prediction = torch.nn.functional.interpolate(\n",
    "        prediction.unsqueeze(1),\n",
    "        size=img.shape[:2],\n",
    "        mode=\"bicubic\",\n",
    "        align_corners=False,\n",
    "    ).squeeze()\n",
    "    \n",
    "output = prediction.cpu().numpy()\n",
    "\n",
    "plt.imshow(output, cmap='gray')  # Using 'gray' colormap for grayscale visualization\n",
    "plt.axis('off')\n",
    "plt.show()\n",
    "\n",
    "cv2.imwrite(\"DepthMap.png\", output)"
   ]
  },
  {
   "cell_type": "markdown",
   "id": "07b46094-aa64-4a90-9e47-4360387bca14",
   "metadata": {},
   "source": [
    "# Image Segmentation"
   ]
  },
  {
   "cell_type": "code",
   "execution_count": 10,
   "id": "a4ec1f8d-8a08-4f01-94a9-b98df7a6df7e",
   "metadata": {
    "ExecuteTime": {
     "end_time": "2024-03-24T09:25:53.742357Z",
     "start_time": "2024-03-24T09:25:53.515947Z"
    }
   },
   "outputs": [
    {
     "ename": "TypeError",
     "evalue": "'<' not supported between instances of 'NoneType' and 'int'",
     "output_type": "error",
     "traceback": [
      "\u001b[1;31m---------------------------------------------------------------------------\u001b[0m",
      "\u001b[1;31mTypeError\u001b[0m                                 Traceback (most recent call last)",
      "Cell \u001b[1;32mIn[10], line 10\u001b[0m\n\u001b[0;32m      6\u001b[0m img \u001b[38;5;241m=\u001b[39m cv2\u001b[38;5;241m.\u001b[39mimread(\u001b[38;5;124m\"\u001b[39m\u001b[38;5;124mBild1.png\u001b[39m\u001b[38;5;124m\"\u001b[39m)\n\u001b[0;32m      8\u001b[0m threshold_distance \u001b[38;5;241m=\u001b[39m \u001b[38;5;241m18\u001b[39m\n\u001b[1;32m---> 10\u001b[0m mask \u001b[38;5;241m=\u001b[39m \u001b[43mdepth_map\u001b[49m\u001b[43m \u001b[49m\u001b[38;5;241;43m<\u001b[39;49m\u001b[43m \u001b[49m\u001b[43mthreshold_distance\u001b[49m\n\u001b[0;32m     12\u001b[0m img_rgb \u001b[38;5;241m=\u001b[39m cv2\u001b[38;5;241m.\u001b[39mcvtColor(img, cv2\u001b[38;5;241m.\u001b[39mCOLOR_BGR2RGB)\n\u001b[0;32m     14\u001b[0m img_rgb[mask] \u001b[38;5;241m=\u001b[39m [\u001b[38;5;241m1\u001b[39m, \u001b[38;5;241m1\u001b[39m, \u001b[38;5;241m1\u001b[39m]\n",
      "\u001b[1;31mTypeError\u001b[0m: '<' not supported between instances of 'NoneType' and 'int'"
     ]
    }
   ],
   "source": [
    "import cv2\n",
    "import numpy as np\n",
    "import matplotlib.pyplot as plt\n",
    "\n",
    "depth_map = cv2.imread(\"DepthMap.png\", cv2.IMREAD_GRAYSCALE)\n",
    "img = cv2.imread(\"Bild1.png\")\n",
    "\n",
    "threshold_distance = 18\n",
    "\n",
    "mask = depth_map < threshold_distance\n",
    "\n",
    "img_rgb = cv2.cvtColor(img, cv2.COLOR_BGR2RGB)\n",
    "\n",
    "img_rgb[mask] = [1, 1, 1]\n",
    "\n",
    "cv2.imwrite(\"Result.png\", img_rgb)\n",
    "\n",
    "plt.imshow(img_rgb)\n",
    "plt.show()"
   ]
  },
  {
   "cell_type": "code",
   "execution_count": null,
   "id": "61516e68-069e-4cae-8577-09c3c038e3f7",
   "metadata": {},
   "outputs": [],
   "source": []
  }
 ],
 "metadata": {
  "kernelspec": {
   "display_name": "Python 3 (ipykernel)",
   "language": "python",
   "name": "python3"
  },
  "language_info": {
   "codemirror_mode": {
    "name": "ipython",
    "version": 3
   },
   "file_extension": ".py",
   "mimetype": "text/x-python",
   "name": "python",
   "nbconvert_exporter": "python",
   "pygments_lexer": "ipython3",
   "version": "3.10.8"
  }
 },
 "nbformat": 4,
 "nbformat_minor": 5
}

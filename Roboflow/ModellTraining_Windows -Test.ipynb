{
 "cells": [
  {
   "cell_type": "markdown",
   "id": "4d2e954c",
   "metadata": {
    "id": "4d2e954c"
   },
   "source": [
    "# Module Import"
   ]
  },
  {
   "cell_type": "code",
   "execution_count": 1,
   "id": "zXy1OhG7FNTu",
   "metadata": {
    "colab": {
     "base_uri": "https://localhost:8080/"
    },
    "id": "zXy1OhG7FNTu",
    "outputId": "7ebe0772-589d-4d17-c060-c2991da5676e"
   },
   "outputs": [
    {
     "name": "stdout",
     "output_type": "stream",
     "text": [
      "Requirement already satisfied: wget in c:\\users\\silvan mangold\\appdata\\local\\programs\\python\\python310\\lib\\site-packages (3.2)\n"
     ]
    },
    {
     "name": "stderr",
     "output_type": "stream",
     "text": [
      "WARNING: Ignoring invalid distribution -otebook (c:\\users\\silvan mangold\\appdata\\local\\programs\\python\\python310\\lib\\site-packages)\n",
      "WARNING: Ignoring invalid distribution -otebook (c:\\users\\silvan mangold\\appdata\\local\\programs\\python\\python310\\lib\\site-packages)\n"
     ]
    }
   ],
   "source": [
    "!pip install wget"
   ]
  },
  {
   "cell_type": "code",
   "execution_count": 2,
   "id": "qDUa_oLnSiA4",
   "metadata": {
    "colab": {
     "base_uri": "https://localhost:8080/"
    },
    "id": "qDUa_oLnSiA4",
    "outputId": "8738500d-17b1-4a42-c67f-a8a088bfdcbb"
   },
   "outputs": [
    {
     "name": "stdout",
     "output_type": "stream",
     "text": [
      "Found existing installation: Cython 3.0.9\n",
      "Uninstalling Cython-3.0.9:\n",
      "  Successfully uninstalled Cython-3.0.9\n"
     ]
    }
   ],
   "source": [
    "!pip uninstall Cython -y"
   ]
  },
  {
   "cell_type": "code",
   "execution_count": 3,
   "id": "3455d371-6b0d-40c7-a1ea-79ab5a2b6b4f",
   "metadata": {},
   "outputs": [
    {
     "name": "stdout",
     "output_type": "stream",
     "text": [
      "Collecting Cython\n",
      "  Using cached Cython-3.0.9-cp310-cp310-win_amd64.whl.metadata (3.2 kB)\n",
      "Using cached Cython-3.0.9-cp310-cp310-win_amd64.whl (2.8 MB)\n",
      "Installing collected packages: Cython\n",
      "Successfully installed Cython-3.0.9\n"
     ]
    },
    {
     "name": "stderr",
     "output_type": "stream",
     "text": [
      "WARNING: Ignoring invalid distribution -otebook (c:\\users\\silvan mangold\\appdata\\local\\programs\\python\\python310\\lib\\site-packages)\n",
      "WARNING: Ignoring invalid distribution -otebook (c:\\users\\silvan mangold\\appdata\\local\\programs\\python\\python310\\lib\\site-packages)\n"
     ]
    }
   ],
   "source": [
    "!pip install Cython"
   ]
  },
  {
   "cell_type": "code",
   "execution_count": 4,
   "id": "1ba7eb9d",
   "metadata": {
    "id": "1ba7eb9d"
   },
   "outputs": [],
   "source": [
    "import os\n",
    "import wget\n",
    "import shutil\n",
    "import object_detection"
   ]
  },
  {
   "cell_type": "markdown",
   "id": "sA-SlmbdEXs0",
   "metadata": {
    "id": "sA-SlmbdEXs0"
   },
   "source": [
    "# Download TF Models Pretrained Models from Tensorflow Model Zoo and Install TFOD"
   ]
  },
  {
   "cell_type": "code",
   "execution_count": 5,
   "id": "A-MCYqRiGxOS",
   "metadata": {
    "id": "A-MCYqRiGxOS"
   },
   "outputs": [
    {
     "name": "stderr",
     "output_type": "stream",
     "text": [
      "Ein Unterverzeichnis oder eine Datei mit dem Namen \"Tensorflow\" existiert bereits.\n"
     ]
    }
   ],
   "source": [
    "!mkdir Tensorflow"
   ]
  },
  {
   "cell_type": "code",
   "execution_count": 6,
   "id": "5aNykqy7Dgv5",
   "metadata": {
    "colab": {
     "base_uri": "https://localhost:8080/"
    },
    "id": "5aNykqy7Dgv5",
    "outputId": "786b14bb-9cb8-498e-92ec-652c4d8ac37d"
   },
   "outputs": [
    {
     "name": "stdout",
     "output_type": "stream",
     "text": [
      "C:\\Users\\Silvan Mangold\\Desktop\\Studium\\Github\\PREN\\TA.BA_PREN_PY_ObjectDetection\\Roboflow\\Tensorflow\n"
     ]
    },
    {
     "name": "stderr",
     "output_type": "stream",
     "text": [
      "C:\\Users\\Silvan Mangold\\AppData\\Local\\Programs\\Python\\Python310\\lib\\site-packages\\IPython\\core\\magics\\osm.py:417: UserWarning: using dhist requires you to install the `pickleshare` library.\n",
      "  self.shell.db['dhist'] = compress_dhist(dhist)[-100:]\n"
     ]
    }
   ],
   "source": [
    "%cd Tensorflow"
   ]
  },
  {
   "cell_type": "code",
   "execution_count": 7,
   "id": "FteE58__DWwr",
   "metadata": {
    "colab": {
     "base_uri": "https://localhost:8080/"
    },
    "id": "FteE58__DWwr",
    "outputId": "cca958f7-0082-4f95-e786-61bc3f9e3cbe"
   },
   "outputs": [
    {
     "name": "stderr",
     "output_type": "stream",
     "text": [
      "fatal: destination path 'models' already exists and is not an empty directory.\n"
     ]
    }
   ],
   "source": [
    "!git clone --depth 1 https://github.com/tensorflow/models"
   ]
  },
  {
   "cell_type": "code",
   "execution_count": 8,
   "id": "rKSMcD7FD-7e",
   "metadata": {
    "colab": {
     "base_uri": "https://localhost:8080/"
    },
    "id": "rKSMcD7FD-7e",
    "outputId": "3d34cc93-3022-426b-f9e1-32a5d386f10e"
   },
   "outputs": [
    {
     "name": "stdout",
     "output_type": "stream",
     "text": [
      "C:\\Users\\Silvan Mangold\\Desktop\\Studium\\Github\\PREN\\TA.BA_PREN_PY_ObjectDetection\\Roboflow\n"
     ]
    }
   ],
   "source": [
    "%cd .."
   ]
  },
  {
   "cell_type": "code",
   "execution_count": 9,
   "id": "3w7AuimdEraM",
   "metadata": {
    "colab": {
     "base_uri": "https://localhost:8080/"
    },
    "id": "3w7AuimdEraM",
    "outputId": "3601cfd6-fa5a-46e7-b62d-deed58e71c92"
   },
   "outputs": [
    {
     "name": "stdout",
     "output_type": "stream",
     "text": [
      "C:\\Users\\Silvan Mangold\\Desktop\\Studium\\Github\\PREN\\TA.BA_PREN_PY_ObjectDetection\\Roboflow\\Tensorflow\\models\\research\n"
     ]
    }
   ],
   "source": [
    "%cd Tensorflow/models/research/"
   ]
  },
  {
   "cell_type": "code",
   "execution_count": 10,
   "id": "iGjj3bzCEGa6",
   "metadata": {
    "id": "iGjj3bzCEGa6"
   },
   "outputs": [],
   "source": [
    "!protoc object_detection/protos/*.proto --python_out=."
   ]
  },
  {
   "cell_type": "code",
   "execution_count": 11,
   "id": "7kCeABgsE7GL",
   "metadata": {
    "colab": {
     "base_uri": "https://localhost:8080/"
    },
    "id": "7kCeABgsE7GL",
    "outputId": "45c93e25-d468-4745-be3e-23aa756aea02"
   },
   "outputs": [
    {
     "name": "stdout",
     "output_type": "stream",
     "text": [
      "C:\\Users\\Silvan Mangold\\Desktop\\Studium\\Github\\PREN\\TA.BA_PREN_PY_ObjectDetection\\Roboflow\\Tensorflow\\models\n"
     ]
    }
   ],
   "source": [
    "%cd .."
   ]
  },
  {
   "cell_type": "code",
   "execution_count": 12,
   "id": "OIJsyD4MFKFE",
   "metadata": {
    "colab": {
     "base_uri": "https://localhost:8080/"
    },
    "id": "OIJsyD4MFKFE",
    "outputId": "fd5d5d54-2061-48b6-d688-7c6871896536"
   },
   "outputs": [
    {
     "name": "stdout",
     "output_type": "stream",
     "text": [
      "C:\\Users\\Silvan Mangold\\Desktop\\Studium\\Github\\PREN\\TA.BA_PREN_PY_ObjectDetection\\Roboflow\\Tensorflow\n"
     ]
    }
   ],
   "source": [
    "%cd .."
   ]
  },
  {
   "cell_type": "code",
   "execution_count": 13,
   "id": "NhHpcZFhFNzI",
   "metadata": {
    "colab": {
     "base_uri": "https://localhost:8080/"
    },
    "id": "NhHpcZFhFNzI",
    "outputId": "0164179a-c10c-4321-9da7-f031206a00fb"
   },
   "outputs": [
    {
     "name": "stdout",
     "output_type": "stream",
     "text": [
      "C:\\Users\\Silvan Mangold\\Desktop\\Studium\\Github\\PREN\\TA.BA_PREN_PY_ObjectDetection\\Roboflow\n"
     ]
    }
   ],
   "source": [
    "%cd .."
   ]
  },
  {
   "cell_type": "code",
   "execution_count": 14,
   "id": "oTQpuXzXFWzt",
   "metadata": {
    "id": "oTQpuXzXFWzt"
   },
   "outputs": [],
   "source": [
    "import re\n",
    "with open('Tensorflow/models/research/object_detection/packages/tf2/setup.py') as f:\n",
    "    s = f.read()\n",
    "\n",
    "with open('Tensorflow/models/research/setup.py', 'w') as f:\n",
    "    s = re.sub('tf-models-official>=2.5.1',\n",
    "               'tf-models-official==2.8.0', s)\n",
    "    f.write(s)"
   ]
  },
  {
   "cell_type": "code",
   "execution_count": 15,
   "id": "cD5A9PAFFkKz",
   "metadata": {
    "colab": {
     "base_uri": "https://localhost:8080/",
     "height": 1000
    },
    "id": "cD5A9PAFFkKz",
    "outputId": "080dd07e-65ca-45ea-c215-f88e440b3d28"
   },
   "outputs": [
    {
     "name": "stdout",
     "output_type": "stream",
     "text": [
      "Requirement already satisfied: pyyaml==5.3.1 in c:\\users\\silvan mangold\\appdata\\local\\programs\\python\\python310\\lib\\site-packages (5.3.1)\n"
     ]
    },
    {
     "name": "stderr",
     "output_type": "stream",
     "text": [
      "WARNING: Ignoring invalid distribution -otebook (c:\\users\\silvan mangold\\appdata\\local\\programs\\python\\python310\\lib\\site-packages)\n",
      "WARNING: Ignoring invalid distribution -otebook (c:\\users\\silvan mangold\\appdata\\local\\programs\\python\\python310\\lib\\site-packages)\n"
     ]
    },
    {
     "name": "stdout",
     "output_type": "stream",
     "text": [
      "Processing c:\\users\\silvan mangold\\desktop\\studium\\github\\pren\\ta.ba_pren_py_objectdetection\\roboflow\\tensorflow\\models\\research\n",
      "  Preparing metadata (setup.py): started\n",
      "  Preparing metadata (setup.py): finished with status 'done'\n",
      "Requirement already satisfied: avro-python3 in c:\\users\\silvan mangold\\appdata\\local\\programs\\python\\python310\\lib\\site-packages (from object-detection==0.1) (1.10.2)\n",
      "Requirement already satisfied: apache-beam in c:\\users\\silvan mangold\\appdata\\local\\programs\\python\\python310\\lib\\site-packages (from object-detection==0.1) (2.54.0)\n",
      "Requirement already satisfied: pillow in c:\\users\\silvan mangold\\appdata\\local\\programs\\python\\python310\\lib\\site-packages (from object-detection==0.1) (10.1.0)\n",
      "Requirement already satisfied: lxml in c:\\users\\silvan mangold\\appdata\\local\\programs\\python\\python310\\lib\\site-packages (from object-detection==0.1) (5.1.0)\n",
      "Requirement already satisfied: matplotlib in c:\\users\\silvan mangold\\appdata\\local\\programs\\python\\python310\\lib\\site-packages (from object-detection==0.1) (3.8.3)\n",
      "Requirement already satisfied: Cython in c:\\users\\silvan mangold\\appdata\\local\\programs\\python\\python310\\lib\\site-packages (from object-detection==0.1) (3.0.9)\n",
      "Requirement already satisfied: contextlib2 in c:\\users\\silvan mangold\\appdata\\local\\programs\\python\\python310\\lib\\site-packages (from object-detection==0.1) (21.6.0)\n",
      "Requirement already satisfied: tf-slim in c:\\users\\silvan mangold\\appdata\\local\\programs\\python\\python310\\lib\\site-packages (from object-detection==0.1) (1.1.0)\n",
      "Requirement already satisfied: six in c:\\users\\silvan mangold\\appdata\\local\\programs\\python\\python310\\lib\\site-packages (from object-detection==0.1) (1.16.0)\n",
      "Requirement already satisfied: pycocotools in c:\\users\\silvan mangold\\appdata\\local\\programs\\python\\python310\\lib\\site-packages (from object-detection==0.1) (2.0.7)\n",
      "Requirement already satisfied: lvis in c:\\users\\silvan mangold\\appdata\\local\\programs\\python\\python310\\lib\\site-packages (from object-detection==0.1) (0.5.3)\n",
      "Requirement already satisfied: scipy in c:\\users\\silvan mangold\\appdata\\local\\programs\\python\\python310\\lib\\site-packages (from object-detection==0.1) (1.12.0)\n",
      "Requirement already satisfied: pandas in c:\\users\\silvan mangold\\appdata\\local\\programs\\python\\python310\\lib\\site-packages (from object-detection==0.1) (2.2.1)\n",
      "Requirement already satisfied: tf-models-official==2.8.0 in c:\\users\\silvan mangold\\appdata\\local\\programs\\python\\python310\\lib\\site-packages (from object-detection==0.1) (2.8.0)\n",
      "Requirement already satisfied: tensorflow_io in c:\\users\\silvan mangold\\appdata\\local\\programs\\python\\python310\\lib\\site-packages (from object-detection==0.1) (0.31.0)\n",
      "Requirement already satisfied: keras in c:\\users\\silvan mangold\\appdata\\local\\programs\\python\\python310\\lib\\site-packages (from object-detection==0.1) (2.8.0)\n",
      "Requirement already satisfied: pyparsing==2.4.7 in c:\\users\\silvan mangold\\appdata\\local\\programs\\python\\python310\\lib\\site-packages (from object-detection==0.1) (2.4.7)\n",
      "Requirement already satisfied: sacrebleu<=2.2.0 in c:\\users\\silvan mangold\\appdata\\local\\programs\\python\\python310\\lib\\site-packages (from object-detection==0.1) (2.2.0)\n",
      "Requirement already satisfied: gin-config in c:\\users\\silvan mangold\\appdata\\local\\programs\\python\\python310\\lib\\site-packages (from tf-models-official==2.8.0->object-detection==0.1) (0.5.0)\n",
      "Requirement already satisfied: google-api-python-client>=1.6.7 in c:\\users\\silvan mangold\\appdata\\local\\programs\\python\\python310\\lib\\site-packages (from tf-models-official==2.8.0->object-detection==0.1) (2.120.0)\n",
      "Requirement already satisfied: kaggle>=1.3.9 in c:\\users\\silvan mangold\\appdata\\local\\programs\\python\\python310\\lib\\site-packages (from tf-models-official==2.8.0->object-detection==0.1) (1.6.6)\n",
      "Requirement already satisfied: numpy>=1.15.4 in c:\\users\\silvan mangold\\appdata\\local\\programs\\python\\python310\\lib\\site-packages (from tf-models-official==2.8.0->object-detection==0.1) (1.24.4)\n",
      "Requirement already satisfied: oauth2client in c:\\users\\silvan mangold\\appdata\\local\\programs\\python\\python310\\lib\\site-packages (from tf-models-official==2.8.0->object-detection==0.1) (4.1.3)\n",
      "Requirement already satisfied: opencv-python-headless in c:\\users\\silvan mangold\\appdata\\local\\programs\\python\\python310\\lib\\site-packages (from tf-models-official==2.8.0->object-detection==0.1) (4.8.0.74)\n",
      "Requirement already satisfied: psutil>=5.4.3 in c:\\users\\silvan mangold\\appdata\\local\\programs\\python\\python310\\lib\\site-packages (from tf-models-official==2.8.0->object-detection==0.1) (5.9.6)\n",
      "Requirement already satisfied: py-cpuinfo>=3.3.0 in c:\\users\\silvan mangold\\appdata\\local\\programs\\python\\python310\\lib\\site-packages (from tf-models-official==2.8.0->object-detection==0.1) (9.0.0)\n",
      "Requirement already satisfied: pyyaml<6.0,>=5.1 in c:\\users\\silvan mangold\\appdata\\local\\programs\\python\\python310\\lib\\site-packages (from tf-models-official==2.8.0->object-detection==0.1) (5.3.1)\n",
      "Requirement already satisfied: sentencepiece in c:\\users\\silvan mangold\\appdata\\local\\programs\\python\\python310\\lib\\site-packages (from tf-models-official==2.8.0->object-detection==0.1) (0.2.0)\n",
      "Requirement already satisfied: seqeval in c:\\users\\silvan mangold\\appdata\\local\\programs\\python\\python310\\lib\\site-packages (from tf-models-official==2.8.0->object-detection==0.1) (1.2.2)\n",
      "Requirement already satisfied: tensorflow-addons in c:\\users\\silvan mangold\\appdata\\local\\programs\\python\\python310\\lib\\site-packages (from tf-models-official==2.8.0->object-detection==0.1) (0.22.0)\n",
      "Requirement already satisfied: tensorflow-datasets in c:\\users\\silvan mangold\\appdata\\local\\programs\\python\\python310\\lib\\site-packages (from tf-models-official==2.8.0->object-detection==0.1) (4.9.4)\n",
      "Requirement already satisfied: tensorflow-hub>=0.6.0 in c:\\users\\silvan mangold\\appdata\\local\\programs\\python\\python310\\lib\\site-packages (from tf-models-official==2.8.0->object-detection==0.1) (0.16.1)\n",
      "Requirement already satisfied: tensorflow-model-optimization>=0.4.1 in c:\\users\\silvan mangold\\appdata\\local\\programs\\python\\python310\\lib\\site-packages (from tf-models-official==2.8.0->object-detection==0.1) (0.8.0)\n",
      "Requirement already satisfied: tensorflow-text~=2.8.0 in c:\\users\\silvan mangold\\appdata\\local\\programs\\python\\python310\\lib\\site-packages (from tf-models-official==2.8.0->object-detection==0.1) (2.8.2)\n",
      "Requirement already satisfied: tensorflow~=2.8.0 in c:\\users\\silvan mangold\\appdata\\local\\programs\\python\\python310\\lib\\site-packages (from tf-models-official==2.8.0->object-detection==0.1) (2.8.0)\n",
      "Requirement already satisfied: python-dateutil>=2.8.2 in c:\\users\\silvan mangold\\appdata\\local\\programs\\python\\python310\\lib\\site-packages (from pandas->object-detection==0.1) (2.8.2)\n",
      "Requirement already satisfied: pytz>=2020.1 in c:\\users\\silvan mangold\\appdata\\local\\programs\\python\\python310\\lib\\site-packages (from pandas->object-detection==0.1) (2024.1)\n",
      "Requirement already satisfied: tzdata>=2022.7 in c:\\users\\silvan mangold\\appdata\\local\\programs\\python\\python310\\lib\\site-packages (from pandas->object-detection==0.1) (2024.1)\n",
      "Requirement already satisfied: portalocker in c:\\users\\silvan mangold\\appdata\\local\\programs\\python\\python310\\lib\\site-packages (from sacrebleu<=2.2.0->object-detection==0.1) (2.8.2)\n",
      "Requirement already satisfied: regex in c:\\users\\silvan mangold\\appdata\\local\\programs\\python\\python310\\lib\\site-packages (from sacrebleu<=2.2.0->object-detection==0.1) (2023.12.25)\n",
      "Requirement already satisfied: tabulate>=0.8.9 in c:\\users\\silvan mangold\\appdata\\local\\programs\\python\\python310\\lib\\site-packages (from sacrebleu<=2.2.0->object-detection==0.1) (0.9.0)\n",
      "Requirement already satisfied: colorama in c:\\users\\silvan mangold\\appdata\\local\\programs\\python\\python310\\lib\\site-packages (from sacrebleu<=2.2.0->object-detection==0.1) (0.4.6)\n",
      "Requirement already satisfied: absl-py>=0.2.2 in c:\\users\\silvan mangold\\appdata\\local\\programs\\python\\python310\\lib\\site-packages (from tf-slim->object-detection==0.1) (1.4.0)\n",
      "Requirement already satisfied: crcmod<2.0,>=1.7 in c:\\users\\silvan mangold\\appdata\\local\\programs\\python\\python310\\lib\\site-packages (from apache-beam->object-detection==0.1) (1.7)\n",
      "Requirement already satisfied: orjson<4,>=3.9.7 in c:\\users\\silvan mangold\\appdata\\local\\programs\\python\\python310\\lib\\site-packages (from apache-beam->object-detection==0.1) (3.9.15)\n",
      "Requirement already satisfied: dill<0.3.2,>=0.3.1.1 in c:\\users\\silvan mangold\\appdata\\local\\programs\\python\\python310\\lib\\site-packages (from apache-beam->object-detection==0.1) (0.3.1.1)\n",
      "Requirement already satisfied: cloudpickle~=2.2.1 in c:\\users\\silvan mangold\\appdata\\local\\programs\\python\\python310\\lib\\site-packages (from apache-beam->object-detection==0.1) (2.2.1)\n",
      "Requirement already satisfied: fastavro<2,>=0.23.6 in c:\\users\\silvan mangold\\appdata\\local\\programs\\python\\python310\\lib\\site-packages (from apache-beam->object-detection==0.1) (1.9.4)\n",
      "Requirement already satisfied: fasteners<1.0,>=0.3 in c:\\users\\silvan mangold\\appdata\\local\\programs\\python\\python310\\lib\\site-packages (from apache-beam->object-detection==0.1) (0.19)\n",
      "Requirement already satisfied: grpcio!=1.48.0,<2,>=1.33.1 in c:\\users\\silvan mangold\\appdata\\local\\programs\\python\\python310\\lib\\site-packages (from apache-beam->object-detection==0.1) (1.60.1)\n",
      "Requirement already satisfied: hdfs<3.0.0,>=2.1.0 in c:\\users\\silvan mangold\\appdata\\local\\programs\\python\\python310\\lib\\site-packages (from apache-beam->object-detection==0.1) (2.7.3)\n",
      "Requirement already satisfied: httplib2<0.23.0,>=0.8 in c:\\users\\silvan mangold\\appdata\\local\\programs\\python\\python310\\lib\\site-packages (from apache-beam->object-detection==0.1) (0.22.0)\n",
      "Requirement already satisfied: js2py<1,>=0.74 in c:\\users\\silvan mangold\\appdata\\local\\programs\\python\\python310\\lib\\site-packages (from apache-beam->object-detection==0.1) (0.74)\n",
      "Requirement already satisfied: jsonschema<5.0.0,>=4.0.0 in c:\\users\\silvan mangold\\appdata\\local\\programs\\python\\python310\\lib\\site-packages (from apache-beam->object-detection==0.1) (4.20.0)\n",
      "Requirement already satisfied: jsonpickle<4.0.0,>=3.0.0 in c:\\users\\silvan mangold\\appdata\\local\\programs\\python\\python310\\lib\\site-packages (from apache-beam->object-detection==0.1) (3.0.3)\n",
      "Requirement already satisfied: objsize<0.8.0,>=0.6.1 in c:\\users\\silvan mangold\\appdata\\local\\programs\\python\\python310\\lib\\site-packages (from apache-beam->object-detection==0.1) (0.7.0)\n",
      "Requirement already satisfied: packaging>=22.0 in c:\\users\\silvan mangold\\appdata\\local\\programs\\python\\python310\\lib\\site-packages (from apache-beam->object-detection==0.1) (23.2)\n",
      "Requirement already satisfied: pymongo<5.0.0,>=3.8.0 in c:\\users\\silvan mangold\\appdata\\local\\programs\\python\\python310\\lib\\site-packages (from apache-beam->object-detection==0.1) (4.6.2)\n",
      "Requirement already satisfied: proto-plus<2,>=1.7.1 in c:\\users\\silvan mangold\\appdata\\local\\programs\\python\\python310\\lib\\site-packages (from apache-beam->object-detection==0.1) (1.23.0)\n",
      "Requirement already satisfied: protobuf!=4.0.*,!=4.21.*,!=4.22.0,!=4.23.*,!=4.24.*,<4.26.0,>=3.20.3 in c:\\users\\silvan mangold\\appdata\\local\\programs\\python\\python310\\lib\\site-packages (from apache-beam->object-detection==0.1) (3.20.3)\n",
      "Requirement already satisfied: pydot<2,>=1.2.0 in c:\\users\\silvan mangold\\appdata\\local\\programs\\python\\python310\\lib\\site-packages (from apache-beam->object-detection==0.1) (1.4.2)\n",
      "Requirement already satisfied: requests<3.0.0,>=2.24.0 in c:\\users\\silvan mangold\\appdata\\local\\programs\\python\\python310\\lib\\site-packages (from apache-beam->object-detection==0.1) (2.31.0)\n",
      "Requirement already satisfied: typing-extensions>=3.7.0 in c:\\users\\silvan mangold\\appdata\\local\\programs\\python\\python310\\lib\\site-packages (from apache-beam->object-detection==0.1) (4.8.0)\n",
      "Requirement already satisfied: zstandard<1,>=0.18.0 in c:\\users\\silvan mangold\\appdata\\local\\programs\\python\\python310\\lib\\site-packages (from apache-beam->object-detection==0.1) (0.22.0)\n",
      "Requirement already satisfied: pyarrow<12.0.0,>=3.0.0 in c:\\users\\silvan mangold\\appdata\\local\\programs\\python\\python310\\lib\\site-packages (from apache-beam->object-detection==0.1) (11.0.0)\n",
      "Requirement already satisfied: pyarrow-hotfix<1 in c:\\users\\silvan mangold\\appdata\\local\\programs\\python\\python310\\lib\\site-packages (from apache-beam->object-detection==0.1) (0.6)\n",
      "Requirement already satisfied: cycler>=0.10.0 in c:\\users\\silvan mangold\\appdata\\local\\programs\\python\\python310\\lib\\site-packages (from lvis->object-detection==0.1) (0.10.0)\n",
      "Requirement already satisfied: kiwisolver>=1.1.0 in c:\\users\\silvan mangold\\appdata\\local\\programs\\python\\python310\\lib\\site-packages (from lvis->object-detection==0.1) (1.4.5)\n",
      "Requirement already satisfied: opencv-python>=4.1.0.25 in c:\\users\\silvan mangold\\appdata\\local\\programs\\python\\python310\\lib\\site-packages (from lvis->object-detection==0.1) (4.8.1.78)\n",
      "Requirement already satisfied: contourpy>=1.0.1 in c:\\users\\silvan mangold\\appdata\\local\\programs\\python\\python310\\lib\\site-packages (from matplotlib->object-detection==0.1) (1.2.0)\n",
      "Requirement already satisfied: fonttools>=4.22.0 in c:\\users\\silvan mangold\\appdata\\local\\programs\\python\\python310\\lib\\site-packages (from matplotlib->object-detection==0.1) (4.49.0)\n",
      "Requirement already satisfied: tensorflow-io-gcs-filesystem==0.31.0 in c:\\users\\silvan mangold\\appdata\\local\\programs\\python\\python310\\lib\\site-packages (from tensorflow_io->object-detection==0.1) (0.31.0)\n",
      "Requirement already satisfied: google-auth<3.0.0.dev0,>=1.19.0 in c:\\users\\silvan mangold\\appdata\\local\\programs\\python\\python310\\lib\\site-packages (from google-api-python-client>=1.6.7->tf-models-official==2.8.0->object-detection==0.1) (2.27.0)\n",
      "Requirement already satisfied: google-auth-httplib2>=0.1.0 in c:\\users\\silvan mangold\\appdata\\local\\programs\\python\\python310\\lib\\site-packages (from google-api-python-client>=1.6.7->tf-models-official==2.8.0->object-detection==0.1) (0.2.0)\n",
      "Requirement already satisfied: google-api-core!=2.0.*,!=2.1.*,!=2.2.*,!=2.3.0,<3.0.0.dev0,>=1.31.5 in c:\\users\\silvan mangold\\appdata\\local\\programs\\python\\python310\\lib\\site-packages (from google-api-python-client>=1.6.7->tf-models-official==2.8.0->object-detection==0.1) (2.17.1)\n",
      "Requirement already satisfied: uritemplate<5,>=3.0.1 in c:\\users\\silvan mangold\\appdata\\local\\programs\\python\\python310\\lib\\site-packages (from google-api-python-client>=1.6.7->tf-models-official==2.8.0->object-detection==0.1) (4.1.1)\n",
      "Requirement already satisfied: docopt in c:\\users\\silvan mangold\\appdata\\local\\programs\\python\\python310\\lib\\site-packages (from hdfs<3.0.0,>=2.1.0->apache-beam->object-detection==0.1) (0.6.2)\n",
      "Requirement already satisfied: tzlocal>=1.2 in c:\\users\\silvan mangold\\appdata\\local\\programs\\python\\python310\\lib\\site-packages (from js2py<1,>=0.74->apache-beam->object-detection==0.1) (5.2)\n",
      "Requirement already satisfied: pyjsparser>=2.5.1 in c:\\users\\silvan mangold\\appdata\\local\\programs\\python\\python310\\lib\\site-packages (from js2py<1,>=0.74->apache-beam->object-detection==0.1) (2.7.1)\n",
      "Requirement already satisfied: attrs>=22.2.0 in c:\\users\\silvan mangold\\appdata\\local\\programs\\python\\python310\\lib\\site-packages (from jsonschema<5.0.0,>=4.0.0->apache-beam->object-detection==0.1) (23.1.0)\n",
      "Requirement already satisfied: jsonschema-specifications>=2023.03.6 in c:\\users\\silvan mangold\\appdata\\local\\programs\\python\\python310\\lib\\site-packages (from jsonschema<5.0.0,>=4.0.0->apache-beam->object-detection==0.1) (2023.11.1)\n",
      "Requirement already satisfied: referencing>=0.28.4 in c:\\users\\silvan mangold\\appdata\\local\\programs\\python\\python310\\lib\\site-packages (from jsonschema<5.0.0,>=4.0.0->apache-beam->object-detection==0.1) (0.31.0)\n",
      "Requirement already satisfied: rpds-py>=0.7.1 in c:\\users\\silvan mangold\\appdata\\local\\programs\\python\\python310\\lib\\site-packages (from jsonschema<5.0.0,>=4.0.0->apache-beam->object-detection==0.1) (0.13.1)\n",
      "Requirement already satisfied: certifi in c:\\users\\silvan mangold\\appdata\\local\\programs\\python\\python310\\lib\\site-packages (from kaggle>=1.3.9->tf-models-official==2.8.0->object-detection==0.1) (2023.7.22)\n",
      "Requirement already satisfied: tqdm in c:\\users\\silvan mangold\\appdata\\local\\programs\\python\\python310\\lib\\site-packages (from kaggle>=1.3.9->tf-models-official==2.8.0->object-detection==0.1) (4.66.2)\n",
      "Requirement already satisfied: python-slugify in c:\\users\\silvan mangold\\appdata\\local\\programs\\python\\python310\\lib\\site-packages (from kaggle>=1.3.9->tf-models-official==2.8.0->object-detection==0.1) (8.0.4)\n",
      "Requirement already satisfied: urllib3 in c:\\users\\silvan mangold\\appdata\\local\\programs\\python\\python310\\lib\\site-packages (from kaggle>=1.3.9->tf-models-official==2.8.0->object-detection==0.1) (2.1.0)\n",
      "Requirement already satisfied: bleach in c:\\users\\silvan mangold\\appdata\\local\\programs\\python\\python310\\lib\\site-packages (from kaggle>=1.3.9->tf-models-official==2.8.0->object-detection==0.1) (6.1.0)\n",
      "Requirement already satisfied: dnspython<3.0.0,>=1.16.0 in c:\\users\\silvan mangold\\appdata\\local\\programs\\python\\python310\\lib\\site-packages (from pymongo<5.0.0,>=3.8.0->apache-beam->object-detection==0.1) (2.6.1)\n",
      "Requirement already satisfied: charset-normalizer<4,>=2 in c:\\users\\silvan mangold\\appdata\\local\\programs\\python\\python310\\lib\\site-packages (from requests<3.0.0,>=2.24.0->apache-beam->object-detection==0.1) (3.3.2)\n",
      "Requirement already satisfied: idna<4,>=2.5 in c:\\users\\silvan mangold\\appdata\\local\\programs\\python\\python310\\lib\\site-packages (from requests<3.0.0,>=2.24.0->apache-beam->object-detection==0.1) (2.10)\n",
      "Requirement already satisfied: astunparse>=1.6.0 in c:\\users\\silvan mangold\\appdata\\local\\programs\\python\\python310\\lib\\site-packages (from tensorflow~=2.8.0->tf-models-official==2.8.0->object-detection==0.1) (1.6.3)\n",
      "Requirement already satisfied: flatbuffers>=1.12 in c:\\users\\silvan mangold\\appdata\\local\\programs\\python\\python310\\lib\\site-packages (from tensorflow~=2.8.0->tf-models-official==2.8.0->object-detection==0.1) (23.5.26)\n",
      "Requirement already satisfied: gast>=0.2.1 in c:\\users\\silvan mangold\\appdata\\local\\programs\\python\\python310\\lib\\site-packages (from tensorflow~=2.8.0->tf-models-official==2.8.0->object-detection==0.1) (0.5.4)\n",
      "Requirement already satisfied: google-pasta>=0.1.1 in c:\\users\\silvan mangold\\appdata\\local\\programs\\python\\python310\\lib\\site-packages (from tensorflow~=2.8.0->tf-models-official==2.8.0->object-detection==0.1) (0.2.0)\n",
      "Requirement already satisfied: h5py>=2.9.0 in c:\\users\\silvan mangold\\appdata\\local\\programs\\python\\python310\\lib\\site-packages (from tensorflow~=2.8.0->tf-models-official==2.8.0->object-detection==0.1) (3.10.0)\n",
      "Requirement already satisfied: keras-preprocessing>=1.1.1 in c:\\users\\silvan mangold\\appdata\\local\\programs\\python\\python310\\lib\\site-packages (from tensorflow~=2.8.0->tf-models-official==2.8.0->object-detection==0.1) (1.1.2)\n",
      "Requirement already satisfied: libclang>=9.0.1 in c:\\users\\silvan mangold\\appdata\\local\\programs\\python\\python310\\lib\\site-packages (from tensorflow~=2.8.0->tf-models-official==2.8.0->object-detection==0.1) (16.0.6)\n",
      "Requirement already satisfied: opt-einsum>=2.3.2 in c:\\users\\silvan mangold\\appdata\\local\\programs\\python\\python310\\lib\\site-packages (from tensorflow~=2.8.0->tf-models-official==2.8.0->object-detection==0.1) (3.3.0)\n",
      "Requirement already satisfied: setuptools in c:\\users\\silvan mangold\\appdata\\local\\programs\\python\\python310\\lib\\site-packages (from tensorflow~=2.8.0->tf-models-official==2.8.0->object-detection==0.1) (63.2.0)\n",
      "Requirement already satisfied: termcolor>=1.1.0 in c:\\users\\silvan mangold\\appdata\\local\\programs\\python\\python310\\lib\\site-packages (from tensorflow~=2.8.0->tf-models-official==2.8.0->object-detection==0.1) (2.4.0)\n",
      "Requirement already satisfied: wrapt>=1.11.0 in c:\\users\\silvan mangold\\appdata\\local\\programs\\python\\python310\\lib\\site-packages (from tensorflow~=2.8.0->tf-models-official==2.8.0->object-detection==0.1) (1.16.0)\n",
      "Requirement already satisfied: tensorboard<2.9,>=2.8 in c:\\users\\silvan mangold\\appdata\\local\\programs\\python\\python310\\lib\\site-packages (from tensorflow~=2.8.0->tf-models-official==2.8.0->object-detection==0.1) (2.8.0)\n",
      "Requirement already satisfied: tf-estimator-nightly==2.8.0.dev2021122109 in c:\\users\\silvan mangold\\appdata\\local\\programs\\python\\python310\\lib\\site-packages (from tensorflow~=2.8.0->tf-models-official==2.8.0->object-detection==0.1) (2.8.0.dev2021122109)\n",
      "Requirement already satisfied: tf-keras>=2.14.1 in c:\\users\\silvan mangold\\appdata\\local\\programs\\python\\python310\\lib\\site-packages (from tensorflow-hub>=0.6.0->tf-models-official==2.8.0->object-detection==0.1) (2.15.0)\n",
      "Requirement already satisfied: dm-tree~=0.1.1 in c:\\users\\silvan mangold\\appdata\\local\\programs\\python\\python310\\lib\\site-packages (from tensorflow-model-optimization>=0.4.1->tf-models-official==2.8.0->object-detection==0.1) (0.1.8)\n",
      "Requirement already satisfied: pyasn1>=0.1.7 in c:\\users\\silvan mangold\\appdata\\local\\programs\\python\\python310\\lib\\site-packages (from oauth2client->tf-models-official==2.8.0->object-detection==0.1) (0.5.1)\n",
      "Requirement already satisfied: pyasn1-modules>=0.0.5 in c:\\users\\silvan mangold\\appdata\\local\\programs\\python\\python310\\lib\\site-packages (from oauth2client->tf-models-official==2.8.0->object-detection==0.1) (0.3.0)\n",
      "Requirement already satisfied: rsa>=3.1.4 in c:\\users\\silvan mangold\\appdata\\local\\programs\\python\\python310\\lib\\site-packages (from oauth2client->tf-models-official==2.8.0->object-detection==0.1) (4.9)\n",
      "Requirement already satisfied: pywin32>=226 in c:\\users\\silvan mangold\\appdata\\local\\programs\\python\\python310\\lib\\site-packages (from portalocker->sacrebleu<=2.2.0->object-detection==0.1) (306)\n",
      "Requirement already satisfied: scikit-learn>=0.21.3 in c:\\users\\silvan mangold\\appdata\\local\\programs\\python\\python310\\lib\\site-packages (from seqeval->tf-models-official==2.8.0->object-detection==0.1) (1.4.1.post1)\n",
      "Requirement already satisfied: typeguard<3.0.0,>=2.7 in c:\\users\\silvan mangold\\appdata\\local\\programs\\python\\python310\\lib\\site-packages (from tensorflow-addons->tf-models-official==2.8.0->object-detection==0.1) (2.13.3)\n",
      "Requirement already satisfied: click in c:\\users\\silvan mangold\\appdata\\local\\programs\\python\\python310\\lib\\site-packages (from tensorflow-datasets->tf-models-official==2.8.0->object-detection==0.1) (8.1.7)\n",
      "Requirement already satisfied: etils>=0.9.0 in c:\\users\\silvan mangold\\appdata\\local\\programs\\python\\python310\\lib\\site-packages (from etils[enp,epath,etree]>=0.9.0->tensorflow-datasets->tf-models-official==2.8.0->object-detection==0.1) (1.7.0)\n",
      "Requirement already satisfied: promise in c:\\users\\silvan mangold\\appdata\\local\\programs\\python\\python310\\lib\\site-packages (from tensorflow-datasets->tf-models-official==2.8.0->object-detection==0.1) (2.3)\n",
      "Requirement already satisfied: tensorflow-metadata in c:\\users\\silvan mangold\\appdata\\local\\programs\\python\\python310\\lib\\site-packages (from tensorflow-datasets->tf-models-official==2.8.0->object-detection==0.1) (1.14.0)\n",
      "Requirement already satisfied: toml in c:\\users\\silvan mangold\\appdata\\local\\programs\\python\\python310\\lib\\site-packages (from tensorflow-datasets->tf-models-official==2.8.0->object-detection==0.1) (0.10.2)\n",
      "Requirement already satisfied: wheel<1.0,>=0.23.0 in c:\\users\\silvan mangold\\appdata\\local\\programs\\python\\python310\\lib\\site-packages (from astunparse>=1.6.0->tensorflow~=2.8.0->tf-models-official==2.8.0->object-detection==0.1) (0.42.0)\n",
      "Requirement already satisfied: fsspec in c:\\users\\silvan mangold\\appdata\\local\\programs\\python\\python310\\lib\\site-packages (from etils[enp,epath,etree]>=0.9.0->tensorflow-datasets->tf-models-official==2.8.0->object-detection==0.1) (2024.2.0)\n",
      "Requirement already satisfied: importlib_resources in c:\\users\\silvan mangold\\appdata\\local\\programs\\python\\python310\\lib\\site-packages (from etils[enp,epath,etree]>=0.9.0->tensorflow-datasets->tf-models-official==2.8.0->object-detection==0.1) (6.1.2)\n",
      "Requirement already satisfied: zipp in c:\\users\\silvan mangold\\appdata\\local\\programs\\python\\python310\\lib\\site-packages (from etils[enp,epath,etree]>=0.9.0->tensorflow-datasets->tf-models-official==2.8.0->object-detection==0.1) (3.17.0)\n",
      "Requirement already satisfied: googleapis-common-protos<2.0.dev0,>=1.56.2 in c:\\users\\silvan mangold\\appdata\\local\\programs\\python\\python310\\lib\\site-packages (from google-api-core!=2.0.*,!=2.1.*,!=2.2.*,!=2.3.0,<3.0.0.dev0,>=1.31.5->google-api-python-client>=1.6.7->tf-models-official==2.8.0->object-detection==0.1) (1.62.0)\n",
      "Requirement already satisfied: cachetools<6.0,>=2.0.0 in c:\\users\\silvan mangold\\appdata\\local\\programs\\python\\python310\\lib\\site-packages (from google-auth<3.0.0.dev0,>=1.19.0->google-api-python-client>=1.6.7->tf-models-official==2.8.0->object-detection==0.1) (5.3.2)\n",
      "Requirement already satisfied: joblib>=1.2.0 in c:\\users\\silvan mangold\\appdata\\local\\programs\\python\\python310\\lib\\site-packages (from scikit-learn>=0.21.3->seqeval->tf-models-official==2.8.0->object-detection==0.1) (1.3.2)\n",
      "Requirement already satisfied: threadpoolctl>=2.0.0 in c:\\users\\silvan mangold\\appdata\\local\\programs\\python\\python310\\lib\\site-packages (from scikit-learn>=0.21.3->seqeval->tf-models-official==2.8.0->object-detection==0.1) (3.3.0)\n",
      "Requirement already satisfied: google-auth-oauthlib<0.5,>=0.4.1 in c:\\users\\silvan mangold\\appdata\\local\\programs\\python\\python310\\lib\\site-packages (from tensorboard<2.9,>=2.8->tensorflow~=2.8.0->tf-models-official==2.8.0->object-detection==0.1) (0.4.6)\n",
      "Requirement already satisfied: markdown>=2.6.8 in c:\\users\\silvan mangold\\appdata\\local\\programs\\python\\python310\\lib\\site-packages (from tensorboard<2.9,>=2.8->tensorflow~=2.8.0->tf-models-official==2.8.0->object-detection==0.1) (3.5.2)\n",
      "Requirement already satisfied: tensorboard-data-server<0.7.0,>=0.6.0 in c:\\users\\silvan mangold\\appdata\\local\\programs\\python\\python310\\lib\\site-packages (from tensorboard<2.9,>=2.8->tensorflow~=2.8.0->tf-models-official==2.8.0->object-detection==0.1) (0.6.1)\n",
      "Requirement already satisfied: tensorboard-plugin-wit>=1.6.0 in c:\\users\\silvan mangold\\appdata\\local\\programs\\python\\python310\\lib\\site-packages (from tensorboard<2.9,>=2.8->tensorflow~=2.8.0->tf-models-official==2.8.0->object-detection==0.1) (1.8.1)\n",
      "Requirement already satisfied: werkzeug>=0.11.15 in c:\\users\\silvan mangold\\appdata\\local\\programs\\python\\python310\\lib\\site-packages (from tensorboard<2.9,>=2.8->tensorflow~=2.8.0->tf-models-official==2.8.0->object-detection==0.1) (3.0.1)\n",
      "Requirement already satisfied: webencodings in c:\\users\\silvan mangold\\appdata\\local\\programs\\python\\python310\\lib\\site-packages (from bleach->kaggle>=1.3.9->tf-models-official==2.8.0->object-detection==0.1) (0.5.1)\n",
      "Requirement already satisfied: text-unidecode>=1.3 in c:\\users\\silvan mangold\\appdata\\local\\programs\\python\\python310\\lib\\site-packages (from python-slugify->kaggle>=1.3.9->tf-models-official==2.8.0->object-detection==0.1) (1.3)\n",
      "Requirement already satisfied: requests-oauthlib>=0.7.0 in c:\\users\\silvan mangold\\appdata\\local\\programs\\python\\python310\\lib\\site-packages (from google-auth-oauthlib<0.5,>=0.4.1->tensorboard<2.9,>=2.8->tensorflow~=2.8.0->tf-models-official==2.8.0->object-detection==0.1) (1.3.1)\n",
      "Requirement already satisfied: MarkupSafe>=2.1.1 in c:\\users\\silvan mangold\\appdata\\local\\programs\\python\\python310\\lib\\site-packages (from werkzeug>=0.11.15->tensorboard<2.9,>=2.8->tensorflow~=2.8.0->tf-models-official==2.8.0->object-detection==0.1) (2.1.3)\n",
      "Requirement already satisfied: oauthlib>=3.0.0 in c:\\users\\silvan mangold\\appdata\\local\\programs\\python\\python310\\lib\\site-packages (from requests-oauthlib>=0.7.0->google-auth-oauthlib<0.5,>=0.4.1->tensorboard<2.9,>=2.8->tensorflow~=2.8.0->tf-models-official==2.8.0->object-detection==0.1) (3.2.2)\n",
      "Building wheels for collected packages: object-detection\n",
      "  Building wheel for object-detection (setup.py): started\n",
      "  Building wheel for object-detection (setup.py): finished with status 'done'\n",
      "  Created wheel for object-detection: filename=object_detection-0.1-py3-none-any.whl size=1667980 sha256=781eb5e00f7ff9f1f9cce2006faae35e5a5ac8948c19233157d0f21619539dcb\n",
      "  Stored in directory: C:\\Users\\Silvan Mangold\\AppData\\Local\\Temp\\pip-ephem-wheel-cache-efifedjl\\wheels\\bf\\24\\ca\\53cecb32668ca7d081d2b543387c89ba8ce6b8cd4710a2ba36\n",
      "Successfully built object-detection\n",
      "Installing collected packages: object-detection\n",
      "  Attempting uninstall: object-detection\n",
      "    Found existing installation: object-detection 0.1\n",
      "    Uninstalling object-detection-0.1:\n",
      "      Successfully uninstalled object-detection-0.1\n",
      "Successfully installed object-detection-0.1\n"
     ]
    },
    {
     "name": "stderr",
     "output_type": "stream",
     "text": [
      "WARNING: Ignoring invalid distribution -otebook (c:\\users\\silvan mangold\\appdata\\local\\programs\\python\\python310\\lib\\site-packages)\n",
      "WARNING: Ignoring invalid distribution -otebook (c:\\users\\silvan mangold\\appdata\\local\\programs\\python\\python310\\lib\\site-packages)\n"
     ]
    },
    {
     "name": "stdout",
     "output_type": "stream",
     "text": [
      "Requirement already satisfied: tensorflow==2.8.0 in c:\\users\\silvan mangold\\appdata\\local\\programs\\python\\python310\\lib\\site-packages (2.8.0)\n",
      "Requirement already satisfied: absl-py>=0.4.0 in c:\\users\\silvan mangold\\appdata\\local\\programs\\python\\python310\\lib\\site-packages (from tensorflow==2.8.0) (1.4.0)\n",
      "Requirement already satisfied: astunparse>=1.6.0 in c:\\users\\silvan mangold\\appdata\\local\\programs\\python\\python310\\lib\\site-packages (from tensorflow==2.8.0) (1.6.3)\n",
      "Requirement already satisfied: flatbuffers>=1.12 in c:\\users\\silvan mangold\\appdata\\local\\programs\\python\\python310\\lib\\site-packages (from tensorflow==2.8.0) (23.5.26)\n",
      "Requirement already satisfied: gast>=0.2.1 in c:\\users\\silvan mangold\\appdata\\local\\programs\\python\\python310\\lib\\site-packages (from tensorflow==2.8.0) (0.5.4)\n",
      "Requirement already satisfied: google-pasta>=0.1.1 in c:\\users\\silvan mangold\\appdata\\local\\programs\\python\\python310\\lib\\site-packages (from tensorflow==2.8.0) (0.2.0)\n",
      "Requirement already satisfied: h5py>=2.9.0 in c:\\users\\silvan mangold\\appdata\\local\\programs\\python\\python310\\lib\\site-packages (from tensorflow==2.8.0) (3.10.0)\n",
      "Requirement already satisfied: keras-preprocessing>=1.1.1 in c:\\users\\silvan mangold\\appdata\\local\\programs\\python\\python310\\lib\\site-packages (from tensorflow==2.8.0) (1.1.2)\n",
      "Requirement already satisfied: libclang>=9.0.1 in c:\\users\\silvan mangold\\appdata\\local\\programs\\python\\python310\\lib\\site-packages (from tensorflow==2.8.0) (16.0.6)\n",
      "Requirement already satisfied: numpy>=1.20 in c:\\users\\silvan mangold\\appdata\\local\\programs\\python\\python310\\lib\\site-packages (from tensorflow==2.8.0) (1.24.4)\n",
      "Requirement already satisfied: opt-einsum>=2.3.2 in c:\\users\\silvan mangold\\appdata\\local\\programs\\python\\python310\\lib\\site-packages (from tensorflow==2.8.0) (3.3.0)\n",
      "Requirement already satisfied: protobuf>=3.9.2 in c:\\users\\silvan mangold\\appdata\\local\\programs\\python\\python310\\lib\\site-packages (from tensorflow==2.8.0) (3.20.3)\n",
      "Requirement already satisfied: setuptools in c:\\users\\silvan mangold\\appdata\\local\\programs\\python\\python310\\lib\\site-packages (from tensorflow==2.8.0) (63.2.0)\n",
      "Requirement already satisfied: six>=1.12.0 in c:\\users\\silvan mangold\\appdata\\local\\programs\\python\\python310\\lib\\site-packages (from tensorflow==2.8.0) (1.16.0)\n",
      "Requirement already satisfied: termcolor>=1.1.0 in c:\\users\\silvan mangold\\appdata\\local\\programs\\python\\python310\\lib\\site-packages (from tensorflow==2.8.0) (2.4.0)\n",
      "Requirement already satisfied: typing-extensions>=3.6.6 in c:\\users\\silvan mangold\\appdata\\local\\programs\\python\\python310\\lib\\site-packages (from tensorflow==2.8.0) (4.8.0)\n",
      "Requirement already satisfied: wrapt>=1.11.0 in c:\\users\\silvan mangold\\appdata\\local\\programs\\python\\python310\\lib\\site-packages (from tensorflow==2.8.0) (1.16.0)\n",
      "Requirement already satisfied: tensorboard<2.9,>=2.8 in c:\\users\\silvan mangold\\appdata\\local\\programs\\python\\python310\\lib\\site-packages (from tensorflow==2.8.0) (2.8.0)\n",
      "Requirement already satisfied: tf-estimator-nightly==2.8.0.dev2021122109 in c:\\users\\silvan mangold\\appdata\\local\\programs\\python\\python310\\lib\\site-packages (from tensorflow==2.8.0) (2.8.0.dev2021122109)\n",
      "Requirement already satisfied: keras<2.9,>=2.8.0rc0 in c:\\users\\silvan mangold\\appdata\\local\\programs\\python\\python310\\lib\\site-packages (from tensorflow==2.8.0) (2.8.0)\n",
      "Requirement already satisfied: tensorflow-io-gcs-filesystem>=0.23.1 in c:\\users\\silvan mangold\\appdata\\local\\programs\\python\\python310\\lib\\site-packages (from tensorflow==2.8.0) (0.31.0)\n",
      "Requirement already satisfied: grpcio<2.0,>=1.24.3 in c:\\users\\silvan mangold\\appdata\\local\\programs\\python\\python310\\lib\\site-packages (from tensorflow==2.8.0) (1.60.1)\n",
      "Requirement already satisfied: wheel<1.0,>=0.23.0 in c:\\users\\silvan mangold\\appdata\\local\\programs\\python\\python310\\lib\\site-packages (from astunparse>=1.6.0->tensorflow==2.8.0) (0.42.0)\n",
      "Requirement already satisfied: google-auth<3,>=1.6.3 in c:\\users\\silvan mangold\\appdata\\local\\programs\\python\\python310\\lib\\site-packages (from tensorboard<2.9,>=2.8->tensorflow==2.8.0) (2.27.0)\n",
      "Requirement already satisfied: google-auth-oauthlib<0.5,>=0.4.1 in c:\\users\\silvan mangold\\appdata\\local\\programs\\python\\python310\\lib\\site-packages (from tensorboard<2.9,>=2.8->tensorflow==2.8.0) (0.4.6)\n",
      "Requirement already satisfied: markdown>=2.6.8 in c:\\users\\silvan mangold\\appdata\\local\\programs\\python\\python310\\lib\\site-packages (from tensorboard<2.9,>=2.8->tensorflow==2.8.0) (3.5.2)\n",
      "Requirement already satisfied: requests<3,>=2.21.0 in c:\\users\\silvan mangold\\appdata\\local\\programs\\python\\python310\\lib\\site-packages (from tensorboard<2.9,>=2.8->tensorflow==2.8.0) (2.31.0)\n",
      "Requirement already satisfied: tensorboard-data-server<0.7.0,>=0.6.0 in c:\\users\\silvan mangold\\appdata\\local\\programs\\python\\python310\\lib\\site-packages (from tensorboard<2.9,>=2.8->tensorflow==2.8.0) (0.6.1)\n",
      "Requirement already satisfied: tensorboard-plugin-wit>=1.6.0 in c:\\users\\silvan mangold\\appdata\\local\\programs\\python\\python310\\lib\\site-packages (from tensorboard<2.9,>=2.8->tensorflow==2.8.0) (1.8.1)\n",
      "Requirement already satisfied: werkzeug>=0.11.15 in c:\\users\\silvan mangold\\appdata\\local\\programs\\python\\python310\\lib\\site-packages (from tensorboard<2.9,>=2.8->tensorflow==2.8.0) (3.0.1)\n",
      "Requirement already satisfied: cachetools<6.0,>=2.0.0 in c:\\users\\silvan mangold\\appdata\\local\\programs\\python\\python310\\lib\\site-packages (from google-auth<3,>=1.6.3->tensorboard<2.9,>=2.8->tensorflow==2.8.0) (5.3.2)\n",
      "Requirement already satisfied: pyasn1-modules>=0.2.1 in c:\\users\\silvan mangold\\appdata\\local\\programs\\python\\python310\\lib\\site-packages (from google-auth<3,>=1.6.3->tensorboard<2.9,>=2.8->tensorflow==2.8.0) (0.3.0)\n",
      "Requirement already satisfied: rsa<5,>=3.1.4 in c:\\users\\silvan mangold\\appdata\\local\\programs\\python\\python310\\lib\\site-packages (from google-auth<3,>=1.6.3->tensorboard<2.9,>=2.8->tensorflow==2.8.0) (4.9)\n",
      "Requirement already satisfied: requests-oauthlib>=0.7.0 in c:\\users\\silvan mangold\\appdata\\local\\programs\\python\\python310\\lib\\site-packages (from google-auth-oauthlib<0.5,>=0.4.1->tensorboard<2.9,>=2.8->tensorflow==2.8.0) (1.3.1)\n",
      "Requirement already satisfied: charset-normalizer<4,>=2 in c:\\users\\silvan mangold\\appdata\\local\\programs\\python\\python310\\lib\\site-packages (from requests<3,>=2.21.0->tensorboard<2.9,>=2.8->tensorflow==2.8.0) (3.3.2)\n",
      "Requirement already satisfied: idna<4,>=2.5 in c:\\users\\silvan mangold\\appdata\\local\\programs\\python\\python310\\lib\\site-packages (from requests<3,>=2.21.0->tensorboard<2.9,>=2.8->tensorflow==2.8.0) (2.10)\n",
      "Requirement already satisfied: urllib3<3,>=1.21.1 in c:\\users\\silvan mangold\\appdata\\local\\programs\\python\\python310\\lib\\site-packages (from requests<3,>=2.21.0->tensorboard<2.9,>=2.8->tensorflow==2.8.0) (2.1.0)\n",
      "Requirement already satisfied: certifi>=2017.4.17 in c:\\users\\silvan mangold\\appdata\\local\\programs\\python\\python310\\lib\\site-packages (from requests<3,>=2.21.0->tensorboard<2.9,>=2.8->tensorflow==2.8.0) (2023.7.22)\n",
      "Requirement already satisfied: MarkupSafe>=2.1.1 in c:\\users\\silvan mangold\\appdata\\local\\programs\\python\\python310\\lib\\site-packages (from werkzeug>=0.11.15->tensorboard<2.9,>=2.8->tensorflow==2.8.0) (2.1.3)\n",
      "Requirement already satisfied: pyasn1<0.6.0,>=0.4.6 in c:\\users\\silvan mangold\\appdata\\local\\programs\\python\\python310\\lib\\site-packages (from pyasn1-modules>=0.2.1->google-auth<3,>=1.6.3->tensorboard<2.9,>=2.8->tensorflow==2.8.0) (0.5.1)\n",
      "Requirement already satisfied: oauthlib>=3.0.0 in c:\\users\\silvan mangold\\appdata\\local\\programs\\python\\python310\\lib\\site-packages (from requests-oauthlib>=0.7.0->google-auth-oauthlib<0.5,>=0.4.1->tensorboard<2.9,>=2.8->tensorflow==2.8.0) (3.2.2)\n"
     ]
    },
    {
     "name": "stderr",
     "output_type": "stream",
     "text": [
      "WARNING: Ignoring invalid distribution -otebook (c:\\users\\silvan mangold\\appdata\\local\\programs\\python\\python310\\lib\\site-packages)\n",
      "WARNING: Ignoring invalid distribution -otebook (c:\\users\\silvan mangold\\appdata\\local\\programs\\python\\python310\\lib\\site-packages)\n"
     ]
    }
   ],
   "source": [
    "!pip install pyyaml==5.3.1\n",
    "!pip install Tensorflow/models/research/\n",
    "!pip install tensorflow==2.8.0"
   ]
  },
  {
   "cell_type": "code",
   "execution_count": 16,
   "id": "S--pUh0FFsix",
   "metadata": {
    "colab": {
     "base_uri": "https://localhost:8080/"
    },
    "id": "S--pUh0FFsix",
    "outputId": "1d4b628a-8564-4fdd-c4bf-9ee5930630a7"
   },
   "outputs": [
    {
     "name": "stderr",
     "output_type": "stream",
     "text": [
      "2024-03-23 11:56:07.803346: W tensorflow/stream_executor/platform/default/dso_loader.cc:64] Could not load dynamic library 'cudart64_110.dll'; dlerror: cudart64_110.dll not found\n",
      "2024-03-23 11:56:07.803396: I tensorflow/stream_executor/cuda/cudart_stub.cc:29] Ignore above cudart dlerror if you do not have a GPU set up on your machine.\n",
      "2024-03-23 11:56:13.156222: W tensorflow/stream_executor/platform/default/dso_loader.cc:64] Could not load dynamic library 'cudart64_110.dll'; dlerror: cudart64_110.dll not found\n",
      "2024-03-23 11:56:13.156644: W tensorflow/stream_executor/platform/default/dso_loader.cc:64] Could not load dynamic library 'cublas64_11.dll'; dlerror: cublas64_11.dll not found\n",
      "2024-03-23 11:56:13.157016: W tensorflow/stream_executor/platform/default/dso_loader.cc:64] Could not load dynamic library 'cublasLt64_11.dll'; dlerror: cublasLt64_11.dll not found\n",
      "2024-03-23 11:56:13.157382: W tensorflow/stream_executor/platform/default/dso_loader.cc:64] Could not load dynamic library 'cufft64_10.dll'; dlerror: cufft64_10.dll not found\n",
      "2024-03-23 11:56:13.157742: W tensorflow/stream_executor/platform/default/dso_loader.cc:64] Could not load dynamic library 'curand64_10.dll'; dlerror: curand64_10.dll not found\n",
      "2024-03-23 11:56:13.158129: W tensorflow/stream_executor/platform/default/dso_loader.cc:64] Could not load dynamic library 'cusolver64_11.dll'; dlerror: cusolver64_11.dll not found\n",
      "2024-03-23 11:56:13.158484: W tensorflow/stream_executor/platform/default/dso_loader.cc:64] Could not load dynamic library 'cusparse64_11.dll'; dlerror: cusparse64_11.dll not found\n",
      "2024-03-23 11:56:13.158841: W tensorflow/stream_executor/platform/default/dso_loader.cc:64] Could not load dynamic library 'cudnn64_8.dll'; dlerror: cudnn64_8.dll not found\n",
      "2024-03-23 11:56:13.158857: W tensorflow/core/common_runtime/gpu/gpu_device.cc:1850] Cannot dlopen some GPU libraries. Please make sure the missing libraries mentioned above are installed properly if you would like to use GPU. Follow the guide at https://www.tensorflow.org/install/gpu for how to download and setup the required libraries for your platform.\n",
      "Skipping registering GPU devices...\n",
      "Running tests under Python 3.10.8: C:\\Users\\Silvan Mangold\\AppData\\Local\\Programs\\Python\\Python310\\python.exe\n",
      "[ RUN      ] ModelBuilderTF2Test.test_create_center_net_deepmac\n",
      "2024-03-23 11:56:13.170864: I tensorflow/core/platform/cpu_feature_guard.cc:151] This TensorFlow binary is optimized with oneAPI Deep Neural Network Library (oneDNN) to use the following CPU instructions in performance-critical operations:  AVX AVX2\n",
      "To enable them in other operations, rebuild TensorFlow with the appropriate compiler flags.\n",
      "C:\\Users\\Silvan Mangold\\AppData\\Local\\Programs\\Python\\Python310\\lib\\site-packages\\object_detection\\builders\\model_builder.py:1112: DeprecationWarning: The 'warn' function is deprecated, use 'warning' instead\n",
      "  logging.warn(('Building experimental DeepMAC meta-arch.'\n",
      "W0323 11:56:13.433845  3408 model_builder.py:1112] Building experimental DeepMAC meta-arch. Some features may be omitted.\n",
      "INFO:tensorflow:time(__main__.ModelBuilderTF2Test.test_create_center_net_deepmac): 0.52s\n",
      "I0323 11:56:13.678379  3408 test_util.py:2373] time(__main__.ModelBuilderTF2Test.test_create_center_net_deepmac): 0.52s\n",
      "[       OK ] ModelBuilderTF2Test.test_create_center_net_deepmac\n",
      "[ RUN      ] ModelBuilderTF2Test.test_create_center_net_model0 (customize_head_params=True)\n",
      "INFO:tensorflow:time(__main__.ModelBuilderTF2Test.test_create_center_net_model0 (customize_head_params=True)): 1.33s\n",
      "I0323 11:56:15.010408  3408 test_util.py:2373] time(__main__.ModelBuilderTF2Test.test_create_center_net_model0 (customize_head_params=True)): 1.33s\n",
      "[       OK ] ModelBuilderTF2Test.test_create_center_net_model0 (customize_head_params=True)\n",
      "[ RUN      ] ModelBuilderTF2Test.test_create_center_net_model1 (customize_head_params=False)\n",
      "INFO:tensorflow:time(__main__.ModelBuilderTF2Test.test_create_center_net_model1 (customize_head_params=False)): 0.25s\n",
      "I0323 11:56:15.256711  3408 test_util.py:2373] time(__main__.ModelBuilderTF2Test.test_create_center_net_model1 (customize_head_params=False)): 0.25s\n",
      "[       OK ] ModelBuilderTF2Test.test_create_center_net_model1 (customize_head_params=False)\n",
      "[ RUN      ] ModelBuilderTF2Test.test_create_center_net_model_from_keypoints\n",
      "INFO:tensorflow:time(__main__.ModelBuilderTF2Test.test_create_center_net_model_from_keypoints): 0.36s\n",
      "I0323 11:56:15.618384  3408 test_util.py:2373] time(__main__.ModelBuilderTF2Test.test_create_center_net_model_from_keypoints): 0.36s\n",
      "[       OK ] ModelBuilderTF2Test.test_create_center_net_model_from_keypoints\n",
      "[ RUN      ] ModelBuilderTF2Test.test_create_center_net_model_mobilenet\n",
      "INFO:tensorflow:time(__main__.ModelBuilderTF2Test.test_create_center_net_model_mobilenet): 2.5s\n",
      "I0323 11:56:18.117160  3408 test_util.py:2373] time(__main__.ModelBuilderTF2Test.test_create_center_net_model_mobilenet): 2.5s\n",
      "[       OK ] ModelBuilderTF2Test.test_create_center_net_model_mobilenet\n",
      "[ RUN      ] ModelBuilderTF2Test.test_create_experimental_model\n",
      "INFO:tensorflow:time(__main__.ModelBuilderTF2Test.test_create_experimental_model): 0.0s\n",
      "I0323 11:56:18.117160  3408 test_util.py:2373] time(__main__.ModelBuilderTF2Test.test_create_experimental_model): 0.0s\n",
      "[       OK ] ModelBuilderTF2Test.test_create_experimental_model\n",
      "[ RUN      ] ModelBuilderTF2Test.test_create_faster_rcnn_from_config_with_crop_feature0 (True)\n",
      "INFO:tensorflow:time(__main__.ModelBuilderTF2Test.test_create_faster_rcnn_from_config_with_crop_feature0 (True)): 0.2s\n",
      "I0323 11:56:18.322894  3408 test_util.py:2373] time(__main__.ModelBuilderTF2Test.test_create_faster_rcnn_from_config_with_crop_feature0 (True)): 0.2s\n",
      "[       OK ] ModelBuilderTF2Test.test_create_faster_rcnn_from_config_with_crop_feature0 (True)\n",
      "[ RUN      ] ModelBuilderTF2Test.test_create_faster_rcnn_from_config_with_crop_feature1 (False)\n",
      "INFO:tensorflow:time(__main__.ModelBuilderTF2Test.test_create_faster_rcnn_from_config_with_crop_feature1 (False)): 0.02s\n",
      "I0323 11:56:18.346743  3408 test_util.py:2373] time(__main__.ModelBuilderTF2Test.test_create_faster_rcnn_from_config_with_crop_feature1 (False)): 0.02s\n",
      "[       OK ] ModelBuilderTF2Test.test_create_faster_rcnn_from_config_with_crop_feature1 (False)\n",
      "[ RUN      ] ModelBuilderTF2Test.test_create_faster_rcnn_model_from_config_with_example_miner\n",
      "INFO:tensorflow:time(__main__.ModelBuilderTF2Test.test_create_faster_rcnn_model_from_config_with_example_miner): 0.02s\n",
      "I0323 11:56:18.364086  3408 test_util.py:2373] time(__main__.ModelBuilderTF2Test.test_create_faster_rcnn_model_from_config_with_example_miner): 0.02s\n",
      "[       OK ] ModelBuilderTF2Test.test_create_faster_rcnn_model_from_config_with_example_miner\n",
      "[ RUN      ] ModelBuilderTF2Test.test_create_faster_rcnn_models_from_config_faster_rcnn_with_matmul\n",
      "INFO:tensorflow:time(__main__.ModelBuilderTF2Test.test_create_faster_rcnn_models_from_config_faster_rcnn_with_matmul): 0.15s\n",
      "I0323 11:56:18.510880  3408 test_util.py:2373] time(__main__.ModelBuilderTF2Test.test_create_faster_rcnn_models_from_config_faster_rcnn_with_matmul): 0.15s\n",
      "[       OK ] ModelBuilderTF2Test.test_create_faster_rcnn_models_from_config_faster_rcnn_with_matmul\n",
      "[ RUN      ] ModelBuilderTF2Test.test_create_faster_rcnn_models_from_config_faster_rcnn_without_matmul\n",
      "INFO:tensorflow:time(__main__.ModelBuilderTF2Test.test_create_faster_rcnn_models_from_config_faster_rcnn_without_matmul): 0.13s\n",
      "I0323 11:56:18.641303  3408 test_util.py:2373] time(__main__.ModelBuilderTF2Test.test_create_faster_rcnn_models_from_config_faster_rcnn_without_matmul): 0.13s\n",
      "[       OK ] ModelBuilderTF2Test.test_create_faster_rcnn_models_from_config_faster_rcnn_without_matmul\n",
      "[ RUN      ] ModelBuilderTF2Test.test_create_faster_rcnn_models_from_config_mask_rcnn_with_matmul\n",
      "INFO:tensorflow:time(__main__.ModelBuilderTF2Test.test_create_faster_rcnn_models_from_config_mask_rcnn_with_matmul): 0.13s\n",
      "I0323 11:56:18.778562  3408 test_util.py:2373] time(__main__.ModelBuilderTF2Test.test_create_faster_rcnn_models_from_config_mask_rcnn_with_matmul): 0.13s\n",
      "[       OK ] ModelBuilderTF2Test.test_create_faster_rcnn_models_from_config_mask_rcnn_with_matmul\n",
      "[ RUN      ] ModelBuilderTF2Test.test_create_faster_rcnn_models_from_config_mask_rcnn_without_matmul\n",
      "INFO:tensorflow:time(__main__.ModelBuilderTF2Test.test_create_faster_rcnn_models_from_config_mask_rcnn_without_matmul): 0.14s\n",
      "I0323 11:56:18.923658  3408 test_util.py:2373] time(__main__.ModelBuilderTF2Test.test_create_faster_rcnn_models_from_config_mask_rcnn_without_matmul): 0.14s\n",
      "[       OK ] ModelBuilderTF2Test.test_create_faster_rcnn_models_from_config_mask_rcnn_without_matmul\n",
      "[ RUN      ] ModelBuilderTF2Test.test_create_rfcn_model_from_config\n",
      "INFO:tensorflow:time(__main__.ModelBuilderTF2Test.test_create_rfcn_model_from_config): 0.13s\n",
      "I0323 11:56:19.056481  3408 test_util.py:2373] time(__main__.ModelBuilderTF2Test.test_create_rfcn_model_from_config): 0.13s\n",
      "[       OK ] ModelBuilderTF2Test.test_create_rfcn_model_from_config\n",
      "[ RUN      ] ModelBuilderTF2Test.test_create_ssd_fpn_model_from_config\n",
      "INFO:tensorflow:time(__main__.ModelBuilderTF2Test.test_create_ssd_fpn_model_from_config): 0.04s\n",
      "I0323 11:56:19.093853  3408 test_util.py:2373] time(__main__.ModelBuilderTF2Test.test_create_ssd_fpn_model_from_config): 0.04s\n",
      "[       OK ] ModelBuilderTF2Test.test_create_ssd_fpn_model_from_config\n",
      "[ RUN      ] ModelBuilderTF2Test.test_create_ssd_models_from_config\n",
      "I0323 11:56:19.335573  3408 ssd_efficientnet_bifpn_feature_extractor.py:161] EfficientDet EfficientNet backbone version: efficientnet-b0\n",
      "I0323 11:56:19.335573  3408 ssd_efficientnet_bifpn_feature_extractor.py:163] EfficientDet BiFPN num filters: 64\n",
      "I0323 11:56:19.335573  3408 ssd_efficientnet_bifpn_feature_extractor.py:164] EfficientDet BiFPN num iterations: 3\n",
      "I0323 11:56:19.335573  3408 efficientnet_model.py:144] round_filter input=32 output=32\n",
      "I0323 11:56:19.360678  3408 efficientnet_model.py:144] round_filter input=32 output=32\n",
      "I0323 11:56:19.360678  3408 efficientnet_model.py:144] round_filter input=16 output=16\n",
      "I0323 11:56:19.435300  3408 efficientnet_model.py:144] round_filter input=16 output=16\n",
      "I0323 11:56:19.435300  3408 efficientnet_model.py:144] round_filter input=24 output=24\n",
      "I0323 11:56:19.657089  3408 efficientnet_model.py:144] round_filter input=24 output=24\n",
      "I0323 11:56:19.657089  3408 efficientnet_model.py:144] round_filter input=40 output=40\n",
      "I0323 11:56:19.864143  3408 efficientnet_model.py:144] round_filter input=40 output=40\n",
      "I0323 11:56:19.864143  3408 efficientnet_model.py:144] round_filter input=80 output=80\n",
      "I0323 11:56:20.185191  3408 efficientnet_model.py:144] round_filter input=80 output=80\n",
      "I0323 11:56:20.194091  3408 efficientnet_model.py:144] round_filter input=112 output=112\n",
      "I0323 11:56:20.523790  3408 efficientnet_model.py:144] round_filter input=112 output=112\n",
      "I0323 11:56:20.523790  3408 efficientnet_model.py:144] round_filter input=192 output=192\n",
      "I0323 11:56:20.976649  3408 efficientnet_model.py:144] round_filter input=192 output=192\n",
      "I0323 11:56:20.976649  3408 efficientnet_model.py:144] round_filter input=320 output=320\n",
      "I0323 11:56:21.083677  3408 efficientnet_model.py:144] round_filter input=1280 output=1280\n",
      "I0323 11:56:21.144078  3408 efficientnet_model.py:454] Building model efficientnet with params ModelConfig(width_coefficient=1.0, depth_coefficient=1.0, resolution=224, dropout_rate=0.2, blocks=(BlockConfig(input_filters=32, output_filters=16, kernel_size=3, num_repeat=1, expand_ratio=1, strides=(1, 1), se_ratio=0.25, id_skip=True, fused_conv=False, conv_type='depthwise'), BlockConfig(input_filters=16, output_filters=24, kernel_size=3, num_repeat=2, expand_ratio=6, strides=(2, 2), se_ratio=0.25, id_skip=True, fused_conv=False, conv_type='depthwise'), BlockConfig(input_filters=24, output_filters=40, kernel_size=5, num_repeat=2, expand_ratio=6, strides=(2, 2), se_ratio=0.25, id_skip=True, fused_conv=False, conv_type='depthwise'), BlockConfig(input_filters=40, output_filters=80, kernel_size=3, num_repeat=3, expand_ratio=6, strides=(2, 2), se_ratio=0.25, id_skip=True, fused_conv=False, conv_type='depthwise'), BlockConfig(input_filters=80, output_filters=112, kernel_size=5, num_repeat=3, expand_ratio=6, strides=(1, 1), se_ratio=0.25, id_skip=True, fused_conv=False, conv_type='depthwise'), BlockConfig(input_filters=112, output_filters=192, kernel_size=5, num_repeat=4, expand_ratio=6, strides=(2, 2), se_ratio=0.25, id_skip=True, fused_conv=False, conv_type='depthwise'), BlockConfig(input_filters=192, output_filters=320, kernel_size=3, num_repeat=1, expand_ratio=6, strides=(1, 1), se_ratio=0.25, id_skip=True, fused_conv=False, conv_type='depthwise')), stem_base_filters=32, top_base_filters=1280, activation='simple_swish', batch_norm='default', bn_momentum=0.99, bn_epsilon=0.001, weight_decay=5e-06, drop_connect_rate=0.2, depth_divisor=8, min_depth=None, use_se=True, input_channels=3, num_classes=1000, model_name='efficientnet', rescale_input=False, data_format='channels_last', dtype='float32')\n",
      "I0323 11:56:21.231616  3408 ssd_efficientnet_bifpn_feature_extractor.py:161] EfficientDet EfficientNet backbone version: efficientnet-b1\n",
      "I0323 11:56:21.231616  3408 ssd_efficientnet_bifpn_feature_extractor.py:163] EfficientDet BiFPN num filters: 88\n",
      "I0323 11:56:21.231616  3408 ssd_efficientnet_bifpn_feature_extractor.py:164] EfficientDet BiFPN num iterations: 4\n",
      "I0323 11:56:21.233954  3408 efficientnet_model.py:144] round_filter input=32 output=32\n",
      "I0323 11:56:21.256209  3408 efficientnet_model.py:144] round_filter input=32 output=32\n",
      "I0323 11:56:21.256209  3408 efficientnet_model.py:144] round_filter input=16 output=16\n",
      "I0323 11:56:21.463834  3408 efficientnet_model.py:144] round_filter input=16 output=16\n",
      "I0323 11:56:21.463834  3408 efficientnet_model.py:144] round_filter input=24 output=24\n",
      "I0323 11:56:21.784150  3408 efficientnet_model.py:144] round_filter input=24 output=24\n",
      "I0323 11:56:21.784150  3408 efficientnet_model.py:144] round_filter input=40 output=40\n",
      "I0323 11:56:22.113768  3408 efficientnet_model.py:144] round_filter input=40 output=40\n",
      "I0323 11:56:22.113768  3408 efficientnet_model.py:144] round_filter input=80 output=80\n",
      "I0323 11:56:22.563706  3408 efficientnet_model.py:144] round_filter input=80 output=80\n",
      "I0323 11:56:22.563706  3408 efficientnet_model.py:144] round_filter input=112 output=112\n",
      "I0323 11:56:23.143956  3408 efficientnet_model.py:144] round_filter input=112 output=112\n",
      "I0323 11:56:23.146343  3408 efficientnet_model.py:144] round_filter input=192 output=192\n",
      "I0323 11:56:23.727093  3408 efficientnet_model.py:144] round_filter input=192 output=192\n",
      "I0323 11:56:23.727093  3408 efficientnet_model.py:144] round_filter input=320 output=320\n",
      "I0323 11:56:23.996019  3408 efficientnet_model.py:144] round_filter input=1280 output=1280\n",
      "I0323 11:56:24.064160  3408 efficientnet_model.py:454] Building model efficientnet with params ModelConfig(width_coefficient=1.0, depth_coefficient=1.1, resolution=240, dropout_rate=0.2, blocks=(BlockConfig(input_filters=32, output_filters=16, kernel_size=3, num_repeat=1, expand_ratio=1, strides=(1, 1), se_ratio=0.25, id_skip=True, fused_conv=False, conv_type='depthwise'), BlockConfig(input_filters=16, output_filters=24, kernel_size=3, num_repeat=2, expand_ratio=6, strides=(2, 2), se_ratio=0.25, id_skip=True, fused_conv=False, conv_type='depthwise'), BlockConfig(input_filters=24, output_filters=40, kernel_size=5, num_repeat=2, expand_ratio=6, strides=(2, 2), se_ratio=0.25, id_skip=True, fused_conv=False, conv_type='depthwise'), BlockConfig(input_filters=40, output_filters=80, kernel_size=3, num_repeat=3, expand_ratio=6, strides=(2, 2), se_ratio=0.25, id_skip=True, fused_conv=False, conv_type='depthwise'), BlockConfig(input_filters=80, output_filters=112, kernel_size=5, num_repeat=3, expand_ratio=6, strides=(1, 1), se_ratio=0.25, id_skip=True, fused_conv=False, conv_type='depthwise'), BlockConfig(input_filters=112, output_filters=192, kernel_size=5, num_repeat=4, expand_ratio=6, strides=(2, 2), se_ratio=0.25, id_skip=True, fused_conv=False, conv_type='depthwise'), BlockConfig(input_filters=192, output_filters=320, kernel_size=3, num_repeat=1, expand_ratio=6, strides=(1, 1), se_ratio=0.25, id_skip=True, fused_conv=False, conv_type='depthwise')), stem_base_filters=32, top_base_filters=1280, activation='simple_swish', batch_norm='default', bn_momentum=0.99, bn_epsilon=0.001, weight_decay=5e-06, drop_connect_rate=0.2, depth_divisor=8, min_depth=None, use_se=True, input_channels=3, num_classes=1000, model_name='efficientnet', rescale_input=False, data_format='channels_last', dtype='float32')\n",
      "I0323 11:56:24.164813  3408 ssd_efficientnet_bifpn_feature_extractor.py:161] EfficientDet EfficientNet backbone version: efficientnet-b2\n",
      "I0323 11:56:24.164813  3408 ssd_efficientnet_bifpn_feature_extractor.py:163] EfficientDet BiFPN num filters: 112\n",
      "I0323 11:56:24.164813  3408 ssd_efficientnet_bifpn_feature_extractor.py:164] EfficientDet BiFPN num iterations: 5\n",
      "I0323 11:56:24.168871  3408 efficientnet_model.py:144] round_filter input=32 output=32\n",
      "I0323 11:56:24.185545  3408 efficientnet_model.py:144] round_filter input=32 output=32\n",
      "I0323 11:56:24.185545  3408 efficientnet_model.py:144] round_filter input=16 output=16\n",
      "I0323 11:56:24.383712  3408 efficientnet_model.py:144] round_filter input=16 output=16\n",
      "I0323 11:56:24.383712  3408 efficientnet_model.py:144] round_filter input=24 output=24\n",
      "I0323 11:56:24.714166  3408 efficientnet_model.py:144] round_filter input=24 output=24\n",
      "I0323 11:56:24.718179  3408 efficientnet_model.py:144] round_filter input=40 output=48\n",
      "I0323 11:56:25.046908  3408 efficientnet_model.py:144] round_filter input=40 output=48\n",
      "I0323 11:56:25.046908  3408 efficientnet_model.py:144] round_filter input=80 output=88\n",
      "I0323 11:56:25.485530  3408 efficientnet_model.py:144] round_filter input=80 output=88\n",
      "I0323 11:56:25.485530  3408 efficientnet_model.py:144] round_filter input=112 output=120\n",
      "I0323 11:56:25.923732  3408 efficientnet_model.py:144] round_filter input=112 output=120\n",
      "I0323 11:56:25.923732  3408 efficientnet_model.py:144] round_filter input=192 output=208\n",
      "I0323 11:56:26.555039  3408 efficientnet_model.py:144] round_filter input=192 output=208\n",
      "I0323 11:56:26.555039  3408 efficientnet_model.py:144] round_filter input=320 output=352\n",
      "I0323 11:56:26.878429  3408 efficientnet_model.py:144] round_filter input=1280 output=1408\n",
      "I0323 11:56:26.952117  3408 efficientnet_model.py:454] Building model efficientnet with params ModelConfig(width_coefficient=1.1, depth_coefficient=1.2, resolution=260, dropout_rate=0.3, blocks=(BlockConfig(input_filters=32, output_filters=16, kernel_size=3, num_repeat=1, expand_ratio=1, strides=(1, 1), se_ratio=0.25, id_skip=True, fused_conv=False, conv_type='depthwise'), BlockConfig(input_filters=16, output_filters=24, kernel_size=3, num_repeat=2, expand_ratio=6, strides=(2, 2), se_ratio=0.25, id_skip=True, fused_conv=False, conv_type='depthwise'), BlockConfig(input_filters=24, output_filters=40, kernel_size=5, num_repeat=2, expand_ratio=6, strides=(2, 2), se_ratio=0.25, id_skip=True, fused_conv=False, conv_type='depthwise'), BlockConfig(input_filters=40, output_filters=80, kernel_size=3, num_repeat=3, expand_ratio=6, strides=(2, 2), se_ratio=0.25, id_skip=True, fused_conv=False, conv_type='depthwise'), BlockConfig(input_filters=80, output_filters=112, kernel_size=5, num_repeat=3, expand_ratio=6, strides=(1, 1), se_ratio=0.25, id_skip=True, fused_conv=False, conv_type='depthwise'), BlockConfig(input_filters=112, output_filters=192, kernel_size=5, num_repeat=4, expand_ratio=6, strides=(2, 2), se_ratio=0.25, id_skip=True, fused_conv=False, conv_type='depthwise'), BlockConfig(input_filters=192, output_filters=320, kernel_size=3, num_repeat=1, expand_ratio=6, strides=(1, 1), se_ratio=0.25, id_skip=True, fused_conv=False, conv_type='depthwise')), stem_base_filters=32, top_base_filters=1280, activation='simple_swish', batch_norm='default', bn_momentum=0.99, bn_epsilon=0.001, weight_decay=5e-06, drop_connect_rate=0.2, depth_divisor=8, min_depth=None, use_se=True, input_channels=3, num_classes=1000, model_name='efficientnet', rescale_input=False, data_format='channels_last', dtype='float32')\n",
      "I0323 11:56:27.054640  3408 ssd_efficientnet_bifpn_feature_extractor.py:161] EfficientDet EfficientNet backbone version: efficientnet-b3\n",
      "I0323 11:56:27.054640  3408 ssd_efficientnet_bifpn_feature_extractor.py:163] EfficientDet BiFPN num filters: 160\n",
      "I0323 11:56:27.054640  3408 ssd_efficientnet_bifpn_feature_extractor.py:164] EfficientDet BiFPN num iterations: 6\n",
      "I0323 11:56:27.054640  3408 efficientnet_model.py:144] round_filter input=32 output=40\n",
      "I0323 11:56:27.074871  3408 efficientnet_model.py:144] round_filter input=32 output=40\n",
      "I0323 11:56:27.083312  3408 efficientnet_model.py:144] round_filter input=16 output=24\n",
      "I0323 11:56:27.246600  3408 efficientnet_model.py:144] round_filter input=16 output=24\n",
      "I0323 11:56:27.246600  3408 efficientnet_model.py:144] round_filter input=24 output=32\n",
      "I0323 11:56:27.564844  3408 efficientnet_model.py:144] round_filter input=24 output=32\n",
      "I0323 11:56:27.564844  3408 efficientnet_model.py:144] round_filter input=40 output=48\n",
      "I0323 11:56:27.887841  3408 efficientnet_model.py:144] round_filter input=40 output=48\n",
      "I0323 11:56:27.887841  3408 efficientnet_model.py:144] round_filter input=80 output=96\n",
      "I0323 11:56:28.444847  3408 efficientnet_model.py:144] round_filter input=80 output=96\n",
      "I0323 11:56:28.444847  3408 efficientnet_model.py:144] round_filter input=112 output=136\n",
      "I0323 11:56:28.984060  3408 efficientnet_model.py:144] round_filter input=112 output=136\n",
      "I0323 11:56:28.984060  3408 efficientnet_model.py:144] round_filter input=192 output=232\n",
      "I0323 11:56:29.822141  3408 efficientnet_model.py:144] round_filter input=192 output=232\n",
      "I0323 11:56:29.824268  3408 efficientnet_model.py:144] round_filter input=320 output=384\n",
      "I0323 11:56:30.076731  3408 efficientnet_model.py:144] round_filter input=1280 output=1536\n",
      "I0323 11:56:30.144046  3408 efficientnet_model.py:454] Building model efficientnet with params ModelConfig(width_coefficient=1.2, depth_coefficient=1.4, resolution=300, dropout_rate=0.3, blocks=(BlockConfig(input_filters=32, output_filters=16, kernel_size=3, num_repeat=1, expand_ratio=1, strides=(1, 1), se_ratio=0.25, id_skip=True, fused_conv=False, conv_type='depthwise'), BlockConfig(input_filters=16, output_filters=24, kernel_size=3, num_repeat=2, expand_ratio=6, strides=(2, 2), se_ratio=0.25, id_skip=True, fused_conv=False, conv_type='depthwise'), BlockConfig(input_filters=24, output_filters=40, kernel_size=5, num_repeat=2, expand_ratio=6, strides=(2, 2), se_ratio=0.25, id_skip=True, fused_conv=False, conv_type='depthwise'), BlockConfig(input_filters=40, output_filters=80, kernel_size=3, num_repeat=3, expand_ratio=6, strides=(2, 2), se_ratio=0.25, id_skip=True, fused_conv=False, conv_type='depthwise'), BlockConfig(input_filters=80, output_filters=112, kernel_size=5, num_repeat=3, expand_ratio=6, strides=(1, 1), se_ratio=0.25, id_skip=True, fused_conv=False, conv_type='depthwise'), BlockConfig(input_filters=112, output_filters=192, kernel_size=5, num_repeat=4, expand_ratio=6, strides=(2, 2), se_ratio=0.25, id_skip=True, fused_conv=False, conv_type='depthwise'), BlockConfig(input_filters=192, output_filters=320, kernel_size=3, num_repeat=1, expand_ratio=6, strides=(1, 1), se_ratio=0.25, id_skip=True, fused_conv=False, conv_type='depthwise')), stem_base_filters=32, top_base_filters=1280, activation='simple_swish', batch_norm='default', bn_momentum=0.99, bn_epsilon=0.001, weight_decay=5e-06, drop_connect_rate=0.2, depth_divisor=8, min_depth=None, use_se=True, input_channels=3, num_classes=1000, model_name='efficientnet', rescale_input=False, data_format='channels_last', dtype='float32')\n",
      "I0323 11:56:30.248819  3408 ssd_efficientnet_bifpn_feature_extractor.py:161] EfficientDet EfficientNet backbone version: efficientnet-b4\n",
      "I0323 11:56:30.248819  3408 ssd_efficientnet_bifpn_feature_extractor.py:163] EfficientDet BiFPN num filters: 224\n",
      "I0323 11:56:30.248819  3408 ssd_efficientnet_bifpn_feature_extractor.py:164] EfficientDet BiFPN num iterations: 7\n",
      "I0323 11:56:30.248819  3408 efficientnet_model.py:144] round_filter input=32 output=48\n",
      "I0323 11:56:30.554176  3408 efficientnet_model.py:144] round_filter input=32 output=48\n",
      "I0323 11:56:30.554176  3408 efficientnet_model.py:144] round_filter input=16 output=24\n",
      "I0323 11:56:30.723922  3408 efficientnet_model.py:144] round_filter input=16 output=24\n",
      "I0323 11:56:30.724936  3408 efficientnet_model.py:144] round_filter input=24 output=32\n",
      "I0323 11:56:31.159890  3408 efficientnet_model.py:144] round_filter input=24 output=32\n",
      "I0323 11:56:31.159890  3408 efficientnet_model.py:144] round_filter input=40 output=56\n",
      "I0323 11:56:31.588428  3408 efficientnet_model.py:144] round_filter input=40 output=56\n",
      "I0323 11:56:31.588428  3408 efficientnet_model.py:144] round_filter input=80 output=112\n",
      "I0323 11:56:32.235762  3408 efficientnet_model.py:144] round_filter input=80 output=112\n",
      "I0323 11:56:32.235762  3408 efficientnet_model.py:144] round_filter input=112 output=160\n",
      "I0323 11:56:32.904011  3408 efficientnet_model.py:144] round_filter input=112 output=160\n",
      "I0323 11:56:32.904011  3408 efficientnet_model.py:144] round_filter input=192 output=272\n",
      "I0323 11:56:33.936915  3408 efficientnet_model.py:144] round_filter input=192 output=272\n",
      "I0323 11:56:33.936915  3408 efficientnet_model.py:144] round_filter input=320 output=448\n",
      "I0323 11:56:34.254171  3408 efficientnet_model.py:144] round_filter input=1280 output=1792\n",
      "I0323 11:56:34.316955  3408 efficientnet_model.py:454] Building model efficientnet with params ModelConfig(width_coefficient=1.4, depth_coefficient=1.8, resolution=380, dropout_rate=0.4, blocks=(BlockConfig(input_filters=32, output_filters=16, kernel_size=3, num_repeat=1, expand_ratio=1, strides=(1, 1), se_ratio=0.25, id_skip=True, fused_conv=False, conv_type='depthwise'), BlockConfig(input_filters=16, output_filters=24, kernel_size=3, num_repeat=2, expand_ratio=6, strides=(2, 2), se_ratio=0.25, id_skip=True, fused_conv=False, conv_type='depthwise'), BlockConfig(input_filters=24, output_filters=40, kernel_size=5, num_repeat=2, expand_ratio=6, strides=(2, 2), se_ratio=0.25, id_skip=True, fused_conv=False, conv_type='depthwise'), BlockConfig(input_filters=40, output_filters=80, kernel_size=3, num_repeat=3, expand_ratio=6, strides=(2, 2), se_ratio=0.25, id_skip=True, fused_conv=False, conv_type='depthwise'), BlockConfig(input_filters=80, output_filters=112, kernel_size=5, num_repeat=3, expand_ratio=6, strides=(1, 1), se_ratio=0.25, id_skip=True, fused_conv=False, conv_type='depthwise'), BlockConfig(input_filters=112, output_filters=192, kernel_size=5, num_repeat=4, expand_ratio=6, strides=(2, 2), se_ratio=0.25, id_skip=True, fused_conv=False, conv_type='depthwise'), BlockConfig(input_filters=192, output_filters=320, kernel_size=3, num_repeat=1, expand_ratio=6, strides=(1, 1), se_ratio=0.25, id_skip=True, fused_conv=False, conv_type='depthwise')), stem_base_filters=32, top_base_filters=1280, activation='simple_swish', batch_norm='default', bn_momentum=0.99, bn_epsilon=0.001, weight_decay=5e-06, drop_connect_rate=0.2, depth_divisor=8, min_depth=None, use_se=True, input_channels=3, num_classes=1000, model_name='efficientnet', rescale_input=False, data_format='channels_last', dtype='float32')\n",
      "I0323 11:56:34.440137  3408 ssd_efficientnet_bifpn_feature_extractor.py:161] EfficientDet EfficientNet backbone version: efficientnet-b5\n",
      "I0323 11:56:34.440137  3408 ssd_efficientnet_bifpn_feature_extractor.py:163] EfficientDet BiFPN num filters: 288\n",
      "I0323 11:56:34.440137  3408 ssd_efficientnet_bifpn_feature_extractor.py:164] EfficientDet BiFPN num iterations: 7\n",
      "I0323 11:56:34.444589  3408 efficientnet_model.py:144] round_filter input=32 output=48\n",
      "I0323 11:56:34.464941  3408 efficientnet_model.py:144] round_filter input=32 output=48\n",
      "I0323 11:56:34.464941  3408 efficientnet_model.py:144] round_filter input=16 output=24\n",
      "I0323 11:56:34.724163  3408 efficientnet_model.py:144] round_filter input=16 output=24\n",
      "I0323 11:56:34.724163  3408 efficientnet_model.py:144] round_filter input=24 output=40\n",
      "I0323 11:56:35.263790  3408 efficientnet_model.py:144] round_filter input=24 output=40\n",
      "I0323 11:56:35.263790  3408 efficientnet_model.py:144] round_filter input=40 output=64\n",
      "I0323 11:56:35.805338  3408 efficientnet_model.py:144] round_filter input=40 output=64\n",
      "I0323 11:56:35.805338  3408 efficientnet_model.py:144] round_filter input=80 output=128\n",
      "I0323 11:56:36.583830  3408 efficientnet_model.py:144] round_filter input=80 output=128\n",
      "I0323 11:56:36.583830  3408 efficientnet_model.py:144] round_filter input=112 output=176\n",
      "I0323 11:56:37.454253  3408 efficientnet_model.py:144] round_filter input=112 output=176\n",
      "I0323 11:56:37.454253  3408 efficientnet_model.py:144] round_filter input=192 output=304\n",
      "I0323 11:56:38.963828  3408 efficientnet_model.py:144] round_filter input=192 output=304\n",
      "I0323 11:56:38.963828  3408 efficientnet_model.py:144] round_filter input=320 output=512\n",
      "I0323 11:56:39.388167  3408 efficientnet_model.py:144] round_filter input=1280 output=2048\n",
      "I0323 11:56:39.453809  3408 efficientnet_model.py:454] Building model efficientnet with params ModelConfig(width_coefficient=1.6, depth_coefficient=2.2, resolution=456, dropout_rate=0.4, blocks=(BlockConfig(input_filters=32, output_filters=16, kernel_size=3, num_repeat=1, expand_ratio=1, strides=(1, 1), se_ratio=0.25, id_skip=True, fused_conv=False, conv_type='depthwise'), BlockConfig(input_filters=16, output_filters=24, kernel_size=3, num_repeat=2, expand_ratio=6, strides=(2, 2), se_ratio=0.25, id_skip=True, fused_conv=False, conv_type='depthwise'), BlockConfig(input_filters=24, output_filters=40, kernel_size=5, num_repeat=2, expand_ratio=6, strides=(2, 2), se_ratio=0.25, id_skip=True, fused_conv=False, conv_type='depthwise'), BlockConfig(input_filters=40, output_filters=80, kernel_size=3, num_repeat=3, expand_ratio=6, strides=(2, 2), se_ratio=0.25, id_skip=True, fused_conv=False, conv_type='depthwise'), BlockConfig(input_filters=80, output_filters=112, kernel_size=5, num_repeat=3, expand_ratio=6, strides=(1, 1), se_ratio=0.25, id_skip=True, fused_conv=False, conv_type='depthwise'), BlockConfig(input_filters=112, output_filters=192, kernel_size=5, num_repeat=4, expand_ratio=6, strides=(2, 2), se_ratio=0.25, id_skip=True, fused_conv=False, conv_type='depthwise'), BlockConfig(input_filters=192, output_filters=320, kernel_size=3, num_repeat=1, expand_ratio=6, strides=(1, 1), se_ratio=0.25, id_skip=True, fused_conv=False, conv_type='depthwise')), stem_base_filters=32, top_base_filters=1280, activation='simple_swish', batch_norm='default', bn_momentum=0.99, bn_epsilon=0.001, weight_decay=5e-06, drop_connect_rate=0.2, depth_divisor=8, min_depth=None, use_se=True, input_channels=3, num_classes=1000, model_name='efficientnet', rescale_input=False, data_format='channels_last', dtype='float32')\n",
      "I0323 11:56:39.593831  3408 ssd_efficientnet_bifpn_feature_extractor.py:161] EfficientDet EfficientNet backbone version: efficientnet-b6\n",
      "I0323 11:56:39.593831  3408 ssd_efficientnet_bifpn_feature_extractor.py:163] EfficientDet BiFPN num filters: 384\n",
      "I0323 11:56:39.593831  3408 ssd_efficientnet_bifpn_feature_extractor.py:164] EfficientDet BiFPN num iterations: 8\n",
      "I0323 11:56:39.593831  3408 efficientnet_model.py:144] round_filter input=32 output=56\n",
      "I0323 11:56:39.613781  3408 efficientnet_model.py:144] round_filter input=32 output=56\n",
      "I0323 11:56:39.613781  3408 efficientnet_model.py:144] round_filter input=16 output=32\n",
      "I0323 11:56:39.864101  3408 efficientnet_model.py:144] round_filter input=16 output=32\n",
      "I0323 11:56:39.864101  3408 efficientnet_model.py:144] round_filter input=24 output=40\n",
      "I0323 11:56:40.503644  3408 efficientnet_model.py:144] round_filter input=24 output=40\n",
      "I0323 11:56:40.503644  3408 efficientnet_model.py:144] round_filter input=40 output=72\n",
      "I0323 11:56:41.153786  3408 efficientnet_model.py:144] round_filter input=40 output=72\n",
      "I0323 11:56:41.153786  3408 efficientnet_model.py:144] round_filter input=80 output=144\n",
      "I0323 11:56:42.043739  3408 efficientnet_model.py:144] round_filter input=80 output=144\n",
      "I0323 11:56:42.043739  3408 efficientnet_model.py:144] round_filter input=112 output=200\n",
      "I0323 11:56:43.224159  3408 efficientnet_model.py:144] round_filter input=112 output=200\n",
      "I0323 11:56:43.224159  3408 efficientnet_model.py:144] round_filter input=192 output=344\n",
      "I0323 11:56:44.794795  3408 efficientnet_model.py:144] round_filter input=192 output=344\n",
      "I0323 11:56:44.794795  3408 efficientnet_model.py:144] round_filter input=320 output=576\n",
      "I0323 11:56:45.247250  3408 efficientnet_model.py:144] round_filter input=1280 output=2304\n",
      "I0323 11:56:45.323710  3408 efficientnet_model.py:454] Building model efficientnet with params ModelConfig(width_coefficient=1.8, depth_coefficient=2.6, resolution=528, dropout_rate=0.5, blocks=(BlockConfig(input_filters=32, output_filters=16, kernel_size=3, num_repeat=1, expand_ratio=1, strides=(1, 1), se_ratio=0.25, id_skip=True, fused_conv=False, conv_type='depthwise'), BlockConfig(input_filters=16, output_filters=24, kernel_size=3, num_repeat=2, expand_ratio=6, strides=(2, 2), se_ratio=0.25, id_skip=True, fused_conv=False, conv_type='depthwise'), BlockConfig(input_filters=24, output_filters=40, kernel_size=5, num_repeat=2, expand_ratio=6, strides=(2, 2), se_ratio=0.25, id_skip=True, fused_conv=False, conv_type='depthwise'), BlockConfig(input_filters=40, output_filters=80, kernel_size=3, num_repeat=3, expand_ratio=6, strides=(2, 2), se_ratio=0.25, id_skip=True, fused_conv=False, conv_type='depthwise'), BlockConfig(input_filters=80, output_filters=112, kernel_size=5, num_repeat=3, expand_ratio=6, strides=(1, 1), se_ratio=0.25, id_skip=True, fused_conv=False, conv_type='depthwise'), BlockConfig(input_filters=112, output_filters=192, kernel_size=5, num_repeat=4, expand_ratio=6, strides=(2, 2), se_ratio=0.25, id_skip=True, fused_conv=False, conv_type='depthwise'), BlockConfig(input_filters=192, output_filters=320, kernel_size=3, num_repeat=1, expand_ratio=6, strides=(1, 1), se_ratio=0.25, id_skip=True, fused_conv=False, conv_type='depthwise')), stem_base_filters=32, top_base_filters=1280, activation='simple_swish', batch_norm='default', bn_momentum=0.99, bn_epsilon=0.001, weight_decay=5e-06, drop_connect_rate=0.2, depth_divisor=8, min_depth=None, use_se=True, input_channels=3, num_classes=1000, model_name='efficientnet', rescale_input=False, data_format='channels_last', dtype='float32')\n",
      "I0323 11:56:45.483721  3408 ssd_efficientnet_bifpn_feature_extractor.py:161] EfficientDet EfficientNet backbone version: efficientnet-b7\n",
      "I0323 11:56:45.483721  3408 ssd_efficientnet_bifpn_feature_extractor.py:163] EfficientDet BiFPN num filters: 384\n",
      "I0323 11:56:45.483721  3408 ssd_efficientnet_bifpn_feature_extractor.py:164] EfficientDet BiFPN num iterations: 8\n",
      "I0323 11:56:45.483721  3408 efficientnet_model.py:144] round_filter input=32 output=64\n",
      "I0323 11:56:45.508488  3408 efficientnet_model.py:144] round_filter input=32 output=64\n",
      "I0323 11:56:45.508488  3408 efficientnet_model.py:144] round_filter input=16 output=32\n",
      "I0323 11:56:45.853790  3408 efficientnet_model.py:144] round_filter input=16 output=32\n",
      "I0323 11:56:45.853790  3408 efficientnet_model.py:144] round_filter input=24 output=48\n",
      "I0323 11:56:46.614080  3408 efficientnet_model.py:144] round_filter input=24 output=48\n",
      "I0323 11:56:46.614080  3408 efficientnet_model.py:144] round_filter input=40 output=80\n",
      "I0323 11:56:47.733794  3408 efficientnet_model.py:144] round_filter input=40 output=80\n",
      "I0323 11:56:47.733794  3408 efficientnet_model.py:144] round_filter input=80 output=160\n",
      "I0323 11:56:48.854239  3408 efficientnet_model.py:144] round_filter input=80 output=160\n",
      "I0323 11:56:48.854239  3408 efficientnet_model.py:144] round_filter input=112 output=224\n",
      "I0323 11:56:50.263863  3408 efficientnet_model.py:144] round_filter input=112 output=224\n",
      "I0323 11:56:50.263863  3408 efficientnet_model.py:144] round_filter input=192 output=384\n",
      "I0323 11:56:52.104261  3408 efficientnet_model.py:144] round_filter input=192 output=384\n",
      "I0323 11:56:52.104261  3408 efficientnet_model.py:144] round_filter input=320 output=640\n",
      "I0323 11:56:52.766973  3408 efficientnet_model.py:144] round_filter input=1280 output=2560\n",
      "I0323 11:56:52.844081  3408 efficientnet_model.py:454] Building model efficientnet with params ModelConfig(width_coefficient=2.0, depth_coefficient=3.1, resolution=600, dropout_rate=0.5, blocks=(BlockConfig(input_filters=32, output_filters=16, kernel_size=3, num_repeat=1, expand_ratio=1, strides=(1, 1), se_ratio=0.25, id_skip=True, fused_conv=False, conv_type='depthwise'), BlockConfig(input_filters=16, output_filters=24, kernel_size=3, num_repeat=2, expand_ratio=6, strides=(2, 2), se_ratio=0.25, id_skip=True, fused_conv=False, conv_type='depthwise'), BlockConfig(input_filters=24, output_filters=40, kernel_size=5, num_repeat=2, expand_ratio=6, strides=(2, 2), se_ratio=0.25, id_skip=True, fused_conv=False, conv_type='depthwise'), BlockConfig(input_filters=40, output_filters=80, kernel_size=3, num_repeat=3, expand_ratio=6, strides=(2, 2), se_ratio=0.25, id_skip=True, fused_conv=False, conv_type='depthwise'), BlockConfig(input_filters=80, output_filters=112, kernel_size=5, num_repeat=3, expand_ratio=6, strides=(1, 1), se_ratio=0.25, id_skip=True, fused_conv=False, conv_type='depthwise'), BlockConfig(input_filters=112, output_filters=192, kernel_size=5, num_repeat=4, expand_ratio=6, strides=(2, 2), se_ratio=0.25, id_skip=True, fused_conv=False, conv_type='depthwise'), BlockConfig(input_filters=192, output_filters=320, kernel_size=3, num_repeat=1, expand_ratio=6, strides=(1, 1), se_ratio=0.25, id_skip=True, fused_conv=False, conv_type='depthwise')), stem_base_filters=32, top_base_filters=1280, activation='simple_swish', batch_norm='default', bn_momentum=0.99, bn_epsilon=0.001, weight_decay=5e-06, drop_connect_rate=0.2, depth_divisor=8, min_depth=None, use_se=True, input_channels=3, num_classes=1000, model_name='efficientnet', rescale_input=False, data_format='channels_last', dtype='float32')\n",
      "INFO:tensorflow:time(__main__.ModelBuilderTF2Test.test_create_ssd_models_from_config): 33.94s\n",
      "I0323 11:56:53.029681  3408 test_util.py:2373] time(__main__.ModelBuilderTF2Test.test_create_ssd_models_from_config): 33.94s\n",
      "[       OK ] ModelBuilderTF2Test.test_create_ssd_models_from_config\n",
      "[ RUN      ] ModelBuilderTF2Test.test_invalid_faster_rcnn_batchnorm_update\n",
      "INFO:tensorflow:time(__main__.ModelBuilderTF2Test.test_invalid_faster_rcnn_batchnorm_update): 0.0s\n",
      "I0323 11:56:53.037981  3408 test_util.py:2373] time(__main__.ModelBuilderTF2Test.test_invalid_faster_rcnn_batchnorm_update): 0.0s\n",
      "[       OK ] ModelBuilderTF2Test.test_invalid_faster_rcnn_batchnorm_update\n",
      "[ RUN      ] ModelBuilderTF2Test.test_invalid_first_stage_nms_iou_threshold\n",
      "INFO:tensorflow:time(__main__.ModelBuilderTF2Test.test_invalid_first_stage_nms_iou_threshold): 0.0s\n",
      "I0323 11:56:53.037981  3408 test_util.py:2373] time(__main__.ModelBuilderTF2Test.test_invalid_first_stage_nms_iou_threshold): 0.0s\n",
      "[       OK ] ModelBuilderTF2Test.test_invalid_first_stage_nms_iou_threshold\n",
      "[ RUN      ] ModelBuilderTF2Test.test_invalid_model_config_proto\n",
      "INFO:tensorflow:time(__main__.ModelBuilderTF2Test.test_invalid_model_config_proto): 0.0s\n",
      "I0323 11:56:53.037981  3408 test_util.py:2373] time(__main__.ModelBuilderTF2Test.test_invalid_model_config_proto): 0.0s\n",
      "[       OK ] ModelBuilderTF2Test.test_invalid_model_config_proto\n",
      "[ RUN      ] ModelBuilderTF2Test.test_invalid_second_stage_batch_size\n",
      "INFO:tensorflow:time(__main__.ModelBuilderTF2Test.test_invalid_second_stage_batch_size): 0.0s\n",
      "I0323 11:56:53.046290  3408 test_util.py:2373] time(__main__.ModelBuilderTF2Test.test_invalid_second_stage_batch_size): 0.0s\n",
      "[       OK ] ModelBuilderTF2Test.test_invalid_second_stage_batch_size\n",
      "[ RUN      ] ModelBuilderTF2Test.test_session\n",
      "[  SKIPPED ] ModelBuilderTF2Test.test_session\n",
      "[ RUN      ] ModelBuilderTF2Test.test_unknown_faster_rcnn_feature_extractor\n",
      "INFO:tensorflow:time(__main__.ModelBuilderTF2Test.test_unknown_faster_rcnn_feature_extractor): 0.0s\n",
      "I0323 11:56:53.046290  3408 test_util.py:2373] time(__main__.ModelBuilderTF2Test.test_unknown_faster_rcnn_feature_extractor): 0.0s\n",
      "[       OK ] ModelBuilderTF2Test.test_unknown_faster_rcnn_feature_extractor\n",
      "[ RUN      ] ModelBuilderTF2Test.test_unknown_meta_architecture\n",
      "INFO:tensorflow:time(__main__.ModelBuilderTF2Test.test_unknown_meta_architecture): 0.0s\n",
      "I0323 11:56:53.046290  3408 test_util.py:2373] time(__main__.ModelBuilderTF2Test.test_unknown_meta_architecture): 0.0s\n",
      "[       OK ] ModelBuilderTF2Test.test_unknown_meta_architecture\n",
      "[ RUN      ] ModelBuilderTF2Test.test_unknown_ssd_feature_extractor\n",
      "INFO:tensorflow:time(__main__.ModelBuilderTF2Test.test_unknown_ssd_feature_extractor): 0.0s\n",
      "I0323 11:56:53.046290  3408 test_util.py:2373] time(__main__.ModelBuilderTF2Test.test_unknown_ssd_feature_extractor): 0.0s\n",
      "[       OK ] ModelBuilderTF2Test.test_unknown_ssd_feature_extractor\n",
      "----------------------------------------------------------------------\n",
      "Ran 24 tests in 39.888s\n",
      "\n",
      "OK (skipped=1)\n"
     ]
    }
   ],
   "source": [
    "!python Tensorflow/models/research/object_detection/builders/model_builder_tf2_test.py"
   ]
  },
  {
   "cell_type": "markdown",
   "id": "126f535a",
   "metadata": {
    "id": "126f535a"
   },
   "source": [
    "# Setup Paths"
   ]
  },
  {
   "cell_type": "code",
   "execution_count": 17,
   "id": "aa32a337",
   "metadata": {
    "id": "aa32a337"
   },
   "outputs": [],
   "source": [
    "CUSTOM_MODEL_NAME = 'my_ssd_mobnet'\n",
    "PRETRAINED_MODEL_NAME = 'ssd_mobilenet_v2_fpnlite_640x640_coco17_tpu-8'\n",
    "PRETRAINED_MODEL_URL = 'http://download.tensorflow.org/models/object_detection/tf2/20200711/ssd_mobilenet_v2_fpnlite_640x640_coco17_tpu-8.tar.gz'\n",
    "TF_RECORD_SCRIPT_NAME = 'create_tfrecord.py'\n",
    "LABEL_MAP_NAME = 'label_map.pbtxt'\n",
    "\n",
    "paths = {\n",
    "    'WORKSPACE_PATH': os.path.join('Tensorflow', 'workspace'),\n",
    "    'SCRIPTS_PATH': os.path.join('Tensorflow','scripts'),\n",
    "    'APIMODEL_PATH': os.path.join('Tensorflow','models'),\n",
    "    'ANNOTATION_PATH': os.path.join('Tensorflow', 'workspace','annotations'),\n",
    "    'IMAGE_PATH': os.path.join('Tensorflow', 'workspace','images'),\n",
    "    'MODEL_PATH': os.path.join('Tensorflow', 'workspace','models'),\n",
    "    'PRETRAINED_MODEL_PATH': os.path.join('Tensorflow', 'workspace','pre-trained-models'),\n",
    "    'CHECKPOINT_PATH': os.path.join('Tensorflow', 'workspace','models',CUSTOM_MODEL_NAME),\n",
    "    'OUTPUT_PATH': os.path.join('Tensorflow', 'workspace','models',CUSTOM_MODEL_NAME, 'export'),\n",
    "    'TFJS_PATH':os.path.join('Tensorflow', 'workspace','models',CUSTOM_MODEL_NAME, 'tfjsexport'),\n",
    "    'TFLITE_PATH':os.path.join('Tensorflow', 'workspace','models',CUSTOM_MODEL_NAME, 'tfliteexport'),\n",
    "    'PROTOC_PATH':os.path.join('Tensorflow','protoc')\n",
    "}\n",
    "\n",
    "files = {\n",
    "        'PIPELINE_CONFIG': os.path.join('Tensorflow', 'workspace', 'models', CUSTOM_MODEL_NAME, 'pipeline.config'),\n",
    "        'TF_RECORD_SCRIPT': os.path.join(paths['SCRIPTS_PATH'], TF_RECORD_SCRIPT_NAME),\n",
    "        'LABELMAP': os.path.join(paths['ANNOTATION_PATH'], LABEL_MAP_NAME)\n",
    "}"
   ]
  },
  {
   "cell_type": "code",
   "execution_count": 18,
   "id": "QIwyZaN9HPfE",
   "metadata": {
    "id": "QIwyZaN9HPfE"
   },
   "outputs": [],
   "source": [
    "for path in paths.values():\n",
    "    if not os.path.exists(path):\n",
    "            !mkdir {path}"
   ]
  },
  {
   "cell_type": "code",
   "execution_count": 19,
   "id": "5575cd97",
   "metadata": {
    "colab": {
     "base_uri": "https://localhost:8080/",
     "height": 35
    },
    "id": "5575cd97",
    "outputId": "b437cc45-16cc-45e1-f782-dca33ca906a9"
   },
   "outputs": [
    {
     "name": "stdout",
     "output_type": "stream",
     "text": [
      "100% [........................................................................] 20518283 / 20518283"
     ]
    },
    {
     "ename": "Error",
     "evalue": "Destination path 'Tensorflow\\workspace\\pre-trained-models\\ssd_mobilenet_v2_fpnlite_640x640_coco17_tpu-8.tar.gz' already exists",
     "output_type": "error",
     "traceback": [
      "\u001b[1;31m---------------------------------------------------------------------------\u001b[0m",
      "\u001b[1;31mError\u001b[0m                                     Traceback (most recent call last)",
      "Cell \u001b[1;32mIn[19], line 2\u001b[0m\n\u001b[0;32m      1\u001b[0m wget\u001b[38;5;241m.\u001b[39mdownload(\u001b[38;5;124m'\u001b[39m\u001b[38;5;124mhttp://download.tensorflow.org/models/object_detection/tf2/20200711/ssd_mobilenet_v2_fpnlite_640x640_coco17_tpu-8.tar.gz\u001b[39m\u001b[38;5;124m'\u001b[39m)\n\u001b[1;32m----> 2\u001b[0m \u001b[43mshutil\u001b[49m\u001b[38;5;241;43m.\u001b[39;49m\u001b[43mmove\u001b[49m\u001b[43m(\u001b[49m\u001b[43mPRETRAINED_MODEL_NAME\u001b[49m\u001b[38;5;241;43m+\u001b[39;49m\u001b[38;5;124;43m\"\u001b[39;49m\u001b[38;5;124;43m.tar.gz\u001b[39;49m\u001b[38;5;124;43m\"\u001b[39;49m\u001b[43m,\u001b[49m\u001b[43m \u001b[49m\u001b[43mpaths\u001b[49m\u001b[43m[\u001b[49m\u001b[38;5;124;43m\"\u001b[39;49m\u001b[38;5;124;43mPRETRAINED_MODEL_PATH\u001b[39;49m\u001b[38;5;124;43m\"\u001b[39;49m\u001b[43m]\u001b[49m\u001b[43m)\u001b[49m\n",
      "File \u001b[1;32m~\\AppData\\Local\\Programs\\Python\\Python310\\lib\\shutil.py:813\u001b[0m, in \u001b[0;36mmove\u001b[1;34m(src, dst, copy_function)\u001b[0m\n\u001b[0;32m    810\u001b[0m     real_dst \u001b[38;5;241m=\u001b[39m os\u001b[38;5;241m.\u001b[39mpath\u001b[38;5;241m.\u001b[39mjoin(dst, _basename(src))\n\u001b[0;32m    812\u001b[0m     \u001b[38;5;28;01mif\u001b[39;00m os\u001b[38;5;241m.\u001b[39mpath\u001b[38;5;241m.\u001b[39mexists(real_dst):\n\u001b[1;32m--> 813\u001b[0m         \u001b[38;5;28;01mraise\u001b[39;00m Error(\u001b[38;5;124m\"\u001b[39m\u001b[38;5;124mDestination path \u001b[39m\u001b[38;5;124m'\u001b[39m\u001b[38;5;132;01m%s\u001b[39;00m\u001b[38;5;124m'\u001b[39m\u001b[38;5;124m already exists\u001b[39m\u001b[38;5;124m\"\u001b[39m \u001b[38;5;241m%\u001b[39m real_dst)\n\u001b[0;32m    814\u001b[0m \u001b[38;5;28;01mtry\u001b[39;00m:\n\u001b[0;32m    815\u001b[0m     os\u001b[38;5;241m.\u001b[39mrename(src, real_dst)\n",
      "\u001b[1;31mError\u001b[0m: Destination path 'Tensorflow\\workspace\\pre-trained-models\\ssd_mobilenet_v2_fpnlite_640x640_coco17_tpu-8.tar.gz' already exists"
     ]
    }
   ],
   "source": [
    "wget.download('http://download.tensorflow.org/models/object_detection/tf2/20200711/ssd_mobilenet_v2_fpnlite_640x640_coco17_tpu-8.tar.gz')\n",
    "shutil.move(PRETRAINED_MODEL_NAME+\".tar.gz\", paths[\"PRETRAINED_MODEL_PATH\"])"
   ]
  },
  {
   "cell_type": "code",
   "execution_count": 20,
   "id": "NufxjF2jcnoN",
   "metadata": {
    "colab": {
     "base_uri": "https://localhost:8080/"
    },
    "id": "NufxjF2jcnoN",
    "outputId": "77bb927c-37e8-473e-eefa-ba8dc2c04565"
   },
   "outputs": [
    {
     "name": "stdout",
     "output_type": "stream",
     "text": [
      "C:\\Users\\Silvan Mangold\\Desktop\\Studium\\Github\\PREN\\TA.BA_PREN_PY_ObjectDetection\\Roboflow\\Tensorflow\\workspace\\pre-trained-models\n"
     ]
    }
   ],
   "source": [
    "%cd Tensorflow/workspace/pre-trained-models/"
   ]
  },
  {
   "cell_type": "code",
   "execution_count": 21,
   "id": "a76d69fc",
   "metadata": {
    "colab": {
     "base_uri": "https://localhost:8080/"
    },
    "id": "a76d69fc",
    "outputId": "66bc56be-a4c1-4f80-e851-c48b72608db2"
   },
   "outputs": [
    {
     "name": "stderr",
     "output_type": "stream",
     "text": [
      "x ssd_mobilenet_v2_fpnlite_640x640_coco17_tpu-8/\n",
      "x ssd_mobilenet_v2_fpnlite_640x640_coco17_tpu-8/checkpoint/\n",
      "x ssd_mobilenet_v2_fpnlite_640x640_coco17_tpu-8/checkpoint/ckpt-0.data-00000-of-00001\n",
      "x ssd_mobilenet_v2_fpnlite_640x640_coco17_tpu-8/checkpoint/checkpoint\n",
      "x ssd_mobilenet_v2_fpnlite_640x640_coco17_tpu-8/checkpoint/ckpt-0.index\n",
      "x ssd_mobilenet_v2_fpnlite_640x640_coco17_tpu-8/pipeline.config\n",
      "x ssd_mobilenet_v2_fpnlite_640x640_coco17_tpu-8/saved_model/\n",
      "x ssd_mobilenet_v2_fpnlite_640x640_coco17_tpu-8/saved_model/saved_model.pb\n",
      "x ssd_mobilenet_v2_fpnlite_640x640_coco17_tpu-8/saved_model/variables/\n",
      "x ssd_mobilenet_v2_fpnlite_640x640_coco17_tpu-8/saved_model/variables/variables.data-00000-of-00001\n",
      "x ssd_mobilenet_v2_fpnlite_640x640_coco17_tpu-8/saved_model/variables/variables.index\n"
     ]
    }
   ],
   "source": [
    "!tar -zxvf {PRETRAINED_MODEL_NAME+\".tar.gz\"}"
   ]
  },
  {
   "cell_type": "code",
   "execution_count": 22,
   "id": "hy7Ymf7hc7dd",
   "metadata": {
    "colab": {
     "base_uri": "https://localhost:8080/"
    },
    "id": "hy7Ymf7hc7dd",
    "outputId": "b731fc36-984f-42c0-e000-7ebc382e60eb"
   },
   "outputs": [
    {
     "name": "stdout",
     "output_type": "stream",
     "text": [
      "C:\\Users\\Silvan Mangold\\Desktop\\Studium\\Github\\PREN\\TA.BA_PREN_PY_ObjectDetection\\Roboflow\\Tensorflow\n"
     ]
    }
   ],
   "source": [
    "%cd ../.."
   ]
  },
  {
   "cell_type": "code",
   "execution_count": 23,
   "id": "jhtrq14Ec994",
   "metadata": {
    "colab": {
     "base_uri": "https://localhost:8080/"
    },
    "id": "jhtrq14Ec994",
    "outputId": "3c83cc4c-7cc7-4f11-d845-fda3841b4bdf"
   },
   "outputs": [
    {
     "name": "stdout",
     "output_type": "stream",
     "text": [
      "C:\\Users\\Silvan Mangold\\Desktop\\Studium\\Github\\PREN\\TA.BA_PREN_PY_ObjectDetection\\Roboflow\n"
     ]
    }
   ],
   "source": [
    "%cd .."
   ]
  },
  {
   "cell_type": "markdown",
   "id": "67ba8356",
   "metadata": {
    "id": "67ba8356"
   },
   "source": [
    "# 2. Connection to Roboflow"
   ]
  },
  {
   "cell_type": "code",
   "execution_count": 24,
   "id": "qt4vJtYBmZRm",
   "metadata": {
    "colab": {
     "base_uri": "https://localhost:8080/",
     "height": 1000
    },
    "id": "qt4vJtYBmZRm",
    "outputId": "01cb33ce-a9f8-48a1-be65-82f95ee14b7f"
   },
   "outputs": [
    {
     "name": "stderr",
     "output_type": "stream",
     "text": [
      "WARNING: Ignoring invalid distribution -otebook (c:\\users\\silvan mangold\\appdata\\local\\programs\\python\\python310\\lib\\site-packages)\n",
      "WARNING: Ignoring invalid distribution -otebook (c:\\users\\silvan mangold\\appdata\\local\\programs\\python\\python310\\lib\\site-packages)\n"
     ]
    },
    {
     "name": "stdout",
     "output_type": "stream",
     "text": [
      "Requirement already satisfied: roboflow in c:\\users\\silvan mangold\\appdata\\local\\programs\\python\\python310\\lib\\site-packages (1.1.21)\n",
      "Requirement already satisfied: certifi==2023.7.22 in c:\\users\\silvan mangold\\appdata\\local\\programs\\python\\python310\\lib\\site-packages (from roboflow) (2023.7.22)\n",
      "Requirement already satisfied: chardet==4.0.0 in c:\\users\\silvan mangold\\appdata\\local\\programs\\python\\python310\\lib\\site-packages (from roboflow) (4.0.0)\n",
      "Requirement already satisfied: cycler==0.10.0 in c:\\users\\silvan mangold\\appdata\\local\\programs\\python\\python310\\lib\\site-packages (from roboflow) (0.10.0)\n",
      "Requirement already satisfied: idna==2.10 in c:\\users\\silvan mangold\\appdata\\local\\programs\\python\\python310\\lib\\site-packages (from roboflow) (2.10)\n",
      "Requirement already satisfied: kiwisolver>=1.3.1 in c:\\users\\silvan mangold\\appdata\\local\\programs\\python\\python310\\lib\\site-packages (from roboflow) (1.4.5)\n",
      "Requirement already satisfied: matplotlib in c:\\users\\silvan mangold\\appdata\\local\\programs\\python\\python310\\lib\\site-packages (from roboflow) (3.8.3)\n",
      "Requirement already satisfied: numpy>=1.18.5 in c:\\users\\silvan mangold\\appdata\\local\\programs\\python\\python310\\lib\\site-packages (from roboflow) (1.24.4)\n",
      "Requirement already satisfied: opencv-python-headless==4.8.0.74 in c:\\users\\silvan mangold\\appdata\\local\\programs\\python\\python310\\lib\\site-packages (from roboflow) (4.8.0.74)\n",
      "Requirement already satisfied: Pillow>=7.1.2 in c:\\users\\silvan mangold\\appdata\\local\\programs\\python\\python310\\lib\\site-packages (from roboflow) (10.1.0)\n",
      "Requirement already satisfied: python-dateutil in c:\\users\\silvan mangold\\appdata\\local\\programs\\python\\python310\\lib\\site-packages (from roboflow) (2.8.2)\n",
      "Requirement already satisfied: python-dotenv in c:\\users\\silvan mangold\\appdata\\local\\programs\\python\\python310\\lib\\site-packages (from roboflow) (1.0.1)\n",
      "Requirement already satisfied: requests in c:\\users\\silvan mangold\\appdata\\local\\programs\\python\\python310\\lib\\site-packages (from roboflow) (2.31.0)\n",
      "Requirement already satisfied: six in c:\\users\\silvan mangold\\appdata\\local\\programs\\python\\python310\\lib\\site-packages (from roboflow) (1.16.0)\n",
      "Requirement already satisfied: supervision in c:\\users\\silvan mangold\\appdata\\local\\programs\\python\\python310\\lib\\site-packages (from roboflow) (0.18.0)\n",
      "Requirement already satisfied: urllib3>=1.26.6 in c:\\users\\silvan mangold\\appdata\\local\\programs\\python\\python310\\lib\\site-packages (from roboflow) (2.1.0)\n",
      "Requirement already satisfied: tqdm>=4.41.0 in c:\\users\\silvan mangold\\appdata\\local\\programs\\python\\python310\\lib\\site-packages (from roboflow) (4.66.2)\n",
      "Requirement already satisfied: PyYAML>=5.3.1 in c:\\users\\silvan mangold\\appdata\\local\\programs\\python\\python310\\lib\\site-packages (from roboflow) (5.3.1)\n",
      "Requirement already satisfied: requests-toolbelt in c:\\users\\silvan mangold\\appdata\\local\\programs\\python\\python310\\lib\\site-packages (from roboflow) (1.0.0)\n",
      "Requirement already satisfied: python-magic in c:\\users\\silvan mangold\\appdata\\local\\programs\\python\\python310\\lib\\site-packages (from roboflow) (0.4.27)\n",
      "Requirement already satisfied: colorama in c:\\users\\silvan mangold\\appdata\\local\\programs\\python\\python310\\lib\\site-packages (from tqdm>=4.41.0->roboflow) (0.4.6)\n",
      "Requirement already satisfied: contourpy>=1.0.1 in c:\\users\\silvan mangold\\appdata\\local\\programs\\python\\python310\\lib\\site-packages (from matplotlib->roboflow) (1.2.0)\n",
      "Requirement already satisfied: fonttools>=4.22.0 in c:\\users\\silvan mangold\\appdata\\local\\programs\\python\\python310\\lib\\site-packages (from matplotlib->roboflow) (4.49.0)\n",
      "Requirement already satisfied: packaging>=20.0 in c:\\users\\silvan mangold\\appdata\\local\\programs\\python\\python310\\lib\\site-packages (from matplotlib->roboflow) (23.2)\n",
      "Requirement already satisfied: pyparsing>=2.3.1 in c:\\users\\silvan mangold\\appdata\\local\\programs\\python\\python310\\lib\\site-packages (from matplotlib->roboflow) (2.4.7)\n",
      "Requirement already satisfied: charset-normalizer<4,>=2 in c:\\users\\silvan mangold\\appdata\\local\\programs\\python\\python310\\lib\\site-packages (from requests->roboflow) (3.3.2)\n",
      "Requirement already satisfied: defusedxml<0.8.0,>=0.7.1 in c:\\users\\silvan mangold\\appdata\\local\\programs\\python\\python310\\lib\\site-packages (from supervision->roboflow) (0.7.1)\n",
      "Requirement already satisfied: scipy<2.0.0,>=1.10.0 in c:\\users\\silvan mangold\\appdata\\local\\programs\\python\\python310\\lib\\site-packages (from supervision->roboflow) (1.12.0)\n",
      "loading Roboflow workspace...\n",
      "loading Roboflow project...\n"
     ]
    },
    {
     "name": "stderr",
     "output_type": "stream",
     "text": [
      "Downloading Dataset Version Zip in Object-Detection-1 to tensorflow:: 100%|█████████| 249/249 [00:00<00:00, 460.65it/s]"
     ]
    },
    {
     "name": "stdout",
     "output_type": "stream",
     "text": [
      "\n"
     ]
    },
    {
     "name": "stderr",
     "output_type": "stream",
     "text": [
      "\n",
      "Extracting Dataset Version Zip to Object-Detection-1 in tensorflow:: 100%|███████████| 20/20 [00:00<00:00, 2038.35it/s]\n"
     ]
    }
   ],
   "source": [
    "!pip install roboflow\n",
    "\n",
    "from roboflow import Roboflow\n",
    "rf = Roboflow(api_key=\"u5f75RDmJSmkp0umHuwv\")\n",
    "project = rf.workspace(\"pren-5uxyb\").project(\"object-detection-abbgi\")\n",
    "version = project.version(1)\n",
    "dataset = version.download(\"tensorflow\")"
   ]
  },
  {
   "cell_type": "code",
   "execution_count": 25,
   "id": "tcVswx1bUrsm",
   "metadata": {
    "id": "tcVswx1bUrsm"
   },
   "outputs": [
    {
     "name": "stdout",
     "output_type": "stream",
     "text": [
      "        1 Verzeichnis(se) wurde(n) verschoben.\n"
     ]
    }
   ],
   "source": [
    "!move Object-Detection-1/train Tensorflow/workspace/images"
   ]
  },
  {
   "cell_type": "code",
   "execution_count": 26,
   "id": "62c2ebff-4df7-4722-8ce2-bd58a19244ad",
   "metadata": {},
   "outputs": [
    {
     "name": "stderr",
     "output_type": "stream",
     "text": [
      "Das System kann den angegebenen Pfad nicht finden.\n"
     ]
    }
   ],
   "source": [
    "!move Object-Detection-1/test Tensorflow/workspace/images"
   ]
  },
  {
   "cell_type": "code",
   "execution_count": 27,
   "id": "78e342bb",
   "metadata": {
    "id": "78e342bb"
   },
   "outputs": [],
   "source": [
    "labels = [{'name':'Red-Nothing-Nothing-Nothing', 'id':1},{'name':'Nothing-Red-Nothing-Nothing', 'id':2},{'name':'Nothing-Nothing-Nothing-Nothing', 'id':3},{'name':'Red-Red-Nothing-Nothing', 'id':4},]\n",
    "\n",
    "\n",
    "with open(files['LABELMAP'], 'w') as f:\n",
    "    for label in labels:\n",
    "        f.write('item { \\n')\n",
    "        f.write('\\tname:\\'{}\\'\\n'.format(label['name']))\n",
    "        f.write('\\tid:{}\\n'.format(label['id']))\n",
    "        f.write('}\\n')"
   ]
  },
  {
   "cell_type": "markdown",
   "id": "7c9bf575",
   "metadata": {
    "id": "7c9bf575"
   },
   "source": [
    "# 3. Create TF records"
   ]
  },
  {
   "cell_type": "code",
   "execution_count": 28,
   "id": "ytcLT51NGNXj",
   "metadata": {
    "colab": {
     "base_uri": "https://localhost:8080/"
    },
    "id": "ytcLT51NGNXj",
    "outputId": "5668c6c4-6fdd-4132-add2-aa73a93d3858"
   },
   "outputs": [
    {
     "name": "stdout",
     "output_type": "stream",
     "text": [
      "C:\\Users\\Silvan Mangold\\Desktop\\Studium\\Github\\PREN\\TA.BA_PREN_PY_ObjectDetection\\Roboflow\\Tensorflow\\scripts\n"
     ]
    },
    {
     "name": "stderr",
     "output_type": "stream",
     "text": [
      "using dhist requires you to install the `pickleshare` library.\n"
     ]
    }
   ],
   "source": [
    "%cd Tensorflow/scripts/"
   ]
  },
  {
   "cell_type": "code",
   "execution_count": 29,
   "id": "12T3jdDlT9Yw",
   "metadata": {
    "colab": {
     "base_uri": "https://localhost:8080/"
    },
    "id": "12T3jdDlT9Yw",
    "outputId": "4b5a05ac-5833-46bc-b364-4889a4307b6e"
   },
   "outputs": [
    {
     "name": "stderr",
     "output_type": "stream",
     "text": [
      "Der Befehl \"wget\" ist entweder falsch geschrieben oder\n",
      "konnte nicht gefunden werden.\n"
     ]
    }
   ],
   "source": [
    "!wget https://raw.githubusercontent.com/flawas/TA.BA_PREN_PY_ObjectDetection/main/Roboflow/Script/create_tfrecord.py"
   ]
  },
  {
   "cell_type": "code",
   "execution_count": 30,
   "id": "KHaRlEd-Y1do",
   "metadata": {
    "colab": {
     "base_uri": "https://localhost:8080/"
    },
    "id": "KHaRlEd-Y1do",
    "outputId": "586b6136-ed05-4e80-fbc2-f9df404e1278"
   },
   "outputs": [
    {
     "name": "stdout",
     "output_type": "stream",
     "text": [
      "C:\\Users\\Silvan Mangold\\Desktop\\Studium\\Github\\PREN\\TA.BA_PREN_PY_ObjectDetection\\Roboflow\n"
     ]
    }
   ],
   "source": [
    "%cd ../.."
   ]
  },
  {
   "cell_type": "code",
   "execution_count": 31,
   "id": "wq4vEZM1LTZg",
   "metadata": {
    "colab": {
     "base_uri": "https://localhost:8080/"
    },
    "id": "wq4vEZM1LTZg",
    "outputId": "741b962b-0071-43da-9101-9c7a02bd3e35"
   },
   "outputs": [
    {
     "name": "stdout",
     "output_type": "stream",
     "text": [
      "Successfully created the TFRecords: C:\\Users\\Silvan Mangold\\Desktop\\Studium\\Github\\PREN\\TA.BA_PREN_PY_ObjectDetection\\Roboflow\\Tensorflow/workspace/annotations/train.record\n"
     ]
    }
   ],
   "source": [
    "!python Tensorflow/scripts/create_tfrecord.py --csv_input=Tensorflow/workspace/images/train/_annotations.csv --labelmap=Tensorflow/workspace/annotations/label_map.pbtxt --image_dir=Tensorflow/workspace/images/train --output_path=Tensorflow/workspace/annotations/train.record"
   ]
  },
  {
   "cell_type": "code",
   "execution_count": null,
   "id": "ov5cw9eLaIbD",
   "metadata": {
    "id": "ov5cw9eLaIbD"
   },
   "outputs": [],
   "source": [
    "!python Tensorflow/scripts/create_tfrecord.py --csv_input=Tensorflow/workspace/images/test/_annotations.csv --labelmap=Tensorflow/workspace/annotations/label_map.pbtxt --image_dir=Tensorflow/workspace/images/test --output_path=Tensorflow/workspace/annotations/test.record"
   ]
  },
  {
   "cell_type": "markdown",
   "id": "6405572d",
   "metadata": {
    "id": "6405572d"
   },
   "source": [
    "# 4. Copy Model Config to Training Folder"
   ]
  },
  {
   "cell_type": "code",
   "execution_count": 32,
   "id": "0f5c7cf7",
   "metadata": {
    "id": "0f5c7cf7"
   },
   "outputs": [
    {
     "name": "stdout",
     "output_type": "stream",
     "text": [
      "        1 Datei(en) kopiert.\n"
     ]
    }
   ],
   "source": [
    "!copy {os.path.join(paths['PRETRAINED_MODEL_PATH'], PRETRAINED_MODEL_NAME, 'pipeline.config')} {os.path.join(paths['CHECKPOINT_PATH'])}"
   ]
  },
  {
   "cell_type": "markdown",
   "id": "372aa72a",
   "metadata": {
    "id": "372aa72a"
   },
   "source": [
    "# 5. Update Config For Transfer Learning"
   ]
  },
  {
   "cell_type": "code",
   "execution_count": 33,
   "id": "c95c58b0",
   "metadata": {
    "id": "c95c58b0"
   },
   "outputs": [],
   "source": [
    "import tensorflow as tf\n",
    "from object_detection.utils import config_util\n",
    "from object_detection.protos import pipeline_pb2\n",
    "from google.protobuf import text_format"
   ]
  },
  {
   "cell_type": "code",
   "execution_count": 34,
   "id": "3022b70e",
   "metadata": {
    "id": "3022b70e"
   },
   "outputs": [],
   "source": [
    "config = config_util.get_configs_from_pipeline_file(files['PIPELINE_CONFIG'])"
   ]
  },
  {
   "cell_type": "code",
   "execution_count": 35,
   "id": "b97b0251",
   "metadata": {
    "colab": {
     "base_uri": "https://localhost:8080/"
    },
    "id": "b97b0251",
    "outputId": "7a4fa34a-e2f9-40c4-a8bc-9e81363dc850"
   },
   "outputs": [
    {
     "data": {
      "text/plain": [
       "{'model': ssd {\n",
       "   num_classes: 90\n",
       "   image_resizer {\n",
       "     fixed_shape_resizer {\n",
       "       height: 640\n",
       "       width: 640\n",
       "     }\n",
       "   }\n",
       "   feature_extractor {\n",
       "     type: \"ssd_mobilenet_v2_fpn_keras\"\n",
       "     depth_multiplier: 1.0\n",
       "     min_depth: 16\n",
       "     conv_hyperparams {\n",
       "       regularizer {\n",
       "         l2_regularizer {\n",
       "           weight: 3.9999998989515007e-05\n",
       "         }\n",
       "       }\n",
       "       initializer {\n",
       "         random_normal_initializer {\n",
       "           mean: 0.0\n",
       "           stddev: 0.009999999776482582\n",
       "         }\n",
       "       }\n",
       "       activation: RELU_6\n",
       "       batch_norm {\n",
       "         decay: 0.996999979019165\n",
       "         scale: true\n",
       "         epsilon: 0.0010000000474974513\n",
       "       }\n",
       "     }\n",
       "     use_depthwise: true\n",
       "     override_base_feature_extractor_hyperparams: true\n",
       "     fpn {\n",
       "       min_level: 3\n",
       "       max_level: 7\n",
       "       additional_layer_depth: 128\n",
       "     }\n",
       "   }\n",
       "   box_coder {\n",
       "     faster_rcnn_box_coder {\n",
       "       y_scale: 10.0\n",
       "       x_scale: 10.0\n",
       "       height_scale: 5.0\n",
       "       width_scale: 5.0\n",
       "     }\n",
       "   }\n",
       "   matcher {\n",
       "     argmax_matcher {\n",
       "       matched_threshold: 0.5\n",
       "       unmatched_threshold: 0.5\n",
       "       ignore_thresholds: false\n",
       "       negatives_lower_than_unmatched: true\n",
       "       force_match_for_each_row: true\n",
       "       use_matmul_gather: true\n",
       "     }\n",
       "   }\n",
       "   similarity_calculator {\n",
       "     iou_similarity {\n",
       "     }\n",
       "   }\n",
       "   box_predictor {\n",
       "     weight_shared_convolutional_box_predictor {\n",
       "       conv_hyperparams {\n",
       "         regularizer {\n",
       "           l2_regularizer {\n",
       "             weight: 3.9999998989515007e-05\n",
       "           }\n",
       "         }\n",
       "         initializer {\n",
       "           random_normal_initializer {\n",
       "             mean: 0.0\n",
       "             stddev: 0.009999999776482582\n",
       "           }\n",
       "         }\n",
       "         activation: RELU_6\n",
       "         batch_norm {\n",
       "           decay: 0.996999979019165\n",
       "           scale: true\n",
       "           epsilon: 0.0010000000474974513\n",
       "         }\n",
       "       }\n",
       "       depth: 128\n",
       "       num_layers_before_predictor: 4\n",
       "       kernel_size: 3\n",
       "       class_prediction_bias_init: -4.599999904632568\n",
       "       share_prediction_tower: true\n",
       "       use_depthwise: true\n",
       "     }\n",
       "   }\n",
       "   anchor_generator {\n",
       "     multiscale_anchor_generator {\n",
       "       min_level: 3\n",
       "       max_level: 7\n",
       "       anchor_scale: 4.0\n",
       "       aspect_ratios: 1.0\n",
       "       aspect_ratios: 2.0\n",
       "       aspect_ratios: 0.5\n",
       "       scales_per_octave: 2\n",
       "     }\n",
       "   }\n",
       "   post_processing {\n",
       "     batch_non_max_suppression {\n",
       "       score_threshold: 9.99999993922529e-09\n",
       "       iou_threshold: 0.6000000238418579\n",
       "       max_detections_per_class: 100\n",
       "       max_total_detections: 100\n",
       "       use_static_shapes: false\n",
       "     }\n",
       "     score_converter: SIGMOID\n",
       "   }\n",
       "   normalize_loss_by_num_matches: true\n",
       "   loss {\n",
       "     localization_loss {\n",
       "       weighted_smooth_l1 {\n",
       "       }\n",
       "     }\n",
       "     classification_loss {\n",
       "       weighted_sigmoid_focal {\n",
       "         gamma: 2.0\n",
       "         alpha: 0.25\n",
       "       }\n",
       "     }\n",
       "     classification_weight: 1.0\n",
       "     localization_weight: 1.0\n",
       "   }\n",
       "   encode_background_as_zeros: true\n",
       "   normalize_loc_loss_by_codesize: true\n",
       "   inplace_batchnorm_update: true\n",
       "   freeze_batchnorm: false\n",
       " },\n",
       " 'train_config': batch_size: 128\n",
       " data_augmentation_options {\n",
       "   random_horizontal_flip {\n",
       "   }\n",
       " }\n",
       " data_augmentation_options {\n",
       "   random_crop_image {\n",
       "     min_object_covered: 0.0\n",
       "     min_aspect_ratio: 0.75\n",
       "     max_aspect_ratio: 3.0\n",
       "     min_area: 0.75\n",
       "     max_area: 1.0\n",
       "     overlap_thresh: 0.0\n",
       "   }\n",
       " }\n",
       " sync_replicas: true\n",
       " optimizer {\n",
       "   momentum_optimizer {\n",
       "     learning_rate {\n",
       "       cosine_decay_learning_rate {\n",
       "         learning_rate_base: 0.07999999821186066\n",
       "         total_steps: 50000\n",
       "         warmup_learning_rate: 0.026666000485420227\n",
       "         warmup_steps: 1000\n",
       "       }\n",
       "     }\n",
       "     momentum_optimizer_value: 0.8999999761581421\n",
       "   }\n",
       "   use_moving_average: false\n",
       " }\n",
       " fine_tune_checkpoint: \"PATH_TO_BE_CONFIGURED\"\n",
       " num_steps: 50000\n",
       " startup_delay_steps: 0.0\n",
       " replicas_to_aggregate: 8\n",
       " max_number_of_boxes: 100\n",
       " unpad_groundtruth_tensors: false\n",
       " fine_tune_checkpoint_type: \"classification\"\n",
       " fine_tune_checkpoint_version: V2,\n",
       " 'train_input_config': label_map_path: \"PATH_TO_BE_CONFIGURED\"\n",
       " tf_record_input_reader {\n",
       "   input_path: \"PATH_TO_BE_CONFIGURED\"\n",
       " },\n",
       " 'eval_config': metrics_set: \"coco_detection_metrics\"\n",
       " use_moving_averages: false,\n",
       " 'eval_input_configs': [label_map_path: \"PATH_TO_BE_CONFIGURED\"\n",
       " shuffle: false\n",
       " num_epochs: 1\n",
       " tf_record_input_reader {\n",
       "   input_path: \"PATH_TO_BE_CONFIGURED\"\n",
       " }\n",
       " ],\n",
       " 'eval_input_config': label_map_path: \"PATH_TO_BE_CONFIGURED\"\n",
       " shuffle: false\n",
       " num_epochs: 1\n",
       " tf_record_input_reader {\n",
       "   input_path: \"PATH_TO_BE_CONFIGURED\"\n",
       " }}"
      ]
     },
     "execution_count": 35,
     "metadata": {},
     "output_type": "execute_result"
    }
   ],
   "source": [
    "config"
   ]
  },
  {
   "cell_type": "code",
   "execution_count": 36,
   "id": "673f547e",
   "metadata": {
    "id": "673f547e"
   },
   "outputs": [],
   "source": [
    "pipeline_config = pipeline_pb2.TrainEvalPipelineConfig()\n",
    "with tf.io.gfile.GFile(files['PIPELINE_CONFIG'], \"r\") as f:\n",
    "    proto_str = f.read()\n",
    "    text_format.Merge(proto_str, pipeline_config)"
   ]
  },
  {
   "cell_type": "code",
   "execution_count": 37,
   "id": "cf083ba9",
   "metadata": {
    "id": "cf083ba9"
   },
   "outputs": [],
   "source": [
    "pipeline_config.model.ssd.num_classes = len(labels)\n",
    "pipeline_config.train_config.batch_size = 4\n",
    "pipeline_config.train_config.fine_tune_checkpoint = os.path.join(paths['PRETRAINED_MODEL_PATH'], PRETRAINED_MODEL_NAME, 'checkpoint', 'ckpt-0')\n",
    "pipeline_config.train_config.fine_tune_checkpoint_type = \"detection\"\n",
    "pipeline_config.train_input_reader.label_map_path= files['LABELMAP']\n",
    "pipeline_config.train_input_reader.tf_record_input_reader.input_path[:] = [os.path.join(paths['ANNOTATION_PATH'], 'train.record')]\n",
    "pipeline_config.eval_input_reader[0].label_map_path = files['LABELMAP']\n",
    "pipeline_config.eval_input_reader[0].tf_record_input_reader.input_path[:] = [os.path.join(paths['ANNOTATION_PATH'], 'test.record')]"
   ]
  },
  {
   "cell_type": "code",
   "execution_count": 38,
   "id": "1c30d4f8",
   "metadata": {
    "id": "1c30d4f8"
   },
   "outputs": [],
   "source": [
    "config_text = text_format.MessageToString(pipeline_config)\n",
    "with tf.io.gfile.GFile(files['PIPELINE_CONFIG'], 'wb') as f:\n",
    "    f.write(config_text)"
   ]
  },
  {
   "cell_type": "code",
   "execution_count": 39,
   "id": "a8fcad2d",
   "metadata": {
    "id": "a8fcad2d"
   },
   "outputs": [],
   "source": [
    "TRAINING_SCRIPT = os.path.join(paths['APIMODEL_PATH'], 'research', 'object_detection', 'model_main_tf2.py')"
   ]
  },
  {
   "cell_type": "markdown",
   "id": "5c1ffeac",
   "metadata": {
    "id": "5c1ffeac"
   },
   "source": [
    "# 6. Train the model"
   ]
  },
  {
   "cell_type": "code",
   "execution_count": 42,
   "id": "056c8643",
   "metadata": {
    "id": "056c8643"
   },
   "outputs": [],
   "source": [
    "command = \"python {} --model_dir={} --pipeline_config_path={} --num_train_steps=9000\".format(TRAINING_SCRIPT, paths['CHECKPOINT_PATH'], files['PIPELINE_CONFIG'])"
   ]
  },
  {
   "cell_type": "code",
   "execution_count": 43,
   "id": "9da6adf3",
   "metadata": {
    "colab": {
     "base_uri": "https://localhost:8080/"
    },
    "id": "9da6adf3",
    "outputId": "4baee14e-074b-4d2f-d9ee-cf82ab7c2ae6"
   },
   "outputs": [
    {
     "name": "stdout",
     "output_type": "stream",
     "text": [
      "python Tensorflow\\models\\research\\object_detection\\model_main_tf2.py --model_dir=Tensorflow\\workspace\\models\\my_ssd_mobnet --pipeline_config_path=Tensorflow\\workspace\\models\\my_ssd_mobnet\\pipeline.config --num_train_steps=9000\n"
     ]
    }
   ],
   "source": [
    "print(command)"
   ]
  },
  {
   "cell_type": "code",
   "execution_count": null,
   "id": "P1aTRc5ZrrTU",
   "metadata": {
    "colab": {
     "base_uri": "https://localhost:8080/"
    },
    "id": "P1aTRc5ZrrTU",
    "outputId": "f35863f0-35cd-4663-a8cd-1b54c796e7cd"
   },
   "outputs": [],
   "source": [
    "!{command}"
   ]
  },
  {
   "cell_type": "markdown",
   "id": "dd948fd2",
   "metadata": {
    "id": "dd948fd2"
   },
   "source": [
    "# 7. Evaluate the Model"
   ]
  },
  {
   "cell_type": "code",
   "execution_count": null,
   "id": "12e99814",
   "metadata": {
    "id": "12e99814"
   },
   "outputs": [],
   "source": [
    "command = \"python {} --model_dir={} --pipeline_config_path={} --checkpoint_dir={}\".format(TRAINING_SCRIPT, paths['CHECKPOINT_PATH'],files['PIPELINE_CONFIG'], paths['CHECKPOINT_PATH'])"
   ]
  },
  {
   "cell_type": "code",
   "execution_count": null,
   "id": "cb829299",
   "metadata": {
    "colab": {
     "base_uri": "https://localhost:8080/"
    },
    "id": "cb829299",
    "outputId": "d241231f-2eae-455c-f558-b59ed35cdad4"
   },
   "outputs": [],
   "source": [
    "print(command)"
   ]
  },
  {
   "cell_type": "code",
   "execution_count": null,
   "id": "e3c6979e",
   "metadata": {
    "colab": {
     "base_uri": "https://localhost:8080/"
    },
    "id": "e3c6979e",
    "outputId": "e4055550-a9d9-42b7-d691-6050267f1056"
   },
   "outputs": [],
   "source": [
    "!{command}"
   ]
  },
  {
   "cell_type": "markdown",
   "id": "94b9992f",
   "metadata": {
    "id": "94b9992f"
   },
   "source": [
    "# 8. Load Train Model From Checkpoint"
   ]
  },
  {
   "cell_type": "code",
   "execution_count": null,
   "id": "2782c138",
   "metadata": {
    "id": "2782c138"
   },
   "outputs": [],
   "source": [
    "import os\n",
    "import tensorflow as tf\n",
    "from object_detection.utils import label_map_util\n",
    "from object_detection.utils import visualization_utils as viz_utils\n",
    "from object_detection.builders import model_builder\n",
    "from object_detection.utils import config_util"
   ]
  },
  {
   "cell_type": "code",
   "execution_count": null,
   "id": "82b6ecf9",
   "metadata": {
    "id": "82b6ecf9"
   },
   "outputs": [],
   "source": [
    "configs = config_util.get_configs_from_pipeline_file(files['PIPELINE_CONFIG'])\n",
    "detection_model = model_builder.build(model_config=configs['model'], is_training=False)\n",
    "\n",
    "# Restore checkpoint\n",
    "ckpt = tf.compat.v2.train.Checkpoint(model=detection_model)\n",
    "ckpt.restore(os.path.join(paths['CHECKPOINT_PATH'], 'ckpt-2')).expect_partial()\n",
    "\n",
    "@tf.function\n",
    "def detect_fn(image):\n",
    "    image, shapes = detection_model.preprocess(image)\n",
    "    prediction_dict = detection_model.predict(image, shapes)\n",
    "    detections = detection_model.postprocess(prediction_dict, shapes)\n",
    "    return detections"
   ]
  },
  {
   "cell_type": "markdown",
   "id": "c5c1fba5",
   "metadata": {
    "id": "c5c1fba5"
   },
   "source": [
    "# 9. Detect from an Image"
   ]
  },
  {
   "cell_type": "code",
   "execution_count": null,
   "id": "a659de67",
   "metadata": {
    "id": "a659de67"
   },
   "outputs": [],
   "source": [
    "import cv2\n",
    "import numpy as np\n",
    "from matplotlib import pyplot as plt\n",
    "%matplotlib inline"
   ]
  },
  {
   "cell_type": "code",
   "execution_count": null,
   "id": "8e65bfe5",
   "metadata": {
    "id": "8e65bfe5"
   },
   "outputs": [],
   "source": [
    "category_index = label_map_util.create_category_index_from_labelmap(files['LABELMAP'])"
   ]
  },
  {
   "cell_type": "code",
   "execution_count": null,
   "id": "a69b00cc",
   "metadata": {
    "id": "a69b00cc"
   },
   "outputs": [],
   "source": [
    "IMAGE_PATH = os.path.join(paths['IMAGE_PATH'], 'test', \"38b06378-d229-11ee-9b42-8cf8c50016cf_jpg.rf.f3f1d77501f9e49f3662cde2623d5a3f.jpg\")"
   ]
  },
  {
   "cell_type": "code",
   "execution_count": null,
   "id": "f5b29ea8",
   "metadata": {
    "colab": {
     "base_uri": "https://localhost:8080/",
     "height": 435
    },
    "id": "f5b29ea8",
    "outputId": "fb92fb4e-1ccc-4af2-f13f-553f05a35c1b"
   },
   "outputs": [],
   "source": [
    "img = cv2.imread(IMAGE_PATH)\n",
    "image_np = np.array(img)\n",
    "\n",
    "input_tensor = tf.convert_to_tensor(np.expand_dims(image_np, 0), dtype=tf.float32)\n",
    "detections = detect_fn(input_tensor)\n",
    "\n",
    "num_detections = int(detections.pop('num_detections'))\n",
    "detections = {key: value[0, :num_detections].numpy()\n",
    "              for key, value in detections.items()}\n",
    "detections['num_detections'] = num_detections\n",
    "\n",
    "# detection_classes should be ints.\n",
    "detections['detection_classes'] = detections['detection_classes'].astype(np.int64)\n",
    "\n",
    "label_id_offset = 1\n",
    "image_np_with_detections = image_np.copy()\n",
    "\n",
    "viz_utils.visualize_boxes_and_labels_on_image_array(\n",
    "            image_np_with_detections,\n",
    "            detections['detection_boxes'],\n",
    "            detections['detection_classes']+label_id_offset,\n",
    "            detections['detection_scores'],\n",
    "            category_index,\n",
    "            use_normalized_coordinates=True,\n",
    "            max_boxes_to_draw=5,\n",
    "            min_score_thresh=0.18,\n",
    "            agnostic_mode=False)\n",
    "\n",
    "detected_label = category_index[detections['detection_classes'][0]+label_id_offset][\"name\"]\n",
    "cubes = detected_label.split(\"-\")\n",
    "print(cubes)\n",
    "\n",
    "plt.imshow(cv2.cvtColor(image_np_with_detections, cv2.COLOR_BGR2RGB))\n",
    "plt.show()"
   ]
  },
  {
   "cell_type": "markdown",
   "id": "35fef1e3",
   "metadata": {
    "id": "35fef1e3"
   },
   "source": [
    "# 10. Freezing the Graph"
   ]
  },
  {
   "cell_type": "code",
   "execution_count": null,
   "id": "fd9f9e4c",
   "metadata": {
    "id": "fd9f9e4c"
   },
   "outputs": [],
   "source": [
    "FREEEZE_SCRIPT = os.path.join(paths['APIMODEL_PATH'], 'research', 'object_detection', 'exporter_main_v2.py')"
   ]
  },
  {
   "cell_type": "code",
   "execution_count": null,
   "id": "7128b93d",
   "metadata": {
    "id": "7128b93d"
   },
   "outputs": [],
   "source": [
    "command = \"python {} --input_type=image_tensor --pipeline_config_path={} --trained_checkpoint_dir={} --outbut_directory={}.format(TRAINING_SCRIPT, paths['CHECKPOINT_PATH'], files['PIPELINE_CONFIG'], paths['CHECKPOINT_PATH'])"
   ]
  },
  {
   "cell_type": "code",
   "execution_count": null,
   "id": "33d780f5",
   "metadata": {
    "id": "33d780f5"
   },
   "outputs": [],
   "source": [
    "print(command)"
   ]
  },
  {
   "cell_type": "code",
   "execution_count": null,
   "id": "0d7b1608",
   "metadata": {
    "id": "0d7b1608"
   },
   "outputs": [],
   "source": [
    "!{command}"
   ]
  },
  {
   "cell_type": "markdown",
   "id": "f798cd20",
   "metadata": {
    "id": "f798cd20"
   },
   "source": [
    "# 11. Conversion to TFJS"
   ]
  },
  {
   "cell_type": "code",
   "execution_count": null,
   "id": "a02b7b55",
   "metadata": {
    "id": "a02b7b55"
   },
   "outputs": [],
   "source": [
    "!pip install tensorflowjs"
   ]
  },
  {
   "cell_type": "code",
   "execution_count": null,
   "id": "de381de8",
   "metadata": {
    "id": "de381de8"
   },
   "outputs": [],
   "source": [
    "command = \"python {} --input_type=image_tensor --pipeline_config_path={} --trained_checkpoint_dir={} --outbut_directory={}.format(TRAINING_SCRIPT, paths['CHECKPOINT_PATH'], files['PIPELINE_CONFIG'], paths['CHECKPOINT_PATH'])"
   ]
  },
  {
   "cell_type": "code",
   "execution_count": null,
   "id": "7f72b388",
   "metadata": {
    "id": "7f72b388"
   },
   "outputs": [],
   "source": [
    "print(command)"
   ]
  },
  {
   "cell_type": "code",
   "execution_count": null,
   "id": "08c7fa8a",
   "metadata": {
    "id": "08c7fa8a"
   },
   "outputs": [],
   "source": [
    "!{command}"
   ]
  },
  {
   "cell_type": "markdown",
   "id": "90a93f1a",
   "metadata": {
    "id": "90a93f1a"
   },
   "source": [
    "# 12. Conversion to TFLite"
   ]
  },
  {
   "cell_type": "code",
   "execution_count": null,
   "id": "83735e7e",
   "metadata": {
    "id": "83735e7e"
   },
   "outputs": [],
   "source": [
    "TFLITE_SCRIPT = os.path.join(paths['APIMODEL_PATH'], 'research', 'object_detection','export_tflite_graph_tf2.py ')"
   ]
  },
  {
   "cell_type": "code",
   "execution_count": null,
   "id": "4697c723",
   "metadata": {
    "id": "4697c723"
   },
   "outputs": [],
   "source": [
    "command = \"python {} --pipeline_config_path={} --trained_checkpoint_dir={} --output_directory={}\".format(TFLITE_SCRIPT ,files['PIPELINE_CONFIG'])"
   ]
  },
  {
   "cell_type": "code",
   "execution_count": null,
   "id": "22445543",
   "metadata": {
    "id": "22445543"
   },
   "outputs": [],
   "source": [
    "print(command)"
   ]
  },
  {
   "cell_type": "code",
   "execution_count": null,
   "id": "db5e4668",
   "metadata": {
    "id": "db5e4668"
   },
   "outputs": [],
   "source": [
    "!{command}"
   ]
  },
  {
   "cell_type": "code",
   "execution_count": null,
   "id": "add231ea",
   "metadata": {
    "id": "add231ea"
   },
   "outputs": [],
   "source": [
    "FROZEN_TFLITE_PATH = os.path.join(paths['TFLITE_PATH'], 'saved_model')\n",
    "TFLITE_MODEL = os.path.join(paths['TFLITE_PATH'], 'saved_model', 'detect.tflite')"
   ]
  },
  {
   "cell_type": "code",
   "execution_count": null,
   "id": "9fb57a27",
   "metadata": {
    "id": "9fb57a27"
   },
   "outputs": [],
   "source": [
    "command = \"tflite_convert \\\n",
    "--saved_model_dir={} \\\n",
    "--output_file={} \\\n",
    "--input_shapes=1,300,300,3 \\\n",
    "--input_arrays=normalized_input_image_tensor \\\n",
    "--output_arrays='TFLite_Detection_PostProcess','TFLite_Detection_PostProcess:1','TFLite_Detection_PostProcess:2','TFLite_Detection_PostProcess:3' \\\n",
    "--inference_type=FLOAT \\\n",
    "--allow_custom_ops\".format(FROZEN_TFLITE_PATH, TFLITE_MODEL, )"
   ]
  },
  {
   "cell_type": "code",
   "execution_count": null,
   "id": "3a06641e",
   "metadata": {
    "id": "3a06641e"
   },
   "outputs": [],
   "source": [
    "print(command)"
   ]
  },
  {
   "cell_type": "code",
   "execution_count": null,
   "id": "bc41ee9c",
   "metadata": {
    "id": "bc41ee9c"
   },
   "outputs": [],
   "source": [
    "!{command}"
   ]
  },
  {
   "cell_type": "markdown",
   "id": "e67c34d3",
   "metadata": {
    "id": "e67c34d3"
   },
   "source": [
    "# 13. Zip and Export Models"
   ]
  },
  {
   "cell_type": "code",
   "execution_count": null,
   "id": "77988b56",
   "metadata": {
    "id": "77988b56"
   },
   "outputs": [],
   "source": [
    "!tar -czf models.tar.gz {paths['CHECKPOINT_PATH']}"
   ]
  },
  {
   "cell_type": "code",
   "execution_count": null,
   "id": "176b7d08",
   "metadata": {
    "id": "176b7d08"
   },
   "outputs": [],
   "source": [
    "from google.colab import drive\n",
    "drive.mount('/content/drive')"
   ]
  }
 ],
 "metadata": {
  "accelerator": "GPU",
  "colab": {
   "gpuType": "T4",
   "provenance": []
  },
  "kernelspec": {
   "display_name": "Python 3 (ipykernel)",
   "language": "python",
   "name": "python3"
  },
  "language_info": {
   "codemirror_mode": {
    "name": "ipython",
    "version": 3
   },
   "file_extension": ".py",
   "mimetype": "text/x-python",
   "name": "python",
   "nbconvert_exporter": "python",
   "pygments_lexer": "ipython3",
   "version": "3.10.8"
  }
 },
 "nbformat": 4,
 "nbformat_minor": 5
}

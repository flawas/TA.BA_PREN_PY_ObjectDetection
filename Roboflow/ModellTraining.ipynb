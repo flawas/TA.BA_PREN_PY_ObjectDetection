{
 "cells": [
  {
   "cell_type": "markdown",
   "id": "4d2e954c",
   "metadata": {
    "id": "4d2e954c"
   },
   "source": [
    "# Module Import"
   ]
  },
  {
   "cell_type": "code",
   "execution_count": 1,
   "id": "zXy1OhG7FNTu",
   "metadata": {
    "colab": {
     "base_uri": "https://localhost:8080/"
    },
    "id": "zXy1OhG7FNTu",
    "outputId": "7ebe0772-589d-4d17-c060-c2991da5676e"
   },
   "outputs": [
    {
     "name": "stdout",
     "output_type": "stream",
     "text": [
      "Requirement already satisfied: wget in c:\\users\\julia\\anaconda3\\lib\\site-packages (3.2)\n"
     ]
    }
   ],
   "source": [
    "!pip install wget"
   ]
  },
  {
   "cell_type": "code",
   "execution_count": 2,
   "id": "qDUa_oLnSiA4",
   "metadata": {
    "colab": {
     "base_uri": "https://localhost:8080/"
    },
    "id": "qDUa_oLnSiA4",
    "outputId": "8738500d-17b1-4a42-c67f-a8a088bfdcbb"
   },
   "outputs": [
    {
     "name": "stdout",
     "output_type": "stream",
     "text": [
      "Found existing installation: Cython 3.0.9\n",
      "Uninstalling Cython-3.0.9:\n",
      "  Successfully uninstalled Cython-3.0.9\n"
     ]
    }
   ],
   "source": [
    "!pip uninstall Cython -y"
   ]
  },
  {
   "cell_type": "code",
   "execution_count": 3,
   "id": "3455d371-6b0d-40c7-a1ea-79ab5a2b6b4f",
   "metadata": {},
   "outputs": [
    {
     "name": "stdout",
     "output_type": "stream",
     "text": [
      "Collecting Cython\n",
      "  Using cached Cython-3.0.9-cp39-cp39-win_amd64.whl (2.8 MB)\n",
      "Installing collected packages: Cython\n",
      "Successfully installed Cython-3.0.9\n"
     ]
    }
   ],
   "source": [
    "!pip install Cython"
   ]
  },
  {
   "cell_type": "code",
   "execution_count": 4,
   "id": "1ba7eb9d",
   "metadata": {
    "id": "1ba7eb9d"
   },
   "outputs": [],
   "source": [
    "import os\n",
    "import wget\n",
    "import shutil"
   ]
  },
  {
   "cell_type": "markdown",
   "id": "sA-SlmbdEXs0",
   "metadata": {
    "id": "sA-SlmbdEXs0"
   },
   "source": [
    "# Download TF Models Pretrained Models from Tensorflow Model Zoo and Install TFOD"
   ]
  },
  {
   "cell_type": "code",
   "execution_count": 5,
   "id": "A-MCYqRiGxOS",
   "metadata": {
    "id": "A-MCYqRiGxOS"
   },
   "outputs": [
    {
     "name": "stderr",
     "output_type": "stream",
     "text": [
      "Ein Unterverzeichnis oder eine Datei mit dem Namen \"Tensorflow\" existiert bereits.\n"
     ]
    }
   ],
   "source": [
    "!mkdir Tensorflow"
   ]
  },
  {
   "cell_type": "code",
   "execution_count": 6,
   "id": "5aNykqy7Dgv5",
   "metadata": {
    "colab": {
     "base_uri": "https://localhost:8080/"
    },
    "id": "5aNykqy7Dgv5",
    "outputId": "786b14bb-9cb8-498e-92ec-652c4d8ac37d"
   },
   "outputs": [
    {
     "name": "stdout",
     "output_type": "stream",
     "text": [
      "C:\\Users\\julia\\Github\\TA.BA_PREN_PY_ObjectDetection\\Roboflow\\Tensorflow\n"
     ]
    }
   ],
   "source": [
    "%cd Tensorflow"
   ]
  },
  {
   "cell_type": "code",
   "execution_count": 7,
   "id": "FteE58__DWwr",
   "metadata": {
    "colab": {
     "base_uri": "https://localhost:8080/"
    },
    "id": "FteE58__DWwr",
    "outputId": "cca958f7-0082-4f95-e786-61bc3f9e3cbe"
   },
   "outputs": [
    {
     "name": "stderr",
     "output_type": "stream",
     "text": [
      "fatal: destination path 'models' already exists and is not an empty directory.\n"
     ]
    }
   ],
   "source": [
    "!git clone --depth 1 https://github.com/tensorflow/models"
   ]
  },
  {
   "cell_type": "code",
   "execution_count": 8,
   "id": "rKSMcD7FD-7e",
   "metadata": {
    "colab": {
     "base_uri": "https://localhost:8080/"
    },
    "id": "rKSMcD7FD-7e",
    "outputId": "3d34cc93-3022-426b-f9e1-32a5d386f10e"
   },
   "outputs": [
    {
     "name": "stdout",
     "output_type": "stream",
     "text": [
      "C:\\Users\\julia\\Github\\TA.BA_PREN_PY_ObjectDetection\\Roboflow\n"
     ]
    }
   ],
   "source": [
    "%cd .."
   ]
  },
  {
   "cell_type": "code",
   "execution_count": 9,
   "id": "3w7AuimdEraM",
   "metadata": {
    "colab": {
     "base_uri": "https://localhost:8080/"
    },
    "id": "3w7AuimdEraM",
    "outputId": "3601cfd6-fa5a-46e7-b62d-deed58e71c92"
   },
   "outputs": [
    {
     "name": "stdout",
     "output_type": "stream",
     "text": [
      "C:\\Users\\julia\\Github\\TA.BA_PREN_PY_ObjectDetection\\Roboflow\\Tensorflow\\models\\research\n"
     ]
    }
   ],
   "source": [
    "%cd Tensorflow/models/research/"
   ]
  },
  {
   "cell_type": "code",
   "execution_count": 10,
   "id": "iGjj3bzCEGa6",
   "metadata": {
    "id": "iGjj3bzCEGa6"
   },
   "outputs": [],
   "source": [
    "!protoc object_detection/protos/*.proto --python_out=."
   ]
  },
  {
   "cell_type": "code",
   "execution_count": 11,
   "id": "7kCeABgsE7GL",
   "metadata": {
    "colab": {
     "base_uri": "https://localhost:8080/"
    },
    "id": "7kCeABgsE7GL",
    "outputId": "45c93e25-d468-4745-be3e-23aa756aea02"
   },
   "outputs": [
    {
     "name": "stdout",
     "output_type": "stream",
     "text": [
      "C:\\Users\\julia\\Github\\TA.BA_PREN_PY_ObjectDetection\\Roboflow\\Tensorflow\\models\n"
     ]
    }
   ],
   "source": [
    "%cd .."
   ]
  },
  {
   "cell_type": "code",
   "execution_count": 12,
   "id": "OIJsyD4MFKFE",
   "metadata": {
    "colab": {
     "base_uri": "https://localhost:8080/"
    },
    "id": "OIJsyD4MFKFE",
    "outputId": "fd5d5d54-2061-48b6-d688-7c6871896536"
   },
   "outputs": [
    {
     "name": "stdout",
     "output_type": "stream",
     "text": [
      "C:\\Users\\julia\\Github\\TA.BA_PREN_PY_ObjectDetection\\Roboflow\\Tensorflow\n"
     ]
    }
   ],
   "source": [
    "%cd .."
   ]
  },
  {
   "cell_type": "code",
   "execution_count": 13,
   "id": "NhHpcZFhFNzI",
   "metadata": {
    "colab": {
     "base_uri": "https://localhost:8080/"
    },
    "id": "NhHpcZFhFNzI",
    "outputId": "0164179a-c10c-4321-9da7-f031206a00fb"
   },
   "outputs": [
    {
     "name": "stdout",
     "output_type": "stream",
     "text": [
      "C:\\Users\\julia\\Github\\TA.BA_PREN_PY_ObjectDetection\\Roboflow\n"
     ]
    }
   ],
   "source": [
    "%cd .."
   ]
  },
  {
   "cell_type": "code",
   "execution_count": 14,
   "id": "oTQpuXzXFWzt",
   "metadata": {
    "id": "oTQpuXzXFWzt"
   },
   "outputs": [],
   "source": [
    "import re\n",
    "with open('Tensorflow/models/research/object_detection/packages/tf2/setup.py') as f:\n",
    "    s = f.read()\n",
    "\n",
    "with open('Tensorflow/models/research/setup.py', 'w') as f:\n",
    "    s = re.sub('tf-models-official>=2.5.1',\n",
    "               'tf-models-official==2.8.0', s)\n",
    "    f.write(s)"
   ]
  },
  {
   "cell_type": "code",
   "execution_count": 15,
   "id": "cD5A9PAFFkKz",
   "metadata": {
    "colab": {
     "base_uri": "https://localhost:8080/",
     "height": 1000
    },
    "id": "cD5A9PAFFkKz",
    "outputId": "080dd07e-65ca-45ea-c215-f88e440b3d28"
   },
   "outputs": [
    {
     "name": "stdout",
     "output_type": "stream",
     "text": [
      "Requirement already satisfied: pyyaml==5.3.1 in c:\\users\\julia\\anaconda3\\lib\\site-packages (5.3.1)\n",
      "Processing c:\\users\\julia\\github\\ta.ba_pren_py_objectdetection\\roboflow\\tensorflow\\models\\research\n",
      "  Preparing metadata (setup.py): started\n",
      "  Preparing metadata (setup.py): finished with status 'done'\n",
      "Requirement already satisfied: avro-python3 in c:\\users\\julia\\anaconda3\\lib\\site-packages (from object-detection==0.1) (1.10.2)\n",
      "Requirement already satisfied: apache-beam in c:\\users\\julia\\anaconda3\\lib\\site-packages (from object-detection==0.1) (2.54.0)\n",
      "Requirement already satisfied: pillow in c:\\users\\julia\\anaconda3\\lib\\site-packages (from object-detection==0.1) (9.2.0)\n",
      "Requirement already satisfied: lxml in c:\\users\\julia\\anaconda3\\lib\\site-packages (from object-detection==0.1) (4.9.1)\n",
      "Requirement already satisfied: matplotlib in c:\\users\\julia\\anaconda3\\lib\\site-packages (from object-detection==0.1) (3.8.3)\n",
      "Requirement already satisfied: Cython in c:\\users\\julia\\anaconda3\\lib\\site-packages (from object-detection==0.1) (3.0.9)\n",
      "Requirement already satisfied: contextlib2 in c:\\users\\julia\\anaconda3\\lib\\site-packages (from object-detection==0.1) (21.6.0)\n",
      "Requirement already satisfied: tf-slim in c:\\users\\julia\\anaconda3\\lib\\site-packages (from object-detection==0.1) (1.1.0)\n",
      "Requirement already satisfied: six in c:\\users\\julia\\anaconda3\\lib\\site-packages (from object-detection==0.1) (1.16.0)\n",
      "Requirement already satisfied: pycocotools in c:\\users\\julia\\anaconda3\\lib\\site-packages (from object-detection==0.1) (2.0.7)\n",
      "Requirement already satisfied: lvis in c:\\users\\julia\\anaconda3\\lib\\site-packages (from object-detection==0.1) (0.5.3)\n",
      "Requirement already satisfied: scipy in c:\\users\\julia\\anaconda3\\lib\\site-packages (from object-detection==0.1) (1.12.0)\n",
      "Requirement already satisfied: pandas in c:\\users\\julia\\anaconda3\\lib\\site-packages (from object-detection==0.1) (1.4.4)\n",
      "Requirement already satisfied: tf-models-official==2.8.0 in c:\\users\\julia\\anaconda3\\lib\\site-packages (from object-detection==0.1) (2.8.0)\n",
      "Requirement already satisfied: tensorflow_io in c:\\users\\julia\\anaconda3\\lib\\site-packages (from object-detection==0.1) (0.31.0)\n",
      "Requirement already satisfied: keras in c:\\users\\julia\\anaconda3\\lib\\site-packages (from object-detection==0.1) (2.8.0)\n",
      "Requirement already satisfied: pyparsing==2.4.7 in c:\\users\\julia\\anaconda3\\lib\\site-packages (from object-detection==0.1) (2.4.7)\n",
      "Requirement already satisfied: sacrebleu<=2.2.0 in c:\\users\\julia\\anaconda3\\lib\\site-packages (from object-detection==0.1) (2.2.0)\n",
      "Requirement already satisfied: tensorflow-hub>=0.6.0 in c:\\users\\julia\\anaconda3\\lib\\site-packages (from tf-models-official==2.8.0->object-detection==0.1) (0.16.1)\n",
      "Requirement already satisfied: tensorflow-text~=2.8.0 in c:\\users\\julia\\anaconda3\\lib\\site-packages (from tf-models-official==2.8.0->object-detection==0.1) (2.8.2)\n",
      "Requirement already satisfied: tensorflow-model-optimization>=0.4.1 in c:\\users\\julia\\anaconda3\\lib\\site-packages (from tf-models-official==2.8.0->object-detection==0.1) (0.8.0)\n",
      "Requirement already satisfied: sentencepiece in c:\\users\\julia\\anaconda3\\lib\\site-packages (from tf-models-official==2.8.0->object-detection==0.1) (0.2.0)\n",
      "Requirement already satisfied: seqeval in c:\\users\\julia\\anaconda3\\lib\\site-packages (from tf-models-official==2.8.0->object-detection==0.1) (1.2.2)\n",
      "Requirement already satisfied: gin-config in c:\\users\\julia\\anaconda3\\lib\\site-packages (from tf-models-official==2.8.0->object-detection==0.1) (0.5.0)\n",
      "Requirement already satisfied: tensorflow-addons in c:\\users\\julia\\anaconda3\\lib\\site-packages (from tf-models-official==2.8.0->object-detection==0.1) (0.22.0)\n",
      "Requirement already satisfied: py-cpuinfo>=3.3.0 in c:\\users\\julia\\anaconda3\\lib\\site-packages (from tf-models-official==2.8.0->object-detection==0.1) (9.0.0)\n",
      "Requirement already satisfied: numpy>=1.15.4 in c:\\users\\julia\\anaconda3\\lib\\site-packages (from tf-models-official==2.8.0->object-detection==0.1) (1.24.4)\n",
      "Requirement already satisfied: oauth2client in c:\\users\\julia\\anaconda3\\lib\\site-packages (from tf-models-official==2.8.0->object-detection==0.1) (4.1.3)\n",
      "Requirement already satisfied: pyyaml<6.0,>=5.1 in c:\\users\\julia\\anaconda3\\lib\\site-packages (from tf-models-official==2.8.0->object-detection==0.1) (5.3.1)\n",
      "Requirement already satisfied: tensorflow~=2.8.0 in c:\\users\\julia\\anaconda3\\lib\\site-packages (from tf-models-official==2.8.0->object-detection==0.1) (2.8.0)\n",
      "Requirement already satisfied: kaggle>=1.3.9 in c:\\users\\julia\\anaconda3\\lib\\site-packages (from tf-models-official==2.8.0->object-detection==0.1) (1.6.6)\n",
      "Requirement already satisfied: google-api-python-client>=1.6.7 in c:\\users\\julia\\anaconda3\\lib\\site-packages (from tf-models-official==2.8.0->object-detection==0.1) (2.121.0)\n",
      "Requirement already satisfied: psutil>=5.4.3 in c:\\users\\julia\\anaconda3\\lib\\site-packages (from tf-models-official==2.8.0->object-detection==0.1) (5.9.0)\n",
      "Requirement already satisfied: opencv-python-headless in c:\\users\\julia\\anaconda3\\lib\\site-packages (from tf-models-official==2.8.0->object-detection==0.1) (4.8.0.74)\n",
      "Requirement already satisfied: tensorflow-datasets in c:\\users\\julia\\anaconda3\\lib\\site-packages (from tf-models-official==2.8.0->object-detection==0.1) (4.9.3)\n",
      "Requirement already satisfied: pytz>=2020.1 in c:\\users\\julia\\anaconda3\\lib\\site-packages (from pandas->object-detection==0.1) (2022.1)\n",
      "Requirement already satisfied: python-dateutil>=2.8.1 in c:\\users\\julia\\anaconda3\\lib\\site-packages (from pandas->object-detection==0.1) (2.8.2)\n",
      "Requirement already satisfied: regex in c:\\users\\julia\\anaconda3\\lib\\site-packages (from sacrebleu<=2.2.0->object-detection==0.1) (2022.7.9)\n",
      "Requirement already satisfied: portalocker in c:\\users\\julia\\anaconda3\\lib\\site-packages (from sacrebleu<=2.2.0->object-detection==0.1) (2.8.2)\n",
      "Requirement already satisfied: tabulate>=0.8.9 in c:\\users\\julia\\anaconda3\\lib\\site-packages (from sacrebleu<=2.2.0->object-detection==0.1) (0.8.10)\n",
      "Requirement already satisfied: colorama in c:\\users\\julia\\anaconda3\\lib\\site-packages (from sacrebleu<=2.2.0->object-detection==0.1) (0.4.5)\n",
      "Requirement already satisfied: absl-py>=0.2.2 in c:\\users\\julia\\anaconda3\\lib\\site-packages (from tf-slim->object-detection==0.1) (1.4.0)\n",
      "Requirement already satisfied: protobuf!=4.0.*,!=4.21.*,!=4.22.0,!=4.23.*,!=4.24.*,<4.26.0,>=3.20.3 in c:\\users\\julia\\anaconda3\\lib\\site-packages (from apache-beam->object-detection==0.1) (3.20.3)\n",
      "Requirement already satisfied: crcmod<2.0,>=1.7 in c:\\users\\julia\\anaconda3\\lib\\site-packages (from apache-beam->object-detection==0.1) (1.7)\n",
      "Requirement already satisfied: objsize<0.8.0,>=0.6.1 in c:\\users\\julia\\anaconda3\\lib\\site-packages (from apache-beam->object-detection==0.1) (0.7.0)\n",
      "Requirement already satisfied: dill<0.3.2,>=0.3.1.1 in c:\\users\\julia\\anaconda3\\lib\\site-packages (from apache-beam->object-detection==0.1) (0.3.1.1)\n",
      "Requirement already satisfied: js2py<1,>=0.74 in c:\\users\\julia\\anaconda3\\lib\\site-packages (from apache-beam->object-detection==0.1) (0.74)\n",
      "Requirement already satisfied: jsonpickle<4.0.0,>=3.0.0 in c:\\users\\julia\\anaconda3\\lib\\site-packages (from apache-beam->object-detection==0.1) (3.0.3)\n",
      "Requirement already satisfied: typing-extensions>=3.7.0 in c:\\users\\julia\\anaconda3\\lib\\site-packages (from apache-beam->object-detection==0.1) (4.3.0)\n",
      "Requirement already satisfied: pyarrow-hotfix<1 in c:\\users\\julia\\anaconda3\\lib\\site-packages (from apache-beam->object-detection==0.1) (0.6)\n",
      "Requirement already satisfied: requests<3.0.0,>=2.24.0 in c:\\users\\julia\\anaconda3\\lib\\site-packages (from apache-beam->object-detection==0.1) (2.28.1)\n",
      "Requirement already satisfied: zstandard<1,>=0.18.0 in c:\\users\\julia\\anaconda3\\lib\\site-packages (from apache-beam->object-detection==0.1) (0.22.0)\n",
      "Requirement already satisfied: orjson<4,>=3.9.7 in c:\\users\\julia\\anaconda3\\lib\\site-packages (from apache-beam->object-detection==0.1) (3.9.15)\n",
      "Requirement already satisfied: httplib2<0.23.0,>=0.8 in c:\\users\\julia\\anaconda3\\lib\\site-packages (from apache-beam->object-detection==0.1) (0.22.0)\n",
      "Requirement already satisfied: packaging>=22.0 in c:\\users\\julia\\anaconda3\\lib\\site-packages (from apache-beam->object-detection==0.1) (23.2)\n",
      "Requirement already satisfied: pyarrow<12.0.0,>=3.0.0 in c:\\users\\julia\\anaconda3\\lib\\site-packages (from apache-beam->object-detection==0.1) (11.0.0)\n",
      "Requirement already satisfied: hdfs<3.0.0,>=2.1.0 in c:\\users\\julia\\anaconda3\\lib\\site-packages (from apache-beam->object-detection==0.1) (2.7.3)\n",
      "Requirement already satisfied: grpcio!=1.48.0,<2,>=1.33.1 in c:\\users\\julia\\anaconda3\\lib\\site-packages (from apache-beam->object-detection==0.1) (1.62.0)\n",
      "Requirement already satisfied: pydot<2,>=1.2.0 in c:\\users\\julia\\anaconda3\\lib\\site-packages (from apache-beam->object-detection==0.1) (1.4.2)\n",
      "Requirement already satisfied: fastavro<2,>=0.23.6 in c:\\users\\julia\\anaconda3\\lib\\site-packages (from apache-beam->object-detection==0.1) (1.9.4)\n",
      "Requirement already satisfied: cloudpickle~=2.2.1 in c:\\users\\julia\\anaconda3\\lib\\site-packages (from apache-beam->object-detection==0.1) (2.2.1)\n",
      "Requirement already satisfied: pymongo<5.0.0,>=3.8.0 in c:\\users\\julia\\anaconda3\\lib\\site-packages (from apache-beam->object-detection==0.1) (4.6.2)\n",
      "Requirement already satisfied: jsonschema<5.0.0,>=4.0.0 in c:\\users\\julia\\anaconda3\\lib\\site-packages (from apache-beam->object-detection==0.1) (4.16.0)\n",
      "Requirement already satisfied: proto-plus<2,>=1.7.1 in c:\\users\\julia\\anaconda3\\lib\\site-packages (from apache-beam->object-detection==0.1) (1.23.0)\n",
      "Requirement already satisfied: fasteners<1.0,>=0.3 in c:\\users\\julia\\anaconda3\\lib\\site-packages (from apache-beam->object-detection==0.1) (0.19)\n",
      "Requirement already satisfied: cycler>=0.10.0 in c:\\users\\julia\\anaconda3\\lib\\site-packages (from lvis->object-detection==0.1) (0.10.0)\n",
      "Requirement already satisfied: opencv-python>=4.1.0.25 in c:\\users\\julia\\anaconda3\\lib\\site-packages (from lvis->object-detection==0.1) (4.9.0.80)\n",
      "Requirement already satisfied: kiwisolver>=1.1.0 in c:\\users\\julia\\anaconda3\\lib\\site-packages (from lvis->object-detection==0.1) (1.4.2)\n",
      "Requirement already satisfied: contourpy>=1.0.1 in c:\\users\\julia\\anaconda3\\lib\\site-packages (from matplotlib->object-detection==0.1) (1.2.0)\n",
      "Requirement already satisfied: fonttools>=4.22.0 in c:\\users\\julia\\anaconda3\\lib\\site-packages (from matplotlib->object-detection==0.1) (4.25.0)\n",
      "Requirement already satisfied: importlib-resources>=3.2.0 in c:\\users\\julia\\anaconda3\\lib\\site-packages (from matplotlib->object-detection==0.1) (6.1.2)\n",
      "Requirement already satisfied: tensorflow-io-gcs-filesystem==0.31.0 in c:\\users\\julia\\anaconda3\\lib\\site-packages (from tensorflow_io->object-detection==0.1) (0.31.0)\n",
      "Requirement already satisfied: google-api-core!=2.0.*,!=2.1.*,!=2.2.*,!=2.3.0,<3.0.0.dev0,>=1.31.5 in c:\\users\\julia\\anaconda3\\lib\\site-packages (from google-api-python-client>=1.6.7->tf-models-official==2.8.0->object-detection==0.1) (2.17.1)\n",
      "Requirement already satisfied: uritemplate<5,>=3.0.1 in c:\\users\\julia\\anaconda3\\lib\\site-packages (from google-api-python-client>=1.6.7->tf-models-official==2.8.0->object-detection==0.1) (4.1.1)\n",
      "Requirement already satisfied: google-auth-httplib2>=0.1.0 in c:\\users\\julia\\anaconda3\\lib\\site-packages (from google-api-python-client>=1.6.7->tf-models-official==2.8.0->object-detection==0.1) (0.2.0)\n",
      "Requirement already satisfied: google-auth<3.0.0.dev0,>=1.19.0 in c:\\users\\julia\\anaconda3\\lib\\site-packages (from google-api-python-client>=1.6.7->tf-models-official==2.8.0->object-detection==0.1) (2.28.1)\n",
      "Requirement already satisfied: docopt in c:\\users\\julia\\anaconda3\\lib\\site-packages (from hdfs<3.0.0,>=2.1.0->apache-beam->object-detection==0.1) (0.6.2)\n",
      "Requirement already satisfied: zipp>=3.1.0 in c:\\users\\julia\\anaconda3\\lib\\site-packages (from importlib-resources>=3.2.0->matplotlib->object-detection==0.1) (3.8.0)\n",
      "Requirement already satisfied: tzlocal>=1.2 in c:\\users\\julia\\anaconda3\\lib\\site-packages (from js2py<1,>=0.74->apache-beam->object-detection==0.1) (5.2)\n",
      "Requirement already satisfied: pyjsparser>=2.5.1 in c:\\users\\julia\\anaconda3\\lib\\site-packages (from js2py<1,>=0.74->apache-beam->object-detection==0.1) (2.7.1)\n",
      "Requirement already satisfied: pyrsistent!=0.17.0,!=0.17.1,!=0.17.2,>=0.14.0 in c:\\users\\julia\\anaconda3\\lib\\site-packages (from jsonschema<5.0.0,>=4.0.0->apache-beam->object-detection==0.1) (0.18.0)\n",
      "Requirement already satisfied: attrs>=17.4.0 in c:\\users\\julia\\anaconda3\\lib\\site-packages (from jsonschema<5.0.0,>=4.0.0->apache-beam->object-detection==0.1) (21.4.0)\n",
      "Requirement already satisfied: tqdm in c:\\users\\julia\\anaconda3\\lib\\site-packages (from kaggle>=1.3.9->tf-models-official==2.8.0->object-detection==0.1) (4.64.1)\n",
      "Requirement already satisfied: urllib3 in c:\\users\\julia\\anaconda3\\lib\\site-packages (from kaggle>=1.3.9->tf-models-official==2.8.0->object-detection==0.1) (1.26.11)\n",
      "Requirement already satisfied: bleach in c:\\users\\julia\\anaconda3\\lib\\site-packages (from kaggle>=1.3.9->tf-models-official==2.8.0->object-detection==0.1) (4.1.0)\n",
      "Requirement already satisfied: certifi in c:\\users\\julia\\anaconda3\\lib\\site-packages (from kaggle>=1.3.9->tf-models-official==2.8.0->object-detection==0.1) (2023.7.22)\n",
      "Requirement already satisfied: python-slugify in c:\\users\\julia\\anaconda3\\lib\\site-packages (from kaggle>=1.3.9->tf-models-official==2.8.0->object-detection==0.1) (5.0.2)\n",
      "Requirement already satisfied: dnspython<3.0.0,>=1.16.0 in c:\\users\\julia\\anaconda3\\lib\\site-packages (from pymongo<5.0.0,>=3.8.0->apache-beam->object-detection==0.1) (2.6.1)\n",
      "Requirement already satisfied: idna<4,>=2.5 in c:\\users\\julia\\anaconda3\\lib\\site-packages (from requests<3.0.0,>=2.24.0->apache-beam->object-detection==0.1) (2.10)\n",
      "Requirement already satisfied: charset-normalizer<3,>=2 in c:\\users\\julia\\anaconda3\\lib\\site-packages (from requests<3.0.0,>=2.24.0->apache-beam->object-detection==0.1) (2.0.4)\n",
      "Requirement already satisfied: termcolor>=1.1.0 in c:\\users\\julia\\anaconda3\\lib\\site-packages (from tensorflow~=2.8.0->tf-models-official==2.8.0->object-detection==0.1) (2.4.0)\n",
      "Requirement already satisfied: gast>=0.2.1 in c:\\users\\julia\\anaconda3\\lib\\site-packages (from tensorflow~=2.8.0->tf-models-official==2.8.0->object-detection==0.1) (0.5.4)\n",
      "Requirement already satisfied: google-pasta>=0.1.1 in c:\\users\\julia\\anaconda3\\lib\\site-packages (from tensorflow~=2.8.0->tf-models-official==2.8.0->object-detection==0.1) (0.2.0)\n",
      "Requirement already satisfied: opt-einsum>=2.3.2 in c:\\users\\julia\\anaconda3\\lib\\site-packages (from tensorflow~=2.8.0->tf-models-official==2.8.0->object-detection==0.1) (3.3.0)\n",
      "Requirement already satisfied: astunparse>=1.6.0 in c:\\users\\julia\\anaconda3\\lib\\site-packages (from tensorflow~=2.8.0->tf-models-official==2.8.0->object-detection==0.1) (1.6.3)\n",
      "Requirement already satisfied: wrapt>=1.11.0 in c:\\users\\julia\\anaconda3\\lib\\site-packages (from tensorflow~=2.8.0->tf-models-official==2.8.0->object-detection==0.1) (1.14.1)\n",
      "Requirement already satisfied: tf-estimator-nightly==2.8.0.dev2021122109 in c:\\users\\julia\\anaconda3\\lib\\site-packages (from tensorflow~=2.8.0->tf-models-official==2.8.0->object-detection==0.1) (2.8.0.dev2021122109)\n",
      "Requirement already satisfied: keras-preprocessing>=1.1.1 in c:\\users\\julia\\anaconda3\\lib\\site-packages (from tensorflow~=2.8.0->tf-models-official==2.8.0->object-detection==0.1) (1.1.2)\n",
      "Requirement already satisfied: h5py>=2.9.0 in c:\\users\\julia\\anaconda3\\lib\\site-packages (from tensorflow~=2.8.0->tf-models-official==2.8.0->object-detection==0.1) (3.7.0)\n",
      "Requirement already satisfied: tensorboard<2.9,>=2.8 in c:\\users\\julia\\anaconda3\\lib\\site-packages (from tensorflow~=2.8.0->tf-models-official==2.8.0->object-detection==0.1) (2.8.0)\n",
      "Requirement already satisfied: libclang>=9.0.1 in c:\\users\\julia\\anaconda3\\lib\\site-packages (from tensorflow~=2.8.0->tf-models-official==2.8.0->object-detection==0.1) (16.0.6)\n",
      "Requirement already satisfied: flatbuffers>=1.12 in c:\\users\\julia\\anaconda3\\lib\\site-packages (from tensorflow~=2.8.0->tf-models-official==2.8.0->object-detection==0.1) (24.3.6)\n",
      "Requirement already satisfied: setuptools in c:\\users\\julia\\anaconda3\\lib\\site-packages (from tensorflow~=2.8.0->tf-models-official==2.8.0->object-detection==0.1) (63.4.1)\n",
      "Requirement already satisfied: tf-keras>=2.14.1 in c:\\users\\julia\\anaconda3\\lib\\site-packages (from tensorflow-hub>=0.6.0->tf-models-official==2.8.0->object-detection==0.1) (2.15.0)\n",
      "Requirement already satisfied: dm-tree~=0.1.1 in c:\\users\\julia\\anaconda3\\lib\\site-packages (from tensorflow-model-optimization>=0.4.1->tf-models-official==2.8.0->object-detection==0.1) (0.1.8)\n",
      "Requirement already satisfied: pyasn1>=0.1.7 in c:\\users\\julia\\anaconda3\\lib\\site-packages (from oauth2client->tf-models-official==2.8.0->object-detection==0.1) (0.4.8)\n",
      "Requirement already satisfied: rsa>=3.1.4 in c:\\users\\julia\\anaconda3\\lib\\site-packages (from oauth2client->tf-models-official==2.8.0->object-detection==0.1) (4.9)\n",
      "Requirement already satisfied: pyasn1-modules>=0.0.5 in c:\\users\\julia\\anaconda3\\lib\\site-packages (from oauth2client->tf-models-official==2.8.0->object-detection==0.1) (0.2.8)\n",
      "Requirement already satisfied: pywin32>=226 in c:\\users\\julia\\anaconda3\\lib\\site-packages (from portalocker->sacrebleu<=2.2.0->object-detection==0.1) (302)\n",
      "Requirement already satisfied: scikit-learn>=0.21.3 in c:\\users\\julia\\anaconda3\\lib\\site-packages (from seqeval->tf-models-official==2.8.0->object-detection==0.1) (1.0.2)\n",
      "Requirement already satisfied: typeguard<3.0.0,>=2.7 in c:\\users\\julia\\anaconda3\\lib\\site-packages (from tensorflow-addons->tf-models-official==2.8.0->object-detection==0.1) (2.13.3)\n",
      "Requirement already satisfied: etils[enp,epath,etree]>=0.9.0 in c:\\users\\julia\\anaconda3\\lib\\site-packages (from tensorflow-datasets->tf-models-official==2.8.0->object-detection==0.1) (1.5.2)\n",
      "Requirement already satisfied: tensorflow-metadata in c:\\users\\julia\\anaconda3\\lib\\site-packages (from tensorflow-datasets->tf-models-official==2.8.0->object-detection==0.1) (1.14.0)\n",
      "Requirement already satisfied: click in c:\\users\\julia\\anaconda3\\lib\\site-packages (from tensorflow-datasets->tf-models-official==2.8.0->object-detection==0.1) (8.0.4)\n",
      "Requirement already satisfied: array-record in c:\\users\\julia\\anaconda3\\lib\\site-packages (from tensorflow-datasets->tf-models-official==2.8.0->object-detection==0.1) (0.4.1)\n",
      "Requirement already satisfied: toml in c:\\users\\julia\\anaconda3\\lib\\site-packages (from tensorflow-datasets->tf-models-official==2.8.0->object-detection==0.1) (0.10.2)\n",
      "Requirement already satisfied: promise in c:\\users\\julia\\anaconda3\\lib\\site-packages (from tensorflow-datasets->tf-models-official==2.8.0->object-detection==0.1) (2.3)\n",
      "Requirement already satisfied: wheel<1.0,>=0.23.0 in c:\\users\\julia\\anaconda3\\lib\\site-packages (from astunparse>=1.6.0->tensorflow~=2.8.0->tf-models-official==2.8.0->object-detection==0.1) (0.37.1)\n",
      "Requirement already satisfied: fsspec in c:\\users\\julia\\anaconda3\\lib\\site-packages (from etils[enp,epath,etree]>=0.9.0->tensorflow-datasets->tf-models-official==2.8.0->object-detection==0.1) (2022.7.1)\n",
      "Requirement already satisfied: googleapis-common-protos<2.0.dev0,>=1.56.2 in c:\\users\\julia\\anaconda3\\lib\\site-packages (from google-api-core!=2.0.*,!=2.1.*,!=2.2.*,!=2.3.0,<3.0.0.dev0,>=1.31.5->google-api-python-client>=1.6.7->tf-models-official==2.8.0->object-detection==0.1) (1.62.0)\n",
      "Requirement already satisfied: cachetools<6.0,>=2.0.0 in c:\\users\\julia\\anaconda3\\lib\\site-packages (from google-auth<3.0.0.dev0,>=1.19.0->google-api-python-client>=1.6.7->tf-models-official==2.8.0->object-detection==0.1) (5.3.3)\n",
      "Requirement already satisfied: threadpoolctl>=2.0.0 in c:\\users\\julia\\anaconda3\\lib\\site-packages (from scikit-learn>=0.21.3->seqeval->tf-models-official==2.8.0->object-detection==0.1) (2.2.0)\n",
      "Requirement already satisfied: joblib>=0.11 in c:\\users\\julia\\anaconda3\\lib\\site-packages (from scikit-learn>=0.21.3->seqeval->tf-models-official==2.8.0->object-detection==0.1) (1.1.0)\n",
      "Requirement already satisfied: tensorboard-plugin-wit>=1.6.0 in c:\\users\\julia\\anaconda3\\lib\\site-packages (from tensorboard<2.9,>=2.8->tensorflow~=2.8.0->tf-models-official==2.8.0->object-detection==0.1) (1.8.1)\n",
      "Requirement already satisfied: markdown>=2.6.8 in c:\\users\\julia\\anaconda3\\lib\\site-packages (from tensorboard<2.9,>=2.8->tensorflow~=2.8.0->tf-models-official==2.8.0->object-detection==0.1) (3.3.4)\n",
      "Requirement already satisfied: google-auth-oauthlib<0.5,>=0.4.1 in c:\\users\\julia\\anaconda3\\lib\\site-packages (from tensorboard<2.9,>=2.8->tensorflow~=2.8.0->tf-models-official==2.8.0->object-detection==0.1) (0.4.6)\n",
      "Requirement already satisfied: werkzeug>=0.11.15 in c:\\users\\julia\\anaconda3\\lib\\site-packages (from tensorboard<2.9,>=2.8->tensorflow~=2.8.0->tf-models-official==2.8.0->object-detection==0.1) (2.0.3)\n",
      "Requirement already satisfied: tensorboard-data-server<0.7.0,>=0.6.0 in c:\\users\\julia\\anaconda3\\lib\\site-packages (from tensorboard<2.9,>=2.8->tensorflow~=2.8.0->tf-models-official==2.8.0->object-detection==0.1) (0.6.1)\n",
      "Requirement already satisfied: tzdata in c:\\users\\julia\\anaconda3\\lib\\site-packages (from tzlocal>=1.2->js2py<1,>=0.74->apache-beam->object-detection==0.1) (2024.1)\n",
      "Requirement already satisfied: webencodings in c:\\users\\julia\\anaconda3\\lib\\site-packages (from bleach->kaggle>=1.3.9->tf-models-official==2.8.0->object-detection==0.1) (0.5.1)\n",
      "Requirement already satisfied: text-unidecode>=1.3 in c:\\users\\julia\\anaconda3\\lib\\site-packages (from python-slugify->kaggle>=1.3.9->tf-models-official==2.8.0->object-detection==0.1) (1.3)\n",
      "Requirement already satisfied: requests-oauthlib>=0.7.0 in c:\\users\\julia\\anaconda3\\lib\\site-packages (from google-auth-oauthlib<0.5,>=0.4.1->tensorboard<2.9,>=2.8->tensorflow~=2.8.0->tf-models-official==2.8.0->object-detection==0.1) (1.3.1)\n",
      "Requirement already satisfied: oauthlib>=3.0.0 in c:\\users\\julia\\anaconda3\\lib\\site-packages (from requests-oauthlib>=0.7.0->google-auth-oauthlib<0.5,>=0.4.1->tensorboard<2.9,>=2.8->tensorflow~=2.8.0->tf-models-official==2.8.0->object-detection==0.1) (3.2.2)\n",
      "Building wheels for collected packages: object-detection\n",
      "  Building wheel for object-detection (setup.py): started\n",
      "  Building wheel for object-detection (setup.py): finished with status 'done'\n",
      "  Created wheel for object-detection: filename=object_detection-0.1-py3-none-any.whl size=1708884 sha256=8301272bb05b2d6d704916d5238d0f7eb462c9c5f33b601f0e4afffa47318ae1\n",
      "  Stored in directory: C:\\Users\\julia\\AppData\\Local\\Temp\\pip-ephem-wheel-cache-ywii_6og\\wheels\\71\\0d\\c1\\5bfc76c803371d8d9c06e4267242d03bc6db3bd5be4d8ff589\n",
      "Successfully built object-detection\n",
      "Installing collected packages: object-detection\n",
      "  Attempting uninstall: object-detection\n",
      "    Found existing installation: object-detection 0.1\n",
      "    Uninstalling object-detection-0.1:\n",
      "      Successfully uninstalled object-detection-0.1\n",
      "Successfully installed object-detection-0.1\n"
     ]
    },
    {
     "name": "stdout",
     "output_type": "stream",
     "text": [
      "Requirement already satisfied: tensorflow==2.8.0 in c:\\users\\julia\\anaconda3\\lib\\site-packages (2.8.0)\n",
      "Requirement already satisfied: six>=1.12.0 in c:\\users\\julia\\anaconda3\\lib\\site-packages (from tensorflow==2.8.0) (1.16.0)\n",
      "Requirement already satisfied: grpcio<2.0,>=1.24.3 in c:\\users\\julia\\anaconda3\\lib\\site-packages (from tensorflow==2.8.0) (1.62.0)\n",
      "Requirement already satisfied: h5py>=2.9.0 in c:\\users\\julia\\anaconda3\\lib\\site-packages (from tensorflow==2.8.0) (3.7.0)\n",
      "Requirement already satisfied: keras<2.9,>=2.8.0rc0 in c:\\users\\julia\\anaconda3\\lib\\site-packages (from tensorflow==2.8.0) (2.8.0)\n",
      "Requirement already satisfied: setuptools in c:\\users\\julia\\anaconda3\\lib\\site-packages (from tensorflow==2.8.0) (63.4.1)\n",
      "Requirement already satisfied: wrapt>=1.11.0 in c:\\users\\julia\\anaconda3\\lib\\site-packages (from tensorflow==2.8.0) (1.14.1)\n",
      "Requirement already satisfied: tensorflow-io-gcs-filesystem>=0.23.1 in c:\\users\\julia\\anaconda3\\lib\\site-packages (from tensorflow==2.8.0) (0.31.0)\n",
      "Requirement already satisfied: libclang>=9.0.1 in c:\\users\\julia\\anaconda3\\lib\\site-packages (from tensorflow==2.8.0) (16.0.6)\n",
      "Requirement already satisfied: numpy>=1.20 in c:\\users\\julia\\anaconda3\\lib\\site-packages (from tensorflow==2.8.0) (1.24.4)\n",
      "Requirement already satisfied: tf-estimator-nightly==2.8.0.dev2021122109 in c:\\users\\julia\\anaconda3\\lib\\site-packages (from tensorflow==2.8.0) (2.8.0.dev2021122109)\n",
      "Requirement already satisfied: keras-preprocessing>=1.1.1 in c:\\users\\julia\\anaconda3\\lib\\site-packages (from tensorflow==2.8.0) (1.1.2)\n",
      "Requirement already satisfied: typing-extensions>=3.6.6 in c:\\users\\julia\\anaconda3\\lib\\site-packages (from tensorflow==2.8.0) (4.3.0)\n",
      "Requirement already satisfied: google-pasta>=0.1.1 in c:\\users\\julia\\anaconda3\\lib\\site-packages (from tensorflow==2.8.0) (0.2.0)\n",
      "Requirement already satisfied: termcolor>=1.1.0 in c:\\users\\julia\\anaconda3\\lib\\site-packages (from tensorflow==2.8.0) (2.4.0)\n",
      "Requirement already satisfied: flatbuffers>=1.12 in c:\\users\\julia\\anaconda3\\lib\\site-packages (from tensorflow==2.8.0) (24.3.6)\n",
      "Requirement already satisfied: gast>=0.2.1 in c:\\users\\julia\\anaconda3\\lib\\site-packages (from tensorflow==2.8.0) (0.5.4)\n",
      "Requirement already satisfied: tensorboard<2.9,>=2.8 in c:\\users\\julia\\anaconda3\\lib\\site-packages (from tensorflow==2.8.0) (2.8.0)\n",
      "Requirement already satisfied: absl-py>=0.4.0 in c:\\users\\julia\\anaconda3\\lib\\site-packages (from tensorflow==2.8.0) (1.4.0)\n",
      "Requirement already satisfied: astunparse>=1.6.0 in c:\\users\\julia\\anaconda3\\lib\\site-packages (from tensorflow==2.8.0) (1.6.3)\n",
      "Requirement already satisfied: opt-einsum>=2.3.2 in c:\\users\\julia\\anaconda3\\lib\\site-packages (from tensorflow==2.8.0) (3.3.0)\n",
      "Requirement already satisfied: protobuf>=3.9.2 in c:\\users\\julia\\anaconda3\\lib\\site-packages (from tensorflow==2.8.0) (3.20.3)\n",
      "Requirement already satisfied: wheel<1.0,>=0.23.0 in c:\\users\\julia\\anaconda3\\lib\\site-packages (from astunparse>=1.6.0->tensorflow==2.8.0) (0.37.1)\n",
      "Requirement already satisfied: requests<3,>=2.21.0 in c:\\users\\julia\\anaconda3\\lib\\site-packages (from tensorboard<2.9,>=2.8->tensorflow==2.8.0) (2.28.1)\n",
      "Requirement already satisfied: markdown>=2.6.8 in c:\\users\\julia\\anaconda3\\lib\\site-packages (from tensorboard<2.9,>=2.8->tensorflow==2.8.0) (3.3.4)\n",
      "Requirement already satisfied: tensorboard-plugin-wit>=1.6.0 in c:\\users\\julia\\anaconda3\\lib\\site-packages (from tensorboard<2.9,>=2.8->tensorflow==2.8.0) (1.8.1)\n",
      "Requirement already satisfied: google-auth<3,>=1.6.3 in c:\\users\\julia\\anaconda3\\lib\\site-packages (from tensorboard<2.9,>=2.8->tensorflow==2.8.0) (2.28.1)\n",
      "Requirement already satisfied: tensorboard-data-server<0.7.0,>=0.6.0 in c:\\users\\julia\\anaconda3\\lib\\site-packages (from tensorboard<2.9,>=2.8->tensorflow==2.8.0) (0.6.1)\n",
      "Requirement already satisfied: google-auth-oauthlib<0.5,>=0.4.1 in c:\\users\\julia\\anaconda3\\lib\\site-packages (from tensorboard<2.9,>=2.8->tensorflow==2.8.0) (0.4.6)\n",
      "Requirement already satisfied: werkzeug>=0.11.15 in c:\\users\\julia\\anaconda3\\lib\\site-packages (from tensorboard<2.9,>=2.8->tensorflow==2.8.0) (2.0.3)\n",
      "Requirement already satisfied: cachetools<6.0,>=2.0.0 in c:\\users\\julia\\anaconda3\\lib\\site-packages (from google-auth<3,>=1.6.3->tensorboard<2.9,>=2.8->tensorflow==2.8.0) (5.3.3)\n",
      "Requirement already satisfied: pyasn1-modules>=0.2.1 in c:\\users\\julia\\anaconda3\\lib\\site-packages (from google-auth<3,>=1.6.3->tensorboard<2.9,>=2.8->tensorflow==2.8.0) (0.2.8)\n",
      "Requirement already satisfied: rsa<5,>=3.1.4 in c:\\users\\julia\\anaconda3\\lib\\site-packages (from google-auth<3,>=1.6.3->tensorboard<2.9,>=2.8->tensorflow==2.8.0) (4.9)\n",
      "Requirement already satisfied: requests-oauthlib>=0.7.0 in c:\\users\\julia\\anaconda3\\lib\\site-packages (from google-auth-oauthlib<0.5,>=0.4.1->tensorboard<2.9,>=2.8->tensorflow==2.8.0) (1.3.1)\n",
      "Requirement already satisfied: urllib3<1.27,>=1.21.1 in c:\\users\\julia\\anaconda3\\lib\\site-packages (from requests<3,>=2.21.0->tensorboard<2.9,>=2.8->tensorflow==2.8.0) (1.26.11)\n",
      "Requirement already satisfied: charset-normalizer<3,>=2 in c:\\users\\julia\\anaconda3\\lib\\site-packages (from requests<3,>=2.21.0->tensorboard<2.9,>=2.8->tensorflow==2.8.0) (2.0.4)\n",
      "Requirement already satisfied: idna<4,>=2.5 in c:\\users\\julia\\anaconda3\\lib\\site-packages (from requests<3,>=2.21.0->tensorboard<2.9,>=2.8->tensorflow==2.8.0) (2.10)\n",
      "Requirement already satisfied: certifi>=2017.4.17 in c:\\users\\julia\\anaconda3\\lib\\site-packages (from requests<3,>=2.21.0->tensorboard<2.9,>=2.8->tensorflow==2.8.0) (2023.7.22)\n",
      "Requirement already satisfied: pyasn1<0.5.0,>=0.4.6 in c:\\users\\julia\\anaconda3\\lib\\site-packages (from pyasn1-modules>=0.2.1->google-auth<3,>=1.6.3->tensorboard<2.9,>=2.8->tensorflow==2.8.0) (0.4.8)\n",
      "Requirement already satisfied: oauthlib>=3.0.0 in c:\\users\\julia\\anaconda3\\lib\\site-packages (from requests-oauthlib>=0.7.0->google-auth-oauthlib<0.5,>=0.4.1->tensorboard<2.9,>=2.8->tensorflow==2.8.0) (3.2.2)\n"
     ]
    }
   ],
   "source": [
    "!pip install pyyaml==5.3.1\n",
    "!pip install Tensorflow/models/research/\n",
    "!pip install tensorflow==2.8.0"
   ]
  },
  {
   "cell_type": "code",
   "execution_count": 16,
   "id": "S--pUh0FFsix",
   "metadata": {
    "colab": {
     "base_uri": "https://localhost:8080/"
    },
    "id": "S--pUh0FFsix",
    "outputId": "1d4b628a-8564-4fdd-c4bf-9ee5930630a7"
   },
   "outputs": [
    {
     "name": "stderr",
     "output_type": "stream",
     "text": [
      "2024-03-08 08:17:10.444530: W tensorflow/stream_executor/platform/default/dso_loader.cc:64] Could not load dynamic library 'cudart64_110.dll'; dlerror: cudart64_110.dll not found\n",
      "2024-03-08 08:17:10.444575: I tensorflow/stream_executor/cuda/cudart_stub.cc:29] Ignore above cudart dlerror if you do not have a GPU set up on your machine.\n",
      "2024-03-08 08:17:16.928547: W tensorflow/stream_executor/platform/default/dso_loader.cc:64] Could not load dynamic library 'cudart64_110.dll'; dlerror: cudart64_110.dll not found\n",
      "2024-03-08 08:17:16.929749: W tensorflow/stream_executor/platform/default/dso_loader.cc:64] Could not load dynamic library 'cublas64_11.dll'; dlerror: cublas64_11.dll not found\n",
      "2024-03-08 08:17:16.930877: W tensorflow/stream_executor/platform/default/dso_loader.cc:64] Could not load dynamic library 'cublasLt64_11.dll'; dlerror: cublasLt64_11.dll not found\n",
      "2024-03-08 08:17:16.931994: W tensorflow/stream_executor/platform/default/dso_loader.cc:64] Could not load dynamic library 'cufft64_10.dll'; dlerror: cufft64_10.dll not found\n",
      "2024-03-08 08:17:16.933114: W tensorflow/stream_executor/platform/default/dso_loader.cc:64] Could not load dynamic library 'curand64_10.dll'; dlerror: curand64_10.dll not found\n",
      "2024-03-08 08:17:16.934244: W tensorflow/stream_executor/platform/default/dso_loader.cc:64] Could not load dynamic library 'cusolver64_11.dll'; dlerror: cusolver64_11.dll not found\n",
      "2024-03-08 08:17:16.935370: W tensorflow/stream_executor/platform/default/dso_loader.cc:64] Could not load dynamic library 'cusparse64_11.dll'; dlerror: cusparse64_11.dll not found\n",
      "2024-03-08 08:17:16.936460: W tensorflow/stream_executor/platform/default/dso_loader.cc:64] Could not load dynamic library 'cudnn64_8.dll'; dlerror: cudnn64_8.dll not found\n",
      "2024-03-08 08:17:16.936481: W tensorflow/core/common_runtime/gpu/gpu_device.cc:1850] Cannot dlopen some GPU libraries. Please make sure the missing libraries mentioned above are installed properly if you would like to use GPU. Follow the guide at https://www.tensorflow.org/install/gpu for how to download and setup the required libraries for your platform.\n",
      "Skipping registering GPU devices...\n",
      "Running tests under Python 3.9.13: C:\\Users\\julia\\anaconda3\\python.exe\n",
      "[ RUN      ] ModelBuilderTF2Test.test_create_center_net_deepmac\n",
      "2024-03-08 08:17:16.954142: I tensorflow/core/platform/cpu_feature_guard.cc:151] This TensorFlow binary is optimized with oneAPI Deep Neural Network Library (oneDNN) to use the following CPU instructions in performance-critical operations:  AVX AVX2\n",
      "To enable them in other operations, rebuild TensorFlow with the appropriate compiler flags.\n",
      "C:\\Users\\julia\\anaconda3\\lib\\site-packages\\object_detection\\builders\\model_builder.py:1112: DeprecationWarning: The 'warn' function is deprecated, use 'warning' instead\n",
      "  logging.warn(('Building experimental DeepMAC meta-arch.'\n",
      "W0308 08:17:17.174221 11152 model_builder.py:1112] Building experimental DeepMAC meta-arch. Some features may be omitted.\n",
      "INFO:tensorflow:time(__main__.ModelBuilderTF2Test.test_create_center_net_deepmac): 0.61s\n",
      "I0308 08:17:17.541390 11152 test_util.py:2373] time(__main__.ModelBuilderTF2Test.test_create_center_net_deepmac): 0.61s\n",
      "[       OK ] ModelBuilderTF2Test.test_create_center_net_deepmac\n",
      "[ RUN      ] ModelBuilderTF2Test.test_create_center_net_model0 (customize_head_params=True)\n",
      "INFO:tensorflow:time(__main__.ModelBuilderTF2Test.test_create_center_net_model0 (customize_head_params=True)): 1.56s\n",
      "I0308 08:17:19.105398 11152 test_util.py:2373] time(__main__.ModelBuilderTF2Test.test_create_center_net_model0 (customize_head_params=True)): 1.56s\n",
      "[       OK ] ModelBuilderTF2Test.test_create_center_net_model0 (customize_head_params=True)\n",
      "[ RUN      ] ModelBuilderTF2Test.test_create_center_net_model1 (customize_head_params=False)\n",
      "INFO:tensorflow:time(__main__.ModelBuilderTF2Test.test_create_center_net_model1 (customize_head_params=False)): 0.22s\n",
      "I0308 08:17:19.330343 11152 test_util.py:2373] time(__main__.ModelBuilderTF2Test.test_create_center_net_model1 (customize_head_params=False)): 0.22s\n",
      "[       OK ] ModelBuilderTF2Test.test_create_center_net_model1 (customize_head_params=False)\n",
      "[ RUN      ] ModelBuilderTF2Test.test_create_center_net_model_from_keypoints\n",
      "INFO:tensorflow:time(__main__.ModelBuilderTF2Test.test_create_center_net_model_from_keypoints): 0.2s\n",
      "I0308 08:17:19.536850 11152 test_util.py:2373] time(__main__.ModelBuilderTF2Test.test_create_center_net_model_from_keypoints): 0.2s\n",
      "[       OK ] ModelBuilderTF2Test.test_create_center_net_model_from_keypoints\n",
      "[ RUN      ] ModelBuilderTF2Test.test_create_center_net_model_mobilenet\n",
      "INFO:tensorflow:time(__main__.ModelBuilderTF2Test.test_create_center_net_model_mobilenet): 1.62s\n",
      "I0308 08:17:21.154923 11152 test_util.py:2373] time(__main__.ModelBuilderTF2Test.test_create_center_net_model_mobilenet): 1.62s\n",
      "[       OK ] ModelBuilderTF2Test.test_create_center_net_model_mobilenet\n",
      "[ RUN      ] ModelBuilderTF2Test.test_create_experimental_model\n",
      "INFO:tensorflow:time(__main__.ModelBuilderTF2Test.test_create_experimental_model): 0.0s\n",
      "I0308 08:17:21.154923 11152 test_util.py:2373] time(__main__.ModelBuilderTF2Test.test_create_experimental_model): 0.0s\n",
      "[       OK ] ModelBuilderTF2Test.test_create_experimental_model\n",
      "[ RUN      ] ModelBuilderTF2Test.test_create_faster_rcnn_from_config_with_crop_feature0 (True)\n",
      "INFO:tensorflow:time(__main__.ModelBuilderTF2Test.test_create_faster_rcnn_from_config_with_crop_feature0 (True)): 0.03s\n",
      "I0308 08:17:21.186218 11152 test_util.py:2373] time(__main__.ModelBuilderTF2Test.test_create_faster_rcnn_from_config_with_crop_feature0 (True)): 0.03s\n",
      "[       OK ] ModelBuilderTF2Test.test_create_faster_rcnn_from_config_with_crop_feature0 (True)\n",
      "[ RUN      ] ModelBuilderTF2Test.test_create_faster_rcnn_from_config_with_crop_feature1 (False)\n",
      "INFO:tensorflow:time(__main__.ModelBuilderTF2Test.test_create_faster_rcnn_from_config_with_crop_feature1 (False)): 0.0s\n",
      "I0308 08:17:21.186218 11152 test_util.py:2373] time(__main__.ModelBuilderTF2Test.test_create_faster_rcnn_from_config_with_crop_feature1 (False)): 0.0s\n",
      "[       OK ] ModelBuilderTF2Test.test_create_faster_rcnn_from_config_with_crop_feature1 (False)\n",
      "[ RUN      ] ModelBuilderTF2Test.test_create_faster_rcnn_model_from_config_with_example_miner\n",
      "INFO:tensorflow:time(__main__.ModelBuilderTF2Test.test_create_faster_rcnn_model_from_config_with_example_miner): 0.02s\n",
      "I0308 08:17:21.201844 11152 test_util.py:2373] time(__main__.ModelBuilderTF2Test.test_create_faster_rcnn_model_from_config_with_example_miner): 0.02s\n",
      "[       OK ] ModelBuilderTF2Test.test_create_faster_rcnn_model_from_config_with_example_miner\n",
      "[ RUN      ] ModelBuilderTF2Test.test_create_faster_rcnn_models_from_config_faster_rcnn_with_matmul\n",
      "INFO:tensorflow:time(__main__.ModelBuilderTF2Test.test_create_faster_rcnn_models_from_config_faster_rcnn_with_matmul): 0.09s\n",
      "I0308 08:17:21.288148 11152 test_util.py:2373] time(__main__.ModelBuilderTF2Test.test_create_faster_rcnn_models_from_config_faster_rcnn_with_matmul): 0.09s\n",
      "[       OK ] ModelBuilderTF2Test.test_create_faster_rcnn_models_from_config_faster_rcnn_with_matmul\n",
      "[ RUN      ] ModelBuilderTF2Test.test_create_faster_rcnn_models_from_config_faster_rcnn_without_matmul\n",
      "INFO:tensorflow:time(__main__.ModelBuilderTF2Test.test_create_faster_rcnn_models_from_config_faster_rcnn_without_matmul): 0.08s\n",
      "I0308 08:17:21.367935 11152 test_util.py:2373] time(__main__.ModelBuilderTF2Test.test_create_faster_rcnn_models_from_config_faster_rcnn_without_matmul): 0.08s\n",
      "[       OK ] ModelBuilderTF2Test.test_create_faster_rcnn_models_from_config_faster_rcnn_without_matmul\n",
      "[ RUN      ] ModelBuilderTF2Test.test_create_faster_rcnn_models_from_config_mask_rcnn_with_matmul\n",
      "INFO:tensorflow:time(__main__.ModelBuilderTF2Test.test_create_faster_rcnn_models_from_config_mask_rcnn_with_matmul): 0.08s\n",
      "I0308 08:17:21.449867 11152 test_util.py:2373] time(__main__.ModelBuilderTF2Test.test_create_faster_rcnn_models_from_config_mask_rcnn_with_matmul): 0.08s\n",
      "[       OK ] ModelBuilderTF2Test.test_create_faster_rcnn_models_from_config_mask_rcnn_with_matmul\n",
      "[ RUN      ] ModelBuilderTF2Test.test_create_faster_rcnn_models_from_config_mask_rcnn_without_matmul\n",
      "INFO:tensorflow:time(__main__.ModelBuilderTF2Test.test_create_faster_rcnn_models_from_config_mask_rcnn_without_matmul): 0.07s\n",
      "I0308 08:17:21.523752 11152 test_util.py:2373] time(__main__.ModelBuilderTF2Test.test_create_faster_rcnn_models_from_config_mask_rcnn_without_matmul): 0.07s\n",
      "[       OK ] ModelBuilderTF2Test.test_create_faster_rcnn_models_from_config_mask_rcnn_without_matmul\n",
      "[ RUN      ] ModelBuilderTF2Test.test_create_rfcn_model_from_config\n",
      "INFO:tensorflow:time(__main__.ModelBuilderTF2Test.test_create_rfcn_model_from_config): 0.08s\n",
      "I0308 08:17:21.603546 11152 test_util.py:2373] time(__main__.ModelBuilderTF2Test.test_create_rfcn_model_from_config): 0.08s\n",
      "[       OK ] ModelBuilderTF2Test.test_create_rfcn_model_from_config\n",
      "[ RUN      ] ModelBuilderTF2Test.test_create_ssd_fpn_model_from_config\n",
      "INFO:tensorflow:time(__main__.ModelBuilderTF2Test.test_create_ssd_fpn_model_from_config): 0.02s\n",
      "I0308 08:17:21.626124 11152 test_util.py:2373] time(__main__.ModelBuilderTF2Test.test_create_ssd_fpn_model_from_config): 0.02s\n",
      "[       OK ] ModelBuilderTF2Test.test_create_ssd_fpn_model_from_config\n",
      "[ RUN      ] ModelBuilderTF2Test.test_create_ssd_models_from_config\n",
      "I0308 08:17:21.759031 11152 ssd_efficientnet_bifpn_feature_extractor.py:161] EfficientDet EfficientNet backbone version: efficientnet-b0\n",
      "I0308 08:17:21.759031 11152 ssd_efficientnet_bifpn_feature_extractor.py:163] EfficientDet BiFPN num filters: 64\n",
      "I0308 08:17:21.759031 11152 ssd_efficientnet_bifpn_feature_extractor.py:164] EfficientDet BiFPN num iterations: 3\n",
      "I0308 08:17:21.767155 11152 efficientnet_model.py:144] round_filter input=32 output=32\n",
      "I0308 08:17:21.779496 11152 efficientnet_model.py:144] round_filter input=32 output=32\n",
      "I0308 08:17:21.779496 11152 efficientnet_model.py:144] round_filter input=16 output=16\n",
      "I0308 08:17:21.830497 11152 efficientnet_model.py:144] round_filter input=16 output=16\n",
      "I0308 08:17:21.830497 11152 efficientnet_model.py:144] round_filter input=24 output=24\n",
      "I0308 08:17:21.943046 11152 efficientnet_model.py:144] round_filter input=24 output=24\n",
      "I0308 08:17:21.943046 11152 efficientnet_model.py:144] round_filter input=40 output=40\n",
      "I0308 08:17:22.059235 11152 efficientnet_model.py:144] round_filter input=40 output=40\n",
      "I0308 08:17:22.059235 11152 efficientnet_model.py:144] round_filter input=80 output=80\n",
      "I0308 08:17:22.228655 11152 efficientnet_model.py:144] round_filter input=80 output=80\n",
      "I0308 08:17:22.228655 11152 efficientnet_model.py:144] round_filter input=112 output=112\n",
      "I0308 08:17:22.413485 11152 efficientnet_model.py:144] round_filter input=112 output=112\n",
      "I0308 08:17:22.413485 11152 efficientnet_model.py:144] round_filter input=192 output=192\n",
      "I0308 08:17:22.676570 11152 efficientnet_model.py:144] round_filter input=192 output=192\n",
      "I0308 08:17:22.676570 11152 efficientnet_model.py:144] round_filter input=320 output=320\n",
      "I0308 08:17:22.750040 11152 efficientnet_model.py:144] round_filter input=1280 output=1280\n",
      "I0308 08:17:22.781320 11152 efficientnet_model.py:454] Building model efficientnet with params ModelConfig(width_coefficient=1.0, depth_coefficient=1.0, resolution=224, dropout_rate=0.2, blocks=(BlockConfig(input_filters=32, output_filters=16, kernel_size=3, num_repeat=1, expand_ratio=1, strides=(1, 1), se_ratio=0.25, id_skip=True, fused_conv=False, conv_type='depthwise'), BlockConfig(input_filters=16, output_filters=24, kernel_size=3, num_repeat=2, expand_ratio=6, strides=(2, 2), se_ratio=0.25, id_skip=True, fused_conv=False, conv_type='depthwise'), BlockConfig(input_filters=24, output_filters=40, kernel_size=5, num_repeat=2, expand_ratio=6, strides=(2, 2), se_ratio=0.25, id_skip=True, fused_conv=False, conv_type='depthwise'), BlockConfig(input_filters=40, output_filters=80, kernel_size=3, num_repeat=3, expand_ratio=6, strides=(2, 2), se_ratio=0.25, id_skip=True, fused_conv=False, conv_type='depthwise'), BlockConfig(input_filters=80, output_filters=112, kernel_size=5, num_repeat=3, expand_ratio=6, strides=(1, 1), se_ratio=0.25, id_skip=True, fused_conv=False, conv_type='depthwise'), BlockConfig(input_filters=112, output_filters=192, kernel_size=5, num_repeat=4, expand_ratio=6, strides=(2, 2), se_ratio=0.25, id_skip=True, fused_conv=False, conv_type='depthwise'), BlockConfig(input_filters=192, output_filters=320, kernel_size=3, num_repeat=1, expand_ratio=6, strides=(1, 1), se_ratio=0.25, id_skip=True, fused_conv=False, conv_type='depthwise')), stem_base_filters=32, top_base_filters=1280, activation='simple_swish', batch_norm='default', bn_momentum=0.99, bn_epsilon=0.001, weight_decay=5e-06, drop_connect_rate=0.2, depth_divisor=8, min_depth=None, use_se=True, input_channels=3, num_classes=1000, model_name='efficientnet', rescale_input=False, data_format='channels_last', dtype='float32')\n",
      "I0308 08:17:22.830285 11152 ssd_efficientnet_bifpn_feature_extractor.py:161] EfficientDet EfficientNet backbone version: efficientnet-b1\n",
      "I0308 08:17:22.830285 11152 ssd_efficientnet_bifpn_feature_extractor.py:163] EfficientDet BiFPN num filters: 88\n",
      "I0308 08:17:22.830285 11152 ssd_efficientnet_bifpn_feature_extractor.py:164] EfficientDet BiFPN num iterations: 4\n",
      "I0308 08:17:22.830285 11152 efficientnet_model.py:144] round_filter input=32 output=32\n",
      "I0308 08:17:22.845907 11152 efficientnet_model.py:144] round_filter input=32 output=32\n",
      "I0308 08:17:22.845907 11152 efficientnet_model.py:144] round_filter input=16 output=16\n",
      "I0308 08:17:22.937679 11152 efficientnet_model.py:144] round_filter input=16 output=16\n",
      "I0308 08:17:22.937679 11152 efficientnet_model.py:144] round_filter input=24 output=24\n",
      "I0308 08:17:23.107292 11152 efficientnet_model.py:144] round_filter input=24 output=24\n",
      "I0308 08:17:23.107292 11152 efficientnet_model.py:144] round_filter input=40 output=40\n",
      "I0308 08:17:23.285735 11152 efficientnet_model.py:144] round_filter input=40 output=40\n",
      "I0308 08:17:23.285735 11152 efficientnet_model.py:144] round_filter input=80 output=80\n",
      "I0308 08:17:23.539731 11152 efficientnet_model.py:144] round_filter input=80 output=80\n",
      "I0308 08:17:23.539731 11152 efficientnet_model.py:144] round_filter input=112 output=112\n",
      "I0308 08:17:23.930105 11152 efficientnet_model.py:144] round_filter input=112 output=112\n",
      "I0308 08:17:23.930105 11152 efficientnet_model.py:144] round_filter input=192 output=192\n",
      "I0308 08:17:24.262305 11152 efficientnet_model.py:144] round_filter input=192 output=192\n",
      "I0308 08:17:24.262305 11152 efficientnet_model.py:144] round_filter input=320 output=320\n",
      "I0308 08:17:24.478572 11152 efficientnet_model.py:144] round_filter input=1280 output=1280\n",
      "I0308 08:17:24.509824 11152 efficientnet_model.py:454] Building model efficientnet with params ModelConfig(width_coefficient=1.0, depth_coefficient=1.1, resolution=240, dropout_rate=0.2, blocks=(BlockConfig(input_filters=32, output_filters=16, kernel_size=3, num_repeat=1, expand_ratio=1, strides=(1, 1), se_ratio=0.25, id_skip=True, fused_conv=False, conv_type='depthwise'), BlockConfig(input_filters=16, output_filters=24, kernel_size=3, num_repeat=2, expand_ratio=6, strides=(2, 2), se_ratio=0.25, id_skip=True, fused_conv=False, conv_type='depthwise'), BlockConfig(input_filters=24, output_filters=40, kernel_size=5, num_repeat=2, expand_ratio=6, strides=(2, 2), se_ratio=0.25, id_skip=True, fused_conv=False, conv_type='depthwise'), BlockConfig(input_filters=40, output_filters=80, kernel_size=3, num_repeat=3, expand_ratio=6, strides=(2, 2), se_ratio=0.25, id_skip=True, fused_conv=False, conv_type='depthwise'), BlockConfig(input_filters=80, output_filters=112, kernel_size=5, num_repeat=3, expand_ratio=6, strides=(1, 1), se_ratio=0.25, id_skip=True, fused_conv=False, conv_type='depthwise'), BlockConfig(input_filters=112, output_filters=192, kernel_size=5, num_repeat=4, expand_ratio=6, strides=(2, 2), se_ratio=0.25, id_skip=True, fused_conv=False, conv_type='depthwise'), BlockConfig(input_filters=192, output_filters=320, kernel_size=3, num_repeat=1, expand_ratio=6, strides=(1, 1), se_ratio=0.25, id_skip=True, fused_conv=False, conv_type='depthwise')), stem_base_filters=32, top_base_filters=1280, activation='simple_swish', batch_norm='default', bn_momentum=0.99, bn_epsilon=0.001, weight_decay=5e-06, drop_connect_rate=0.2, depth_divisor=8, min_depth=None, use_se=True, input_channels=3, num_classes=1000, model_name='efficientnet', rescale_input=False, data_format='channels_last', dtype='float32')\n",
      "I0308 08:17:24.563285 11152 ssd_efficientnet_bifpn_feature_extractor.py:161] EfficientDet EfficientNet backbone version: efficientnet-b2\n",
      "I0308 08:17:24.563285 11152 ssd_efficientnet_bifpn_feature_extractor.py:163] EfficientDet BiFPN num filters: 112\n",
      "I0308 08:17:24.563285 11152 ssd_efficientnet_bifpn_feature_extractor.py:164] EfficientDet BiFPN num iterations: 5\n",
      "I0308 08:17:24.563285 11152 efficientnet_model.py:144] round_filter input=32 output=32\n",
      "I0308 08:17:24.578907 11152 efficientnet_model.py:144] round_filter input=32 output=32\n",
      "I0308 08:17:24.578907 11152 efficientnet_model.py:144] round_filter input=16 output=16\n",
      "I0308 08:17:24.675457 11152 efficientnet_model.py:144] round_filter input=16 output=16\n",
      "I0308 08:17:24.675457 11152 efficientnet_model.py:144] round_filter input=24 output=24\n",
      "I0308 08:17:24.845111 11152 efficientnet_model.py:144] round_filter input=24 output=24\n",
      "I0308 08:17:24.845111 11152 efficientnet_model.py:144] round_filter input=40 output=48\n",
      "I0308 08:17:25.023612 11152 efficientnet_model.py:144] round_filter input=40 output=48\n",
      "I0308 08:17:25.023612 11152 efficientnet_model.py:144] round_filter input=80 output=88\n",
      "I0308 08:17:25.277700 11152 efficientnet_model.py:144] round_filter input=80 output=88\n",
      "I0308 08:17:25.277700 11152 efficientnet_model.py:144] round_filter input=112 output=120\n",
      "I0308 08:17:25.525209 11152 efficientnet_model.py:144] round_filter input=112 output=120\n",
      "I0308 08:17:25.525209 11152 efficientnet_model.py:144] round_filter input=192 output=208\n",
      "I0308 08:17:25.863986 11152 efficientnet_model.py:144] round_filter input=192 output=208\n",
      "I0308 08:17:25.863986 11152 efficientnet_model.py:144] round_filter input=320 output=352\n",
      "I0308 08:17:26.026793 11152 efficientnet_model.py:144] round_filter input=1280 output=1408\n",
      "I0308 08:17:26.064597 11152 efficientnet_model.py:454] Building model efficientnet with params ModelConfig(width_coefficient=1.1, depth_coefficient=1.2, resolution=260, dropout_rate=0.3, blocks=(BlockConfig(input_filters=32, output_filters=16, kernel_size=3, num_repeat=1, expand_ratio=1, strides=(1, 1), se_ratio=0.25, id_skip=True, fused_conv=False, conv_type='depthwise'), BlockConfig(input_filters=16, output_filters=24, kernel_size=3, num_repeat=2, expand_ratio=6, strides=(2, 2), se_ratio=0.25, id_skip=True, fused_conv=False, conv_type='depthwise'), BlockConfig(input_filters=24, output_filters=40, kernel_size=5, num_repeat=2, expand_ratio=6, strides=(2, 2), se_ratio=0.25, id_skip=True, fused_conv=False, conv_type='depthwise'), BlockConfig(input_filters=40, output_filters=80, kernel_size=3, num_repeat=3, expand_ratio=6, strides=(2, 2), se_ratio=0.25, id_skip=True, fused_conv=False, conv_type='depthwise'), BlockConfig(input_filters=80, output_filters=112, kernel_size=5, num_repeat=3, expand_ratio=6, strides=(1, 1), se_ratio=0.25, id_skip=True, fused_conv=False, conv_type='depthwise'), BlockConfig(input_filters=112, output_filters=192, kernel_size=5, num_repeat=4, expand_ratio=6, strides=(2, 2), se_ratio=0.25, id_skip=True, fused_conv=False, conv_type='depthwise'), BlockConfig(input_filters=192, output_filters=320, kernel_size=3, num_repeat=1, expand_ratio=6, strides=(1, 1), se_ratio=0.25, id_skip=True, fused_conv=False, conv_type='depthwise')), stem_base_filters=32, top_base_filters=1280, activation='simple_swish', batch_norm='default', bn_momentum=0.99, bn_epsilon=0.001, weight_decay=5e-06, drop_connect_rate=0.2, depth_divisor=8, min_depth=None, use_se=True, input_channels=3, num_classes=1000, model_name='efficientnet', rescale_input=False, data_format='channels_last', dtype='float32')\n",
      "I0308 08:17:26.116946 11152 ssd_efficientnet_bifpn_feature_extractor.py:161] EfficientDet EfficientNet backbone version: efficientnet-b3\n",
      "I0308 08:17:26.116946 11152 ssd_efficientnet_bifpn_feature_extractor.py:163] EfficientDet BiFPN num filters: 160\n",
      "I0308 08:17:26.116946 11152 ssd_efficientnet_bifpn_feature_extractor.py:164] EfficientDet BiFPN num iterations: 6\n",
      "I0308 08:17:26.116946 11152 efficientnet_model.py:144] round_filter input=32 output=40\n",
      "I0308 08:17:26.132574 11152 efficientnet_model.py:144] round_filter input=32 output=40\n",
      "I0308 08:17:26.132574 11152 efficientnet_model.py:144] round_filter input=16 output=24\n",
      "I0308 08:17:26.227404 11152 efficientnet_model.py:144] round_filter input=16 output=24\n",
      "I0308 08:17:26.227404 11152 efficientnet_model.py:144] round_filter input=24 output=32\n",
      "I0308 08:17:26.396821 11152 efficientnet_model.py:144] round_filter input=24 output=32\n",
      "I0308 08:17:26.396821 11152 efficientnet_model.py:144] round_filter input=40 output=48\n",
      "I0308 08:17:26.581865 11152 efficientnet_model.py:144] round_filter input=40 output=48\n",
      "I0308 08:17:26.581865 11152 efficientnet_model.py:144] round_filter input=80 output=96\n",
      "I0308 08:17:26.882714 11152 efficientnet_model.py:144] round_filter input=80 output=96\n",
      "I0308 08:17:26.882714 11152 efficientnet_model.py:144] round_filter input=112 output=136\n",
      "I0308 08:17:27.183691 11152 efficientnet_model.py:144] round_filter input=112 output=136\n",
      "I0308 08:17:27.183691 11152 efficientnet_model.py:144] round_filter input=192 output=232\n",
      "I0308 08:17:27.584428 11152 efficientnet_model.py:144] round_filter input=192 output=232\n",
      "I0308 08:17:27.600088 11152 efficientnet_model.py:144] round_filter input=320 output=384\n",
      "I0308 08:17:27.731638 11152 efficientnet_model.py:144] round_filter input=1280 output=1536\n",
      "I0308 08:17:27.769411 11152 efficientnet_model.py:454] Building model efficientnet with params ModelConfig(width_coefficient=1.2, depth_coefficient=1.4, resolution=300, dropout_rate=0.3, blocks=(BlockConfig(input_filters=32, output_filters=16, kernel_size=3, num_repeat=1, expand_ratio=1, strides=(1, 1), se_ratio=0.25, id_skip=True, fused_conv=False, conv_type='depthwise'), BlockConfig(input_filters=16, output_filters=24, kernel_size=3, num_repeat=2, expand_ratio=6, strides=(2, 2), se_ratio=0.25, id_skip=True, fused_conv=False, conv_type='depthwise'), BlockConfig(input_filters=24, output_filters=40, kernel_size=5, num_repeat=2, expand_ratio=6, strides=(2, 2), se_ratio=0.25, id_skip=True, fused_conv=False, conv_type='depthwise'), BlockConfig(input_filters=40, output_filters=80, kernel_size=3, num_repeat=3, expand_ratio=6, strides=(2, 2), se_ratio=0.25, id_skip=True, fused_conv=False, conv_type='depthwise'), BlockConfig(input_filters=80, output_filters=112, kernel_size=5, num_repeat=3, expand_ratio=6, strides=(1, 1), se_ratio=0.25, id_skip=True, fused_conv=False, conv_type='depthwise'), BlockConfig(input_filters=112, output_filters=192, kernel_size=5, num_repeat=4, expand_ratio=6, strides=(2, 2), se_ratio=0.25, id_skip=True, fused_conv=False, conv_type='depthwise'), BlockConfig(input_filters=192, output_filters=320, kernel_size=3, num_repeat=1, expand_ratio=6, strides=(1, 1), se_ratio=0.25, id_skip=True, fused_conv=False, conv_type='depthwise')), stem_base_filters=32, top_base_filters=1280, activation='simple_swish', batch_norm='default', bn_momentum=0.99, bn_epsilon=0.001, weight_decay=5e-06, drop_connect_rate=0.2, depth_divisor=8, min_depth=None, use_se=True, input_channels=3, num_classes=1000, model_name='efficientnet', rescale_input=False, data_format='channels_last', dtype='float32')\n",
      "I0308 08:17:28.039014 11152 ssd_efficientnet_bifpn_feature_extractor.py:161] EfficientDet EfficientNet backbone version: efficientnet-b4\n",
      "I0308 08:17:28.039014 11152 ssd_efficientnet_bifpn_feature_extractor.py:163] EfficientDet BiFPN num filters: 224\n",
      "I0308 08:17:28.039014 11152 ssd_efficientnet_bifpn_feature_extractor.py:164] EfficientDet BiFPN num iterations: 7\n",
      "I0308 08:17:28.039014 11152 efficientnet_model.py:144] round_filter input=32 output=48\n",
      "I0308 08:17:28.057429 11152 efficientnet_model.py:144] round_filter input=32 output=48\n",
      "I0308 08:17:28.057429 11152 efficientnet_model.py:144] round_filter input=16 output=24\n",
      "I0308 08:17:28.149736 11152 efficientnet_model.py:144] round_filter input=16 output=24\n",
      "I0308 08:17:28.151778 11152 efficientnet_model.py:144] round_filter input=24 output=32\n",
      "I0308 08:17:28.373677 11152 efficientnet_model.py:144] round_filter input=24 output=32\n",
      "I0308 08:17:28.373677 11152 efficientnet_model.py:144] round_filter input=40 output=56\n",
      "I0308 08:17:28.612138 11152 efficientnet_model.py:144] round_filter input=40 output=56\n",
      "I0308 08:17:28.612138 11152 efficientnet_model.py:144] round_filter input=80 output=112\n",
      "I0308 08:17:28.991058 11152 efficientnet_model.py:144] round_filter input=80 output=112\n",
      "I0308 08:17:28.991058 11152 efficientnet_model.py:144] round_filter input=112 output=160\n",
      "I0308 08:17:29.376717 11152 efficientnet_model.py:144] round_filter input=112 output=160\n",
      "I0308 08:17:29.376717 11152 efficientnet_model.py:144] round_filter input=192 output=272\n",
      "I0308 08:17:29.931853 11152 efficientnet_model.py:144] round_filter input=192 output=272\n",
      "I0308 08:17:29.931853 11152 efficientnet_model.py:144] round_filter input=320 output=448\n",
      "I0308 08:17:30.094664 11152 efficientnet_model.py:144] round_filter input=1280 output=1792\n",
      "I0308 08:17:30.132466 11152 efficientnet_model.py:454] Building model efficientnet with params ModelConfig(width_coefficient=1.4, depth_coefficient=1.8, resolution=380, dropout_rate=0.4, blocks=(BlockConfig(input_filters=32, output_filters=16, kernel_size=3, num_repeat=1, expand_ratio=1, strides=(1, 1), se_ratio=0.25, id_skip=True, fused_conv=False, conv_type='depthwise'), BlockConfig(input_filters=16, output_filters=24, kernel_size=3, num_repeat=2, expand_ratio=6, strides=(2, 2), se_ratio=0.25, id_skip=True, fused_conv=False, conv_type='depthwise'), BlockConfig(input_filters=24, output_filters=40, kernel_size=5, num_repeat=2, expand_ratio=6, strides=(2, 2), se_ratio=0.25, id_skip=True, fused_conv=False, conv_type='depthwise'), BlockConfig(input_filters=40, output_filters=80, kernel_size=3, num_repeat=3, expand_ratio=6, strides=(2, 2), se_ratio=0.25, id_skip=True, fused_conv=False, conv_type='depthwise'), BlockConfig(input_filters=80, output_filters=112, kernel_size=5, num_repeat=3, expand_ratio=6, strides=(1, 1), se_ratio=0.25, id_skip=True, fused_conv=False, conv_type='depthwise'), BlockConfig(input_filters=112, output_filters=192, kernel_size=5, num_repeat=4, expand_ratio=6, strides=(2, 2), se_ratio=0.25, id_skip=True, fused_conv=False, conv_type='depthwise'), BlockConfig(input_filters=192, output_filters=320, kernel_size=3, num_repeat=1, expand_ratio=6, strides=(1, 1), se_ratio=0.25, id_skip=True, fused_conv=False, conv_type='depthwise')), stem_base_filters=32, top_base_filters=1280, activation='simple_swish', batch_norm='default', bn_momentum=0.99, bn_epsilon=0.001, weight_decay=5e-06, drop_connect_rate=0.2, depth_divisor=8, min_depth=None, use_se=True, input_channels=3, num_classes=1000, model_name='efficientnet', rescale_input=False, data_format='channels_last', dtype='float32')\n",
      "I0308 08:17:30.200408 11152 ssd_efficientnet_bifpn_feature_extractor.py:161] EfficientDet EfficientNet backbone version: efficientnet-b5\n",
      "I0308 08:17:30.200408 11152 ssd_efficientnet_bifpn_feature_extractor.py:163] EfficientDet BiFPN num filters: 288\n",
      "I0308 08:17:30.200408 11152 ssd_efficientnet_bifpn_feature_extractor.py:164] EfficientDet BiFPN num iterations: 7\n",
      "I0308 08:17:30.200408 11152 efficientnet_model.py:144] round_filter input=32 output=48\n",
      "I0308 08:17:30.217077 11152 efficientnet_model.py:144] round_filter input=32 output=48\n",
      "I0308 08:17:30.217077 11152 efficientnet_model.py:144] round_filter input=16 output=24\n",
      "I0308 08:17:30.360603 11152 efficientnet_model.py:144] round_filter input=16 output=24\n",
      "I0308 08:17:30.360603 11152 efficientnet_model.py:144] round_filter input=24 output=40\n",
      "I0308 08:17:30.661852 11152 efficientnet_model.py:144] round_filter input=24 output=40\n",
      "I0308 08:17:30.661852 11152 efficientnet_model.py:144] round_filter input=40 output=64\n",
      "I0308 08:17:30.962704 11152 efficientnet_model.py:144] round_filter input=40 output=64\n",
      "I0308 08:17:30.962704 11152 efficientnet_model.py:144] round_filter input=80 output=128\n",
      "I0308 08:17:31.395327 11152 efficientnet_model.py:144] round_filter input=80 output=128\n",
      "I0308 08:17:31.395327 11152 efficientnet_model.py:144] round_filter input=112 output=176\n",
      "I0308 08:17:31.881112 11152 efficientnet_model.py:144] round_filter input=112 output=176\n",
      "I0308 08:17:31.881112 11152 efficientnet_model.py:144] round_filter input=192 output=304\n",
      "I0308 08:17:32.820450 11152 efficientnet_model.py:144] round_filter input=192 output=304\n",
      "I0308 08:17:32.820450 11152 efficientnet_model.py:144] round_filter input=320 output=512\n",
      "I0308 08:17:33.089407 11152 efficientnet_model.py:144] round_filter input=1280 output=2048\n",
      "I0308 08:17:33.136301 11152 efficientnet_model.py:454] Building model efficientnet with params ModelConfig(width_coefficient=1.6, depth_coefficient=2.2, resolution=456, dropout_rate=0.4, blocks=(BlockConfig(input_filters=32, output_filters=16, kernel_size=3, num_repeat=1, expand_ratio=1, strides=(1, 1), se_ratio=0.25, id_skip=True, fused_conv=False, conv_type='depthwise'), BlockConfig(input_filters=16, output_filters=24, kernel_size=3, num_repeat=2, expand_ratio=6, strides=(2, 2), se_ratio=0.25, id_skip=True, fused_conv=False, conv_type='depthwise'), BlockConfig(input_filters=24, output_filters=40, kernel_size=5, num_repeat=2, expand_ratio=6, strides=(2, 2), se_ratio=0.25, id_skip=True, fused_conv=False, conv_type='depthwise'), BlockConfig(input_filters=40, output_filters=80, kernel_size=3, num_repeat=3, expand_ratio=6, strides=(2, 2), se_ratio=0.25, id_skip=True, fused_conv=False, conv_type='depthwise'), BlockConfig(input_filters=80, output_filters=112, kernel_size=5, num_repeat=3, expand_ratio=6, strides=(1, 1), se_ratio=0.25, id_skip=True, fused_conv=False, conv_type='depthwise'), BlockConfig(input_filters=112, output_filters=192, kernel_size=5, num_repeat=4, expand_ratio=6, strides=(2, 2), se_ratio=0.25, id_skip=True, fused_conv=False, conv_type='depthwise'), BlockConfig(input_filters=192, output_filters=320, kernel_size=3, num_repeat=1, expand_ratio=6, strides=(1, 1), se_ratio=0.25, id_skip=True, fused_conv=False, conv_type='depthwise')), stem_base_filters=32, top_base_filters=1280, activation='simple_swish', batch_norm='default', bn_momentum=0.99, bn_epsilon=0.001, weight_decay=5e-06, drop_connect_rate=0.2, depth_divisor=8, min_depth=None, use_se=True, input_channels=3, num_classes=1000, model_name='efficientnet', rescale_input=False, data_format='channels_last', dtype='float32')\n",
      "I0308 08:17:33.220934 11152 ssd_efficientnet_bifpn_feature_extractor.py:161] EfficientDet EfficientNet backbone version: efficientnet-b6\n",
      "I0308 08:17:33.220934 11152 ssd_efficientnet_bifpn_feature_extractor.py:163] EfficientDet BiFPN num filters: 384\n",
      "I0308 08:17:33.220934 11152 ssd_efficientnet_bifpn_feature_extractor.py:164] EfficientDet BiFPN num iterations: 8\n",
      "I0308 08:17:33.220934 11152 efficientnet_model.py:144] round_filter input=32 output=56\n",
      "I0308 08:17:33.236560 11152 efficientnet_model.py:144] round_filter input=32 output=56\n",
      "I0308 08:17:33.236560 11152 efficientnet_model.py:144] round_filter input=16 output=32\n",
      "I0308 08:17:33.392245 11152 efficientnet_model.py:144] round_filter input=16 output=32\n",
      "I0308 08:17:33.392245 11152 efficientnet_model.py:144] round_filter input=24 output=40\n",
      "I0308 08:17:33.755926 11152 efficientnet_model.py:144] round_filter input=24 output=40\n",
      "I0308 08:17:33.755926 11152 efficientnet_model.py:144] round_filter input=40 output=72\n",
      "I0308 08:17:34.126024 11152 efficientnet_model.py:144] round_filter input=40 output=72\n",
      "I0308 08:17:34.126024 11152 efficientnet_model.py:144] round_filter input=80 output=144\n",
      "I0308 08:17:34.643107 11152 efficientnet_model.py:144] round_filter input=80 output=144\n",
      "I0308 08:17:34.643107 11152 efficientnet_model.py:144] round_filter input=112 output=200\n",
      "I0308 08:17:35.197634 11152 efficientnet_model.py:144] round_filter input=112 output=200\n",
      "I0308 08:17:35.197634 11152 efficientnet_model.py:144] round_filter input=192 output=344\n",
      "I0308 08:17:36.121310 11152 efficientnet_model.py:144] round_filter input=192 output=344\n",
      "I0308 08:17:36.121310 11152 efficientnet_model.py:144] round_filter input=320 output=576\n",
      "I0308 08:17:36.447548 11152 efficientnet_model.py:144] round_filter input=1280 output=2304\n",
      "I0308 08:17:36.500947 11152 efficientnet_model.py:454] Building model efficientnet with params ModelConfig(width_coefficient=1.8, depth_coefficient=2.6, resolution=528, dropout_rate=0.5, blocks=(BlockConfig(input_filters=32, output_filters=16, kernel_size=3, num_repeat=1, expand_ratio=1, strides=(1, 1), se_ratio=0.25, id_skip=True, fused_conv=False, conv_type='depthwise'), BlockConfig(input_filters=16, output_filters=24, kernel_size=3, num_repeat=2, expand_ratio=6, strides=(2, 2), se_ratio=0.25, id_skip=True, fused_conv=False, conv_type='depthwise'), BlockConfig(input_filters=24, output_filters=40, kernel_size=5, num_repeat=2, expand_ratio=6, strides=(2, 2), se_ratio=0.25, id_skip=True, fused_conv=False, conv_type='depthwise'), BlockConfig(input_filters=40, output_filters=80, kernel_size=3, num_repeat=3, expand_ratio=6, strides=(2, 2), se_ratio=0.25, id_skip=True, fused_conv=False, conv_type='depthwise'), BlockConfig(input_filters=80, output_filters=112, kernel_size=5, num_repeat=3, expand_ratio=6, strides=(1, 1), se_ratio=0.25, id_skip=True, fused_conv=False, conv_type='depthwise'), BlockConfig(input_filters=112, output_filters=192, kernel_size=5, num_repeat=4, expand_ratio=6, strides=(2, 2), se_ratio=0.25, id_skip=True, fused_conv=False, conv_type='depthwise'), BlockConfig(input_filters=192, output_filters=320, kernel_size=3, num_repeat=1, expand_ratio=6, strides=(1, 1), se_ratio=0.25, id_skip=True, fused_conv=False, conv_type='depthwise')), stem_base_filters=32, top_base_filters=1280, activation='simple_swish', batch_norm='default', bn_momentum=0.99, bn_epsilon=0.001, weight_decay=5e-06, drop_connect_rate=0.2, depth_divisor=8, min_depth=None, use_se=True, input_channels=3, num_classes=1000, model_name='efficientnet', rescale_input=False, data_format='channels_last', dtype='float32')\n",
      "I0308 08:17:36.601320 11152 ssd_efficientnet_bifpn_feature_extractor.py:161] EfficientDet EfficientNet backbone version: efficientnet-b7\n",
      "I0308 08:17:36.601320 11152 ssd_efficientnet_bifpn_feature_extractor.py:163] EfficientDet BiFPN num filters: 384\n",
      "I0308 08:17:36.601320 11152 ssd_efficientnet_bifpn_feature_extractor.py:164] EfficientDet BiFPN num iterations: 8\n",
      "I0308 08:17:36.601320 11152 efficientnet_model.py:144] round_filter input=32 output=64\n",
      "I0308 08:17:36.616951 11152 efficientnet_model.py:144] round_filter input=32 output=64\n",
      "I0308 08:17:36.616951 11152 efficientnet_model.py:144] round_filter input=16 output=32\n",
      "I0308 08:17:36.805831 11152 efficientnet_model.py:144] round_filter input=16 output=32\n",
      "I0308 08:17:36.805831 11152 efficientnet_model.py:144] round_filter input=24 output=48\n",
      "I0308 08:17:37.258800 11152 efficientnet_model.py:144] round_filter input=24 output=48\n",
      "I0308 08:17:37.258800 11152 efficientnet_model.py:144] round_filter input=40 output=80\n",
      "I0308 08:17:37.729238 11152 efficientnet_model.py:144] round_filter input=40 output=80\n",
      "I0308 08:17:37.729238 11152 efficientnet_model.py:144] round_filter input=80 output=160\n",
      "I0308 08:17:38.780679 11152 efficientnet_model.py:144] round_filter input=80 output=160\n",
      "I0308 08:17:38.780679 11152 efficientnet_model.py:144] round_filter input=112 output=224\n",
      "I0308 08:17:39.545560 11152 efficientnet_model.py:144] round_filter input=112 output=224\n",
      "I0308 08:17:39.545560 11152 efficientnet_model.py:144] round_filter input=192 output=384\n",
      "I0308 08:17:40.686661 11152 efficientnet_model.py:144] round_filter input=192 output=384\n",
      "I0308 08:17:40.686661 11152 efficientnet_model.py:144] round_filter input=320 output=640\n",
      "I0308 08:17:41.140260 11152 efficientnet_model.py:144] round_filter input=1280 output=2560\n",
      "I0308 08:17:41.203853 11152 efficientnet_model.py:454] Building model efficientnet with params ModelConfig(width_coefficient=2.0, depth_coefficient=3.1, resolution=600, dropout_rate=0.5, blocks=(BlockConfig(input_filters=32, output_filters=16, kernel_size=3, num_repeat=1, expand_ratio=1, strides=(1, 1), se_ratio=0.25, id_skip=True, fused_conv=False, conv_type='depthwise'), BlockConfig(input_filters=16, output_filters=24, kernel_size=3, num_repeat=2, expand_ratio=6, strides=(2, 2), se_ratio=0.25, id_skip=True, fused_conv=False, conv_type='depthwise'), BlockConfig(input_filters=24, output_filters=40, kernel_size=5, num_repeat=2, expand_ratio=6, strides=(2, 2), se_ratio=0.25, id_skip=True, fused_conv=False, conv_type='depthwise'), BlockConfig(input_filters=40, output_filters=80, kernel_size=3, num_repeat=3, expand_ratio=6, strides=(2, 2), se_ratio=0.25, id_skip=True, fused_conv=False, conv_type='depthwise'), BlockConfig(input_filters=80, output_filters=112, kernel_size=5, num_repeat=3, expand_ratio=6, strides=(1, 1), se_ratio=0.25, id_skip=True, fused_conv=False, conv_type='depthwise'), BlockConfig(input_filters=112, output_filters=192, kernel_size=5, num_repeat=4, expand_ratio=6, strides=(2, 2), se_ratio=0.25, id_skip=True, fused_conv=False, conv_type='depthwise'), BlockConfig(input_filters=192, output_filters=320, kernel_size=3, num_repeat=1, expand_ratio=6, strides=(1, 1), se_ratio=0.25, id_skip=True, fused_conv=False, conv_type='depthwise')), stem_base_filters=32, top_base_filters=1280, activation='simple_swish', batch_norm='default', bn_momentum=0.99, bn_epsilon=0.001, weight_decay=5e-06, drop_connect_rate=0.2, depth_divisor=8, min_depth=None, use_se=True, input_channels=3, num_classes=1000, model_name='efficientnet', rescale_input=False, data_format='channels_last', dtype='float32')\n",
      "INFO:tensorflow:time(__main__.ModelBuilderTF2Test.test_create_ssd_models_from_config): 19.68s\n",
      "I0308 08:17:41.304183 11152 test_util.py:2373] time(__main__.ModelBuilderTF2Test.test_create_ssd_models_from_config): 19.68s\n",
      "[       OK ] ModelBuilderTF2Test.test_create_ssd_models_from_config\n",
      "[ RUN      ] ModelBuilderTF2Test.test_invalid_faster_rcnn_batchnorm_update\n",
      "INFO:tensorflow:time(__main__.ModelBuilderTF2Test.test_invalid_faster_rcnn_batchnorm_update): 0.0s\n",
      "I0308 08:17:41.319808 11152 test_util.py:2373] time(__main__.ModelBuilderTF2Test.test_invalid_faster_rcnn_batchnorm_update): 0.0s\n",
      "[       OK ] ModelBuilderTF2Test.test_invalid_faster_rcnn_batchnorm_update\n",
      "[ RUN      ] ModelBuilderTF2Test.test_invalid_first_stage_nms_iou_threshold\n",
      "INFO:tensorflow:time(__main__.ModelBuilderTF2Test.test_invalid_first_stage_nms_iou_threshold): 0.0s\n",
      "I0308 08:17:41.319808 11152 test_util.py:2373] time(__main__.ModelBuilderTF2Test.test_invalid_first_stage_nms_iou_threshold): 0.0s\n",
      "[       OK ] ModelBuilderTF2Test.test_invalid_first_stage_nms_iou_threshold\n",
      "[ RUN      ] ModelBuilderTF2Test.test_invalid_model_config_proto\n",
      "INFO:tensorflow:time(__main__.ModelBuilderTF2Test.test_invalid_model_config_proto): 0.0s\n",
      "I0308 08:17:41.319808 11152 test_util.py:2373] time(__main__.ModelBuilderTF2Test.test_invalid_model_config_proto): 0.0s\n",
      "[       OK ] ModelBuilderTF2Test.test_invalid_model_config_proto\n",
      "[ RUN      ] ModelBuilderTF2Test.test_invalid_second_stage_batch_size\n",
      "INFO:tensorflow:time(__main__.ModelBuilderTF2Test.test_invalid_second_stage_batch_size): 0.0s\n",
      "I0308 08:17:41.319808 11152 test_util.py:2373] time(__main__.ModelBuilderTF2Test.test_invalid_second_stage_batch_size): 0.0s\n",
      "[       OK ] ModelBuilderTF2Test.test_invalid_second_stage_batch_size\n",
      "[ RUN      ] ModelBuilderTF2Test.test_session\n",
      "[  SKIPPED ] ModelBuilderTF2Test.test_session\n",
      "[ RUN      ] ModelBuilderTF2Test.test_unknown_faster_rcnn_feature_extractor\n",
      "INFO:tensorflow:time(__main__.ModelBuilderTF2Test.test_unknown_faster_rcnn_feature_extractor): 0.0s\n",
      "I0308 08:17:41.319808 11152 test_util.py:2373] time(__main__.ModelBuilderTF2Test.test_unknown_faster_rcnn_feature_extractor): 0.0s\n",
      "[       OK ] ModelBuilderTF2Test.test_unknown_faster_rcnn_feature_extractor\n",
      "[ RUN      ] ModelBuilderTF2Test.test_unknown_meta_architecture\n",
      "INFO:tensorflow:time(__main__.ModelBuilderTF2Test.test_unknown_meta_architecture): 0.0s\n",
      "I0308 08:17:41.319808 11152 test_util.py:2373] time(__main__.ModelBuilderTF2Test.test_unknown_meta_architecture): 0.0s\n",
      "[       OK ] ModelBuilderTF2Test.test_unknown_meta_architecture\n",
      "[ RUN      ] ModelBuilderTF2Test.test_unknown_ssd_feature_extractor\n",
      "INFO:tensorflow:time(__main__.ModelBuilderTF2Test.test_unknown_ssd_feature_extractor): 0.0s\n",
      "I0308 08:17:41.319808 11152 test_util.py:2373] time(__main__.ModelBuilderTF2Test.test_unknown_ssd_feature_extractor): 0.0s\n",
      "[       OK ] ModelBuilderTF2Test.test_unknown_ssd_feature_extractor\n",
      "----------------------------------------------------------------------\n",
      "Ran 24 tests in 24.390s\n",
      "\n",
      "OK (skipped=1)\n"
     ]
    }
   ],
   "source": [
    "!python Tensorflow/models/research/object_detection/builders/model_builder_tf2_test.py"
   ]
  },
  {
   "cell_type": "markdown",
   "id": "126f535a",
   "metadata": {
    "id": "126f535a"
   },
   "source": [
    "# Setup Paths"
   ]
  },
  {
   "cell_type": "code",
   "execution_count": 17,
   "id": "aa32a337",
   "metadata": {
    "id": "aa32a337"
   },
   "outputs": [],
   "source": [
    "CUSTOM_MODEL_NAME = 'my_ssd_mobnet'\n",
    "PRETRAINED_MODEL_NAME = 'ssd_mobilenet_v2_fpnlite_640x640_coco17_tpu-8'\n",
    "PRETRAINED_MODEL_URL = 'http://download.tensorflow.org/models/object_detection/tf2/20200711/ssd_mobilenet_v2_fpnlite_640x640_coco17_tpu-8.tar.gz'\n",
    "TF_RECORD_SCRIPT_NAME = 'create_tfrecord.py'\n",
    "LABEL_MAP_NAME = 'label_map.pbtxt'\n",
    "\n",
    "paths = {\n",
    "    'WORKSPACE_PATH': os.path.join('Tensorflow', 'workspace'),\n",
    "    'SCRIPTS_PATH': os.path.join('Tensorflow','scripts'),\n",
    "    'APIMODEL_PATH': os.path.join('Tensorflow','models'),\n",
    "    'ANNOTATION_PATH': os.path.join('Tensorflow', 'workspace','annotations'),\n",
    "    'IMAGE_PATH': os.path.join('Tensorflow', 'workspace','images'),\n",
    "    'MODEL_PATH': os.path.join('Tensorflow', 'workspace','models'),\n",
    "    'PRETRAINED_MODEL_PATH': os.path.join('Tensorflow', 'workspace','pre-trained-models'),\n",
    "    'CHECKPOINT_PATH': os.path.join('Tensorflow', 'workspace','models',CUSTOM_MODEL_NAME),\n",
    "    'OUTPUT_PATH': os.path.join('Tensorflow', 'workspace','models',CUSTOM_MODEL_NAME, 'export'),\n",
    "    'TFJS_PATH':os.path.join('Tensorflow', 'workspace','models',CUSTOM_MODEL_NAME, 'tfjsexport'),\n",
    "    'TFLITE_PATH':os.path.join('Tensorflow', 'workspace','models',CUSTOM_MODEL_NAME, 'tfliteexport'),\n",
    "    'PROTOC_PATH':os.path.join('Tensorflow','protoc')\n",
    "}\n",
    "\n",
    "files = {\n",
    "        'PIPELINE_CONFIG': os.path.join('Tensorflow', 'workspace', 'models', CUSTOM_MODEL_NAME, 'pipeline.config'),\n",
    "        'TF_RECORD_SCRIPT': os.path.join(paths['SCRIPTS_PATH'], TF_RECORD_SCRIPT_NAME),\n",
    "        'LABELMAP': os.path.join(paths['ANNOTATION_PATH'], LABEL_MAP_NAME)\n",
    "}"
   ]
  },
  {
   "cell_type": "code",
   "execution_count": 18,
   "id": "QIwyZaN9HPfE",
   "metadata": {
    "id": "QIwyZaN9HPfE"
   },
   "outputs": [],
   "source": [
    "for path in paths.values():\n",
    "    if not os.path.exists(path):\n",
    "            !mkdir {path}"
   ]
  },
  {
   "cell_type": "code",
   "execution_count": null,
   "id": "5575cd97",
   "metadata": {
    "colab": {
     "base_uri": "https://localhost:8080/",
     "height": 35
    },
    "id": "5575cd97",
    "outputId": "b437cc45-16cc-45e1-f782-dca33ca906a9"
   },
   "outputs": [],
   "source": [
    "wget.download('http://download.tensorflow.org/models/object_detection/tf2/20200711/ssd_mobilenet_v2_fpnlite_640x640_coco17_tpu-8.tar.gz')\n",
    "shutil.move(PRETRAINED_MODEL_NAME+\".tar.gz\", paths[\"PRETRAINED_MODEL_PATH\"])"
   ]
  },
  {
   "cell_type": "code",
   "execution_count": null,
   "id": "NufxjF2jcnoN",
   "metadata": {
    "colab": {
     "base_uri": "https://localhost:8080/"
    },
    "id": "NufxjF2jcnoN",
    "outputId": "77bb927c-37e8-473e-eefa-ba8dc2c04565"
   },
   "outputs": [],
   "source": [
    "%cd Tensorflow/workspace/pre-trained-models/"
   ]
  },
  {
   "cell_type": "code",
   "execution_count": null,
   "id": "a76d69fc",
   "metadata": {
    "colab": {
     "base_uri": "https://localhost:8080/"
    },
    "id": "a76d69fc",
    "outputId": "66bc56be-a4c1-4f80-e851-c48b72608db2"
   },
   "outputs": [],
   "source": [
    "!tar -zxvf {PRETRAINED_MODEL_NAME+\".tar.gz\"}"
   ]
  },
  {
   "cell_type": "code",
   "execution_count": null,
   "id": "hy7Ymf7hc7dd",
   "metadata": {
    "colab": {
     "base_uri": "https://localhost:8080/"
    },
    "id": "hy7Ymf7hc7dd",
    "outputId": "b731fc36-984f-42c0-e000-7ebc382e60eb"
   },
   "outputs": [],
   "source": [
    "%cd ../.."
   ]
  },
  {
   "cell_type": "code",
   "execution_count": null,
   "id": "jhtrq14Ec994",
   "metadata": {
    "colab": {
     "base_uri": "https://localhost:8080/"
    },
    "id": "jhtrq14Ec994",
    "outputId": "3c83cc4c-7cc7-4f11-d845-fda3841b4bdf"
   },
   "outputs": [],
   "source": [
    "%cd .."
   ]
  },
  {
   "cell_type": "markdown",
   "id": "67ba8356",
   "metadata": {
    "id": "67ba8356"
   },
   "source": [
    "# 2. Connection to Roboflow"
   ]
  },
  {
   "cell_type": "code",
   "execution_count": null,
   "id": "qt4vJtYBmZRm",
   "metadata": {
    "colab": {
     "base_uri": "https://localhost:8080/",
     "height": 1000
    },
    "id": "qt4vJtYBmZRm",
    "outputId": "01cb33ce-a9f8-48a1-be65-82f95ee14b7f"
   },
   "outputs": [],
   "source": [
    "!pip install roboflow\n",
    "\n",
    "from roboflow import Roboflow\n",
    "rf = Roboflow(api_key=\"w7DdT0ct3T04B2jsikB1\")\n",
    "project = rf.workspace(\"pren-pc9i4\").project(\"cubes-khnik\")\n",
    "version = project.version(6)\n",
    "dataset = version.download(\"tensorflow\")"
   ]
  },
  {
   "cell_type": "code",
   "execution_count": null,
   "id": "tcVswx1bUrsm",
   "metadata": {
    "id": "tcVswx1bUrsm"
   },
   "outputs": [],
   "source": [
    "!move Cubes-6/train Tensorflow/workspace/images"
   ]
  },
  {
   "cell_type": "code",
   "execution_count": null,
   "id": "62c2ebff-4df7-4722-8ce2-bd58a19244ad",
   "metadata": {},
   "outputs": [],
   "source": [
    "!move Cubes-6/test Tensorflow/workspace/images"
   ]
  },
  {
   "cell_type": "code",
   "execution_count": null,
   "id": "78e342bb",
   "metadata": {
    "id": "78e342bb"
   },
   "outputs": [],
   "source": [
    "labels = [{'name':'Blue-Blue-Blue-Blue', 'id':1},{'name':'Blue-Blue-Blue-Nothing', 'id':2},{'name':'Blue-Blue-Blue-Red', 'id':3},{'name':'Blue-Blue-Blue-Yellow', 'id':4},\n",
    "          {'name':'Blue-Blue-Nothing-Blue', 'id':5},{'name':'Blue-Blue-Nothing-Nothing', 'id':5},{'name':'Blue-Blue-Nothing-Red', 'id':6},{'name':'Blue-Blue-Nothing-Yellow', 'id':7},\n",
    "          {'name':'Blue-Blue-Red-Blue', 'id':8},{'name':'Blue-Blue-Red-Nothing', 'id':9},{'name':'Blue-Blue-Red-Red', 'id':10},{'name':'Blue-Blue-Red-Yellow', 'id':11},\n",
    "          {'name':'Blue-Blue-Yellow-Blue', 'id':12},{'name':'Blue-Blue-Yellow-Nothing', 'id':13},{'name':'Blue-Blue-Yellow-Red', 'id':14},{'name':'Blue-Blue-Yellow-Yellow', 'id':15},\n",
    "          {'name':'Blue-Nothing-Nothing-Blue', 'id':16},{'name':'Blue-Nothing-Nothing-Nothing', 'id':17},{'name':'Blue-Nothing-Nothing-Red', 'id':18},{'name':'Blue-Nothing-Nothing-Yellow', 'id':19},\n",
    "          {'name':'Blue-Red-Blue-Blue', 'id':20},{'name':'Blue-Red-Blue-Nothing', 'id':21},{'name':'Blue-Red-Blue-Red', 'id':22},{'name':'Blue-Red-Blue-Yellow', 'id':23},\n",
    "          {'name':'Blue-Red-Nothing-Blue', 'id':24},{'name':'Blue-Red-Nothing-Nothing', 'id':25},{'name':'Blue-Red-Nothing-Red', 'id':26},{'name':'Blue-Red-Nothing-Yellow', 'id':27},\n",
    "          {'name':'Blue-Red-Red-Blue', 'id':28},{'name':'Blue-Red-Red-Nothing', 'id':29},{'name':'Blue-Red-Red-Red', 'id':30},{'name':'Blue-Red-Red-Yellow', 'id':31},\n",
    "          {'name':'Blue-Red-Yellow-Blue', 'id':32},{'name':'Blue-Red-Yellow-Nothing', 'id':33},{'name':'Blue-Red-Yellow-Red', 'id':34},{'name':'Blue-Red-Yellow-Yellow', 'id':35},\n",
    "          {'name':'Blue-Yellow-Blue-Blue', 'id':36},{'name':'Blue-Yellow-Blue-Nothing', 'id':37},{'name':'Blue-Yellow-Blue-Red', 'id':38},{'name':'Blue-Yellow-Blue-Yellow', 'id':39},\n",
    "          {'name':'Blue-Yellow-Nothing-Blue', 'id':40},{'name':'Blue-Yellow-Nothing-Nothing', 'id':41},{'name':'Blue-Yellow-Nothing-Red', 'id':42},{'name':'Blue-Yellow-Nothing-Yellow', 'id':43},\n",
    "          {'name':'Blue-Yellow-Red-Blue', 'id':44},{'name':'Blue-Yellow-Red-Nothing', 'id':45},{'name':'Blue-Yellow-Red-Red', 'id':46},{'name':'Blue-Yellow-Red-Yellow', 'id':47},\n",
    "          {'name':'Blue-Yellow-Yellow-Blue', 'id':48},{'name':'Blue-Yellow-Yellow-Nothing', 'id':49},{'name':'Blue-Yellow-Yellow-Red', 'id':50},{'name':'Blue-Yellow-Yellow-Yellow', 'id':51},\n",
    "          {'name':'Nothing-Blue-Blue-Nothing', 'id':52},{'name':'Nothing-Blue-Nothing-Nothing', 'id':53},{'name':'Nothing-Blue-Red-Nothing', 'id':54},{'name':'Nothing-Blue-Yellow-Nothing', 'id':55},\n",
    "          {'name':'Nothing-Nothing-Nothing-Nothing', 'id':56},{'name':'Nothing-Yellow-Nothing-Nothing', 'id':57},{'name':'Nothing-Red-Blue-Nothing', 'id':58},{'name':'Nothing-Red-Nothing-Nothing', 'id':59},\n",
    "          {'name':'Nothing-Red-Red-Nothing', 'id':60},{'name':'Nothing-Red-Yellow-Nothing', 'id':61},{'name':'Nothing-Yellow-Blue-Nothing', 'id':62},{'name':'Nothing-Yellow-Red-Nothing', 'id':63},\n",
    "          {'name':'Nothing-Yellow-Yellow-Nothing', 'id':64},{'name':'Red-Blue-Blue-Blue', 'id':65},{'name':'Red-Blue-Blue-Nothing', 'id':66},{'name':'Red-Blue-Blue-Red', 'id':67},\n",
    "          {'name':'Red-Blue-Blue-Yellow', 'id':68},{'name':'Red-Blue-Nothing-Blue', 'id':69},{'name':'Red-Blue-Nothing-Nothing', 'id':70},{'name':'Red-Blue-Nothing-Red', 'id':71},\n",
    "          {'name':'Red-Blue-Nothing-Yellow', 'id':72},{'name':'Red-Blue-Red-Blue', 'id':73},{'name':'Red-Blue-Red-Nothing', 'id':74},{'name':'Red-Blue-Red-Red', 'id':75},\n",
    "          {'name':'Red-Blue-Red-Yellow', 'id':76},{'name':'Red-Blue-Yellow-Blue', 'id':77},{'name':'Red-Blue-Yellow-Nothing', 'id':78},{'name':'Red-Blue-Yellow-Red', 'id':79},\n",
    "          {'name':'Red-Blue-Yellow-Yellow', 'id':80},{'name':'Red-Nothing-Nothing-Blue', 'id':81},{'name':'Red-Nothing-Nothing-Nothing', 'id':82},{'name':'Red-Nothing-Nothing-Red', 'id':83},\n",
    "          {'name':'Red-Nothing-Nothing-Yellow', 'id':84},{'name':'Red-Red-Blue-Blue', 'id':85},{'name':'Red-Red-Blue-Nothing', 'id':86},{'name':'Red-Red-Blue-Red', 'id':87},\n",
    "          {'name':'Red-Red-Blue-Yellow', 'id':88},{'name':'Red-Red-Nothing-Blue', 'id':89},{'name':'Red-Red-Nothing-Nothing', 'id':90},{'name':'Red-Red-Nothing-Red', 'id':91},\n",
    "          {'name':'Red-Red-Nothing-Yellow', 'id':92},{'name':'Red-Red-Red-Blue', 'id':93},{'name':'Red-Red-Red-Nothing', 'id':94},{'name':'Red-Red-Red-Red', 'id':95},\n",
    "          {'name':'Red-Red-Red-Yellow', 'id':96},{'name':'Red-Red-Yellow-Blue', 'id':97},{'name':'Red-Red-Yellow-Nothing', 'id':98},{'name':'Red-Red-Yellow-Red', 'id':99},\n",
    "          {'name':'Red-Red-Yellow-Yellow', 'id':100},{'name':'Red-Yellow-Blue-Blue', 'id':101},{'name':'Red-Yellow-Blue-Nothing', 'id':102},{'name':'Red-Yellow-Blue-Red', 'id':103},\n",
    "          {'name':'Red-Yellow-Blue-Yellow', 'id':104},{'name':'Red-Yellow-Nothing-Blue', 'id':105},{'name':'Red-Yellow-Nothing-Nothing', 'id':106},{'name':'Red-Yellow-Nothing-Red', 'id':107},\n",
    "          {'name':'Red-Yellow-Nothing-Yellow', 'id':108},{'name':'Red-Yellow-Red-Blue', 'id':109},{'name':'Red-Yellow-Red-Nothing', 'id':110},{'name':'Red-Yellow-Red-Red', 'id':111},\n",
    "          {'name':'Red-Yellow-Red-Yellow', 'id':112},{'name':'Red-Yellow-Yellow-Blue', 'id':113},{'name':'Red-Yellow-Yellow-Nothing', 'id':114},{'name':'Red-Yellow-Yellow-Red', 'id':115},\n",
    "          {'name':'Red-Yellow-Yellow-Yellow', 'id':116},{'name':'Yellow-Blue-Blue-Blue', 'id':117},{'name':'Yellow-Blue-Blue-Nothing', 'id':118},{'name':'Yellow-Blue-Blue-Red', 'id':119},\n",
    "          {'name':'Yellow-Blue-Blue-Yellow', 'id':120},{'name':'Yellow-Blue-Nothing-Blue', 'id':121},{'name':'Yellow-Blue-Nothing-Nothing', 'id':122},{'name':'Yellow-Blue-Nothing-Red', 'id':123},\n",
    "          {'name':'Yellow-Blue-Nothing-Yellow', 'id':124},{'name':'Yellow-Blue-Red-Blue', 'id':125},{'name':'Yellow-Blue-Red-Nothing', 'id':126},{'name':'Yellow-Blue-Red-Red', 'id':127},\n",
    "          {'name':'Yellow-Blue-Red-Yellow', 'id':128},{'name':'Yellow-Blue-Yellow-Blue', 'id':129},{'name':'Yellow-Blue-Yellow-Nothing', 'id':130},{'name':'Yellow-Blue-Yellow-Red', 'id':131},\n",
    "          {'name':'Yellow-Blue-Yellow-Yellow', 'id':132},{'name':'Yellow-Nothing-Nothing-Blue', 'id':133},{'name':'Yellow-Nothing-Nothing-Nothing', 'id':134},{'name':'Yellow-Nothing-Nothing-Red', 'id':135},\n",
    "          {'name':'Yellow-Nothing-Nothing-Yellow', 'id':136},{'name':'Yellow-Red-Blue-Blue', 'id':137},{'name':'Yellow-Red-Blue-Nothing', 'id':138},{'name':'Yellow-Red-Blue-Red', 'id':139},\n",
    "          {'name':'Yellow-Red-Blue-Yellow', 'id':140},{'name':'Yellow-Red-Nothing-Blue', 'id':141},{'name':'Yellow-Red-Nothing-Nothing', 'id':142},{'name':'Yellow-Red-Nothing-Red', 'id':143},\n",
    "          {'name':'Yellow-Red-Nothing-Yellow', 'id':144},{'name':'Yellow-Red-Red-Blue', 'id':145},{'name':'Yellow-Red-Red-Nothing', 'id':146},{'name':'Yellow-Red-Red-Red', 'id':147},\n",
    "          {'name':'Yellow-Red-Red-Yellow', 'id':148},{'name':'Yellow-Red-Yellow-Blue', 'id':149},{'name':'Yellow-Red-Yellow-Nothing', 'id':150},{'name':'Yellow-Red-Yellow-Red', 'id':151},\n",
    "          {'name':'Yellow-Red-Yellow-Yellow', 'id':152},{'name':'Yellow-Yellow-Blue-Blue', 'id':153},{'name':'Yellow-Yellow-Blue-Nothing', 'id':154},{'name':'Yellow-Yellow-Blue-Red', 'id':155},\n",
    "          {'name':'Yellow-Yellow-Blue-Yellow', 'id':156},{'name':'Yellow-Yellow-Nothing-Blue', 'id':157},{'name':'Yellow-Yellow-Nothing-Nothing', 'id':158},{'name':'Yellow-Yellow-Nothing-Red', 'id':159},\n",
    "          {'name':'Yellow-Yellow-Nothing-Yellow', 'id':160},{'name':'Yellow-Yellow-Red-Blue', 'id':161},{'name':'Yellow-Yellow-Red-Nothing', 'id':162},{'name':'Yellow-Yellow-Red-Red', 'id':163},\n",
    "          {'name':'Yellow-Yellow-Red-Yellow', 'id':164},{'name':'Yellow-Yellow-Yellow-Blue', 'id':165},{'name':'Yellow-Yellow-Yellow-Nothing', 'id':166},{'name':'Yellow-Yellow-Yellow-Red', 'id':167},\n",
    "          {'name':'Yellow-Yellow-Yellow-Yellow', 'id':168}]\n",
    "\n",
    "\n",
    "with open(files['LABELMAP'], 'w') as f:\n",
    "    for label in labels:\n",
    "        f.write('item { \\n')\n",
    "        f.write('\\tname:\\'{}\\'\\n'.format(label['name']))\n",
    "        f.write('\\tid:{}\\n'.format(label['id']))\n",
    "        f.write('}\\n')"
   ]
  },
  {
   "cell_type": "markdown",
   "id": "7c9bf575",
   "metadata": {
    "id": "7c9bf575"
   },
   "source": [
    "# 3. Create TF records"
   ]
  },
  {
   "cell_type": "code",
   "execution_count": null,
   "id": "ytcLT51NGNXj",
   "metadata": {
    "colab": {
     "base_uri": "https://localhost:8080/"
    },
    "id": "ytcLT51NGNXj",
    "outputId": "5668c6c4-6fdd-4132-add2-aa73a93d3858"
   },
   "outputs": [],
   "source": [
    "%cd Tensorflow/scripts/"
   ]
  },
  {
   "cell_type": "code",
   "execution_count": null,
   "id": "12T3jdDlT9Yw",
   "metadata": {
    "colab": {
     "base_uri": "https://localhost:8080/"
    },
    "id": "12T3jdDlT9Yw",
    "outputId": "4b5a05ac-5833-46bc-b364-4889a4307b6e"
   },
   "outputs": [],
   "source": [
    "!wget https://raw.githubusercontent.com/flawas/TA.BA_PREN_PY_ObjectDetection/main/Roboflow/Script/create_tfrecord.py"
   ]
  },
  {
   "cell_type": "code",
   "execution_count": null,
   "id": "KHaRlEd-Y1do",
   "metadata": {
    "colab": {
     "base_uri": "https://localhost:8080/"
    },
    "id": "KHaRlEd-Y1do",
    "outputId": "586b6136-ed05-4e80-fbc2-f9df404e1278"
   },
   "outputs": [],
   "source": [
    "%cd ../.."
   ]
  },
  {
   "cell_type": "code",
   "execution_count": null,
   "id": "wq4vEZM1LTZg",
   "metadata": {
    "colab": {
     "base_uri": "https://localhost:8080/"
    },
    "id": "wq4vEZM1LTZg",
    "outputId": "741b962b-0071-43da-9101-9c7a02bd3e35"
   },
   "outputs": [],
   "source": [
    "!python Tensorflow/scripts/create_tfrecord.py --csv_input=Tensorflow/workspace/images/train/_annotations.csv --labelmap=Tensorflow/workspace/annotations/label_map.pbtxt --image_dir=Tensorflow/workspace/images/train --output_path=Tensorflow/workspace/annotations/train.record"
   ]
  },
  {
   "cell_type": "code",
   "execution_count": null,
   "id": "ov5cw9eLaIbD",
   "metadata": {
    "id": "ov5cw9eLaIbD"
   },
   "outputs": [],
   "source": [
    "!python Tensorflow/scripts/create_tfrecord.py --csv_input=Tensorflow/workspace/images/test/_annotations.csv --labelmap=Tensorflow/workspace/annotations/label_map.pbtxt --image_dir=Tensorflow/workspace/images/test --output_path=Tensorflow/workspace/annotations/test.record"
   ]
  },
  {
   "cell_type": "markdown",
   "id": "6405572d",
   "metadata": {
    "id": "6405572d"
   },
   "source": [
    "# 4. Copy Model Config to Training Folder"
   ]
  },
  {
   "cell_type": "code",
   "execution_count": null,
   "id": "0f5c7cf7",
   "metadata": {
    "id": "0f5c7cf7"
   },
   "outputs": [],
   "source": [
    "!copy {os.path.join(paths['PRETRAINED_MODEL_PATH'], PRETRAINED_MODEL_NAME, 'pipeline.config')} {os.path.join(paths['CHECKPOINT_PATH'])}"
   ]
  },
  {
   "cell_type": "markdown",
   "id": "372aa72a",
   "metadata": {
    "id": "372aa72a"
   },
   "source": [
    "# 5. Update Config For Transfer Learning"
   ]
  },
  {
   "cell_type": "code",
   "execution_count": 19,
   "id": "c95c58b0",
   "metadata": {
    "id": "c95c58b0"
   },
   "outputs": [],
   "source": [
    "import tensorflow as tf\n",
    "from object_detection.utils import config_util\n",
    "from object_detection.protos import pipeline_pb2\n",
    "from google.protobuf import text_format"
   ]
  },
  {
   "cell_type": "code",
   "execution_count": null,
   "id": "3022b70e",
   "metadata": {
    "id": "3022b70e"
   },
   "outputs": [],
   "source": [
    "config = config_util.get_configs_from_pipeline_file(files['PIPELINE_CONFIG'])"
   ]
  },
  {
   "cell_type": "code",
   "execution_count": null,
   "id": "b97b0251",
   "metadata": {
    "colab": {
     "base_uri": "https://localhost:8080/"
    },
    "id": "b97b0251",
    "outputId": "7a4fa34a-e2f9-40c4-a8bc-9e81363dc850"
   },
   "outputs": [],
   "source": [
    "config"
   ]
  },
  {
   "cell_type": "code",
   "execution_count": null,
   "id": "673f547e",
   "metadata": {
    "id": "673f547e"
   },
   "outputs": [],
   "source": [
    "pipeline_config = pipeline_pb2.TrainEvalPipelineConfig()\n",
    "with tf.io.gfile.GFile(files['PIPELINE_CONFIG'], \"r\") as f:\n",
    "    proto_str = f.read()\n",
    "    text_format.Merge(proto_str, pipeline_config)"
   ]
  },
  {
   "cell_type": "code",
   "execution_count": null,
   "id": "cf083ba9",
   "metadata": {
    "id": "cf083ba9"
   },
   "outputs": [],
   "source": [
    "pipeline_config.train_config.batch_size = 16\n",
    "pipeline_config.train_config.fine_tune_checkpoint = os.path.join(paths['PRETRAINED_MODEL_PATH'], PRETRAINED_MODEL_NAME, 'checkpoint', 'ckpt-0')\n",
    "pipeline_config.train_config.fine_tune_checkpoint_type = \"detection\"\n",
    "pipeline_config.train_input_reader.label_map_path= files['LABELMAP']\n",
    "pipeline_config.train_input_reader.tf_record_input_reader.input_path[:] = [os.path.join(paths['ANNOTATION_PATH'], 'train.record')]\n",
    "pipeline_config.eval_input_reader[0].label_map_path = files['LABELMAP']\n",
    "pipeline_config.eval_input_reader[0].tf_record_input_reader.input_path[:] = [os.path.join(paths['ANNOTATION_PATH'], 'test.record')]"
   ]
  },
  {
   "cell_type": "code",
   "execution_count": null,
   "id": "1c30d4f8",
   "metadata": {
    "id": "1c30d4f8"
   },
   "outputs": [],
   "source": [
    "config_text = text_format.MessageToString(pipeline_config)\n",
    "with tf.io.gfile.GFile(files['PIPELINE_CONFIG'], 'wb') as f:\n",
    "    f.write(config_text)"
   ]
  },
  {
   "cell_type": "code",
   "execution_count": 20,
   "id": "a8fcad2d",
   "metadata": {
    "id": "a8fcad2d"
   },
   "outputs": [],
   "source": [
    "TRAINING_SCRIPT = os.path.join(paths['APIMODEL_PATH'], 'research', 'object_detection', 'model_main_tf2.py')"
   ]
  },
  {
   "cell_type": "markdown",
   "id": "5c1ffeac",
   "metadata": {
    "id": "5c1ffeac"
   },
   "source": [
    "# 6. Train the model"
   ]
  },
  {
   "cell_type": "code",
   "execution_count": null,
   "id": "056c8643",
   "metadata": {
    "id": "056c8643"
   },
   "outputs": [],
   "source": [
    "command = \"python {} --model_dir={} --pipeline_config_path={} --num_train_steps=6000\".format(TRAINING_SCRIPT, paths['CHECKPOINT_PATH'], files['PIPELINE_CONFIG'])"
   ]
  },
  {
   "cell_type": "code",
   "execution_count": null,
   "id": "9da6adf3",
   "metadata": {
    "colab": {
     "base_uri": "https://localhost:8080/"
    },
    "id": "9da6adf3",
    "outputId": "4baee14e-074b-4d2f-d9ee-cf82ab7c2ae6"
   },
   "outputs": [],
   "source": [
    "print(command)"
   ]
  },
  {
   "cell_type": "code",
   "execution_count": null,
   "id": "P1aTRc5ZrrTU",
   "metadata": {
    "colab": {
     "base_uri": "https://localhost:8080/"
    },
    "id": "P1aTRc5ZrrTU",
    "outputId": "f35863f0-35cd-4663-a8cd-1b54c796e7cd"
   },
   "outputs": [],
   "source": [
    "!{command}"
   ]
  },
  {
   "cell_type": "markdown",
   "id": "dd948fd2",
   "metadata": {
    "id": "dd948fd2"
   },
   "source": [
    "# 7. Evaluate the Model"
   ]
  },
  {
   "cell_type": "code",
   "execution_count": null,
   "id": "12e99814",
   "metadata": {
    "id": "12e99814"
   },
   "outputs": [],
   "source": [
    "command = \"python {} --model_dir={} --pipeline_config_path={} --checkpoint_dir={}\".format(TRAINING_SCRIPT, paths['CHECKPOINT_PATH'],files['PIPELINE_CONFIG'], paths['CHECKPOINT_PATH'])"
   ]
  },
  {
   "cell_type": "code",
   "execution_count": null,
   "id": "cb829299",
   "metadata": {
    "colab": {
     "base_uri": "https://localhost:8080/"
    },
    "id": "cb829299",
    "outputId": "d241231f-2eae-455c-f558-b59ed35cdad4"
   },
   "outputs": [],
   "source": [
    "print(command)"
   ]
  },
  {
   "cell_type": "code",
   "execution_count": null,
   "id": "e3c6979e",
   "metadata": {
    "colab": {
     "base_uri": "https://localhost:8080/"
    },
    "id": "e3c6979e",
    "outputId": "e4055550-a9d9-42b7-d691-6050267f1056"
   },
   "outputs": [],
   "source": [
    "!{command}"
   ]
  },
  {
   "cell_type": "markdown",
   "id": "94b9992f",
   "metadata": {
    "id": "94b9992f"
   },
   "source": [
    "# 8. Load Train Model From Checkpoint"
   ]
  },
  {
   "cell_type": "code",
   "execution_count": 21,
   "id": "2782c138",
   "metadata": {
    "id": "2782c138"
   },
   "outputs": [],
   "source": [
    "import os\n",
    "import tensorflow as tf\n",
    "from object_detection.utils import label_map_util\n",
    "from object_detection.utils import visualization_utils as viz_utils\n",
    "from object_detection.builders import model_builder\n",
    "from object_detection.utils import config_util"
   ]
  },
  {
   "cell_type": "code",
   "execution_count": 22,
   "id": "82b6ecf9",
   "metadata": {
    "id": "82b6ecf9"
   },
   "outputs": [],
   "source": [
    "configs = config_util.get_configs_from_pipeline_file(files['PIPELINE_CONFIG'])\n",
    "detection_model = model_builder.build(model_config=configs['model'], is_training=False)\n",
    "\n",
    "# Restore checkpoint\n",
    "ckpt = tf.compat.v2.train.Checkpoint(model=detection_model)\n",
    "ckpt.restore(os.path.join(paths['CHECKPOINT_PATH'], 'ckpt-7')).expect_partial()\n",
    "\n",
    "@tf.function\n",
    "def detect_fn(image):\n",
    "    image, shapes = detection_model.preprocess(image)\n",
    "    prediction_dict = detection_model.predict(image, shapes)\n",
    "    detections = detection_model.postprocess(prediction_dict, shapes)\n",
    "    return detections"
   ]
  },
  {
   "cell_type": "markdown",
   "id": "c5c1fba5",
   "metadata": {
    "id": "c5c1fba5"
   },
   "source": [
    "# 9. Detect from an Image"
   ]
  },
  {
   "cell_type": "code",
   "execution_count": 23,
   "id": "a659de67",
   "metadata": {
    "id": "a659de67"
   },
   "outputs": [],
   "source": [
    "import cv2\n",
    "import numpy as np\n",
    "from matplotlib import pyplot as plt\n",
    "%matplotlib inline"
   ]
  },
  {
   "cell_type": "code",
   "execution_count": 24,
   "id": "8e65bfe5",
   "metadata": {
    "id": "8e65bfe5"
   },
   "outputs": [],
   "source": [
    "category_index = label_map_util.create_category_index_from_labelmap(files['LABELMAP'])"
   ]
  },
  {
   "cell_type": "code",
   "execution_count": 25,
   "id": "a69b00cc",
   "metadata": {
    "id": "a69b00cc"
   },
   "outputs": [],
   "source": [
    "IMAGE_PATH = os.path.join(paths['IMAGE_PATH'], 'test', \"38c19827-d229-11ee-9e9b-8cf8c50016cf.jpg\")"
   ]
  },
  {
   "cell_type": "code",
   "execution_count": 32,
   "id": "f5b29ea8",
   "metadata": {
    "colab": {
     "base_uri": "https://localhost:8080/",
     "height": 435
    },
    "id": "f5b29ea8",
    "outputId": "fb92fb4e-1ccc-4af2-f13f-553f05a35c1b"
   },
   "outputs": [
    {
     "name": "stdout",
     "output_type": "stream",
     "text": [
      "['Blue', 'Blue', 'Blue', 'Blue']\n"
     ]
    },
    {
     "data": {
      "image/png": "[encoded data removed]",
      "text/plain": [
       "<Figure size 640x480 with 1 Axes>"
      ]
     },
     "metadata": {},
     "output_type": "display_data"
    }
   ],
   "source": [
    "img = cv2.imread(IMAGE_PATH)\n",
    "image_np = np.array(img)\n",
    "\n",
    "input_tensor = tf.convert_to_tensor(np.expand_dims(image_np, 0), dtype=tf.float32)\n",
    "detections = detect_fn(input_tensor)\n",
    "\n",
    "num_detections = int(detections.pop('num_detections'))\n",
    "detections = {key: value[0, :num_detections].numpy()\n",
    "              for key, value in detections.items()}\n",
    "detections['num_detections'] = num_detections\n",
    "\n",
    "# detection_classes should be ints.\n",
    "detections['detection_classes'] = detections['detection_classes'].astype(np.int64)\n",
    "\n",
    "label_id_offset = 1\n",
    "image_np_with_detections = image_np.copy()\n",
    "\n",
    "viz_utils.visualize_boxes_and_labels_on_image_array(\n",
    "            image_np_with_detections,\n",
    "            detections['detection_boxes'],\n",
    "            detections['detection_classes']+label_id_offset,\n",
    "            detections['detection_scores'],\n",
    "            category_index,\n",
    "            use_normalized_coordinates=True,\n",
    "            max_boxes_to_draw=5,\n",
    "            min_score_thresh=.7,\n",
    "            agnostic_mode=False)\n",
    "\n",
    "detected_label = category_index[detections['detection_classes'][0]+label_id_offset][\"name\"]\n",
    "cubes = detected_label.split(\"-\")\n",
    "print(cubes)\n",
    "\n",
    "plt.imshow(cv2.cvtColor(image_np_with_detections, cv2.COLOR_BGR2RGB))\n",
    "plt.show()"
   ]
  },
  {
   "cell_type": "markdown",
   "id": "35fef1e3",
   "metadata": {
    "id": "35fef1e3"
   },
   "source": [
    "# 10. Freezing the Graph"
   ]
  },
  {
   "cell_type": "code",
   "execution_count": null,
   "id": "fd9f9e4c",
   "metadata": {
    "id": "fd9f9e4c"
   },
   "outputs": [],
   "source": [
    "FREEEZE_SCRIPT = os.path.join(paths['APIMODEL_PATH'], 'research', 'object_detection', 'exporter_main_v2.py')"
   ]
  },
  {
   "cell_type": "code",
   "execution_count": null,
   "id": "7128b93d",
   "metadata": {
    "id": "7128b93d"
   },
   "outputs": [],
   "source": [
    "command = \"python {} --input_type=image_tensor --pipeline_config_path={} --trained_checkpoint_dir={} --outbut_directory={}.format(TRAINING_SCRIPT, paths['CHECKPOINT_PATH'], files['PIPELINE_CONFIG'], paths['CHECKPOINT_PATH'])"
   ]
  },
  {
   "cell_type": "code",
   "execution_count": null,
   "id": "33d780f5",
   "metadata": {
    "id": "33d780f5"
   },
   "outputs": [],
   "source": [
    "print(command)"
   ]
  },
  {
   "cell_type": "code",
   "execution_count": null,
   "id": "0d7b1608",
   "metadata": {
    "id": "0d7b1608"
   },
   "outputs": [],
   "source": [
    "!{command}"
   ]
  },
  {
   "cell_type": "markdown",
   "id": "f798cd20",
   "metadata": {
    "id": "f798cd20"
   },
   "source": [
    "# 11. Conversion to TFJS"
   ]
  },
  {
   "cell_type": "code",
   "execution_count": null,
   "id": "a02b7b55",
   "metadata": {
    "id": "a02b7b55"
   },
   "outputs": [],
   "source": [
    "!pip install tensorflowjs"
   ]
  },
  {
   "cell_type": "code",
   "execution_count": null,
   "id": "de381de8",
   "metadata": {
    "id": "de381de8"
   },
   "outputs": [],
   "source": [
    "command = \"python {} --input_type=image_tensor --pipeline_config_path={} --trained_checkpoint_dir={} --outbut_directory={}.format(TRAINING_SCRIPT, paths['CHECKPOINT_PATH'], files['PIPELINE_CONFIG'], paths['CHECKPOINT_PATH'])"
   ]
  },
  {
   "cell_type": "code",
   "execution_count": null,
   "id": "7f72b388",
   "metadata": {
    "id": "7f72b388"
   },
   "outputs": [],
   "source": [
    "print(command)"
   ]
  },
  {
   "cell_type": "code",
   "execution_count": null,
   "id": "08c7fa8a",
   "metadata": {
    "id": "08c7fa8a"
   },
   "outputs": [],
   "source": [
    "!{command}"
   ]
  },
  {
   "cell_type": "markdown",
   "id": "90a93f1a",
   "metadata": {
    "id": "90a93f1a"
   },
   "source": [
    "# 12. Conversion to TFLite"
   ]
  },
  {
   "cell_type": "code",
   "execution_count": null,
   "id": "83735e7e",
   "metadata": {
    "id": "83735e7e"
   },
   "outputs": [],
   "source": [
    "TFLITE_SCRIPT = os.path.join(paths['APIMODEL_PATH'], 'research', 'object_detection','export_tflite_graph_tf2.py ')"
   ]
  },
  {
   "cell_type": "code",
   "execution_count": null,
   "id": "4697c723",
   "metadata": {
    "id": "4697c723"
   },
   "outputs": [],
   "source": [
    "command = \"python {} --pipeline_config_path={} --trained_checkpoint_dir={} --output_directory={}\".format(TFLITE_SCRIPT ,files['PIPELINE_CONFIG'])"
   ]
  },
  {
   "cell_type": "code",
   "execution_count": null,
   "id": "22445543",
   "metadata": {
    "id": "22445543"
   },
   "outputs": [],
   "source": [
    "print(command)"
   ]
  },
  {
   "cell_type": "code",
   "execution_count": null,
   "id": "db5e4668",
   "metadata": {
    "id": "db5e4668"
   },
   "outputs": [],
   "source": [
    "!{command}"
   ]
  },
  {
   "cell_type": "code",
   "execution_count": null,
   "id": "add231ea",
   "metadata": {
    "id": "add231ea"
   },
   "outputs": [],
   "source": [
    "FROZEN_TFLITE_PATH = os.path.join(paths['TFLITE_PATH'], 'saved_model')\n",
    "TFLITE_MODEL = os.path.join(paths['TFLITE_PATH'], 'saved_model', 'detect.tflite')"
   ]
  },
  {
   "cell_type": "code",
   "execution_count": null,
   "id": "9fb57a27",
   "metadata": {
    "id": "9fb57a27"
   },
   "outputs": [],
   "source": [
    "command = \"tflite_convert \\\n",
    "--saved_model_dir={} \\\n",
    "--output_file={} \\\n",
    "--input_shapes=1,300,300,3 \\\n",
    "--input_arrays=normalized_input_image_tensor \\\n",
    "--output_arrays='TFLite_Detection_PostProcess','TFLite_Detection_PostProcess:1','TFLite_Detection_PostProcess:2','TFLite_Detection_PostProcess:3' \\\n",
    "--inference_type=FLOAT \\\n",
    "--allow_custom_ops\".format(FROZEN_TFLITE_PATH, TFLITE_MODEL, )"
   ]
  },
  {
   "cell_type": "code",
   "execution_count": null,
   "id": "3a06641e",
   "metadata": {
    "id": "3a06641e"
   },
   "outputs": [],
   "source": [
    "print(command)"
   ]
  },
  {
   "cell_type": "code",
   "execution_count": null,
   "id": "bc41ee9c",
   "metadata": {
    "id": "bc41ee9c"
   },
   "outputs": [],
   "source": [
    "!{command}"
   ]
  },
  {
   "cell_type": "markdown",
   "id": "e67c34d3",
   "metadata": {
    "id": "e67c34d3"
   },
   "source": [
    "# 13. Zip and Export Models"
   ]
  },
  {
   "cell_type": "code",
   "execution_count": null,
   "id": "77988b56",
   "metadata": {
    "id": "77988b56"
   },
   "outputs": [],
   "source": [
    "!tar -czf models.tar.gz {paths['CHECKPOINT_PATH']}"
   ]
  },
  {
   "cell_type": "code",
   "execution_count": null,
   "id": "176b7d08",
   "metadata": {
    "id": "176b7d08"
   },
   "outputs": [],
   "source": [
    "from google.colab import drive\n",
    "drive.mount('/content/drive')"
   ]
  }
 ],
 "metadata": {
  "accelerator": "GPU",
  "colab": {
   "gpuType": "T4",
   "provenance": []
  },
  "kernelspec": {
   "display_name": "Python 3 (ipykernel)",
   "language": "python",
   "name": "python3"
  },
  "language_info": {
   "codemirror_mode": {
    "name": "ipython",
    "version": 3
   },
   "file_extension": ".py",
   "mimetype": "text/x-python",
   "name": "python",
   "nbconvert_exporter": "python",
   "pygments_lexer": "ipython3",
   "version": "3.9.13"
  }
 },
 "nbformat": 4,
 "nbformat_minor": 5
}

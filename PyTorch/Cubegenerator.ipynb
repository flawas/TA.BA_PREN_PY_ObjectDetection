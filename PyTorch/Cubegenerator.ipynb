{
 "cells": [
  {
   "cell_type": "markdown",
   "id": "20462d81",
   "metadata": {},
   "source": [
    "# Module installieren"
   ]
  },
  {
   "cell_type": "code",
   "execution_count": null,
   "id": "afa41e43-4fe3-4849-a1a0-fb1a5b0da267",
   "metadata": {},
   "outputs": [],
   "source": [
    "!pip install pygame"
   ]
  },
  {
   "cell_type": "code",
   "execution_count": null,
   "id": "27dcac67-7d76-48e2-8cbe-6343e258f1c2",
   "metadata": {},
   "outputs": [],
   "source": [
    "!pip install pyopengl"
   ]
  },
  {
   "cell_type": "code",
   "execution_count": null,
   "id": "0fadaee5-f6ff-44a4-bab6-572ce24b433a",
   "metadata": {},
   "outputs": [],
   "source": [
    "!pip install pillow"
   ]
  },
  {
   "cell_type": "code",
   "execution_count": null,
   "id": "37b0387d-f01b-4e42-9b90-25bff5048754",
   "metadata": {},
   "outputs": [],
   "source": [
    "!pip install opencv-python"
   ]
  },
  {
   "cell_type": "code",
   "execution_count": null,
   "id": "86b49fbd-0552-4666-86e6-16d1307979f8",
   "metadata": {},
   "outputs": [],
   "source": [
    "!pip install --upgrade PyOpenGL"
   ]
  },
  {
   "cell_type": "markdown",
   "id": "bb0edf14-a61b-4d86-beff-b51430da287d",
   "metadata": {},
   "source": [
    "# Alle Kombinationen berechnen"
   ]
  },
  {
   "cell_type": "code",
   "execution_count": null,
   "id": "37e3d0cb",
   "metadata": {},
   "outputs": [],
   "source": [
    "def generate_options(Colours,Cubes, prefix=None, results=None):\n",
    "\n",
    "    if prefix is None:\n",
    "        prefix = []\n",
    "    if results is None:\n",
    "        results = []\n",
    "        \n",
    "    if Cubes == 0:\n",
    "        results.append(prefix)\n",
    "        return\n",
    "        \n",
    "    for Colour in Colours:\n",
    "        new_prefix = prefix + [Colour]\n",
    "        generate_options(Colours, Cubes - 1, new_prefix, results)\n",
    "        \n",
    "    return results\n",
    "\n",
    "Colours = [0,1,2,3]\n",
    "Cubes = 4\n",
    "result = generate_options(Colours,Cubes)"
   ]
  },
  {
   "cell_type": "markdown",
   "id": "883899d3-8c85-4c25-8cae-f45880d2645d",
   "metadata": {},
   "source": [
    "# Ordner erstellen"
   ]
  },
  {
   "cell_type": "code",
   "execution_count": null,
   "id": "680a57cb-4d73-474e-abe1-cacf45778449",
   "metadata": {},
   "outputs": [],
   "source": [
    "color_names = [\"Nothing\", \"Red\", \"Blue\", \"Yellow\"]"
   ]
  },
  {
   "cell_type": "code",
   "execution_count": null,
   "id": "cc9d8808-d246-4e4e-86e8-bd4d18f5f2fd",
   "metadata": {},
   "outputs": [],
   "source": [
    "import os\n",
    "\n",
    "folder = 0\n",
    "\n",
    "for folder in range(len(result)):\n",
    "    cube = result[folder]\n",
    "    name1, name2, name3, name4 = color_names[cube[0]], color_names[cube[1]], color_names[cube[2]], color_names[cube[3]]\n",
    "    foldername = os.path.join(name1 + '-' + name2 + '-' + name4 + '-' + name3)\n",
    "    if not os.path.exists(foldername):\n",
    "        if os.name == \"nt\":\n",
    "            os.chdir(\"C:/Users/Silvan Mangold/Desktop/Studium/Github/PREN/TA.BA_PREN_PY_ObjectDetection/PyTorch/Images\")\n",
    "            !mkdir {foldername}\n",
    "            os.chdir(\"C:/Users/Silvan Mangold/Desktop/Studium/Github/PREN/TA.BA_PREN_PY_ObjectDetection/PyTorch/Images\")\n",
    "    folder += 1"
   ]
  },
  {
   "cell_type": "markdown",
   "id": "ee938c2f-dc67-4747-add2-cd8edb5e6255",
   "metadata": {},
   "source": [
    "# Würfel erstellen"
   ]
  },
  {
   "cell_type": "code",
   "execution_count": null,
   "id": "c0d2b536-d21d-48be-938a-ddbfd211a51b",
   "metadata": {},
   "outputs": [],
   "source": [
    "from OpenGL.GL import *\n",
    "from OpenGL.GLU import *\n",
    "import pygame\n",
    "from pygame.locals import *\n",
    "from PIL import Image\n",
    "import os\n",
    "import uuid\n",
    "import shutil\n",
    "import time\n",
    "\n",
    "verticies = ((1,-1,-1,),(1,1,-1),(-1,1,-1),(-1,-1,-1),(1,-1,1),(1,1,1),(-1,-1,1),(-1,1,1))\n",
    "\n",
    "edges = ((0,1),(0,3),(0,4),(2,1),(2,3),(2,7),(6,3),(6,4),(6,7),(5,1),(5,4),(5,7))\n",
    "\n",
    "surfaces = ((0,1,2,3),(3,2,7,6),(6,7,5,4),(4,5,1,0),(1,5,7,2),(4,0,3,6))\n",
    "\n",
    "colours = ((1,1,1,0),(1,0,0,1),(0,0,1,1),(1,1,0,1)) #(\"nothing\":1,1,1,0 \"red\":1,0,0,1 \"blue\":0,0,1,1 \"yellow\":1,1,0,1)\n",
    "\n",
    "color_names = {(colours[0]): \"Nothing\",(colours[1]): \"Red\",(colours[2]): \"Blue\",(colours[3]): \"Yellow\"}\n",
    "\n",
    "\n",
    "def save_image(imagename):\n",
    "    width,height = 800,800\n",
    "    glPixelStorei(GL_PACK_ALIGNMENT, 1)\n",
    "    data = glReadPixels(0,0, width,height,GL_RGB,GL_UNSIGNED_BYTE)\n",
    "    image = Image.frombytes('RGB', (width, height), data)\n",
    "    image = image.transpose(Image.FLIP_TOP_BOTTOM)\n",
    "    image.save(imagename)\n",
    "\n",
    "def Cube1(ColorCube1):\n",
    "       glBegin(GL_QUADS)\n",
    "       for surface in surfaces:\n",
    "           glColor4f(*colours[ColorCube1])\n",
    "           for vertex in surface:\n",
    "               glVertex3fv(verticies[vertex])\n",
    "       glEnd()\n",
    "    \n",
    "       glBegin(GL_LINES)\n",
    "       for edge in edges:\n",
    "           glColor4f(0,0,0,0.1)\n",
    "           for vertex in edge:\n",
    "               glVertex3fv(verticies[vertex])\n",
    "       glEnd()\n",
    "    \n",
    "def Cube2(ColorCube2):\n",
    "       glBegin(GL_QUADS)\n",
    "       for surface in surfaces:\n",
    "           glColor4f(*colours[ColorCube2])\n",
    "           for vertex in surface:\n",
    "               glVertex3fv(verticies[vertex])\n",
    "       glEnd()\n",
    "    \n",
    "       glBegin(GL_LINES)\n",
    "       for edge in edges:\n",
    "           glColor4f(0,0,0,0.1)\n",
    "           for vertex in edge:\n",
    "               glVertex3fv(verticies[vertex])\n",
    "       glEnd()\n",
    " \n",
    "def Cube3(ColorCube3):\n",
    "       glBegin(GL_QUADS)\n",
    "       for surface in surfaces:\n",
    "           glColor4f(*colours[ColorCube3])\n",
    "           for vertex in surface:\n",
    "               glVertex3fv(verticies[vertex])\n",
    "       glEnd()\n",
    "    \n",
    "       glBegin(GL_LINES)\n",
    "       for edge in edges:\n",
    "           glColor4f(0,0,0,0.1)\n",
    "           for vertex in edge:\n",
    "               glVertex3fv(verticies[vertex])\n",
    "       glEnd()\n",
    "    \n",
    "def Cube4(ColorCube4):\n",
    "       glBegin(GL_QUADS)\n",
    "       for surface in surfaces:\n",
    "           glColor4f(*colours[ColorCube4])\n",
    "           for vertex in surface:\n",
    "               glVertex3fv(verticies[vertex])\n",
    "       glEnd()\n",
    "    \n",
    "       glBegin(GL_LINES)\n",
    "       for edge in edges:\n",
    "           glColor4f(0,0,0,0.1)\n",
    "           for vertex in edge:\n",
    "               glVertex3fv(verticies[vertex])\n",
    "       glEnd()\n",
    "\n",
    "    \n",
    "def main():\n",
    "    pygame.init()\n",
    "    display = (800, 800)\n",
    "    pygame.display.set_mode(display, DOUBLEBUF|OPENGL)\n",
    "    \n",
    "    gluPerspective(100, display[0]/display[1], 0.1, 100)\n",
    "    gluLookAt(0, 5, 5, 0, 0, -1, 0, 0, -1)\n",
    "    glTranslatef(0.0, 0.0,-5)\n",
    "    glRotatef(0, 0, 0, 0)\n",
    "    glClearColor(1, 1, 1, 1)\n",
    "    \n",
    "    glEnable(GL_BLEND)\n",
    "    glBlendFunc(GL_SRC_ALPHA, GL_ONE_MINUS_SRC_ALPHA)\n",
    "    glClear(GL_COLOR_BUFFER_BIT|GL_DEPTH_BUFFER_BIT)\n",
    "    pygame.display.flip()\n",
    "\n",
    "    for cube in result:\n",
    "        glClear(GL_COLOR_BUFFER_BIT|GL_DEPTH_BUFFER_BIT)\n",
    "        ColorCube1, ColorCube2, ColorCube3, ColorCube4 = cube\n",
    "        name1 = color_names[colours[ColorCube1]]\n",
    "        name2 = color_names[colours[ColorCube2]]\n",
    "        name3 = color_names[colours[ColorCube3]]\n",
    "        name4 = color_names[colours[ColorCube4]]\n",
    "        glPushMatrix()\n",
    "        glTranslatef(-1, -1, 1)\n",
    "        Cube1(ColorCube1)\n",
    "        glPopMatrix()\n",
    "        glPushMatrix()\n",
    "        glTranslatef(1, -1, 1)\n",
    "        Cube2(ColorCube2)\n",
    "        glPopMatrix()\n",
    "        glPushMatrix()\n",
    "        glTranslatef(-1, 1, 1)\n",
    "        Cube3(ColorCube3)\n",
    "        glPopMatrix()\n",
    "        glPushMatrix()\n",
    "        glTranslatef(1, 1, 1)\n",
    "        Cube4(ColorCube4)\n",
    "        glPopMatrix()\n",
    "        pygame.display.flip()  \n",
    "        imagename = str(name1 + '-' + name2 + '-' + name4 + '-' + name3 + '36' + '.jpg')\n",
    "        pygame.display.flip() \n",
    "        save_image(imagename)\n",
    "       \n",
    "    pygame.quit()\n",
    "    exit()\n",
    "\n",
    "main()"
   ]
  },
  {
   "cell_type": "markdown",
   "id": "9f3758be-14d0-4d1b-9723-3e4ce008b74f",
   "metadata": {},
   "source": [
    "# Move Image"
   ]
  },
  {
   "cell_type": "code",
   "execution_count": null,
   "id": "f7da1d2b-73c1-4f68-b130-9867421eea0c",
   "metadata": {},
   "outputs": [],
   "source": [
    "def generate_options(Colours,Cubes, prefix=None, results=None):\n",
    "\n",
    "    if prefix is None:\n",
    "        prefix = []\n",
    "    if results is None:\n",
    "        results = []\n",
    "        \n",
    "    if Cubes == 0:\n",
    "        results.append(prefix)\n",
    "        return\n",
    "        \n",
    "    for Colour in Colours:\n",
    "        new_prefix = prefix + [Colour]\n",
    "        generate_options(Colours, Cubes - 1, new_prefix, results)\n",
    "        \n",
    "    return results\n",
    "\n",
    "Colours = [0,1,2,3]\n",
    "Cubes = 4\n",
    "result = generate_options(Colours,Cubes)"
   ]
  },
  {
   "cell_type": "code",
   "execution_count": null,
   "id": "85ae29c0-31d0-4d0f-a1fa-fa9c7aa11774",
   "metadata": {},
   "outputs": [],
   "source": [
    "%cd C:\\Users\\Silvan Mangold\\Desktop\\Studium\\Github\\PREN\\TA.BA_PREN_PY_ObjectDetection\\PyTorch"
   ]
  },
  {
   "cell_type": "code",
   "execution_count": null,
   "id": "f399ab85-4b5a-4898-beb4-7366570e8333",
   "metadata": {},
   "outputs": [],
   "source": [
    "import os\n",
    "\n",
    "%cd Images\n",
    "color_names = [\"Nothing\", \"Red\", \"Blue\", \"Yellow\"]\n",
    "\n",
    "img = 0\n",
    "\n",
    "for img in range(len(result)):\n",
    "    cube = result[img]\n",
    "    name1, name2, name3, name4 = color_names[cube[0]], color_names[cube[1]], color_names[cube[2]], color_names[cube[3]]\n",
    "    foldername = os.path.join(name1 + '-' + name2 + '-' + name4 + '-' + name3)\n",
    "    imagename = str(name1 + '-' + name2 + '-' + name4 + '-' + name3 + '36' + '.jpg')\n",
    "    !move {imagename} {foldername}\n",
    "    img += 1"
   ]
  },
  {
   "cell_type": "markdown",
   "id": "0dd98b3c-557f-4176-9601-c377a9a6a7fa",
   "metadata": {},
   "source": [
    "# Ordner mit ungültigen löschen"
   ]
  },
  {
   "cell_type": "code",
   "execution_count": null,
   "id": "6f55b409-2345-4234-8cac-84ad7ad228c0",
   "metadata": {},
   "outputs": [],
   "source": [
    "%cd C:\\Users\\Silvan Mangold\\Desktop\\Studium\\Github\\PREN\\TA.BA_PREN_PY_ObjectDetection\\PyTorch\\Images"
   ]
  },
  {
   "cell_type": "code",
   "execution_count": null,
   "id": "330a48fd-dea7-4b5b-b53d-2b7936b39039",
   "metadata": {},
   "outputs": [],
   "source": [
    "def generate_options(Colours,Cubes, prefix=None, results=None):\n",
    "\n",
    "    if prefix is None:\n",
    "        prefix = []\n",
    "    if results is None:\n",
    "        results = []\n",
    "        \n",
    "    if Cubes == 0:\n",
    "        results.append(prefix)\n",
    "        return\n",
    "        \n",
    "    for Colour in Colours:\n",
    "        new_prefix = prefix + [Colour]\n",
    "        generate_options(Colours, Cubes - 1, new_prefix, results)\n",
    "        \n",
    "    return results\n",
    "\n",
    "Colours = [0,1,2,3]\n",
    "Cubes = 4\n",
    "result = generate_options(Colours,Cubes)"
   ]
  },
  {
   "cell_type": "code",
   "execution_count": null,
   "id": "716f76b4-306a-4377-bb76-7c6494b6b484",
   "metadata": {},
   "outputs": [],
   "source": [
    "import shutil\n",
    "import os\n",
    "\n",
    "color_names = [\"Nothing\", \"Red\", \"Blue\", \"Yellow\"]\n",
    "\n",
    "folder = 0\n",
    "\n",
    "for folder in range(len(result)):\n",
    "    cube = result[folder]\n",
    "    name1, name2, name3, name4 = color_names[cube[0]], color_names[cube[1]], color_names[cube[2]], color_names[cube[3]]\n",
    "    if name1==\"Nothing\" and name2==\"Nothing\" and name3!=\"Nothing\" and name4!=\"Nothing\" or name1==\"Nothing\" and name3!=\"Nothing\" or name2==\"Nothing\" and name4!=\"Nothing\":\n",
    "        foldername = os.path.join(name1 + '-' + name2 + '-' + name4 + '-' + name3)\n",
    "        \n",
    "        shutil.rmtree(foldername)"
   ]
  },
  {
   "cell_type": "markdown",
   "id": "c184c99e-cb3c-4a8f-b82b-4d2dcac73b2e",
   "metadata": {},
   "source": [
    "# Mögliche Einstellungen"
   ]
  },
  {
   "cell_type": "code",
   "execution_count": null,
   "id": "cb1d1de9-637f-4774-b2b3-2e02d77df8a6",
   "metadata": {},
   "outputs": [],
   "source": [
    "    gluPerspective(100, display[0]/display[1], 0.1, 100)\n",
    "    gluLookAt(0, 5, 5, 0, 0, -1, 0, 0, -1) # Mehr Distanz & grösser Neigungswinkel\n",
    "    glTranslatef(0.0, 0.0,-5)\n",
    "    glRotatef(20, 0, -5, 0)\n",
    "    glClearColor(1, 1, 1, 1)"
   ]
  },
  {
   "cell_type": "code",
   "execution_count": null,
   "id": "4a7ed533-fe83-4b9b-8a3f-477f144b64f1",
   "metadata": {},
   "outputs": [],
   "source": [
    "    gluPerspective(100, display[0]/display[1], 0.1, 100)\n",
    "    gluLookAt(0, 3, 5, 0, 0, -1, 0, 0, -1) # Mehr Distanz jedoch niedriger Neigungswinkel\n",
    "    glTranslatef(0.0, 0.0,-5)\n",
    "    glRotatef(20, 0, -5, 0)\n",
    "    glClearColor(1, 1, 1, 1)"
   ]
  },
  {
   "cell_type": "code",
   "execution_count": null,
   "id": "fc22f6a0-f377-4779-8a26-34ddfdd899a0",
   "metadata": {},
   "outputs": [],
   "source": [
    "    gluPerspective(100, display[0]/display[1], 0.1, 100)\n",
    "    gluLookAt(0, 5, 3, 0, 0, -1, 0, 0, -1) # Weniger Distanz jedoch grösser Neigungswinkel\n",
    "    glTranslatef(0.0, 0.0,-5)\n",
    "    glRotatef(20, 0, -5, 0)\n",
    "    glClearColor(1, 1, 1, 1)"
   ]
  },
  {
   "cell_type": "code",
   "execution_count": null,
   "id": "72b01f5c-dcea-4f84-8b51-f62c16c20122",
   "metadata": {},
   "outputs": [],
   "source": [
    "    gluPerspective(100, display[0]/display[1], 0.1, 100)\n",
    "    gluLookAt(0, 3, 3, 0, 0, -1, 0, 0, -1) # Weniger Distanz & niedriger Neigungswinkel\n",
    "    glTranslatef(0.0, 0.0,-5)\n",
    "    glRotatef(20, 0, -5, 0)\n",
    "    glClearColor(1, 1, 1, 1)\n"
   ]
  },
  {
   "cell_type": "code",
   "execution_count": null,
   "id": "15b31690-76e3-4f15-af34-01b922fa221a",
   "metadata": {},
   "outputs": [],
   "source": [
    "    gluPerspective(100, display[0]/display[1], 0.1, 100)\n",
    "    gluLookAt(0, 3, 3, 0, 0, -1, 0, 0, -1)\n",
    "    glTranslatef(0.0, 0.0,-5)\n",
    "    glRotatef(0, 0, 0, 0 # von Vorne\n",
    "    glClearColor(1, 1, 1, 1)\n"
   ]
  },
  {
   "cell_type": "code",
   "execution_count": null,
   "id": "aa5963f5-f78d-4f4e-b3b1-a832dc572f79",
   "metadata": {},
   "outputs": [],
   "source": [
    "    gluPerspective(100, display[0]/display[1], 0.1, 100)\n",
    "    gluLookAt(0, 3, 3, 0, 0, -1, 0, 0, -1)\n",
    "    glTranslatef(0.0, 0.0,-5)\n",
    "    glRotatef(10, 0, -5, 0 # Kleiner Winkel\n",
    "    glClearColor(1, 1, 1, 1)"
   ]
  },
  {
   "cell_type": "code",
   "execution_count": null,
   "id": "1ff6628b-f4d8-4aa5-8a20-1eb3dbed9f54",
   "metadata": {},
   "outputs": [],
   "source": []
  },
  {
   "cell_type": "code",
   "execution_count": null,
   "id": "2bcf58d0-b58a-4aed-9e37-458c6f4a8da4",
   "metadata": {},
   "outputs": [],
   "source": [
    "glClearColor(1, 1, 1, 1)"
   ]
  },
  {
   "cell_type": "code",
   "execution_count": null,
   "id": "dba1aa59-39a5-42b4-a05a-e18f8b040515",
   "metadata": {},
   "outputs": [],
   "source": [
    "glClearColor(0.95, 0.95, 0.95, 1)"
   ]
  },
  {
   "cell_type": "code",
   "execution_count": null,
   "id": "5b37b1a6-6401-410e-b8cb-449548cdd360",
   "metadata": {},
   "outputs": [],
   "source": [
    "((1,1,1,0),(1,0,0,1),(0,0,1,1),(1,1,0,1))"
   ]
  },
  {
   "cell_type": "code",
   "execution_count": null,
   "id": "96c692a8-7d94-4ce5-816c-34de36b6b992",
   "metadata": {},
   "outputs": [],
   "source": [
    "((1,1,1,0),(0.9, 0.20, 0.16,1),(0, 0.27, 0.64,1),(0.85, 0.77, 0,1))"
   ]
  }
 ],
 "metadata": {
  "kernelspec": {
   "display_name": "Python 3 (ipykernel)",
   "language": "python",
   "name": "python3"
  },
  "language_info": {
   "codemirror_mode": {
    "name": "ipython",
    "version": 3
   },
   "file_extension": ".py",
   "mimetype": "text/x-python",
   "name": "python",
   "nbconvert_exporter": "python",
   "pygments_lexer": "ipython3",
   "version": "3.10.8"
  }
 },
 "nbformat": 4,
 "nbformat_minor": 5
}

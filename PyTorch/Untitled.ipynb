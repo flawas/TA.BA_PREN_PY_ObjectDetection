{
 "cells": [
  {
   "cell_type": "markdown",
   "id": "b915bba9-de95-4e71-8349-2f75bd978f21",
   "metadata": {},
   "source": [
    "# Import all Moduls"
   ]
  },
  {
   "cell_type": "code",
   "execution_count": 45,
   "id": "4e9acf7c-1f4f-4fd0-9772-994c50050224",
   "metadata": {},
   "outputs": [
    {
     "data": {
      "text/plain": [
       "<contextlib.ExitStack at 0x1d13da839d0>"
      ]
     },
     "execution_count": 45,
     "metadata": {},
     "output_type": "execute_result"
    }
   ],
   "source": [
    "import torch\n",
    "import torch.nn as nn\n",
    "import torch.optim as optim\n",
    "from torch.optim import lr_scheduler\n",
    "import torch.backends.cudnn as cudnn\n",
    "import numpy as np\n",
    "import torchvision\n",
    "from torchvision import datasets,models,transforms\n",
    "import matplotlib.pyplot as plt\n",
    "import time\n",
    "import os\n",
    "from PIL import Image\n",
    "\n",
    "cudnn.benchmark = True\n",
    "plt.ion()"
   ]
  },
  {
   "cell_type": "markdown",
   "id": "1a3b0659-5f10-4933-9b26-c59b8d07e908",
   "metadata": {},
   "source": [
    "# Load Data"
   ]
  },
  {
   "cell_type": "code",
   "execution_count": 46,
   "id": "d6f34bd7-6522-4975-81a8-4671e474f285",
   "metadata": {},
   "outputs": [],
   "source": [
    "data_transforms = {\n",
    "    'train': transforms.Compose([\n",
    "        transforms.Resize(232),\n",
    "        transforms.ToTensor(),\n",
    "        transforms.Normalize([0.485, 0.456, 0.406],[0.229, 0.224, 0.225])\n",
    "    ]),\n",
    "    'test': transforms.Compose([\n",
    "        transforms.Resize(232),\n",
    "        transforms.CenterCrop(224),\n",
    "        transforms.ToTensor(),\n",
    "        transforms.Normalize([0.485, 0.456, 0.406],[0.229, 0.224, 0.225])\n",
    "    ])}\n",
    "\n",
    "data_dir = 'Images1'\n",
    "image_datasets = {x: datasets.ImageFolder(os.path.join(data_dir,x),\n",
    "                                            data_transforms[x])\n",
    "                  for x in ['train','test']}\n",
    "dataloaders = {x: torch.utils.data.DataLoader(image_datasets[x], batch_size=4,\n",
    "                                              shuffle=True, num_workers=4)\n",
    "               for x in ['train','test']}\n",
    "dataset_sizes = {x: len(image_datasets[x]) for x in ['train','test']}\n",
    "class_names = image_datasets['train'].classes\n",
    "\n",
    "device = torch.device(\"cuda:0\" if torch.cuda.is_available() else \"cpu\")"
   ]
  },
  {
   "cell_type": "markdown",
   "id": "5f6eb92c-5b06-40b9-a6b5-dd27b6d21012",
   "metadata": {},
   "source": [
    "# Visualize a few images"
   ]
  },
  {
   "cell_type": "code",
   "execution_count": 47,
   "id": "383a0a15-57e4-4aed-8e20-8ff37e6db9bb",
   "metadata": {},
   "outputs": [
    {
     "data": {
      "image/png": "[encoded data removed]",
      "text/plain": [
       "<Figure size 640x480 with 1 Axes>"
      ]
     },
     "metadata": {},
     "output_type": "display_data"
    }
   ],
   "source": [
    "def imshow(inp, title=None):\n",
    "    \"\"\"Display image for Tensor.\"\"\"\n",
    "    inp = inp.numpy().transpose((1, 2, 0))\n",
    "    mean = np.array([0.485, 0.456, 0.406])\n",
    "    std = np.array([0.229, 0.224, 0.225])\n",
    "    inp = std * inp + mean\n",
    "    inp = np.clip(inp, 0, 1)\n",
    "    plt.imshow(inp)\n",
    "    if title is not None:\n",
    "        plt.title(title)\n",
    "    plt.pause(0.001)  # pause a bit so that plots are updated\n",
    "\n",
    "\n",
    "# Get a batch of training data\n",
    "inputs, classes = next(iter(dataloaders['train']))\n",
    "\n",
    "# Make a grid from batch\n",
    "out = torchvision.utils.make_grid(inputs)\n",
    "\n",
    "imshow(out, title=[class_names[x] for x in classes])"
   ]
  },
  {
   "cell_type": "markdown",
   "id": "d4e75980-8d74-47ee-b7f6-fe87c9b0fc92",
   "metadata": {},
   "source": [
    "# Model Training"
   ]
  },
  {
   "cell_type": "code",
   "execution_count": 48,
   "id": "9b536d37-0722-4b6c-a88e-aa1a55f13d06",
   "metadata": {},
   "outputs": [],
   "source": [
    "def train_model(model, criterion, optimizer, scheduler, num_epochs=25):\n",
    "    since = time.time()\n",
    "\n",
    "    # Create a temporary directory to save training checkpoints\n",
    "    best_model_params_path = os.path.join('Model', 'best_model_params.pt')\n",
    "\n",
    "    torch.save(model.state_dict(), best_model_params_path)\n",
    "    best_acc = 0.0\n",
    "\n",
    "    for epoch in range(num_epochs):\n",
    "        print(f'Epoch {epoch}/{num_epochs - 1}')\n",
    "        print('-' * 10)\n",
    "\n",
    "        # Each epoch has a training and validation phase\n",
    "        for phase in ['train','test']:\n",
    "            if phase == 'train':\n",
    "                model.train()  # Set model to training mode\n",
    "            else:\n",
    "                model.eval()   # Set model to evaluate mode\n",
    "\n",
    "            running_loss = 0.0\n",
    "            running_corrects = 0\n",
    "\n",
    "            # Iterate over data.\n",
    "            for inputs, labels in dataloaders[phase]:\n",
    "                inputs = inputs.to(device)\n",
    "                labels = labels.to(device)\n",
    "\n",
    "                # zero the parameter gradients\n",
    "                optimizer.zero_grad()\n",
    "\n",
    "                # forward\n",
    "                # track history if only in train\n",
    "                with torch.set_grad_enabled(phase == 'train'):\n",
    "                    outputs = model(inputs)\n",
    "                    _, preds = torch.max(outputs, 1)\n",
    "                    loss = criterion(outputs, labels)\n",
    "\n",
    "                    # backward + optimize only if in training phase\n",
    "                    if phase == 'train':\n",
    "                        loss.backward()\n",
    "                        optimizer.step()\n",
    "\n",
    "                # statistics\n",
    "                running_loss += loss.item() * inputs.size(0)\n",
    "                running_corrects += torch.sum(preds == labels.data)\n",
    "            if phase == 'train':\n",
    "                scheduler.step()\n",
    "\n",
    "            epoch_loss = running_loss / dataset_sizes[phase]\n",
    "            epoch_acc = running_corrects.double() / dataset_sizes[phase]\n",
    "\n",
    "            print(f'{phase} Loss: {epoch_loss:.4f} Acc: {epoch_acc:.4f}')\n",
    "\n",
    "            # deep copy the model\n",
    "            if phase == 'test' and epoch_acc > best_acc:\n",
    "                best_acc = epoch_acc\n",
    "                torch.save(model.state_dict(), best_model_params_path)\n",
    "\n",
    "        print()\n",
    "\n",
    "        time_elapsed = time.time() - since\n",
    "        print(f'Training complete in {time_elapsed // 60:.0f}m {time_elapsed % 60:.0f}s')\n",
    "        print(f'Best val Acc: {best_acc:4f}')\n",
    "\n",
    "        # load best model weights\n",
    "        model.load_state_dict(torch.load(best_model_params_path))\n",
    "    return model"
   ]
  },
  {
   "cell_type": "markdown",
   "id": "664e6956-aa39-4159-b83d-16f19eed2312",
   "metadata": {},
   "source": [
    "# Visualizing the model predicitions"
   ]
  },
  {
   "cell_type": "code",
   "execution_count": 49,
   "id": "06bfc96d-156f-466f-94d8-53d9bfca42a0",
   "metadata": {},
   "outputs": [],
   "source": [
    "def visualize_model(model, num_images=6):\n",
    "    was_training = model.training\n",
    "    model.eval()\n",
    "    images_so_far = 0\n",
    "    fig = plt.figure()\n",
    "\n",
    "    with torch.no_grad():\n",
    "        for i, (inputs, labels) in enumerate(dataloaders['test']):\n",
    "            inputs = inputs.to(device)\n",
    "            labels = labels.to(device)\n",
    "\n",
    "            outputs = model(inputs)\n",
    "            _, preds = torch.max(outputs, 1)\n",
    "\n",
    "            for j in range(inputs.size()[0]):\n",
    "                images_so_far += 1\n",
    "                ax = plt.subplot(num_images//2, 2, images_so_far)\n",
    "                ax.axis('off')\n",
    "                ax.set_title(f'predicted: {class_names[preds[j]]}')\n",
    "                imshow(inputs.cpu().data[j])\n",
    "\n",
    "                if images_so_far == num_images:\n",
    "                    model.train(mode=was_training)\n",
    "                    return\n",
    "        model.train(mode=was_training)"
   ]
  },
  {
   "cell_type": "markdown",
   "id": "c3696e1c-4a82-49be-a0c9-b37d1306dcf5",
   "metadata": {},
   "source": [
    "# Finetuning the ConvNet"
   ]
  },
  {
   "cell_type": "code",
   "execution_count": 50,
   "id": "f0774c5d-69d5-4e61-bfd6-121e1f294ee2",
   "metadata": {},
   "outputs": [],
   "source": [
    "model_ft = models.mobilenet_v2(weights='IMAGENET1K_V1')\n",
    "num_ftrs = model_ft.classifier[1].in_features\n",
    "# Here the size of each output sample is set to 2.\n",
    "# Alternatively, it can be generalized to ``nn.Linear(num_ftrs, len(class_names))``.\n",
    "model_ft.classifier[1] = nn.Linear(num_ftrs, len(class_names))\n",
    "\n",
    "model_ft = model_ft.to(device)\n",
    "\n",
    "criterion = nn.CrossEntropyLoss()\n",
    "\n",
    "# Observe that all parameters are being optimized\n",
    "optimizer_ft = optim.SGD(model_ft.parameters(), lr=0.001, momentum=0.9)\n",
    "\n",
    "# Decay LR by a factor of 0.1 every 7 epochs\n",
    "exp_lr_scheduler = lr_scheduler.StepLR(optimizer_ft, step_size=7, gamma=0.1)"
   ]
  },
  {
   "cell_type": "code",
   "execution_count": 51,
   "id": "ae2718ae-d228-4c87-a1c7-5357a46165e5",
   "metadata": {},
   "outputs": [
    {
     "name": "stdout",
     "output_type": "stream",
     "text": [
      "Epoch 0/12\n",
      "----------\n",
      "train Loss: 3.4695 Acc: 0.3020\n",
      "test Loss: 1.3800 Acc: 0.6203\n",
      "\n",
      "Training complete in 1m 2s\n",
      "Best val Acc: 0.620316\n",
      "Epoch 1/12\n",
      "----------\n",
      "train Loss: 0.6568 Acc: 0.9551\n",
      "test Loss: 0.4126 Acc: 0.9073\n",
      "\n",
      "Training complete in 2m 6s\n",
      "Best val Acc: 0.907298\n",
      "Epoch 2/12\n",
      "----------\n",
      "train Loss: 0.1579 Acc: 0.9995\n",
      "test Loss: 0.2684 Acc: 0.9236\n",
      "\n",
      "Training complete in 3m 9s\n",
      "Best val Acc: 0.923570\n",
      "Epoch 3/12\n",
      "----------\n",
      "train Loss: 0.0802 Acc: 1.0000\n",
      "test Loss: 0.3017 Acc: 0.8984\n",
      "\n",
      "Training complete in 4m 12s\n",
      "Best val Acc: 0.923570\n",
      "Epoch 4/12\n",
      "----------\n",
      "train Loss: 0.0840 Acc: 1.0000\n",
      "test Loss: 0.3615 Acc: 0.8748\n",
      "\n",
      "Training complete in 5m 14s\n",
      "Best val Acc: 0.923570\n",
      "Epoch 5/12\n",
      "----------\n",
      "train Loss: 0.0821 Acc: 0.9998\n",
      "test Loss: 0.3128 Acc: 0.8994\n",
      "\n",
      "Training complete in 6m 18s\n",
      "Best val Acc: 0.923570\n",
      "Epoch 6/12\n",
      "----------\n",
      "train Loss: 0.0804 Acc: 1.0000\n",
      "test Loss: 0.3065 Acc: 0.9029\n",
      "\n",
      "Training complete in 7m 23s\n",
      "Best val Acc: 0.923570\n",
      "Epoch 7/12\n",
      "----------\n",
      "train Loss: 0.0909 Acc: 1.0000\n",
      "test Loss: 0.1882 Acc: 0.9527\n",
      "\n",
      "Training complete in 8m 26s\n",
      "Best val Acc: 0.952663\n",
      "Epoch 8/12\n",
      "----------\n",
      "train Loss: 0.0814 Acc: 1.0000\n",
      "test Loss: 0.2730 Acc: 0.9285\n",
      "\n",
      "Training complete in 9m 29s\n",
      "Best val Acc: 0.952663\n",
      "Epoch 9/12\n",
      "----------\n",
      "train Loss: 0.0789 Acc: 1.0000\n",
      "test Loss: 0.2422 Acc: 0.9369\n",
      "\n",
      "Training complete in 10m 34s\n",
      "Best val Acc: 0.952663\n",
      "Epoch 10/12\n",
      "----------\n",
      "train Loss: 0.0817 Acc: 1.0000\n",
      "test Loss: 0.2831 Acc: 0.9088\n",
      "\n",
      "Training complete in 11m 38s\n",
      "Best val Acc: 0.952663\n",
      "Epoch 11/12\n",
      "----------\n",
      "train Loss: 0.0810 Acc: 1.0000\n",
      "test Loss: 0.2535 Acc: 0.9280\n",
      "\n",
      "Training complete in 12m 43s\n",
      "Best val Acc: 0.952663\n",
      "Epoch 12/12\n",
      "----------\n",
      "train Loss: 0.0826 Acc: 1.0000\n",
      "test Loss: 0.1480 Acc: 0.9768\n",
      "\n",
      "Training complete in 13m 50s\n",
      "Best val Acc: 0.976824\n"
     ]
    }
   ],
   "source": [
    "model_ft = train_model(model_ft, criterion, optimizer_ft, exp_lr_scheduler,\n",
    "                       num_epochs=13)"
   ]
  },
  {
   "cell_type": "code",
   "execution_count": 52,
   "id": "3237087a-356e-46ec-8d8a-25b1e3d36864",
   "metadata": {},
   "outputs": [
    {
     "data": {
      "image/png": "[encoded data removed]",
      "text/plain": [
       "<Figure size 640x480 with 1 Axes>"
      ]
     },
     "metadata": {},
     "output_type": "display_data"
    },
    {
     "data": {
      "image/png": "[encoded data removed]",
      "text/plain": [
       "<Figure size 640x480 with 1 Axes>"
      ]
     },
     "metadata": {},
     "output_type": "display_data"
    },
    {
     "data": {
      "image/png": "[encoded data removed]",
      "text/plain": [
       "<Figure size 640x480 with 1 Axes>"
      ]
     },
     "metadata": {},
     "output_type": "display_data"
    },
    {
     "data": {
      "image/png": "[encoded data removed]",
      "text/plain": [
       "<Figure size 640x480 with 1 Axes>"
      ]
     },
     "metadata": {},
     "output_type": "display_data"
    },
    {
     "data": {
      "image/png": "[encoded data removed]",
      "text/plain": [
       "<Figure size 640x480 with 1 Axes>"
      ]
     },
     "metadata": {},
     "output_type": "display_data"
    },
    {
     "data": {
      "image/png": "[encoded data removed]",
      "text/plain": [
       "<Figure size 640x480 with 1 Axes>"
      ]
     },
     "metadata": {},
     "output_type": "display_data"
    }
   ],
   "source": [
    "visualize_model(model_ft)"
   ]
  },
  {
   "cell_type": "markdown",
   "id": "0e0700c8-10bc-45db-a887-29a1dac46ef1",
   "metadata": {},
   "source": [
    "# ConvNet as fixed feature extractor"
   ]
  },
  {
   "cell_type": "code",
   "execution_count": 53,
   "id": "b77a8874-fdb2-468c-93fa-c3cc6467fb19",
   "metadata": {},
   "outputs": [],
   "source": [
    "model_conv = torchvision.models.mobilenet_v2(weights='IMAGENET1K_V2')\n",
    "for param in model_conv.parameters():\n",
    "    param.requires_grad = True\n",
    "\n",
    "# Parameters of newly constructed modules have requires_grad=True by default\n",
    "num_ftrs = model_ft.classifier[1].in_features\n",
    "model_ft.classifier[1] = nn.Linear(num_ftrs, len(class_names))\n",
    "\n",
    "model_conv = model_conv.to(device)\n",
    "\n",
    "criterion = nn.CrossEntropyLoss()\n",
    "\n",
    "# Observe that only parameters of final layer are being optimized as\n",
    "# opposed to before.\n",
    "optimizer_conv = optim.SGD(model_conv.parameters(), lr=0.001, momentum=0.9)\n",
    "\n",
    "# Decay LR by a factor of 0.1 every 7 epochs\n",
    "exp_lr_scheduler = lr_scheduler.StepLR(optimizer_conv, step_size=7, gamma=0.1)"
   ]
  },
  {
   "cell_type": "code",
   "execution_count": null,
   "id": "788216d8-4fa1-4189-a11b-71bc139d9482",
   "metadata": {},
   "outputs": [
    {
     "name": "stdout",
     "output_type": "stream",
     "text": [
      "Epoch 0/12\n",
      "----------\n",
      "train Loss: 4.3227 Acc: 0.1935\n",
      "test Loss: 1.9340 Acc: 0.4561\n",
      "\n",
      "Training complete in 1m 1s\n",
      "Best val Acc: 0.456114\n",
      "Epoch 1/12\n",
      "----------\n",
      "train Loss: 0.7724 Acc: 0.8969\n",
      "test Loss: 0.7661 Acc: 0.8210\n",
      "\n",
      "Training complete in 2m 4s\n",
      "Best val Acc: 0.821006\n",
      "Epoch 2/12\n",
      "----------\n",
      "train Loss: 0.1405 Acc: 0.9990\n",
      "test Loss: 0.7112 Acc: 0.8126\n",
      "\n",
      "Training complete in 3m 6s\n",
      "Best val Acc: 0.821006\n",
      "Epoch 3/12\n",
      "----------\n",
      "train Loss: 0.1397 Acc: 0.9993\n",
      "test Loss: 0.7348 Acc: 0.8151\n",
      "\n",
      "Training complete in 4m 12s\n",
      "Best val Acc: 0.821006\n",
      "Epoch 4/12\n",
      "----------\n",
      "train Loss: 0.1411 Acc: 0.9988\n",
      "test Loss: 0.7570 Acc: 0.8131\n",
      "\n",
      "Training complete in 5m 17s\n",
      "Best val Acc: 0.821006\n",
      "Epoch 5/12\n",
      "----------\n",
      "train Loss: 0.1369 Acc: 0.9993\n",
      "test Loss: 0.7638 Acc: 0.7860\n",
      "\n",
      "Training complete in 6m 23s\n",
      "Best val Acc: 0.821006\n",
      "Epoch 6/12\n",
      "----------\n",
      "train Loss: 0.1369 Acc: 0.9995\n",
      "test Loss: 0.7469 Acc: 0.8131\n",
      "\n",
      "Training complete in 7m 41s\n",
      "Best val Acc: 0.821006\n",
      "Epoch 7/12\n",
      "----------\n",
      "train Loss: 0.1983 Acc: 0.9985\n",
      "test Loss: 0.8580 Acc: 0.7899\n",
      "\n",
      "Training complete in 8m 56s\n",
      "Best val Acc: 0.821006\n",
      "Epoch 8/12\n",
      "----------\n",
      "train Loss: 0.1956 Acc: 0.9985\n",
      "test Loss: 0.8139 Acc: 0.8037\n",
      "\n",
      "Training complete in 10m 25s\n",
      "Best val Acc: 0.821006\n",
      "Epoch 9/12\n",
      "----------\n",
      "train Loss: 0.1935 Acc: 0.9990\n",
      "test Loss: 0.7483 Acc: 0.8259\n",
      "\n",
      "Training complete in 11m 47s\n",
      "Best val Acc: 0.825937\n",
      "Epoch 10/12\n",
      "----------\n",
      "train Loss: 0.1628 Acc: 0.9990\n"
     ]
    }
   ],
   "source": [
    "model_conv = train_model(model_conv, criterion, optimizer_conv,\n",
    "                         exp_lr_scheduler, num_epochs=13)"
   ]
  },
  {
   "cell_type": "code",
   "execution_count": null,
   "id": "a8acb480-9d8f-4692-a9e6-f74ef00ec9aa",
   "metadata": {},
   "outputs": [],
   "source": [
    "visualize_model(model_conv)\n",
    "\n",
    "plt.ioff()\n",
    "plt.show()"
   ]
  },
  {
   "cell_type": "code",
   "execution_count": null,
   "id": "a09aa71d-2750-4c00-a292-1ebbe81d3117",
   "metadata": {},
   "outputs": [],
   "source": [
    "def visualize_model_predictions(model,img_path):\n",
    "    was_training = model.training\n",
    "    model.eval()\n",
    "\n",
    "    img = Image.open(img_path)\n",
    "    img = data_transforms['test'](img)\n",
    "    img = img.unsqueeze(0)\n",
    "    img = img.to(device)\n",
    "\n",
    "    with torch.no_grad():\n",
    "        outputs = model(img)\n",
    "        _, preds = torch.max(outputs, 1)\n",
    "\n",
    "        ax = plt.subplot(2,2,1)\n",
    "        ax.axis('off')\n",
    "        ax.set_title(f'Predicted: {class_names[preds[0]]}')\n",
    "        imshow(img.cpu().data[0])\n",
    "        print(class_names[preds[0]])\n",
    "\n",
    "        model.train(mode=was_training)"
   ]
  },
  {
   "cell_type": "code",
   "execution_count": null,
   "id": "d074f9df-9ecf-482e-b543-25d3876074de",
   "metadata": {},
   "outputs": [],
   "source": [
    "visualize_model_predictions(\n",
    "    model_conv,\n",
    "    img_path='Images/test/Screenshot_2024-04-04-09-30-05.png'\n",
    ")\n",
    "\n",
    "\n",
    "plt.ioff()\n",
    "plt.show()"
   ]
  },
  {
   "cell_type": "markdown",
   "id": "80fb6058-f13e-4fbf-b7ad-450458c7fcc5",
   "metadata": {},
   "source": [
    "# Save the Model"
   ]
  },
  {
   "cell_type": "code",
   "execution_count": null,
   "id": "1422b97f-7b46-4dd8-ace2-578a2ae70662",
   "metadata": {},
   "outputs": [],
   "source": [
    "model_scripted = torch.jit.script(model_conv) # Export to TorchScript\n",
    "model_scripted.save('model_scripted.pt') # Save"
   ]
  },
  {
   "cell_type": "markdown",
   "id": "bdd3ff55-997e-4206-b0f3-ae680d22cf0a",
   "metadata": {},
   "source": [
    "# Load the Model"
   ]
  },
  {
   "cell_type": "code",
   "execution_count": null,
   "id": "1219e58e-fe58-4958-bdf1-42e3808ebd81",
   "metadata": {},
   "outputs": [],
   "source": [
    "model_load = torch.jit.load('model_scripted.pt')\n",
    "model_load.eval()"
   ]
  },
  {
   "cell_type": "markdown",
   "id": "cb470bf8-c600-47c2-ba5d-591ad8bd6a9d",
   "metadata": {},
   "source": [
    "# Bilderkennung"
   ]
  },
  {
   "cell_type": "code",
   "execution_count": null,
   "id": "9767d0b9-47bb-4580-9f08-778cc469c92b",
   "metadata": {},
   "outputs": [],
   "source": [
    "def visualize_model_predictions(model,img_path):\n",
    "    was_training = model.training\n",
    "    model.eval()\n",
    "\n",
    "    img = Image.open(img_path)\n",
    "    img = data_transforms['test'](img)\n",
    "    img = img.unsqueeze(0)\n",
    "    img = img.to(device)\n",
    "\n",
    "    with torch.no_grad():\n",
    "        outputs = model(img)\n",
    "        _, preds = torch.max(outputs, 1)\n",
    "        \n",
    "        detected_label = class_names[preds[0]]\n",
    "        cubes = detected_label.split(\"-\")\n",
    "\n",
    "        model.train(mode=was_training)\n",
    "        return cubes"
   ]
  },
  {
   "cell_type": "code",
   "execution_count": null,
   "id": "9ad5875f-ca5f-40ec-b03d-5204d3d5afa1",
   "metadata": {},
   "outputs": [],
   "source": [
    "visualize_model_predictions(\n",
    "    model_load,\n",
    "    img_path='Images/train/Blue-Blue-Blue-Nothing/Blue-Blue-Blue-Nothing12.jpg'\n",
    ")"
   ]
  },
  {
   "cell_type": "code",
   "execution_count": null,
   "id": "e30ff14d-2c16-4170-8ba1-ed275b4ca783",
   "metadata": {},
   "outputs": [],
   "source": []
  },
  {
   "cell_type": "code",
   "execution_count": null,
   "id": "a7d57168-fde0-4d4a-8941-5474ceeb5bfe",
   "metadata": {},
   "outputs": [],
   "source": []
  },
  {
   "cell_type": "code",
   "execution_count": null,
   "id": "4a809210-c334-4ecb-a2c2-95be5ba14476",
   "metadata": {},
   "outputs": [],
   "source": []
  },
  {
   "cell_type": "code",
   "execution_count": null,
   "id": "4936d4ab-197a-4c78-99cf-010d803ecd0f",
   "metadata": {},
   "outputs": [],
   "source": []
  },
  {
   "cell_type": "code",
   "execution_count": null,
   "id": "e939f778-ef7a-46e0-8b20-0a3839b5f804",
   "metadata": {},
   "outputs": [],
   "source": [
    "    # Create a temporary directory to save training checkpoints\n",
    "    with TemporaryDirectory() as tempdir:\n",
    "        best_model_params_path = os.path.join(tempdir, 'best_model_params.pt')\n",
    "\n",
    "        torch.save(model.state_dict(), best_model_params_path)\n",
    "        best_acc = 0.0"
   ]
  }
 ],
 "metadata": {
  "kernelspec": {
   "display_name": "Python 3 (ipykernel)",
   "language": "python",
   "name": "python3"
  },
  "language_info": {
   "codemirror_mode": {
    "name": "ipython",
    "version": 3
   },
   "file_extension": ".py",
   "mimetype": "text/x-python",
   "name": "python",
   "nbconvert_exporter": "python",
   "pygments_lexer": "ipython3",
   "version": "3.10.8"
  }
 },
 "nbformat": 4,
 "nbformat_minor": 5
}

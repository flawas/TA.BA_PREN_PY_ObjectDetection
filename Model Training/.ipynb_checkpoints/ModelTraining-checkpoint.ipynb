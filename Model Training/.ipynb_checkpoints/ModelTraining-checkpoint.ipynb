{
 "cells": [
  {
   "cell_type": "markdown",
   "id": "4d2e954c",
   "metadata": {
    "id": "4d2e954c"
   },
   "source": [
    "# Image Labeling"
   ]
  },
  {
   "cell_type": "code",
   "execution_count": 1,
   "id": "zXy1OhG7FNTu",
   "metadata": {
    "colab": {
     "base_uri": "https://localhost:8080/"
    },
    "executionInfo": {
     "elapsed": 9901,
     "status": "ok",
     "timestamp": 1700636664151,
     "user": {
      "displayName": "sili chili 22",
      "userId": "00950256648388715109"
     },
     "user_tz": -60
    },
    "id": "zXy1OhG7FNTu",
    "outputId": "55d41da5-a837-4cd5-8383-2055fec1fb2f"
   },
   "outputs": [
    {
     "name": "stdout",
     "output_type": "stream",
     "text": [
      "Collecting wget\n",
      "  Using cached wget-3.2-py3-none-any.whl\n",
      "Installing collected packages: wget\n",
      "Successfully installed wget-3.2\n"
     ]
    },
    {
     "name": "stderr",
     "output_type": "stream",
     "text": [
      "\n",
      "[notice] A new release of pip available: 22.2.2 -> 24.0\n",
      "[notice] To update, run: python.exe -m pip install --upgrade pip\n"
     ]
    }
   ],
   "source": [
    "!pip install wget"
   ]
  },
  {
   "cell_type": "code",
   "execution_count": 2,
   "id": "qDUa_oLnSiA4",
   "metadata": {
    "colab": {
     "base_uri": "https://localhost:8080/"
    },
    "executionInfo": {
     "elapsed": 4878,
     "status": "ok",
     "timestamp": 1700636690708,
     "user": {
      "displayName": "sili chili 22",
      "userId": "00950256648388715109"
     },
     "user_tz": -60
    },
    "id": "qDUa_oLnSiA4",
    "outputId": "b9ab1597-d44a-4fa9-a841-a9a93114a634"
   },
   "outputs": [
    {
     "name": "stderr",
     "output_type": "stream",
     "text": [
      "WARNING: Skipping Cython as it is not installed.\n"
     ]
    }
   ],
   "source": [
    "!pip uninstall Cython -y"
   ]
  },
  {
   "cell_type": "code",
   "execution_count": null,
   "id": "1ba7eb9d",
   "metadata": {
    "executionInfo": {
     "elapsed": 5,
     "status": "ok",
     "timestamp": 1700636690709,
     "user": {
      "displayName": "sili chili 22",
      "userId": "00950256648388715109"
     },
     "user_tz": -60
    },
    "id": "1ba7eb9d"
   },
   "outputs": [],
   "source": [
    "import os\n",
    "import wget\n",
    "import shutil"
   ]
  },
  {
   "cell_type": "code",
   "execution_count": null,
   "id": "A-MCYqRiGxOS",
   "metadata": {
    "executionInfo": {
     "elapsed": 351,
     "status": "ok",
     "timestamp": 1700636691056,
     "user": {
      "displayName": "sili chili 22",
      "userId": "00950256648388715109"
     },
     "user_tz": -60
    },
    "id": "A-MCYqRiGxOS"
   },
   "outputs": [],
   "source": [
    "!mkdir Tensorflow"
   ]
  },
  {
   "cell_type": "markdown",
   "id": "126f535a",
   "metadata": {
    "id": "126f535a"
   },
   "source": [
    "# 0. Setup Paths"
   ]
  },
  {
   "cell_type": "code",
   "execution_count": null,
   "id": "aa32a337",
   "metadata": {
    "executionInfo": {
     "elapsed": 295,
     "status": "ok",
     "timestamp": 1700638868855,
     "user": {
      "displayName": "sili chili 22",
      "userId": "00950256648388715109"
     },
     "user_tz": -60
    },
    "id": "aa32a337"
   },
   "outputs": [],
   "source": [
    "CUSTOM_MODEL_NAME = 'my_ssd_mobnet'\n",
    "PRETRAINED_MODEL_NAME = 'ssd_mobilenet_v2_fpnlite_640x640_coco17_tpu-8'\n",
    "PRETRAINED_MODEL_URL = 'http://download.tensorflow.org/models/object_detection/tf2/20200711/ssd_mobilenet_v2_fpnlite_640x640_coco17_tpu-8.tar.gz'\n",
    "TF_RECORD_SCRIPT_NAME = 'generate_tfrecord.py'\n",
    "LABEL_MAP_NAME = 'label_map.pbtxt'\n",
    "\n",
    "paths = {\n",
    "    'WORKSPACE_PATH': os.path.join('Tensorflow', 'workspace'),\n",
    "    'SCRIPTS_PATH': os.path.join('Tensorflow','scripts'),\n",
    "    'APIMODEL_PATH': os.path.join('Tensorflow','models'),\n",
    "    'ANNOTATION_PATH': os.path.join('Tensorflow', 'workspace','annotations'),\n",
    "    'IMAGE_PATH': os.path.join('Tensorflow', 'workspace','images'),\n",
    "    'MODEL_PATH': os.path.join('Tensorflow', 'workspace','models'),\n",
    "    'PRETRAINED_MODEL_PATH': os.path.join('Tensorflow', 'workspace','pre-trained-models'),\n",
    "    'CHECKPOINT_PATH': os.path.join('Tensorflow', 'workspace','models',CUSTOM_MODEL_NAME),\n",
    "    'OUTPUT_PATH': os.path.join('Tensorflow', 'workspace','models',CUSTOM_MODEL_NAME, 'export'),\n",
    "    'TFJS_PATH':os.path.join('Tensorflow', 'workspace','models',CUSTOM_MODEL_NAME, 'tfjsexport'),\n",
    "    'TFLITE_PATH':os.path.join('Tensorflow', 'workspace','models',CUSTOM_MODEL_NAME, 'tfliteexport'),\n",
    "    'PROTOC_PATH':os.path.join('Tensorflow','protoc')\n",
    "}\n",
    "\n",
    "files = {\n",
    "        'PIPELINE_CONFIG': os.path.join('Tensorflow', 'workspace', 'models', CUSTOM_MODEL_NAME, 'pipeline.config'),\n",
    "        'TF_RECORD_SCRIPT': os.path.join(paths['SCRIPTS_PATH'], TF_RECORD_SCRIPT_NAME),\n",
    "        'LABELMAP': os.path.join(paths['ANNOTATION_PATH'], LABEL_MAP_NAME)\n",
    "}"
   ]
  },
  {
   "cell_type": "code",
   "execution_count": null,
   "id": "QIwyZaN9HPfE",
   "metadata": {
    "executionInfo": {
     "elapsed": 876,
     "status": "ok",
     "timestamp": 1700637598639,
     "user": {
      "displayName": "sili chili 22",
      "userId": "00950256648388715109"
     },
     "user_tz": -60
    },
    "id": "QIwyZaN9HPfE"
   },
   "outputs": [],
   "source": [
    "for path in paths.values():\n",
    "    if not os.path.exists(path):\n",
    "            !mkdir {path}"
   ]
  },
  {
   "cell_type": "markdown",
   "id": "b0015462",
   "metadata": {
    "id": "b0015462"
   },
   "source": [
    "# 1. Download TF Models Pretrained Models from Tensorflow Model Zoo and Install TFOD"
   ]
  },
  {
   "cell_type": "code",
   "execution_count": null,
   "id": "c3bcb8f8",
   "metadata": {
    "colab": {
     "base_uri": "https://localhost:8080/"
    },
    "executionInfo": {
     "elapsed": 6755,
     "status": "ok",
     "timestamp": 1700636738656,
     "user": {
      "displayName": "sili chili 22",
      "userId": "00950256648388715109"
     },
     "user_tz": -60
    },
    "id": "c3bcb8f8",
    "outputId": "00fa754b-38d0-4427-9a97-7d390e80c175"
   },
   "outputs": [],
   "source": [
    "!git clone --depth 1 https://github.com/tensorflow/models"
   ]
  },
  {
   "cell_type": "code",
   "execution_count": null,
   "id": "e420bac3",
   "metadata": {
    "colab": {
     "base_uri": "https://localhost:8080/"
    },
    "executionInfo": {
     "elapsed": 259,
     "status": "ok",
     "timestamp": 1700636773178,
     "user": {
      "displayName": "sili chili 22",
      "userId": "00950256648388715109"
     },
     "user_tz": -60
    },
    "id": "e420bac3",
    "outputId": "4f351f99-a2cd-41ea-cc92-bd617eafca25"
   },
   "outputs": [],
   "source": [
    "%cd Tensorflow/models/research/"
   ]
  },
  {
   "cell_type": "code",
   "execution_count": null,
   "id": "vIKv1D8hQxj3",
   "metadata": {
    "executionInfo": {
     "elapsed": 278,
     "status": "ok",
     "timestamp": 1700636774599,
     "user": {
      "displayName": "sili chili 22",
      "userId": "00950256648388715109"
     },
     "user_tz": -60
    },
    "id": "vIKv1D8hQxj3"
   },
   "outputs": [],
   "source": [
    "!protoc object_detection/protos/*.proto --python_out=."
   ]
  },
  {
   "cell_type": "code",
   "execution_count": null,
   "id": "pIQfPYCARvVI",
   "metadata": {
    "colab": {
     "base_uri": "https://localhost:8080/"
    },
    "executionInfo": {
     "elapsed": 4,
     "status": "ok",
     "timestamp": 1700636972969,
     "user": {
      "displayName": "sili chili 22",
      "userId": "00950256648388715109"
     },
     "user_tz": -60
    },
    "id": "pIQfPYCARvVI",
    "outputId": "7cb33dd9-c465-460b-e944-ea3f75451eff"
   },
   "outputs": [],
   "source": [
    "%cd"
   ]
  },
  {
   "cell_type": "code",
   "execution_count": null,
   "id": "0c5a45f1",
   "metadata": {
    "executionInfo": {
     "elapsed": 267,
     "status": "ok",
     "timestamp": 1700637663075,
     "user": {
      "displayName": "sili chili 22",
      "userId": "00950256648388715109"
     },
     "user_tz": -60
    },
    "id": "0c5a45f1"
   },
   "outputs": [],
   "source": [
    "import re\n",
    "with open('Tensorflow/models/research/object_detection/packages/tf2/setup.py') as f:\n",
    "    s = f.read()\n",
    "\n",
    "with open('Tensorflow/models/research/setup.py', 'w') as f:\n",
    "    s = re.sub('tf-models-official>=2.5.1',\n",
    "               'tf-models-official==2.8.0', s)\n",
    "    f.write(s)"
   ]
  },
  {
   "cell_type": "code",
   "execution_count": null,
   "id": "9701905c",
   "metadata": {
    "colab": {
     "base_uri": "https://localhost:8080/",
     "height": 1000
    },
    "executionInfo": {
     "elapsed": 166791,
     "status": "ok",
     "timestamp": 1700637191026,
     "user": {
      "displayName": "sili chili 22",
      "userId": "00950256648388715109"
     },
     "user_tz": -60
    },
    "id": "9701905c",
    "outputId": "9db2eabb-8913-4df4-82f7-d9dd34174f1c"
   },
   "outputs": [],
   "source": [
    "!pip install pyyaml==5.3\n",
    "!pip install /Tensorflow/models/research/\n",
    "!pip install tensorflow==2.8.0"
   ]
  },
  {
   "cell_type": "code",
   "execution_count": null,
   "id": "ccb45c46",
   "metadata": {
    "colab": {
     "base_uri": "https://localhost:8080/"
    },
    "executionInfo": {
     "elapsed": 45344,
     "status": "ok",
     "timestamp": 1700637251616,
     "user": {
      "displayName": "sili chili 22",
      "userId": "00950256648388715109"
     },
     "user_tz": -60
    },
    "id": "ccb45c46",
    "outputId": "f4de2419-4e0c-421e-c1f0-a460d649d739"
   },
   "outputs": [],
   "source": [
    "!python /Tensorflow/models/research/object_detection/builders/model_builder_tf2_test.py"
   ]
  },
  {
   "cell_type": "code",
   "execution_count": null,
   "id": "z8tUEd6TiFR1",
   "metadata": {
    "colab": {
     "base_uri": "https://localhost:8080/",
     "height": 143
    },
    "executionInfo": {
     "elapsed": 249,
     "status": "error",
     "timestamp": 1700637688094,
     "user": {
      "displayName": "sili chili 22",
      "userId": "00950256648388715109"
     },
     "user_tz": -60
    },
    "id": "z8tUEd6TiFR1",
    "outputId": "3a42c241-924e-4b68-fd84-43de6d20ba31"
   },
   "outputs": [],
   "source": [
    "%cd /Tensorflow/"
   ]
  },
  {
   "cell_type": "code",
   "execution_count": null,
   "id": "5575cd97",
   "metadata": {
    "colab": {
     "base_uri": "https://localhost:8080/",
     "height": 35
    },
    "executionInfo": {
     "elapsed": 529,
     "status": "ok",
     "timestamp": 1700637670757,
     "user": {
      "displayName": "sili chili 22",
      "userId": "00950256648388715109"
     },
     "user_tz": -60
    },
    "id": "5575cd97",
    "outputId": "ca4685d8-b7b2-46f6-e5f4-a36d167026de"
   },
   "outputs": [],
   "source": [
    "wget.download('http://download.tensorflow.org/models/object_detection/tf2/20200711/ssd_mobilenet_v2_fpnlite_640x640_coco17_tpu-8.tar.gz')\n",
    "shutil.move(PRETRAINED_MODEL_NAME+\".tar.gz\", paths[\"PRETRAINED_MODEL_PATH\"])"
   ]
  },
  {
   "cell_type": "code",
   "execution_count": null,
   "id": "NufxjF2jcnoN",
   "metadata": {
    "colab": {
     "base_uri": "https://localhost:8080/"
    },
    "executionInfo": {
     "elapsed": 249,
     "status": "ok",
     "timestamp": 1700637700045,
     "user": {
      "displayName": "sili chili 22",
      "userId": "00950256648388715109"
     },
     "user_tz": -60
    },
    "id": "NufxjF2jcnoN",
    "outputId": "25de2368-3f9f-4147-aeaa-7ad7a0c48c96"
   },
   "outputs": [],
   "source": [
    "%cd workspace/pre-trained-models/"
   ]
  },
  {
   "cell_type": "code",
   "execution_count": null,
   "id": "a76d69fc",
   "metadata": {
    "colab": {
     "base_uri": "https://localhost:8080/"
    },
    "executionInfo": {
     "elapsed": 375,
     "status": "ok",
     "timestamp": 1700637702919,
     "user": {
      "displayName": "sili chili 22",
      "userId": "00950256648388715109"
     },
     "user_tz": -60
    },
    "id": "a76d69fc",
    "outputId": "243c84c1-a7b9-41d0-d4cb-96541766b3fe"
   },
   "outputs": [],
   "source": [
    "!tar -zxvf {PRETRAINED_MODEL_NAME+\".tar.gz\"}"
   ]
  },
  {
   "cell_type": "code",
   "execution_count": null,
   "id": "hy7Ymf7hc7dd",
   "metadata": {
    "colab": {
     "base_uri": "https://localhost:8080/"
    },
    "executionInfo": {
     "elapsed": 249,
     "status": "ok",
     "timestamp": 1700637711843,
     "user": {
      "displayName": "sili chili 22",
      "userId": "00950256648388715109"
     },
     "user_tz": -60
    },
    "id": "hy7Ymf7hc7dd",
    "outputId": "b60d4908-70e8-4122-c2fa-6b0327bd945d"
   },
   "outputs": [],
   "source": [
    "%cd ../.."
   ]
  },
  {
   "cell_type": "code",
   "execution_count": null,
   "id": "jhtrq14Ec994",
   "metadata": {
    "colab": {
     "base_uri": "https://localhost:8080/"
    },
    "executionInfo": {
     "elapsed": 326,
     "status": "ok",
     "timestamp": 1700637714282,
     "user": {
      "displayName": "sili chili 22",
      "userId": "00950256648388715109"
     },
     "user_tz": -60
    },
    "id": "jhtrq14Ec994",
    "outputId": "26b4efbf-3f6a-4068-eda9-6ce4a43627a3"
   },
   "outputs": [],
   "source": [
    "%cd .."
   ]
  },
  {
   "cell_type": "markdown",
   "id": "67ba8356",
   "metadata": {
    "id": "67ba8356"
   },
   "source": [
    "# 2. Create Label Map"
   ]
  },
  {
   "cell_type": "code",
   "execution_count": null,
   "id": "jw5d8hKATKPt",
   "metadata": {
    "id": "jw5d8hKATKPt"
   },
   "outputs": [],
   "source": [
    "%cd .."
   ]
  },
  {
   "cell_type": "code",
   "execution_count": null,
   "id": "78e342bb",
   "metadata": {
    "executionInfo": {
     "elapsed": 366,
     "status": "ok",
     "timestamp": 1700637716380,
     "user": {
      "displayName": "sili chili 22",
      "userId": "00950256648388715109"
     },
     "user_tz": -60
    },
    "id": "78e342bb"
   },
   "outputs": [],
   "source": [
    "labels = [{'name':'Blue-Blue-Blue-Blue', 'id':1},{'name':'Blue-Blue-Blue-Nothing', 'id':2},{'name':'Blue-Blue-Blue-Red', 'id':3},{'name':'Blue-Blue-Blue-Yellow', 'id':4},\n",
    "          {'name':'Blue-Blue-Nothing-Blue', 'id':5},{'name':'Blue-Blue-Nothing-Nothing', 'id':5},{'name':'Blue-Blue-Nothing-Red', 'id':6},{'name':'Blue-Blue-Nothing-Yellow', 'id':7},\n",
    "          {'name':'Blue-Blue-Red-Blue', 'id':8},{'name':'Blue-Blue-Red-Nothing', 'id':9},{'name':'Blue-Blue-Red-Red', 'id':10},{'name':'Blue-Blue-Red-Yellow', 'id':11},\n",
    "          {'name':'Blue-Blue-Yellow-Blue', 'id':12},{'name':'Blue-Blue-Yellow-Nothing', 'id':13},{'name':'Blue-Blue-Yellow-Red', 'id':14},{'name':'Blue-Blue-Yellow-Yellow', 'id':15},\n",
    "          {'name':'Blue-Nothing-Nothing-Blue', 'id':16},{'name':'Blue-Nothing-Nothing-Nothing', 'id':17},{'name':'Blue-Nothing-Nothing-Red', 'id':18},{'name':'Blue-Nothing-Nothing-Yellow', 'id':19},\n",
    "          {'name':'Blue-Red-Blue-Blue', 'id':20},{'name':'Blue-Red-Blue-Nothing', 'id':21},{'name':'Blue-Red-Blue-Red', 'id':22},{'name':'Blue-Red-Blue-Yellow', 'id':23},\n",
    "          {'name':'Blue-Red-Nothing-Blue', 'id':24},{'name':'Blue-Red-Nothing-Nothing', 'id':25},{'name':'Blue-Red-Nothing-Red', 'id':26},{'name':'Blue-Red-Nothing-Yellow', 'id':27},\n",
    "          {'name':'Blue-Red-Red-Blue', 'id':28},{'name':'Blue-Red-Red-Nothing', 'id':29},{'name':'Blue-Red-Red-Red', 'id':30},{'name':'Blue-Red-Red-Yellow', 'id':31},\n",
    "          {'name':'Blue-Red-Yellow-Blue', 'id':32},{'name':'Blue-Red-Yellow-Nothing', 'id':33},{'name':'Blue-Red-Yellow-Red', 'id':34},{'name':'Blue-Red-Yellow-Yellow', 'id':35},\n",
    "          {'name':'Blue-Yellow-Blue-Blue', 'id':36},{'name':'Blue-Yellow-Blue-Nothing', 'id':37},{'name':'Blue-Yellow-Blue-Red', 'id':38},{'name':'Blue-Yellow-Blue-Yellow', 'id':39},\n",
    "          {'name':'Blue-Yellow-Nothing-Blue', 'id':40},{'name':'Blue-Yellow-Nothing-Nothing', 'id':41},{'name':'Blue-Yellow-Nothing-Red', 'id':42},{'name':'Blue-Yellow-Nothing-Yellow', 'id':43},\n",
    "          {'name':'Blue-Yellow-Red-Blue', 'id':44},{'name':'Blue-Yellow-Red-Nothing', 'id':45},{'name':'Blue-Yellow-Red-Red', 'id':46},{'name':'Blue-Yellow-Red-Yellow', 'id':47},\n",
    "          {'name':'Blue-Yellow-Yellow-Blue', 'id':48},{'name':'Blue-Yellow-Yellow-Nothing', 'id':49},{'name':'Blue-Yellow-Yellow-Red', 'id':50},{'name':'Blue-Yellow-Yellow-Yellow', 'id':51},\n",
    "          {'name':'Nothing-Blue-Blue-Nothing', 'id':52},{'name':'Nothing-Blue-Nothing-Nothing', 'id':53},{'name':'Nothing-Blue-Red-Nothing', 'id':54},{'name':'Nothing-Blue-Yellow-Nothing', 'id':55},\n",
    "          {'name':'Nothing-Nothing-Nothing-Nothing', 'id':56},{'name':'Nothing-Nothing-Yellow-Nothing', 'id':57},{'name':'Nothing-Red-Blue-Nothing', 'id':58},{'name':'Nothing-Red-Nothing-Nothing', 'id':59},\n",
    "          {'name':'Nothing-Red-Red-Nothing', 'id':60},{'name':'Nothing-Red-Yellow-Nothing', 'id':61},{'name':'Nothing-Yellow-Blue-Nothing', 'id':62},{'name':'Nothing-Yellow-Red-Nothing', 'id':63},\n",
    "          {'name':'Nothing-Yellow-Yellow-Nothing', 'id':64},{'name':'Red-Blue-Blue-Blue', 'id':65},{'name':'Red-Blue-Blue-Nothing', 'id':66},{'name':'Red-Blue-Blue-Red', 'id':67},\n",
    "          {'name':'Red-Blue-Blue-Yellow', 'id':68},{'name':'Red-Blue-Nothing-Blue', 'id':69},{'name':'Red-Blue-Nothing-Nothing', 'id':70},{'name':'Red-Blue-Nothing-Red', 'id':71},\n",
    "          {'name':'Red-Blue-Nothing-Yellow', 'id':72},{'name':'Red-Blue-Red-Blue', 'id':73},{'name':'Red-Blue-Red-Nothing', 'id':74},{'name':'Red-Blue-Red-Red', 'id':75},\n",
    "          {'name':'Red-Blue-Red-Yellow', 'id':76},{'name':'Red-Blue-Yellow-Blue', 'id':77},{'name':'Red-Blue-Yellow-Nothing', 'id':78},{'name':'Red-Blue-Yellow-Red', 'id':79},\n",
    "          {'name':'Red-Blue-Yellow-Yellow', 'id':80},{'name':'Red-Nothing-Nothing-Blue', 'id':81},{'name':'Red-Nothing-Nothing-Nothing', 'id':82},{'name':'Red-Nothing-Nothing-Red', 'id':83},\n",
    "          {'name':'Red-Nothing-Nothing-Yellow', 'id':84},{'name':'Red-Red-Blue-Blue', 'id':85},{'name':'Red-Red-Blue-Nothing', 'id':86},{'name':'Red-Red-Blue-Red', 'id':87},\n",
    "          {'name':'Red-Red-Blue-Yellow', 'id':88},{'name':'Red-Red-Nothing-Blue', 'id':89},{'name':'Red-Red-Nothing-Nothing', 'id':90},{'name':'Red-Red-Nothing-Red', 'id':91},\n",
    "          {'name':'Red-Red-Nothing-Yellow', 'id':92},{'name':'Red-Red-Red-Blue', 'id':93},{'name':'Red-Red-Red-Nothing', 'id':94},{'name':'Red-Red-Red-Red', 'id':95},\n",
    "          {'name':'Red-Red-Red-Yellow', 'id':96},{'name':'Red-Red-Yellow-Blue', 'id':97},{'name':'Red-Red-Yellow-Nothing', 'id':98},{'name':'Red-Red-Yellow-Red', 'id':99},\n",
    "          {'name':'Red-Red-Yellow-Yellow', 'id':100},{'name':'Red-Yellow-Blue-Blue', 'id':101},{'name':'Red-Yellow-Blue-Nothing', 'id':102},{'name':'Red-Yellow-Blue-Red', 'id':103},\n",
    "          {'name':'Red-Yellow-Blue-Yellow', 'id':104},{'name':'Red-Yellow-Nothing-Blue', 'id':105},{'name':'Red-Yellow-Nothing-Nothing', 'id':106},{'name':'Red-Yellow-Nothing-Red', 'id':107},\n",
    "          {'name':'Red-Yellow-Nothing-Yellow', 'id':108},{'name':'Red-Yellow-Red-Blue', 'id':109},{'name':'Red-Yellow-Red-Nothing', 'id':110},{'name':'Red-Yellow-Red-Red', 'id':111},\n",
    "          {'name':'Red-Yellow-Red-Yellow', 'id':112},{'name':'Red-Yellow-Yellow-Blue', 'id':113},{'name':'Red-Yellow-Yellow-Nothing', 'id':114},{'name':'Red-Yellow-Yellow-Red', 'id':115},\n",
    "          {'name':'Red-Yellow-Yellow-Yellow', 'id':116},{'name':'Yellow-Blue-Blue-Blue', 'id':117},{'name':'Yellow-Blue-Blue-Nothing', 'id':118},{'name':'Yellow-Blue-Blue-Red', 'id':119},\n",
    "          {'name':'Yellow-Blue-Blue-Yellow', 'id':120},{'name':'Yellow-Blue-Nothing-Blue', 'id':121},{'name':'Yellow-Blue-Nothing-Nothing', 'id':122},{'name':'Yellow-Blue-Nothing-Red', 'id':123},\n",
    "          {'name':'Yellow-Blue-Nothing-Yellow', 'id':124},{'name':'Yellow-Blue-Red-Blue', 'id':125},{'name':'Yellow-Blue-Red-Nothing', 'id':126},{'name':'Yellow-Blue-Red-Red', 'id':127},\n",
    "          {'name':'Yellow-Blue-Red-Yellow', 'id':128},{'name':'Yellow-Blue-Yellow-Blue', 'id':129},{'name':'Yellow-Blue-Yellow-Nothing', 'id':130},{'name':'Yellow-Blue-Yellow-Red', 'id':131},\n",
    "          {'name':'Yellow-Blue-Yellow-Yellow', 'id':132},{'name':'Yellow-Nothing-Nothing-Blue', 'id':133},{'name':'Yellow-Nothing-Nothing-Nothing', 'id':134},{'name':'Yellow-Nothing-Nothing-Red', 'id':135},\n",
    "          {'name':'Yellow-Nothing-Nothing-Yellow', 'id':136},{'name':'Yellow-Red-Blue-Blue', 'id':137},{'name':'Yellow-Red-Blue-Nothing', 'id':138},{'name':'Yellow-Red-Blue-Red', 'id':139},\n",
    "          {'name':'Yellow-Red-Blue-Yellow', 'id':140},{'name':'Yellow-Red-Nothing-Blue', 'id':141},{'name':'Yellow-Red-Nothing-Nothing', 'id':142},{'name':'Yellow-Red-Nothing-Red', 'id':143},\n",
    "          {'name':'Yellow-Red-Nothing-Yellow', 'id':144},{'name':'Yellow-Red-Red-Blue', 'id':145},{'name':'Yellow-Red-Red-Nothing', 'id':146},{'name':'Yellow-Red-Red-Red', 'id':147},\n",
    "          {'name':'Yellow-Red-Red-Yellow', 'id':148},{'name':'Yellow-Red-Yellow-Blue', 'id':149},{'name':'Yellow-Red-Yellow-Nothing', 'id':150},{'name':'Yellow-Red-Yellow-Red', 'id':151},\n",
    "          {'name':'Yellow-Red-Yellow-Yellow', 'id':152},{'name':'Yellow-Yellow-Blue-Blue', 'id':153},{'name':'Yellow-Yellow-Blue-Nothing', 'id':154},{'name':'Yellow-Yellow-Blue-Red', 'id':155},\n",
    "          {'name':'Yellow-Yellow-Blue-Yellow', 'id':156},{'name':'Yellow-Yellow-Nothing-Blue', 'id':157},{'name':'Yellow-Yellow-Nothing-Nothing', 'id':158},{'name':'Yellow-Yellow-Nothing-Red', 'id':159},\n",
    "          {'name':'Yellow-Yellow-Nothing-Yellow', 'id':160},{'name':'Yellow-Yellow-Red-Blue', 'id':161},{'name':'Yellow-Yellow-Red-Nothing', 'id':162},{'name':'Yellow-Yellow-Red-Red', 'id':163},\n",
    "          {'name':'Yellow-Yellow-Red-Yellow', 'id':164},{'name':'Yellow-Yellow-Yellow-Blue', 'id':165},{'name':'Yellow-Yellow-Yellow-Nothing', 'id':166},{'name':'Yellow-Yellow-Yellow-Red', 'id':167},\n",
    "          {'name':'Yellow-Yellow-Yellow-Yellow', 'id':168}]\n",
    "\n",
    "\n",
    "with open(files['LABELMAP'], 'w') as f:\n",
    "    for label in labels:\n",
    "        f.write('item { \\n')\n",
    "        f.write('\\tname:\\'{}\\'\\n'.format(label['name']))\n",
    "        f.write('\\tid:{}\\n'.format(label['id']))\n",
    "        f.write('}\\n')"
   ]
  },
  {
   "cell_type": "markdown",
   "id": "7c9bf575",
   "metadata": {
    "id": "7c9bf575"
   },
   "source": [
    "# 3. Create TF records"
   ]
  },
  {
   "cell_type": "code",
   "execution_count": null,
   "id": "d1c6d45a",
   "metadata": {
    "executionInfo": {
     "elapsed": 338,
     "status": "ok",
     "timestamp": 1700638660471,
     "user": {
      "displayName": "sili chili 22",
      "userId": "00950256648388715109"
     },
     "user_tz": -60
    },
    "id": "d1c6d45a"
   },
   "outputs": [],
   "source": [
    "ARCHIVE_FILES = os.path.join(paths['IMAGE_PATH'],'archive.tar.gz')\n",
    "if os.path.exists(ARCHIVE_FILES):\n",
    "    !tar -zvxf {ARCHIVE_FILES}"
   ]
  },
  {
   "cell_type": "code",
   "execution_count": null,
   "id": "tS_h_Axu6WZR",
   "metadata": {
    "colab": {
     "base_uri": "https://localhost:8080/"
    },
    "executionInfo": {
     "elapsed": 395,
     "status": "ok",
     "timestamp": 1700638662091,
     "user": {
      "displayName": "sili chili 22",
      "userId": "00950256648388715109"
     },
     "user_tz": -60
    },
    "id": "tS_h_Axu6WZR",
    "outputId": "126968d3-47ab-41ba-ad27-a1b2ace3aaea"
   },
   "outputs": [],
   "source": [
    "!git clone https://github.com/nicknochnack/GenerateTFRecord {paths['SCRIPTS_PATH']}"
   ]
  },
  {
   "cell_type": "code",
   "execution_count": null,
   "id": "c49a1235",
   "metadata": {
    "colab": {
     "base_uri": "https://localhost:8080/"
    },
    "executionInfo": {
     "elapsed": 7174,
     "status": "ok",
     "timestamp": 1700638676108,
     "user": {
      "displayName": "sili chili 22",
      "userId": "00950256648388715109"
     },
     "user_tz": -60
    },
    "id": "c49a1235",
    "outputId": "74e32d2c-b8d1-4e14-df54-b2d32ad29fd5"
   },
   "outputs": [],
   "source": [
    "!python {files['TF_RECORD_SCRIPT']} -x {os.path.join(paths['IMAGE_PATH'], 'train')} -l {files['LABELMAP']} -o {os.path.join(paths['ANNOTATION_PATH'], 'train.record')}\n",
    "!python {files['TF_RECORD_SCRIPT']} -x {os.path.join(paths['IMAGE_PATH'], 'test')} -l {files['LABELMAP']} -o {os.path.join(paths['ANNOTATION_PATH'], 'test.record')}"
   ]
  },
  {
   "cell_type": "markdown",
   "id": "6405572d",
   "metadata": {
    "id": "6405572d"
   },
   "source": [
    "# 4. Copy Model Config to Training Folder"
   ]
  },
  {
   "cell_type": "code",
   "execution_count": null,
   "id": "0f5c7cf7",
   "metadata": {
    "executionInfo": {
     "elapsed": 267,
     "status": "ok",
     "timestamp": 1700638891099,
     "user": {
      "displayName": "sili chili 22",
      "userId": "00950256648388715109"
     },
     "user_tz": -60
    },
    "id": "0f5c7cf7"
   },
   "outputs": [],
   "source": [
    "!cp {os.path.join(paths['PRETRAINED_MODEL_PATH'], PRETRAINED_MODEL_NAME, 'pipeline.config')} {os.path.join(paths['CHECKPOINT_PATH'])}"
   ]
  },
  {
   "cell_type": "markdown",
   "id": "372aa72a",
   "metadata": {
    "id": "372aa72a"
   },
   "source": [
    "# 5. Update Config For Transfer Learning"
   ]
  },
  {
   "cell_type": "code",
   "execution_count": null,
   "id": "c95c58b0",
   "metadata": {
    "executionInfo": {
     "elapsed": 304,
     "status": "ok",
     "timestamp": 1700638958977,
     "user": {
      "displayName": "sili chili 22",
      "userId": "00950256648388715109"
     },
     "user_tz": -60
    },
    "id": "c95c58b0"
   },
   "outputs": [],
   "source": [
    "import tensorflow as tf\n",
    "from object_detection.utils import config_util\n",
    "from object_detection.protos import pipeline_pb2\n",
    "from google.protobuf import text_format"
   ]
  },
  {
   "cell_type": "code",
   "execution_count": null,
   "id": "3022b70e",
   "metadata": {
    "executionInfo": {
     "elapsed": 247,
     "status": "ok",
     "timestamp": 1700638962252,
     "user": {
      "displayName": "sili chili 22",
      "userId": "00950256648388715109"
     },
     "user_tz": -60
    },
    "id": "3022b70e"
   },
   "outputs": [],
   "source": [
    "config = config_util.get_configs_from_pipeline_file(files['PIPELINE_CONFIG'])"
   ]
  },
  {
   "cell_type": "code",
   "execution_count": null,
   "id": "b97b0251",
   "metadata": {
    "colab": {
     "base_uri": "https://localhost:8080/"
    },
    "executionInfo": {
     "elapsed": 256,
     "status": "ok",
     "timestamp": 1700640398973,
     "user": {
      "displayName": "sili chili 22",
      "userId": "00950256648388715109"
     },
     "user_tz": -60
    },
    "id": "b97b0251",
    "outputId": "68306bd5-f723-4d7a-d442-a86d3b145507"
   },
   "outputs": [],
   "source": [
    "config"
   ]
  },
  {
   "cell_type": "code",
   "execution_count": null,
   "id": "673f547e",
   "metadata": {
    "executionInfo": {
     "elapsed": 262,
     "status": "ok",
     "timestamp": 1700641758235,
     "user": {
      "displayName": "sili chili 22",
      "userId": "00950256648388715109"
     },
     "user_tz": -60
    },
    "id": "673f547e"
   },
   "outputs": [],
   "source": [
    "pipeline_config = pipeline_pb2.TrainEvalPipelineConfig()\n",
    "with tf.io.gfile.GFile(files['PIPELINE_CONFIG'], \"r\") as f:\n",
    "    proto_str = f.read()\n",
    "    text_format.Merge(proto_str, pipeline_config)"
   ]
  },
  {
   "cell_type": "code",
   "execution_count": null,
   "id": "cf083ba9",
   "metadata": {
    "executionInfo": {
     "elapsed": 3,
     "status": "ok",
     "timestamp": 1700641759250,
     "user": {
      "displayName": "sili chili 22",
      "userId": "00950256648388715109"
     },
     "user_tz": -60
    },
    "id": "cf083ba9"
   },
   "outputs": [],
   "source": [
    "pipeline_config.train_config.batch_size = 4\n",
    "pipeline_config.train_config.fine_tune_checkpoint = os.path.join(paths['PRETRAINED_MODEL_PATH'], PRETRAINED_MODEL_NAME, 'checkpoint', 'ckpt-0')\n",
    "pipeline_config.train_config.fine_tune_checkpoint_type = \"detection\"\n",
    "pipeline_config.train_input_reader.label_map_path= files['LABELMAP']\n",
    "pipeline_config.train_input_reader.tf_record_input_reader.input_path[:] = [os.path.join(paths['ANNOTATION_PATH'], 'train.record')]\n",
    "pipeline_config.eval_input_reader[0].label_map_path = files['LABELMAP']\n",
    "pipeline_config.eval_input_reader[0].tf_record_input_reader.input_path[:] = [os.path.join(paths['ANNOTATION_PATH'], 'test.record')]"
   ]
  },
  {
   "cell_type": "code",
   "execution_count": null,
   "id": "1c30d4f8",
   "metadata": {
    "executionInfo": {
     "elapsed": 3,
     "status": "ok",
     "timestamp": 1700641760341,
     "user": {
      "displayName": "sili chili 22",
      "userId": "00950256648388715109"
     },
     "user_tz": -60
    },
    "id": "1c30d4f8"
   },
   "outputs": [],
   "source": [
    "config_text = text_format.MessageToString(pipeline_config)\n",
    "with tf.io.gfile.GFile(files['PIPELINE_CONFIG'], 'wb') as f:\n",
    "    f.write(config_text)"
   ]
  },
  {
   "cell_type": "code",
   "execution_count": null,
   "id": "a8fcad2d",
   "metadata": {
    "executionInfo": {
     "elapsed": 3,
     "status": "ok",
     "timestamp": 1700641760996,
     "user": {
      "displayName": "sili chili 22",
      "userId": "00950256648388715109"
     },
     "user_tz": -60
    },
    "id": "a8fcad2d"
   },
   "outputs": [],
   "source": [
    "TRAINING_SCRIPT = os.path.join(paths['APIMODEL_PATH'], 'research', 'object_detection', 'model_main_tf2.py')"
   ]
  },
  {
   "cell_type": "markdown",
   "id": "5c1ffeac",
   "metadata": {
    "id": "5c1ffeac"
   },
   "source": [
    "# 6. Train the model"
   ]
  },
  {
   "cell_type": "code",
   "execution_count": null,
   "id": "056c8643",
   "metadata": {
    "executionInfo": {
     "elapsed": 282,
     "status": "ok",
     "timestamp": 1700641781916,
     "user": {
      "displayName": "sili chili 22",
      "userId": "00950256648388715109"
     },
     "user_tz": -60
    },
    "id": "056c8643"
   },
   "outputs": [],
   "source": [
    "command = \"python {} --model_dir={} --pipeline_config_path={} --num_train_steps=1500\".format(TRAINING_SCRIPT, paths['CHECKPOINT_PATH'], files['PIPELINE_CONFIG'])"
   ]
  },
  {
   "cell_type": "code",
   "execution_count": null,
   "id": "9da6adf3",
   "metadata": {
    "colab": {
     "base_uri": "https://localhost:8080/"
    },
    "executionInfo": {
     "elapsed": 3,
     "status": "ok",
     "timestamp": 1700641783203,
     "user": {
      "displayName": "sili chili 22",
      "userId": "00950256648388715109"
     },
     "user_tz": -60
    },
    "id": "9da6adf3",
    "outputId": "916cfbee-54fb-4572-e4b4-6c579c0b9330"
   },
   "outputs": [],
   "source": [
    "print(command)"
   ]
  },
  {
   "cell_type": "code",
   "execution_count": null,
   "id": "4WtMmiVomTFr",
   "metadata": {
    "colab": {
     "base_uri": "https://localhost:8080/"
    },
    "executionInfo": {
     "elapsed": 654309,
     "status": "ok",
     "timestamp": 1700642438950,
     "user": {
      "displayName": "sili chili 22",
      "userId": "00950256648388715109"
     },
     "user_tz": -60
    },
    "id": "4WtMmiVomTFr",
    "outputId": "c791fd24-b631-4598-ba1c-93972dd6653d"
   },
   "outputs": [],
   "source": [
    "!{command}"
   ]
  },
  {
   "cell_type": "markdown",
   "id": "dd948fd2",
   "metadata": {
    "id": "dd948fd2"
   },
   "source": [
    "# 7. Evaluate the Model"
   ]
  },
  {
   "cell_type": "code",
   "execution_count": null,
   "id": "12e99814",
   "metadata": {
    "executionInfo": {
     "elapsed": 270,
     "status": "ok",
     "timestamp": 1700642461160,
     "user": {
      "displayName": "sili chili 22",
      "userId": "00950256648388715109"
     },
     "user_tz": -60
    },
    "id": "12e99814"
   },
   "outputs": [],
   "source": [
    "command = \"python {} --model_dir={} --pipeline_config_path={} --check_point_dir={}\".format(TRAINING_SCRIPT, paths['CHECKPOINT_PATH'], files['PIPELINE_CONFIG'], paths['CHECKPOINT_PATH'])"
   ]
  },
  {
   "cell_type": "code",
   "execution_count": null,
   "id": "cb829299",
   "metadata": {
    "colab": {
     "base_uri": "https://localhost:8080/"
    },
    "executionInfo": {
     "elapsed": 4,
     "status": "ok",
     "timestamp": 1700642462360,
     "user": {
      "displayName": "sili chili 22",
      "userId": "00950256648388715109"
     },
     "user_tz": -60
    },
    "id": "cb829299",
    "outputId": "ddf90d56-9656-4fd7-a1a6-d7978c3190b6"
   },
   "outputs": [],
   "source": [
    "print(command)"
   ]
  },
  {
   "cell_type": "code",
   "execution_count": null,
   "id": "e3c6979e",
   "metadata": {
    "colab": {
     "base_uri": "https://localhost:8080/"
    },
    "id": "e3c6979e",
    "outputId": "73d25f91-5740-4f3a-9968-aafb693a4b6a"
   },
   "outputs": [],
   "source": [
    "!{command}"
   ]
  },
  {
   "cell_type": "markdown",
   "id": "94b9992f",
   "metadata": {
    "id": "94b9992f"
   },
   "source": [
    "# 8. Load Train Model From Checkpoint"
   ]
  },
  {
   "cell_type": "code",
   "execution_count": null,
   "id": "2782c138",
   "metadata": {
    "executionInfo": {
     "elapsed": 281,
     "status": "ok",
     "timestamp": 1700641154695,
     "user": {
      "displayName": "sili chili 22",
      "userId": "00950256648388715109"
     },
     "user_tz": -60
    },
    "id": "2782c138"
   },
   "outputs": [],
   "source": [
    "import os\n",
    "import tensorflow as tf\n",
    "from object_detection.utils import label_map_util\n",
    "from object_detection.utils import visualization_utils as viz_utils\n",
    "from object_detection.builders import model_builder\n",
    "from object_detection.utils import config_util"
   ]
  },
  {
   "cell_type": "code",
   "execution_count": null,
   "id": "82b6ecf9",
   "metadata": {
    "executionInfo": {
     "elapsed": 315,
     "status": "ok",
     "timestamp": 1700641240974,
     "user": {
      "displayName": "sili chili 22",
      "userId": "00950256648388715109"
     },
     "user_tz": -60
    },
    "id": "82b6ecf9"
   },
   "outputs": [],
   "source": [
    "configs = config_util.get_configs_from_pipeline_file(files['PIPELINE_CONFIG'])\n",
    "detection_model = model_builder.build(model_config=configs['model'], is_training=False)\n",
    "\n",
    "# Restore checkpoint\n",
    "ckpt = tf.compat.v2.train.Checkpoint(model=detection_model)\n",
    "ckpt.restore(os.path.join(paths['CHECKPOINT_PATH'], 'ckpt-2')).expect_partial()\n",
    "\n",
    "@tf.function\n",
    "def detect_fn(image):\n",
    "    image, shapes = detection_model.preprocess(image)\n",
    "    prediction_dict = detection_model.predict(image, shapes)\n",
    "    detections = detection_model.postprocess(prediction_dict, shapes)\n",
    "    return detections"
   ]
  },
  {
   "cell_type": "markdown",
   "id": "c5c1fba5",
   "metadata": {
    "id": "c5c1fba5"
   },
   "source": [
    "# 9. Detect from an Image"
   ]
  },
  {
   "cell_type": "code",
   "execution_count": null,
   "id": "a659de67",
   "metadata": {
    "executionInfo": {
     "elapsed": 282,
     "status": "ok",
     "timestamp": 1700641486871,
     "user": {
      "displayName": "sili chili 22",
      "userId": "00950256648388715109"
     },
     "user_tz": -60
    },
    "id": "a659de67"
   },
   "outputs": [],
   "source": [
    "import cv2\n",
    "import numpy as np\n",
    "from matplotlib import pyplot as plt\n",
    "%matplotlib inline"
   ]
  },
  {
   "cell_type": "code",
   "execution_count": null,
   "id": "8e65bfe5",
   "metadata": {
    "executionInfo": {
     "elapsed": 259,
     "status": "ok",
     "timestamp": 1700641489170,
     "user": {
      "displayName": "sili chili 22",
      "userId": "00950256648388715109"
     },
     "user_tz": -60
    },
    "id": "8e65bfe5"
   },
   "outputs": [],
   "source": [
    "category_index = label_map_util.create_category_index_from_labelmap(files['LABELMAP'])"
   ]
  },
  {
   "cell_type": "code",
   "execution_count": null,
   "id": "a69b00cc",
   "metadata": {
    "executionInfo": {
     "elapsed": 259,
     "status": "ok",
     "timestamp": 1700641515345,
     "user": {
      "displayName": "sili chili 22",
      "userId": "00950256648388715109"
     },
     "user_tz": -60
    },
    "id": "a69b00cc"
   },
   "outputs": [],
   "source": [
    "IMAGE_PATH = os.path.join(paths['IMAGE_PATH'], 'test', \"yellow_nothing_05.png\")"
   ]
  },
  {
   "cell_type": "code",
   "execution_count": null,
   "id": "f5b29ea8",
   "metadata": {
    "colab": {
     "base_uri": "https://localhost:8080/",
     "height": 435
    },
    "executionInfo": {
     "elapsed": 21403,
     "status": "ok",
     "timestamp": 1700641544696,
     "user": {
      "displayName": "sili chili 22",
      "userId": "00950256648388715109"
     },
     "user_tz": -60
    },
    "id": "f5b29ea8",
    "outputId": "f8f1a18d-c24c-4a2b-b4f0-91dc5c9da6b1"
   },
   "outputs": [],
   "source": [
    "img = cv2.imread(IMAGE_PATH)\n",
    "image_np = np.array(img)\n",
    "\n",
    "input_tensor = tf.convert_to_tensor(np.expand_dims(image_np, 0), dtype=tf.float32)\n",
    "detections = detect_fn(input_tensor)\n",
    "\n",
    "num_detections = int(detections.pop('num_detections'))\n",
    "detections = {key: value[0, :num_detections].numpy()\n",
    "              for key, value in detections.items()}\n",
    "detections['num_detections'] = num_detections\n",
    "\n",
    "detections['detection_classes'] = detections['detection_classes'].astype(np.int64)\n",
    "\n",
    "label_id_offset = 1\n",
    "image_np_with_detections = image_np.copy()\n",
    "\n",
    "viz_utils.visualize_boxes_and_labels_on_image_array(\n",
    "            image_np_with_detections,\n",
    "            detections['detection_boxes'],\n",
    "            detections['detection_classes']+label_id_offset,\n",
    "            detections['detection_scores'],\n",
    "            category_index,\n",
    "            use_normalized_coordinates=True,\n",
    "            max_boxes_to_draw=5,\n",
    "            min_score_thresh=.8,\n",
    "            agnostic_mode=False)\n",
    "\n",
    "plt.imshow(cv2.cvtColor(image_np_with_detections, cv2.COLOR_BGR2RGB))\n",
    "plt.show()"
   ]
  },
  {
   "cell_type": "code",
   "execution_count": null,
   "id": "fd9f9e4c",
   "metadata": {
    "id": "fd9f9e4c"
   },
   "outputs": [],
   "source": [
    "FREEEZE_SCRIPT = os.path.join(paths['APIMODEL_PATH'], 'research', 'object_detection', 'exporter_main_v2.py')"
   ]
  },
  {
   "cell_type": "code",
   "execution_count": null,
   "id": "7128b93d",
   "metadata": {
    "id": "7128b93d"
   },
   "outputs": [],
   "source": [
    "command = \"python {} --input_type=image_tensor --pipeline_config_path={} --trained_checkpoint_dir={} --outbut_directory={}.format(TRAINING_SCRIPT, paths['CHECKPOINT_PATH'], files['PIPELINE_CONFIG'], paths['CHECKPOINT_PATH'])"
   ]
  },
  {
   "cell_type": "code",
   "execution_count": null,
   "id": "33d780f5",
   "metadata": {
    "id": "33d780f5"
   },
   "outputs": [],
   "source": [
    "print(command)"
   ]
  },
  {
   "cell_type": "code",
   "execution_count": null,
   "id": "0d7b1608",
   "metadata": {
    "id": "0d7b1608"
   },
   "outputs": [],
   "source": [
    "!{command}"
   ]
  },
  {
   "cell_type": "markdown",
   "id": "35fef1e3",
   "metadata": {
    "id": "35fef1e3"
   },
   "source": [
    "# 10. Freezing the Graph"
   ]
  },
  {
   "cell_type": "code",
   "execution_count": null,
   "id": "a02b7b55",
   "metadata": {
    "id": "a02b7b55"
   },
   "outputs": [],
   "source": [
    "!pip install tensorflowjs"
   ]
  },
  {
   "cell_type": "code",
   "execution_count": null,
   "id": "de381de8",
   "metadata": {
    "id": "de381de8"
   },
   "outputs": [],
   "source": [
    "command = \"python {} --input_type=image_tensor --pipeline_config_path={} --trained_checkpoint_dir={} --outbut_directory={}.format(TRAINING_SCRIPT, paths['CHECKPOINT_PATH'], files['PIPELINE_CONFIG'], paths['CHECKPOINT_PATH'])"
   ]
  },
  {
   "cell_type": "code",
   "execution_count": null,
   "id": "7f72b388",
   "metadata": {
    "id": "7f72b388"
   },
   "outputs": [],
   "source": [
    "print(command)"
   ]
  },
  {
   "cell_type": "code",
   "execution_count": null,
   "id": "08c7fa8a",
   "metadata": {
    "id": "08c7fa8a"
   },
   "outputs": [],
   "source": [
    "!{command}"
   ]
  },
  {
   "cell_type": "markdown",
   "id": "f798cd20",
   "metadata": {
    "id": "f798cd20"
   },
   "source": [
    "# 11. Conversion to TFJS"
   ]
  },
  {
   "cell_type": "code",
   "execution_count": null,
   "id": "83735e7e",
   "metadata": {
    "id": "83735e7e"
   },
   "outputs": [],
   "source": [
    "TFLITE_SCRIPT = os.path.join(paths['APIMODEL_PATH'], 'research', 'object_detection','export_tflite_graph_tf2.py ')"
   ]
  },
  {
   "cell_type": "code",
   "execution_count": null,
   "id": "4697c723",
   "metadata": {
    "id": "4697c723"
   },
   "outputs": [],
   "source": [
    "command = \"python {} --pipeline_config_path={} --trained_checkpoint_dir={} --output_directory={}\".format(TFLITE_SCRIPT ,files['PIPELINE_CONFIG'])"
   ]
  },
  {
   "cell_type": "code",
   "execution_count": null,
   "id": "22445543",
   "metadata": {
    "id": "22445543"
   },
   "outputs": [],
   "source": [
    "print(command)"
   ]
  },
  {
   "cell_type": "code",
   "execution_count": null,
   "id": "db5e4668",
   "metadata": {
    "id": "db5e4668"
   },
   "outputs": [],
   "source": [
    "!{command}"
   ]
  },
  {
   "cell_type": "markdown",
   "id": "90a93f1a",
   "metadata": {
    "id": "90a93f1a"
   },
   "source": [
    "# 12. Conversion to TFLite"
   ]
  },
  {
   "cell_type": "code",
   "execution_count": null,
   "id": "add231ea",
   "metadata": {
    "id": "add231ea"
   },
   "outputs": [],
   "source": [
    "FROZEN_TFLITE_PATH = os.path.join(paths['TFLITE_PATH'], 'saved_model')\n",
    "TFLITE_MODEL = os.path.join(paths['TFLITE_PATH'], 'saved_model', 'detect.tflite')"
   ]
  },
  {
   "cell_type": "code",
   "execution_count": null,
   "id": "9fb57a27",
   "metadata": {
    "id": "9fb57a27"
   },
   "outputs": [],
   "source": [
    "command = \"tflite_convert \\\n",
    "--saved_model_dir={} \\\n",
    "--output_file={} \\\n",
    "--input_shapes=1,300,300,3 \\\n",
    "--input_arrays=normalized_input_image_tensor \\\n",
    "--output_arrays='TFLite_Detection_PostProcess','TFLite_Detection_PostProcess:1','TFLite_Detection_PostProcess:2','TFLite_Detection_PostProcess:3' \\\n",
    "--inference_type=FLOAT \\\n",
    "--allow_custom_ops\".format(FROZEN_TFLITE_PATH, TFLITE_MODEL, )"
   ]
  },
  {
   "cell_type": "code",
   "execution_count": null,
   "id": "3a06641e",
   "metadata": {
    "id": "3a06641e"
   },
   "outputs": [],
   "source": [
    "print(command)"
   ]
  },
  {
   "cell_type": "code",
   "execution_count": null,
   "id": "bc41ee9c",
   "metadata": {
    "id": "bc41ee9c"
   },
   "outputs": [],
   "source": [
    "!{command}"
   ]
  },
  {
   "cell_type": "markdown",
   "id": "e67c34d3",
   "metadata": {
    "id": "e67c34d3"
   },
   "source": [
    "# 13. Zip and Export Models"
   ]
  },
  {
   "cell_type": "code",
   "execution_count": null,
   "id": "77988b56",
   "metadata": {
    "id": "77988b56"
   },
   "outputs": [],
   "source": [
    "!tar -czf models.tar.gz {paths['CHECKPOINT_PATH']}"
   ]
  },
  {
   "cell_type": "code",
   "execution_count": null,
   "id": "176b7d08",
   "metadata": {
    "id": "176b7d08"
   },
   "outputs": [],
   "source": [
    "from google.colab import drive\n",
    "drive.mount('/content/drive')"
   ]
  }
 ],
 "metadata": {
  "accelerator": "GPU",
  "colab": {
   "gpuType": "T4",
   "provenance": []
  },
  "kernelspec": {
   "display_name": "Python 3 (ipykernel)",
   "language": "python",
   "name": "python3"
  },
  "language_info": {
   "codemirror_mode": {
    "name": "ipython",
    "version": 3
   },
   "file_extension": ".py",
   "mimetype": "text/x-python",
   "name": "python",
   "nbconvert_exporter": "python",
   "pygments_lexer": "ipython3",
   "version": "3.10.8"
  }
 },
 "nbformat": 4,
 "nbformat_minor": 5
}

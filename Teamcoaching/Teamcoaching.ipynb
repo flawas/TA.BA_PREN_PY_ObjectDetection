{
 "cells": [
  {
   "cell_type": "markdown",
   "id": "3fe43d6c-61d3-443e-b987-e5578a3054b2",
   "metadata": {},
   "source": [
    "# Quadranten erkennen & zwei Bilder generieren"
   ]
  },
  {
   "cell_type": "code",
   "execution_count": null,
   "id": "0c16cee7-39ed-4b21-9cf0-a892056c6ffa",
   "metadata": {
    "ExecuteTime": {
     "end_time": "2024-04-28T08:36:17.563631Z",
     "start_time": "2024-04-28T08:35:24.360204Z"
    }
   },
   "outputs": [],
   "source": [
    "import cv2\n",
    "import numpy as np\n",
    "from datetime import datetime\n",
    "import time\n",
    "\n",
    "__max = {\n",
    "    0: 0,\n",
    "    1: 0,\n",
    "    2: 0\n",
    "}\n",
    "\n",
    "# Function to check if a pixel is white\n",
    "def is_white(pixel):\n",
    "    return all(value > 160 for value in pixel)\n",
    "\n",
    "def wait_approx_11_5_seconds():\n",
    "    # Define the number of iterations for the delay\n",
    "    num_iterations = 115000000  # Adjust the number of iterations for your approximation\n",
    "    \n",
    "    # Execute a loop to wait for the specified number of iterations\n",
    "    for _ in range(num_iterations):\n",
    "        pass\n",
    "\n",
    "def get_max_pixel(ip_address,username, password, profile, frames):\n",
    "    cap = cv2.VideoCapture('rtsp://' +\n",
    "            username + ':' +\n",
    "            password +\n",
    "            '@' + ip_address + '/axis-media/media.amp' + '?streamprofile=' + profile)\n",
    "    if cap is None or not cap.isOpened():\n",
    "        print('Warning: unable to open video source: ', ip_address)\n",
    "        return None\n",
    "    frames_count = 0\n",
    "    while frames_count < frames:\n",
    "        ret, frame = cap.read()\n",
    "        # Rechteck auf Bild zeichnen (zur Entwicklung)\n",
    "        cv2.rectangle(frame, (360, 280), (640, 490), (0, 255, 0), 3) \n",
    "        roi = frame[280:490, 360:640]\n",
    "        \n",
    "        # Calculate the average color of the ROI\n",
    "        average_color = np.mean(roi, axis=(0, 1))\n",
    "        \n",
    "        if(average_color[0] > __max[0]):\n",
    "            __max[0] = average_color[0]\n",
    "        if(average_color[1] > __max[1]):\n",
    "            __max[1] = average_color[1]\n",
    "        if(average_color[2] > __max[2]):\n",
    "            __max[2] = average_color[2]\n",
    "        print(__max)\n",
    "        #cv2.imshow('frame',frame)\n",
    "        frames_count = frames_count + 1\n",
    "        print(\"Frames: \" + str(frames_count))\n",
    "        if not ret:\n",
    "            print('Warning: unable to read next frame')\n",
    "            break\n",
    "\n",
    "        if cv2.waitKey(1) & 0xFF == ord('q'):\n",
    "            break\n",
    "    \n",
    "    cap.release()\n",
    "    cv2.destroyAllWindows()\n",
    "    return __max\n",
    "\n",
    "def open_camera_profile(ip_address, username, password, profile, maxcolor): # Open the camera\n",
    "    cap = cv2.VideoCapture('rtsp://' +\n",
    "            username + ':' +\n",
    "            password +\n",
    "            '@' + ip_address + '/axis-media/media.amp' + '?streamprofile=' + profile)\n",
    "    if cap is None or not cap.isOpened():\n",
    "        print('Warning: unable to open video source: ', ip_address)\n",
    "        return None\n",
    "    while True:\n",
    "        ret, frame = cap.read()\n",
    "        # Rechteck auf Bild zeichnen (zur Entwicklung)\n",
    "        cv2.rectangle(frame, (360, 280), (640, 490), (0, 255, 0), 3) \n",
    "        roi = frame[280:490, 360:640]\n",
    "        \n",
    "        # Calculate the average color of the ROI\n",
    "        average_color = np.mean(roi, axis=(0, 1))\n",
    "        \n",
    "        # Print the average color (BGR format)\n",
    "        #print(\"Average color (BGR):\", average_color)\n",
    "        print(maxcolor)\n",
    "        print(\"Average 0:\",average_color[0])\n",
    "        print(\"Average 1:\", average_color[1])\n",
    "        print(\"Average 2:\", average_color[2])\n",
    "        print(\"Rounded 0\", round(maxcolor[0], 1))\n",
    "        print(\"Rounded 1\", round(maxcolor[1], 1))\n",
    "        print(\"Rounded 2\", round(maxcolor[2], 1))\n",
    "        print(\"---\")\n",
    "        # If you want to convert the average color to RGB format\n",
    "        if((average_color[0] > round(maxcolor[0] -2 , 1)) & (average_color[1] > round(maxcolor[1] -2, 1)) & (average_color[2] > round(maxcolor[2] -2, 1))):\n",
    "            cap.release()\n",
    "            return True\n",
    "        # Zur Entwicklung: Frame anzeigen\n",
    "        cv2.imshow('frame',frame)\n",
    "        \n",
    "        if not ret:\n",
    "            print('Warning: unable to read next frame')\n",
    "            break\n",
    "\n",
    "        if cv2.waitKey(1) & 0xFF == ord('q'):\n",
    "            break\n",
    "    \n",
    "    cap.release()\n",
    "        #cv2.destroyAllWindows()\n",
    "\n",
    "def writeScreenshot(ip_address, username, password, profile, filename): \n",
    "    # Open the camera\n",
    "    cap = cv2.VideoCapture('rtsp://' +\n",
    "                            username + ':' +\n",
    "                            password +\n",
    "                            '@' + ip_address + '/axis-media/media.amp' + '?streamprofile=' + profile)\n",
    "    if cap is None or not cap.isOpened():\n",
    "        print('Warning: unable to open video source: ', ip_address) \n",
    "        return None\n",
    "    ret, frame = cap.read()\n",
    "    cv2.imwrite(filename, frame)\n",
    "    cv2.destroyAllWindows()\n",
    "    print(filename, \"erstellt.\")\n",
    "\n",
    "max_color = get_max_pixel('147.88.48.131', 'pren', '463997','pren_profile_med', 600)\n",
    "while(True):\n",
    "    if(open_camera_profile('147.88.48.131', 'pren', '463997','pren_profile_med', max_color) == True):\n",
    "        print(\"now\")\n",
    "        writeScreenshot('147.88.48.131', 'pren', '463997','pren_profile_med', 'Screenshot1.png')\n",
    "        time.sleep(11)\n",
    "        print(\"now\")\n",
    "        writeScreenshot('147.88.48.131', 'pren', '463997','pren_profile_med', 'Screenshot2.png')\n",
    "        break"
   ]
  },
  {
   "cell_type": "markdown",
   "id": "95ec8312-2389-4b2e-9998-e1487eca1281",
   "metadata": {},
   "source": [
    "# Bilder bearbeiten"
   ]
  },
  {
   "cell_type": "markdown",
   "id": "deef6edd-867b-4ffe-b0b1-21e0eb9f9280",
   "metadata": {},
   "source": [
    "## Farbfilter"
   ]
  },
  {
   "cell_type": "code",
   "execution_count": 10,
   "id": "13014cc6-9216-4ffd-b2a4-37c08ad053b8",
   "metadata": {
    "ExecuteTime": {
     "end_time": "2024-04-28T08:45:27.864429Z",
     "start_time": "2024-04-28T08:45:27.425853Z"
    },
    "is_executing": true
   },
   "outputs": [
    {
     "data": {
      "image/png": "[encoded data removed]",
      "text/plain": [
       "<Figure size 640x480 with 1 Axes>"
      ]
     },
     "metadata": {},
     "output_type": "display_data"
    },
    {
     "data": {
      "image/png": "[encoded data removed]",
      "text/plain": [
       "<Figure size 640x480 with 1 Axes>"
      ]
     },
     "metadata": {},
     "output_type": "display_data"
    }
   ],
   "source": [
    "import cv2\n",
    "import numpy as np\n",
    "import matplotlib.pyplot as plt # für RaspberryPi Code entfernen\n",
    "\n",
    "def colorfilter(filename, colorfiltername):\n",
    "    img = cv2.imread(filename)\n",
    "    img = cv2.cvtColor(img, cv2.COLOR_BGR2RGB)\n",
    "    hsv = cv2.cvtColor(img, cv2.COLOR_RGB2HSV)\n",
    "\n",
    "    lower_red = np.array([0, 100, 110])\n",
    "    upper_red = np.array([345, 255, 255])\n",
    "\n",
    "    lower_blue = np.array([90, 95, 50])\n",
    "    upper_blue = np.array([130, 255, 255])\n",
    "\n",
    "    lower_yellow = np.array([25, 100, 100])\n",
    "    upper_yellow = np.array([30, 255, 255])\n",
    "\n",
    "    red_mask = cv2.inRange(hsv, lower_red, upper_red)\n",
    "    blue_mask = cv2.inRange(hsv, lower_blue, upper_blue)\n",
    "    yellow_mask = cv2.inRange(hsv, lower_yellow, upper_yellow)\n",
    "\n",
    "    final_mask = red_mask + blue_mask + yellow_mask\n",
    "    filter = cv2.bitwise_and(img, img, mask = final_mask)\n",
    "\n",
    "    gray_image = cv2.cvtColor(filter, cv2.COLOR_BGR2GRAY) #anpassen\n",
    "    threshold = 10\n",
    "    mask_black = cv2.threshold(gray_image, threshold, 255, cv2.THRESH_BINARY)[1]\n",
    "    mask_white = cv2.bitwise_not(mask_black)\n",
    "    img[mask_white == 255] = [255, 255, 255]\n",
    "      \n",
    "    bilateral = cv2.bilateralFilter(img, 15,100,100) #anpassen\n",
    "    plt.imshow(bilateral) # für RaspberryPi Code entfernen\n",
    "    plt.show() # für RaspberryPi Code entfernen\n",
    "\n",
    "    img = cv2.cvtColor(img, cv2.COLOR_BGR2RGB)\n",
    "    bilateral = cv2.bilateralFilter(img, 15,100,100)\n",
    "    cv2.imwrite(colorfiltername, bilateral)\n",
    "\n",
    "colorfilter(\"Screenshot1.png\", \"ColorFilter1.png\")\n",
    "colorfilter(\"Screenshot2.png\", \"ColorFilter2.png\")"
   ]
  },
  {
   "cell_type": "markdown",
   "id": "e4db7830-5dbf-4228-a968-e4a245d18bb1",
   "metadata": {},
   "source": [
    "## Tiefenkarte erstellen"
   ]
  },
  {
   "cell_type": "code",
   "execution_count": 7,
   "id": "b3fe99d6-e562-4454-aad9-c71c27b3ddd8",
   "metadata": {},
   "outputs": [
    {
     "name": "stdout",
     "output_type": "stream",
     "text": [
      "[142.5232  69.2952   5.788 ]\n"
     ]
    },
    {
     "data": {
      "text/plain": [
       "True"
      ]
     },
     "execution_count": 7,
     "metadata": {},
     "output_type": "execute_result"
    }
   ],
   "source": [
    "import cv2\n",
    "\n",
    "frame = cv2.imread(\"Screenshot2.png\")\n",
    "frame[0:720,0:545] = [255,255,255]\n",
    "frame[0:720,745:1280] = [255,255,255]\n",
    "frame[0:140,0:1280] = [255,255,255]\n",
    "frame[335:720,0:1280] = [255,255,255]\n",
    "\n",
    "white = [230,230,230]\n",
    "black = [0,0,0]\n",
    " \n",
    "roi_bottom_left = frame[275:325, 575:625]\n",
    "average_color_bottom_left = np.mean(roi_bottom_left, axis=(0, 1))\n",
    "\n",
    "roi_bottom_right = frame[275:325, 650:700]\n",
    "average_color_bottom_right = np.mean(roi_bottom_right, axis=(0, 1))\n",
    "\n",
    "roi_bottom_right = frame[275:325, 650:700]\n",
    "average_color_bottom_right = np.mean(roi_bottom_right, axis=(0, 1))\n",
    "print(average_color_bottom_right)\n",
    "\n",
    "roi_above_left = frame[100:150, 650:700]\n",
    "average_color_above_left = np.mean(roi_above_left, axis=(0, 1))\n",
    "\n",
    "roi_above_right = frame[100:150, 650:700]\n",
    "average_color_above_right = np.mean(roi_above_right, axis=(0, 1))\n",
    "\n",
    "for x in average_color_bottom_left:\n",
    "    if x > white[0] and x > white[1] and x > white[2]:\n",
    "        frame[0:210,0:655] = [255,255,255]\n",
    "\n",
    "for x in average_color_bottom_right:\n",
    "    if x < black[0] and x < black[1] and x < black[2]:\n",
    "        frame[0:720,645:1280] = [255,255,255]\n",
    "\n",
    "\"\"\"for x in average_color_above_left:\n",
    "    if x > black[0] and x > black[1] and x > black[2]:\n",
    "        frame[0:210,0:655] = [255,255,255]\n",
    "\n",
    "for x in average_color_above_right:\n",
    "    if x > black[0] and x > black[1] and x > black[2]:\n",
    "        frame[0:210,655:1280] = [255,255,255]\"\"\"\n",
    "    \n",
    "cv2.imwrite(\"Test2.png\", frame)"
   ]
  },
  {
   "cell_type": "markdown",
   "id": "234e7970-5564-4bde-b15c-c790f8b728b1",
   "metadata": {},
   "source": [
    "## Hintergrund entfernen"
   ]
  },
  {
   "cell_type": "code",
   "execution_count": null,
   "id": "da4a0315-24b7-4c7e-a9dc-25ebb290d765",
   "metadata": {},
   "outputs": [],
   "source": [
    "import cv2\n",
    "import numpy as np\n",
    "import matplotlib.pyplot as plt # für RaspberryPi Code entfernen\n",
    "\n",
    "def removebackground(colorfiltername, depthmapname, resultname):\n",
    "    \n",
    "    depthmap = cv2.imread(depthmapname, cv2.IMREAD_GRAYSCALE)\n",
    "    img = cv2.imread(colorfiltername)\n",
    "\n",
    "    threshold_distance = 15\n",
    "    mask = depthmap < threshold_distance\n",
    "    img_rgb = cv2.cvtColor(img, cv2.COLOR_BGR2RGB)\n",
    "    img_rgb[mask] = [0,0,0]\n",
    "\n",
    "    gray_image = cv2.cvtColor(img_rgb, cv2.COLOR_BGR2GRAY)\n",
    "    threshold = 10\n",
    "    mask_black = cv2.threshold(gray_image, threshold, 255, cv2.THRESH_BINARY)[1]\n",
    "    mask_white = cv2.bitwise_not(mask_black)\n",
    "    img[mask_white == 255] = [255, 255, 255]\n",
    "    \n",
    "    cv2.imwrite(resultname, img)\n",
    "\n",
    "    img = cv2.cvtColor(img, cv2.COLOR_BGR2RGB)\n",
    "    plt.imshow(img) # für RaspberryPi Code entfernen\n",
    "    plt.show() # für RaspberryPi Code entfernen\n",
    "\n",
    "removebackground(\"ColorFilter1.png\", \"DepthMap1.png\", \"Result1.png\")\n",
    "removebackground(\"ColorFilter2.png\", \"DepthMap2.png\", \"Result2.png\")"
   ]
  },
  {
   "cell_type": "markdown",
   "id": "414820b9-0f7e-4ad3-b6ea-977f746ff187",
   "metadata": {},
   "source": [
    "# Bilderkennung"
   ]
  },
  {
   "cell_type": "markdown",
   "id": "755fe98d-bbaa-4be0-ab08-e0799375ad91",
   "metadata": {},
   "source": [
    "## Module importieren"
   ]
  },
  {
   "cell_type": "code",
   "execution_count": null,
   "id": "f2db047d-9ead-499f-86f5-0952e5ea3e6e",
   "metadata": {},
   "outputs": [],
   "source": [
    "import torch\n",
    "import torch.nn as nn\n",
    "import torch.optim as optim\n",
    "from torch.optim import lr_scheduler\n",
    "import torch.backends.cudnn as cudnn\n",
    "import numpy as np\n",
    "import torchvision\n",
    "from torchvision import datasets,models,transforms\n",
    "import matplotlib.pyplot as plt\n",
    "import time\n",
    "import os\n",
    "from PIL import Image\n",
    "\n",
    "cudnn.benchmark = True\n",
    "plt.ion()"
   ]
  },
  {
   "cell_type": "markdown",
   "id": "69fbde30-9e24-4037-8016-db870cebf175",
   "metadata": {},
   "source": [
    "## Daten laden"
   ]
  },
  {
   "cell_type": "code",
   "execution_count": null,
   "id": "8db7cdfc-df35-44f8-8c72-84f3a46294f3",
   "metadata": {},
   "outputs": [],
   "source": [
    "data_transforms = {\n",
    "    'train': transforms.Compose([\n",
    "        transforms.Resize(232),\n",
    "        transforms.ToTensor(),\n",
    "        transforms.Normalize([0.485, 0.456, 0.406],[0.229, 0.224, 0.225])\n",
    "    ]),\n",
    "    'test': transforms.Compose([\n",
    "        transforms.Resize(232),\n",
    "        transforms.CenterCrop(224),\n",
    "        transforms.ToTensor(),\n",
    "        transforms.Normalize([0.485, 0.456, 0.406],[0.229, 0.224, 0.225])\n",
    "    ])}\n",
    "\n",
    "data_dir = 'Images1'\n",
    "image_datasets = {x: datasets.ImageFolder(os.path.join(data_dir,x),\n",
    "                                            data_transforms[x])\n",
    "                  for x in ['train','test']}\n",
    "dataloaders = {x: torch.utils.data.DataLoader(image_datasets[x], batch_size=4,\n",
    "                                              shuffle=True, num_workers=4)\n",
    "               for x in ['train','test']}\n",
    "dataset_sizes = {x: len(image_datasets[x]) for x in ['train','test']}\n",
    "class_names = image_datasets['train'].classes\n",
    "\n",
    "device = torch.device(\"cuda:0\" if torch.cuda.is_available() else \"cpu\")"
   ]
  },
  {
   "cell_type": "markdown",
   "id": "64ebf3eb-0f85-4223-9850-bfeac4954ca2",
   "metadata": {},
   "source": [
    "## Modell laden"
   ]
  },
  {
   "cell_type": "code",
   "execution_count": null,
   "id": "a414f9bb-6ebb-4427-9325-8f85867c779f",
   "metadata": {},
   "outputs": [],
   "source": [
    "model_load = torch.jit.load('model_scripted.pt')\n",
    "model_load.eval()"
   ]
  },
  {
   "cell_type": "markdown",
   "id": "46e4b721-26bc-4360-a443-38e866e072ff",
   "metadata": {},
   "source": [
    "## Würfelkombi erkennen"
   ]
  },
  {
   "cell_type": "code",
   "execution_count": null,
   "id": "a509bc3e-6a1a-4c68-adc3-3dc4ea686d72",
   "metadata": {},
   "outputs": [],
   "source": [
    "def visualize_model_predictions(model,img_path):\n",
    "    was_training = model.training\n",
    "    model.eval()\n",
    "\n",
    "    img = Image.open(img_path)\n",
    "    img = data_transforms['test'](img)\n",
    "    img = img.unsqueeze(0)\n",
    "    img = img.to(device)\n",
    "\n",
    "    with torch.no_grad():\n",
    "        outputs = model(img)\n",
    "        _, preds = torch.max(outputs, 1)\n",
    "        \n",
    "        detected_label = class_names[preds[0]]\n",
    "        cubes = detected_label.split(\"-\")\n",
    "\n",
    "        model.train(mode=was_training)\n",
    "        return cubes\n",
    "        \n",
    "print(visualize_model_predictions(model_load, img_path=\"Result1.png\"))\n",
    "print(visualize_model_predictions(model_load, img_path=\"Result2.png\"))"
   ]
  },
  {
   "cell_type": "code",
   "execution_count": null,
   "id": "026e78a2-3b70-42e4-89a7-63e81fd6a8f2",
   "metadata": {},
   "outputs": [],
   "source": []
  },
  {
   "cell_type": "code",
   "execution_count": null,
   "id": "6fbfba6c-528d-4962-97ee-b4ede2debac5",
   "metadata": {},
   "outputs": [],
   "source": []
  },
  {
   "cell_type": "code",
   "execution_count": null,
   "id": "eb2fd945-f083-4c01-9b48-3750ca734df0",
   "metadata": {},
   "outputs": [],
   "source": []
  }
 ],
 "metadata": {
  "kernelspec": {
   "display_name": "Python 3 (ipykernel)",
   "language": "python",
   "name": "python3"
  },
  "language_info": {
   "codemirror_mode": {
    "name": "ipython",
    "version": 3
   },
   "file_extension": ".py",
   "mimetype": "text/x-python",
   "name": "python",
   "nbconvert_exporter": "python",
   "pygments_lexer": "ipython3",
   "version": "3.10.8"
  }
 },
 "nbformat": 4,
 "nbformat_minor": 5
}

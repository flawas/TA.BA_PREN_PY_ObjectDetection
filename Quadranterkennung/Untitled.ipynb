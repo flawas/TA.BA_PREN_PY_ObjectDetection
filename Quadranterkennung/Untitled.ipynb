{
 "cells": [
  {
   "cell_type": "markdown",
   "id": "bd826207-dd3e-41a4-8a96-66d798a1f44d",
   "metadata": {},
   "source": [
    "# Pixelfarbe erkennen"
   ]
  },
  {
   "cell_type": "code",
   "execution_count": 1,
   "id": "1fce1e1d-4542-44a0-9675-06f61f392e68",
   "metadata": {},
   "outputs": [
    {
     "name": "stdout",
     "output_type": "stream",
     "text": [
      "[224 198 192] [220 199 195] [201 176 170] [216 186 184]\n"
     ]
    }
   ],
   "source": [
    "import cv2\n",
    "import numpy as np\n",
    "Img = cv2.imread(\"Bild.png\")\n",
    "PixelColor1 = Img[340,290]\n",
    "PixelColor2 = Img[240,300]\n",
    "PixelColor3 = Img[180,225]\n",
    "PixelColor4 = Img[180,125]\n",
    "print(PixelColor1, PixelColor2, PixelColor3, PixelColor4)"
   ]
  },
  {
   "cell_type": "code",
   "execution_count": 2,
   "id": "77fe12a0-bb97-4352-8fac-e11c3854c742",
   "metadata": {},
   "outputs": [
    {
     "name": "stdout",
     "output_type": "stream",
     "text": [
      "Bild\n"
     ]
    }
   ],
   "source": [
    "if PixelColor1[0]==224 and PixelColor1[1]==198 and PixelColor1[2]==192 and PixelColor4[0]==216 and PixelColor4[1]==186 and PixelColor4[2]==184:\n",
    "    print(\"Bild\")"
   ]
  },
  {
   "cell_type": "markdown",
   "id": "dedc2be0-881c-44f3-9db5-f6ea30cef80e",
   "metadata": {},
   "source": [
    "# Test wo sich Pixel befindet"
   ]
  },
  {
   "cell_type": "code",
   "execution_count": 3,
   "id": "881fb1a6-4afb-441c-9a7e-aee2f604047b",
   "metadata": {},
   "outputs": [
    {
     "data": {
      "text/plain": [
       "True"
      ]
     },
     "execution_count": 3,
     "metadata": {},
     "output_type": "execute_result"
    }
   ],
   "source": [
    "import cv2\n",
    "Test = cv2.imread(\"Bild.png\")\n",
    "Test[180,225] = [0,0,255]\n",
    "cv2.imwrite(\"Bild1.png\", Test)"
   ]
  },
  {
   "cell_type": "markdown",
   "id": "d2cac4ec-ebb8-4086-bc8f-540535b2d441",
   "metadata": {},
   "source": [
    "# Screenshot aus Stream"
   ]
  },
  {
   "cell_type": "code",
   "execution_count": 4,
   "id": "2028f0fa-dfe8-4edb-b900-8acee7707d2a",
   "metadata": {},
   "outputs": [],
   "source": [
    "import cv2\n",
    "import time\n",
    "\n",
    "def open_camera_profile(ip_address, username, password, profile, screenshot):\n",
    "    # Open the camera\n",
    "    cap = cv2.VideoCapture('rtsp://' +\n",
    "                            username + ':' +\n",
    "                            password +\n",
    "                            '@' + ip_address +\n",
    "                            '/axis-media/media.amp' +\n",
    "                            '?streamprofile=' + profile)\n",
    "    if cap is None or not cap.isOpened():\n",
    "        print('Warning: unable to open video source: ', ip_address)\n",
    "        return None\n",
    "    ret, frame = cap.read()\n",
    "    cv2.imwrite(screenshot, frame)\n",
    "    if not ret:\n",
    "        print('Warning: unable to read next frame')"
   ]
  },
  {
   "cell_type": "code",
   "execution_count": 5,
   "id": "e23e593e-1a97-4e69-b801-04c65d1ce02f",
   "metadata": {},
   "outputs": [],
   "source": [
    "open_camera_profile('147.88.48.131', 'pren', '463997','pren_profile_small', 'Screenshot1.png')\n",
    "time.sleep(11.5)\n",
    "open_camera_profile('147.88.48.131', 'pren', '463997','pren_profile_small', 'Screenshot2.png')"
   ]
  },
  {
   "cell_type": "markdown",
   "id": "1cff3243-23ba-49fd-b3b0-8e728c32b864",
   "metadata": {},
   "source": [
    "# Code komplett"
   ]
  },
  {
   "cell_type": "code",
   "execution_count": 6,
   "id": "4f9614cb-a5b0-4083-aed8-2ef90be6a39e",
   "metadata": {},
   "outputs": [],
   "source": [
    "import cv2\n",
    "import time\n",
    "\n",
    "def open_camera_profile(ip_address, username, password, profile):\n",
    "    # Open the camera\n",
    "    cap = cv2.VideoCapture('rtsp://' +\n",
    "                            username + ':' +\n",
    "                            password +\n",
    "                            '@' + ip_address +\n",
    "                            '/axis-media/media.amp' +\n",
    "                            '?streamprofile=' + profile)\n",
    "    if cap is None or not cap.isOpened():\n",
    "        print('Warning: unable to open video source: ', ip_address)\n",
    "        return None\n",
    "    while True:\n",
    "        ret, Img = cap.read()\n",
    "        if not ret:\n",
    "            print('Warning: unable to read next frame')\n",
    "            break\n",
    "        \n",
    "        PixelColor1 = Img[290, 340]\n",
    "        PixelColor4 = Img[125, 180]\n",
    "        \n",
    "        if (PixelColor1[0] == 224 and PixelColor1[1] == 198 and PixelColor1[2] == 192\n",
    "            and PixelColor4[0] == 216 and PixelColor4[1] == 186 and PixelColor4[2] == 184):\n",
    "            cv2.imwrite(\"Screenshot1.png\", Img)\n",
    "            time.sleep(11.5)\n",
    "            ret, Img = cap.read()\n",
    "            if not ret:\n",
    "                print('Warning: unable to read next frame')\n",
    "                break\n",
    "            cv2.imwrite(\"Screenshot2.png\", Img)\n",
    "\n",
    "    time.sleep(1)"
   ]
  },
  {
   "cell_type": "code",
   "execution_count": null,
   "id": "0d2dc816-1b74-4567-a9b2-78ff9d7d06ed",
   "metadata": {},
   "outputs": [],
   "source": [
    "open_camera_profile('147.88.48.131', 'pren', '463997','pren_profile_med')"
   ]
  },
  {
   "cell_type": "code",
   "execution_count": null,
   "id": "61042029-3f2e-4d5a-9d78-f1b1dbb2e19e",
   "metadata": {},
   "outputs": [],
   "source": []
  }
 ],
 "metadata": {
  "kernelspec": {
   "display_name": "Python 3 (ipykernel)",
   "language": "python",
   "name": "python3"
  },
  "language_info": {
   "codemirror_mode": {
    "name": "ipython",
    "version": 3
   },
   "file_extension": ".py",
   "mimetype": "text/x-python",
   "name": "python",
   "nbconvert_exporter": "python",
   "pygments_lexer": "ipython3",
   "version": "3.10.8"
  }
 },
 "nbformat": 4,
 "nbformat_minor": 5
}

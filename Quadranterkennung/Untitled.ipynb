{
 "cells": [
  {
   "cell_type": "markdown",
   "id": "bd826207-dd3e-41a4-8a96-66d798a1f44d",
   "metadata": {},
   "source": [
    "# Pixelfarbe erkennen"
   ]
  },
  {
   "cell_type": "code",
   "execution_count": null,
   "id": "1fce1e1d-4542-44a0-9675-06f61f392e68",
   "metadata": {},
   "outputs": [],
   "source": [
    "import cv2\n",
    "import numpy as np\n",
    "Img = cv2.imread(\"Screenshot2.png\")\n",
    "PixelColor1 = Img[340,290]\n",
    "PixelColor2 = Img[240,300]\n",
    "PixelColor4 = Img[180,120]\n",
    "print(PixelColor1, PixelColor2, PixelColor4)"
   ]
  },
  {
   "cell_type": "code",
   "execution_count": null,
   "id": "50b269bd-b5cd-4fc2-996e-0a856f0c7ac0",
   "metadata": {},
   "outputs": [],
   "source": [
    "white = [255,255,255]"
   ]
  },
  {
   "cell_type": "code",
   "execution_count": null,
   "id": "77fe12a0-bb97-4352-8fac-e11c3854c742",
   "metadata": {},
   "outputs": [],
   "source": [
    "if PixelColor1[0]>=220 and PixelColor1[1]>=195 and PixelColor1[2]>=190 and PixelColor4[0]>=215 and PixelColor4[1]>=185 and PixelColor4[2]>=185:\n",
    "    print(\"Bild\")"
   ]
  },
  {
   "cell_type": "markdown",
   "id": "dedc2be0-881c-44f3-9db5-f6ea30cef80e",
   "metadata": {},
   "source": [
    "# Test wo sich Pixel befindet"
   ]
  },
  {
   "cell_type": "code",
   "execution_count": null,
   "id": "881fb1a6-4afb-441c-9a7e-aee2f604047b",
   "metadata": {},
   "outputs": [],
   "source": [
    "import cv2\n",
    "Test = cv2.imread(\"Bild.png\")\n",
    "Test[340,310] = [0,0,255]\n",
    "cv2.rectangle(340,310)\n",
    "cv2.imwrite(\"Bild1.png\", Test)"
   ]
  },
  {
   "cell_type": "markdown",
   "id": "d2cac4ec-ebb8-4086-bc8f-540535b2d441",
   "metadata": {},
   "source": [
    "# Screenshot aus Stream"
   ]
  },
  {
   "cell_type": "code",
   "execution_count": null,
   "id": "2028f0fa-dfe8-4edb-b900-8acee7707d2a",
   "metadata": {},
   "outputs": [],
   "source": [
    "import cv2\n",
    "import time\n",
    "\n",
    "def open_camera_profile(ip_address, username, password, profile, screenshot):\n",
    "    # Open the camera\n",
    "    cap = cv2.VideoCapture('rtsp://' +\n",
    "                            username + ':' +\n",
    "                            password +\n",
    "                            '@' + ip_address +\n",
    "                            '/axis-media/media.amp' +\n",
    "                            '?streamprofile=' + profile)\n",
    "    if cap is None or not cap.isOpened():\n",
    "        print('Warning: unable to open video source: ', ip_address)\n",
    "        return None\n",
    "    ret, frame = cap.read()\n",
    "    cv2.imwrite(screenshot, frame)\n",
    "    if not ret:\n",
    "        print('Warning: unable to read next frame')"
   ]
  },
  {
   "cell_type": "code",
   "execution_count": null,
   "id": "e23e593e-1a97-4e69-b801-04c65d1ce02f",
   "metadata": {},
   "outputs": [],
   "source": [
    "open_camera_profile('147.88.48.131', 'pren', '463997','pren_profile_small', 'Screenshot1.png')\n",
    "time.sleep(11.5)\n",
    "open_camera_profile('147.88.48.131', 'pren', '463997','pren_profile_small', 'Screenshot2.png')"
   ]
  },
  {
   "cell_type": "markdown",
   "id": "1cff3243-23ba-49fd-b3b0-8e728c32b864",
   "metadata": {},
   "source": [
    "# Code komplett"
   ]
  },
  {
   "cell_type": "code",
   "execution_count": null,
   "id": "4f9614cb-a5b0-4083-aed8-2ef90be6a39e",
   "metadata": {},
   "outputs": [],
   "source": [
    "import cv2\n",
    "import time\n",
    "\n",
    "def open_camera_profile(ip_address, username, password, profile):\n",
    "    # Open the camera\n",
    "    cap = cv2.VideoCapture('rtsp://' +\n",
    "                            username + ':' +\n",
    "                            password +\n",
    "                            '@' + ip_address +\n",
    "                            '/axis-media/media.amp' +\n",
    "                            '?streamprofile=' + profile)\n",
    "    if cap is None or not cap.isOpened():\n",
    "        print('Warning: unable to open video source: ', ip_address)\n",
    "        return None\n",
    "    while True:\n",
    "        ret, Img = cap.read()\n",
    "        if not ret:\n",
    "            print('Warning: unable to read next frame')\n",
    "            break\n",
    "        \n",
    "        PixelColor1 = Img[290, 340]\n",
    "        PixelColor4 = Img[125, 180]\n",
    "        \n",
    "        if PixelColor1[0]>=220 and PixelColor1[1]>=195 and PixelColor1[2]>=190 and PixelColor4[0]>=215 and PixelColor4[1]>=185 and PixelColor4[2]>=185:\n",
    "            cv2.imwrite(\"Screenshot1.png\", Img)\n",
    "            time.sleep(11.5)\n",
    "            ret, Img = cap.read()\n",
    "            if not ret:\n",
    "                print('Warning: unable to read next frame')\n",
    "                break\n",
    "            cv2.imwrite(\"Screenshot2.png\", Img)\n",
    "\n",
    "    time.sleep(1)"
   ]
  },
  {
   "cell_type": "code",
   "execution_count": null,
   "id": "0d2dc816-1b74-4567-a9b2-78ff9d7d06ed",
   "metadata": {},
   "outputs": [],
   "source": [
    "open_camera_profile('147.88.48.131', 'pren', '463997','pren_profile_med')"
   ]
  },
  {
   "cell_type": "markdown",
   "source": [
    "Code Erkennung Box"
   ],
   "metadata": {
    "collapsed": false
   },
   "id": "c109c84e191694f8"
  },
  {
   "cell_type": "code",
   "outputs": [
    {
     "name": "stdout",
     "output_type": "stream",
     "text": [
      "Screenshot_2024-03-23 15:01:14.png erstellt.\n",
      "Screenshot_2024-03-23 15:01:27.png erstellt.\n",
      "Screenshot_2024-03-23 15:01:39.png erstellt.\n",
      "Screenshot_2024-03-23 15:01:52.png erstellt.\n"
     ]
    },
    {
     "ename": "KeyboardInterrupt",
     "evalue": "",
     "output_type": "error",
     "traceback": [
      "\u001B[0;31m---------------------------------------------------------------------------\u001B[0m",
      "\u001B[0;31mKeyboardInterrupt\u001B[0m                         Traceback (most recent call last)",
      "Cell \u001B[0;32mIn[7], line 73\u001B[0m\n\u001B[1;32m     70\u001B[0m     \u001B[38;5;28mprint\u001B[39m(\u001B[38;5;124m\"\u001B[39m\u001B[38;5;124mScreenshot_\u001B[39m\u001B[38;5;124m\"\u001B[39m \u001B[38;5;241m+\u001B[39m \u001B[38;5;28mstr\u001B[39m(formatted_string) \u001B[38;5;241m+\u001B[39m \u001B[38;5;124m\"\u001B[39m\u001B[38;5;124m.png erstellt.\u001B[39m\u001B[38;5;124m\"\u001B[39m)\n\u001B[1;32m     72\u001B[0m \u001B[38;5;28;01mwhile\u001B[39;00m(\u001B[38;5;28;01mTrue\u001B[39;00m):\n\u001B[0;32m---> 73\u001B[0m     \u001B[38;5;28;01mif\u001B[39;00m(\u001B[43mopen_camera_profile\u001B[49m\u001B[43m(\u001B[49m\u001B[38;5;124;43m'\u001B[39;49m\u001B[38;5;124;43m147.88.48.131\u001B[39;49m\u001B[38;5;124;43m'\u001B[39;49m\u001B[43m,\u001B[49m\u001B[43m \u001B[49m\u001B[38;5;124;43m'\u001B[39;49m\u001B[38;5;124;43mpren\u001B[39;49m\u001B[38;5;124;43m'\u001B[39;49m\u001B[43m,\u001B[49m\u001B[43m \u001B[49m\u001B[38;5;124;43m'\u001B[39;49m\u001B[38;5;124;43m463997\u001B[39;49m\u001B[38;5;124;43m'\u001B[39;49m\u001B[43m,\u001B[49m\u001B[38;5;124;43m'\u001B[39;49m\u001B[38;5;124;43mpren_profile_med\u001B[39;49m\u001B[38;5;124;43m'\u001B[39;49m\u001B[43m)\u001B[49m \u001B[38;5;241m==\u001B[39m \u001B[38;5;28;01mTrue\u001B[39;00m):\n\u001B[1;32m     74\u001B[0m         writeScreenshot(\u001B[38;5;124m'\u001B[39m\u001B[38;5;124m147.88.48.131\u001B[39m\u001B[38;5;124m'\u001B[39m, \u001B[38;5;124m'\u001B[39m\u001B[38;5;124mpren\u001B[39m\u001B[38;5;124m'\u001B[39m, \u001B[38;5;124m'\u001B[39m\u001B[38;5;124m463997\u001B[39m\u001B[38;5;124m'\u001B[39m,\u001B[38;5;124m'\u001B[39m\u001B[38;5;124mpren_profile_med\u001B[39m\u001B[38;5;124m'\u001B[39m)\n\u001B[1;32m     75\u001B[0m         time\u001B[38;5;241m.\u001B[39msleep(\u001B[38;5;241m11.5\u001B[39m)\n",
      "Cell \u001B[0;32mIn[7], line 27\u001B[0m, in \u001B[0;36mopen_camera_profile\u001B[0;34m(ip_address, username, password, profile)\u001B[0m\n\u001B[1;32m     25\u001B[0m     \u001B[38;5;28;01mreturn\u001B[39;00m \u001B[38;5;28;01mNone\u001B[39;00m\n\u001B[1;32m     26\u001B[0m \u001B[38;5;28;01mwhile\u001B[39;00m \u001B[38;5;28;01mTrue\u001B[39;00m:\n\u001B[0;32m---> 27\u001B[0m     ret, frame \u001B[38;5;241m=\u001B[39m \u001B[43mcap\u001B[49m\u001B[38;5;241;43m.\u001B[39;49m\u001B[43mread\u001B[49m\u001B[43m(\u001B[49m\u001B[43m)\u001B[49m\n\u001B[1;32m     28\u001B[0m     \u001B[38;5;66;03m#cv2.rectangle(frame, (360, 280), (640, 490), (0, 255, 0), 3) \u001B[39;00m\n\u001B[1;32m     29\u001B[0m     roi \u001B[38;5;241m=\u001B[39m frame[\u001B[38;5;241m280\u001B[39m:\u001B[38;5;241m490\u001B[39m, \u001B[38;5;241m360\u001B[39m:\u001B[38;5;241m640\u001B[39m]\n",
      "\u001B[0;31mKeyboardInterrupt\u001B[0m: "
     ]
    }
   ],
   "source": [
    "import cv2\n",
    "import numpy as np\n",
    "import time\n",
    "from datetime import datetime\n",
    "\n",
    "# Function to check if a pixel is white\n",
    "def is_white(pixel):\n",
    "    return all(value > 170 for value in pixel)\n",
    "\n",
    "def wait_approx_11_5_seconds():\n",
    "    # Define the number of iterations for the delay\n",
    "    num_iterations = 115000000  # Adjust the number of iterations for your approximation\n",
    "    \n",
    "    # Execute a loop to wait for the specified number of iterations\n",
    "    for _ in range(num_iterations):\n",
    "        pass\n",
    "\n",
    "def open_camera_profile(ip_address, username, password, profile): # Open the camera\n",
    "    cap = cv2.VideoCapture('rtsp://' +\n",
    "            username + ':' +\n",
    "            password +\n",
    "            '@' + ip_address + '/axis-media/media.amp' + '?streamprofile=' + profile)\n",
    "    if cap is None or not cap.isOpened():\n",
    "        print('Warning: unable to open video source: ', ip_address)\n",
    "        return None\n",
    "    while True:\n",
    "        ret, frame = cap.read()\n",
    "        #cv2.rectangle(frame, (360, 280), (640, 490), (0, 255, 0), 3) \n",
    "        roi = frame[280:490, 360:640]\n",
    "        \n",
    "        # Calculate the average color of the ROI\n",
    "        average_color = np.mean(roi, axis=(0, 1))\n",
    "        \n",
    "        # Print the average color (BGR format)\n",
    "        #print(\"Average color (BGR):\", average_color)\n",
    "        \n",
    "        # If you want to convert the average color to RGB format\n",
    "        if(is_white(average_color)):\n",
    "            cap.release()\n",
    "            return True\n",
    "        \n",
    "        cv2.imshow('frame',frame)\n",
    "        \n",
    "        if not ret:\n",
    "            print('Warning: unable to read next frame')\n",
    "            break\n",
    "\n",
    "        if cv2.waitKey(1) & 0xFF == ord('q'):\n",
    "            break\n",
    "    \n",
    "    cap.release()\n",
    "        #cv2.destroyAllWindows()\n",
    "\n",
    "def writeScreenshot(ip_address, username, password, profile): # Open the camera\n",
    "    cap = cv2.VideoCapture('rtsp://' +\n",
    "                            username + ':' +\n",
    "                            password +\n",
    "                            '@' + ip_address +\n",
    "                            '/axis-media/media.amp' +\n",
    "                            '?streamprofile=' + profile)\n",
    "    if cap is None or not cap.isOpened():\n",
    "        print('Warning: unable to open video source: ', ip_address)\n",
    "        return None\n",
    "    ret, frame = cap.read()\n",
    "    timestamp = time.time()  \n",
    "    dt_object = datetime.fromtimestamp(timestamp)\n",
    "    formatted_string = dt_object.strftime(\"%Y-%m-%d %H:%M:%S\")\n",
    "    \n",
    "    cv2.imwrite(\"Screenshot_\" + str(formatted_string) + \".png\", frame)\n",
    "    print(\"Screenshot_\" + str(formatted_string) + \".png erstellt.\")\n",
    "\n",
    "while(True):\n",
    "    if(open_camera_profile('147.88.48.131', 'pren', '463997','pren_profile_med') == True):\n",
    "        writeScreenshot('147.88.48.131', 'pren', '463997','pren_profile_med')\n",
    "        time.sleep(11.5)\n",
    "        writeScreenshot('147.88.48.131', 'pren', '463997','pren_profile_med')\n"
   ],
   "metadata": {
    "collapsed": false,
    "ExecuteTime": {
     "end_time": "2024-03-23T14:02:01.908008Z",
     "start_time": "2024-03-23T14:01:11.078850Z"
    }
   },
   "id": "8e86136e66f7f467",
   "execution_count": 7
  },
  {
   "cell_type": "code",
   "outputs": [
    {
     "name": "stdout",
     "output_type": "stream",
     "text": [
      "2024-03-23 14:18:59\n"
     ]
    }
   ],
   "source": [
    "from datetime import datetime\n",
    "import time\n",
    "\n",
    "# Example timestamp (replace this with your timestamp or time object)\n",
    "timestamp = time.time()  # Example timestamp representing 2021-03-22 14:09:05 (Unix timestamp)\n",
    "\n",
    "# Convert the timestamp to a datetime object\n",
    "dt_object = datetime.fromtimestamp(timestamp)\n",
    "\n",
    "# Format the datetime object as a string with desired components\n",
    "formatted_string = dt_object.strftime(\"%Y-%m-%d %H:%M:%S\")\n",
    "\n",
    "# Print the formatted string\n",
    "print(formatted_string)\n"
   ],
   "metadata": {
    "collapsed": false,
    "ExecuteTime": {
     "end_time": "2024-03-23T13:18:59.475182Z",
     "start_time": "2024-03-23T13:18:59.470063Z"
    }
   },
   "id": "b749a0165e2f87fb",
   "execution_count": 7
  },
  {
   "cell_type": "code",
   "outputs": [],
   "source": [],
   "metadata": {
    "collapsed": false,
    "ExecuteTime": {
     "end_time": "2024-03-23T13:19:02.381499Z",
     "start_time": "2024-03-23T13:19:02.378799Z"
    }
   },
   "id": "e71289fb3a5f9d15",
   "execution_count": 7
  },
  {
   "cell_type": "code",
   "outputs": [],
   "source": [],
   "metadata": {
    "collapsed": false
   },
   "id": "9f011abb1ef13fa1"
  }
 ],
 "metadata": {
  "kernelspec": {
   "display_name": "Python 3 (ipykernel)",
   "language": "python",
   "name": "python3"
  },
  "language_info": {
   "codemirror_mode": {
    "name": "ipython",
    "version": 3
   },
   "file_extension": ".py",
   "mimetype": "text/x-python",
   "name": "python",
   "nbconvert_exporter": "python",
   "pygments_lexer": "ipython3",
   "version": "3.10.8"
  }
 },
 "nbformat": 4,
 "nbformat_minor": 5
}

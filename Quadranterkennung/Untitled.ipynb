{
 "cells": [
  {
   "cell_type": "markdown",
   "id": "bd826207-dd3e-41a4-8a96-66d798a1f44d",
   "metadata": {},
   "source": [
    "# Pixelfarbe erkennen"
   ]
  },
  {
   "cell_type": "code",
   "execution_count": null,
   "id": "1fce1e1d-4542-44a0-9675-06f61f392e68",
   "metadata": {},
   "outputs": [],
   "source": [
    "import json\n",
    "\n",
    "import cv2\n",
    "import numpy as np\n",
    "Img = cv2.imread(\"Screenshot2.png\")\n",
    "PixelColor1 = Img[340,290]\n",
    "PixelColor2 = Img[240,300]\n",
    "PixelColor4 = Img[180,120]\n",
    "print(PixelColor1, PixelColor2, PixelColor4)"
   ]
  },
  {
   "cell_type": "code",
   "execution_count": null,
   "id": "50b269bd-b5cd-4fc2-996e-0a856f0c7ac0",
   "metadata": {},
   "outputs": [],
   "source": [
    "white = [255,255,255]"
   ]
  },
  {
   "cell_type": "code",
   "execution_count": null,
   "id": "77fe12a0-bb97-4352-8fac-e11c3854c742",
   "metadata": {},
   "outputs": [],
   "source": [
    "if PixelColor1[0]>=220 and PixelColor1[1]>=195 and PixelColor1[2]>=190 and PixelColor4[0]>=215 and PixelColor4[1]>=185 and PixelColor4[2]>=185:\n",
    "    print(\"Bild\")"
   ]
  },
  {
   "cell_type": "markdown",
   "id": "dedc2be0-881c-44f3-9db5-f6ea30cef80e",
   "metadata": {},
   "source": [
    "# Test wo sich Pixel befindet"
   ]
  },
  {
   "cell_type": "code",
   "execution_count": 1,
   "id": "881fb1a6-4afb-441c-9a7e-aee2f604047b",
   "metadata": {
    "ExecuteTime": {
     "end_time": "2024-04-28T07:35:20.303551Z",
     "start_time": "2024-04-28T07:35:19.881429Z"
    }
   },
   "outputs": [
    {
     "ename": "ModuleNotFoundError",
     "evalue": "No module named 'cv2'",
     "output_type": "error",
     "traceback": [
      "\u001B[0;31m---------------------------------------------------------------------------\u001B[0m",
      "\u001B[0;31mModuleNotFoundError\u001B[0m                       Traceback (most recent call last)",
      "Cell \u001B[0;32mIn[1], line 1\u001B[0m\n\u001B[0;32m----> 1\u001B[0m \u001B[38;5;28;01mimport\u001B[39;00m \u001B[38;5;21;01mcv2\u001B[39;00m \n\u001B[1;32m      2\u001B[0m \u001B[38;5;28;01mimport\u001B[39;00m \u001B[38;5;21;01mmatplotlib\u001B[39;00m\u001B[38;5;21;01m.\u001B[39;00m\u001B[38;5;21;01mpyplot\u001B[39;00m \u001B[38;5;28;01mas\u001B[39;00m \u001B[38;5;21;01mplt\u001B[39;00m\n\u001B[1;32m      3\u001B[0m \u001B[38;5;28;01mimport\u001B[39;00m \u001B[38;5;21;01mnumpy\u001B[39;00m \u001B[38;5;28;01mas\u001B[39;00m \u001B[38;5;21;01mnp\u001B[39;00m\n",
      "\u001B[0;31mModuleNotFoundError\u001B[0m: No module named 'cv2'"
     ]
    }
   ],
   "source": [
    "import cv2 \n",
    "import matplotlib.pyplot as plt\n",
    "import numpy as np\n",
    "\n",
    "img = cv2.imread('Bild1.png')\n",
    "img = cv2.cvtColor(img, cv2.COLOR_RGB2BGR)\n",
    "\n",
    "cv2.rectangle(img, (570,450), (610, 490), (0,255,0), 3)\n",
    "roi_bot_bot_left = img[450:490, 570:610]\n",
    "average_color_bot_bot_left = np.mean(roi_bot_bot_left, axis=(0 ,1))\n",
    "        \n",
    "print(average_color_bot_bot_left)\n",
    "\n",
    "# Bottom bottom left\n",
    "img[450:490, 570:610] = [255, 255, 255]\n",
    "\n",
    "# Bottom middle left\n",
    "img[350:390, 470:510] = [255, 255, 255]\n",
    "\n",
    "# Bottom left left\n",
    "img[265:305, 370:410] = [255, 255, 255]\n",
    "\n",
    "\n",
    "# Bottom bottom right\n",
    "img[450:490, 640:680] = [255, 255, 255]\n",
    "\n",
    "# Bottom middle right\n",
    "img[350:390, 750:790] = [255, 255, 255]\n",
    "\n",
    "# Bottom right right\n",
    "img[275:315, 850:890] = [255, 255, 255]\n",
    "\n",
    "\n",
    "\n",
    "# Top middle left\n",
    "img[150:190, 480:520] = [255, 255, 255]\n",
    "\n",
    "# Top left left\n",
    "img[215:255, 370:410] = [255, 255, 255]\n",
    "\n",
    "\n",
    "# Top middle right\n",
    "img[150:190, 750:790] = [255, 255, 255]\n",
    "\n",
    "# Top right right\n",
    "img[225:265, 850:890] = [255, 255, 255]\n",
    "\n",
    "\n",
    "# img[270:310, 670:710] = [255, 255, 255]\n",
    "# img[85:120, 580:620] = [255, 255, 255]\n",
    "# img[85:120, 670:710] = [255, 255, 255]\n",
    "plt.imshow(img)\n",
    "plt.show()"
   ]
  },
  {
   "cell_type": "markdown",
   "id": "c109c84e191694f8",
   "metadata": {},
   "source": [
    "# Code Erkennung Final"
   ]
  },
  {
   "cell_type": "code",
   "id": "8e86136e66f7f467",
   "metadata": {
    "is_executing": true,
    "ExecuteTime": {
     "end_time": "2024-04-28T09:10:10.609506Z",
     "start_time": "2024-04-28T09:09:53.458646Z"
    }
   },
   "source": [
    "import cv2\n",
    "import numpy as np\n",
    "from datetime import datetime\n",
    "import time\n",
    "\n",
    "__pos = 0\n",
    "\n",
    "def open_camera_profile(ip_address, username, password, profile, screenshotName): # Open the camera\n",
    "    cap = cv2.VideoCapture('rtsp://' +\n",
    "            username + ':' +\n",
    "            password +\n",
    "            '@' + ip_address + '/axis-media/media.amp' + '?streamprofile=' + profile)\n",
    "    if cap is None or not cap.isOpened():\n",
    "        print('Warning: unable to open video source: ', ip_address)\n",
    "        return None\n",
    "    lower_white = np.array([126 ,  170 , 107])\n",
    "    upper_white = np.array([170 ,210, 144])\n",
    "    \n",
    "    lower_white_right = np.array([93, 143, 82])\n",
    "    upper_white_right = np.array([180, 220, 160])\n",
    "    while True:\n",
    "        ret, frame = cap.read()\n",
    "        hsv = cv2.cvtColor(frame, cv2.COLOR_RGB2HSV)\n",
    "        \n",
    "        # Bottom bottom left\n",
    "        cv2.rectangle(frame, (570,450), (610, 490), (0,255,0), 3)\n",
    "        roi_bot_bot_left = frame[450:490, 570:610]\n",
    "        average_color_bot_bot_left = np.mean(roi_bot_bot_left, axis=(0 ,1))\n",
    "\n",
    "        # Bottom middle left\n",
    "        cv2.rectangle(frame, (470,350), (510, 390), (0,255,0), 3)\n",
    "        roi_bot_mid_left = frame[350:390, 470:510]\n",
    "        average_color_bot_mid_left = np.mean(roi_bot_mid_left, axis=(0 ,1))\n",
    "\n",
    "        # Bottom left left\n",
    "        cv2.rectangle(frame, (370,265), (410, 305), (0,255,0), 3)\n",
    "        roi_bot_left_left = frame[265:305, 370:410]\n",
    "        average_color_bot_left_left = np.mean(roi_bot_left_left, axis=(0 ,1))\n",
    "\n",
    "\n",
    "        # Bottom bottom right\n",
    "        cv2.rectangle(frame, (640,450), (680, 490), (0,255,0), 3)\n",
    "        roi_bot_bot_right = frame[450:490, 640:680]\n",
    "        average_color_bot_bot_right = np.mean(roi_bot_bot_right, axis=(0 ,1))\n",
    "\n",
    "        # Bottom middle right\n",
    "        cv2.rectangle(frame, (750,350), (790, 390), (0,255,0), 3)\n",
    "        roi_bot_mid_right = frame[350:390, 750:790]\n",
    "        average_color_bot_mid_right = np.mean(roi_bot_mid_right, axis=(0 ,1))\n",
    "\n",
    "        # Bottom right right\n",
    "        cv2.rectangle(frame, (850,275), (890, 315), (0,255,0), 3)\n",
    "        roi_bot_right_right = frame[275:315, 850:890]\n",
    "        average_color_bot_right_right = np.mean(roi_bot_right_right, axis=(0 ,1))\n",
    "\n",
    "\n",
    "        # Top middle left\n",
    "        cv2.rectangle(frame, (480,150), (520, 190), (0,255,0), 3)\n",
    "        roi_top_mid_left = frame[150:190, 480:520]\n",
    "        average_color_top_mid_left = np.mean(roi_top_mid_left, axis=(0 ,1))\n",
    "\n",
    "        # Top left left\n",
    "        cv2.rectangle(frame, (370,215), (410, 255), (0,255,0), 3)\n",
    "        roi_top_left_left = frame[215:255, 370:410]\n",
    "        average_color_top_left_left = np.mean(roi_top_left_left, axis=(0 ,1))\n",
    "\n",
    "\n",
    "        # Top middle right\n",
    "        cv2.rectangle(frame, (750,150), (790, 190), (0,255,0), 3)\n",
    "        roi_top_mid_right = frame[150:190, 750:790]\n",
    "        average_color_top_mid_right = np.mean(roi_top_mid_right, axis=(0 ,1))\n",
    "\n",
    "        # Top right right\n",
    "        cv2.rectangle(frame, (850,225), (890, 265), (0,255,0), 3)\n",
    "        roi_top_right_right = frame[225:265, 850:890]\n",
    "        average_color_top_right_right = np.mean(roi_top_right_right, axis=(0 ,1))\n",
    "\n",
    "\n",
    "        if(average_color_bot_bot_left >= lower_white).all() and (average_color_bot_bot_left <= upper_white).all() and (average_color_bot_mid_left >= lower_white).all() and (average_color_bot_mid_left <= upper_white).all() and (average_color_bot_left_left >= lower_white).all() and (average_color_bot_left_left <= upper_white).all():\n",
    "            cap.release()\n",
    "            __pos = 1\n",
    "            cv2.imwrite(screenshotName + \".png\", frame)\n",
    "            return True \n",
    "        \n",
    "        if(average_color_bot_bot_right >= lower_white_right).all() and (average_color_bot_bot_right <= upper_white_right).all() and (average_color_bot_mid_right >= lower_white_right).all() and (average_color_bot_mid_right <= upper_white_right).all() and (average_color_bot_right_right >= lower_white_right).all() and (average_color_bot_right_right <= upper_white_right).all():\n",
    "            cap.release()\n",
    "            __pos = 2\n",
    "            cv2.imwrite(screenshotName + \".png\", frame)\n",
    "            return True\n",
    "        \n",
    "        if(average_color_top_left_left >= lower_white).all() and (average_color_top_left_left <= upper_white).all() and (average_color_top_mid_left >= lower_white).all() and (average_color_top_mid_left <= upper_white).all() and (average_color_bot_left_left <= lower_white).all():\n",
    "            cap.release()\n",
    "            __pos = 3\n",
    "            cv2.imwrite(screenshotName + \".png\", frame)\n",
    "            return True \n",
    "        \n",
    "        if(average_color_top_right_right >= lower_white).all() and (average_color_top_right_right <= upper_white).all() and (average_color_top_mid_right >= lower_white).all() and (average_color_top_mid_right <= upper_white).all():\n",
    "            cap.release()\n",
    "            cv2.imwrite(screenshotName + \".png\", frame)\n",
    "            __pos = 4\n",
    "            return True \n",
    "\n",
    "\n",
    "        # Zur Entwicklung: Frame anzeigen\n",
    "        cv2.imshow('frame',frame)\n",
    "        \n",
    "        if not ret:\n",
    "            print('Warning: unable to read next frame')\n",
    "            break\n",
    "\n",
    "        if cv2.waitKey(1) & 0xFF == ord('q'):\n",
    "            break\n",
    "    \n",
    "    cap.release()\n",
    "        #cv2.destroyAllWindows()\n",
    "\n",
    "def writeScreenshot(ip_address, username, password, profile, screenshotName): \n",
    "    # Open the camera\n",
    "    cap = cv2.VideoCapture('rtsp://' +\n",
    "                            username + ':' +\n",
    "                            password +\n",
    "                            '@' + ip_address + '/axis-media/media.amp' + '?streamprofile=' + profile)\n",
    "    if cap is None or not cap.isOpened():\n",
    "        print('Warning: unable to open video source: ', ip_address) \n",
    "        return None\n",
    "    ret, frame = cap.read()\n",
    "\n",
    "\n",
    "    cv2.imwrite(screenshotName + \".png\", frame)\n",
    "    cv2.destroyAllWindows()\n",
    "    print(str(screenshotName) + \".png erstellt.\")\n",
    "\n",
    "def getPosPlate():\n",
    "    return __pos\n",
    "\n",
    "while(True):\n",
    "    open_camera_profile('147.88.48.131', 'pren', '463997','pren_profile_med', 'Screenshot1')\n",
    "    print(\"now\")\n",
    "    time.sleep(13)\n",
    "    print(\"now\")\n",
    "    writeScreenshot('147.88.48.131', 'pren', '463997','pren_profile_med', 'Screenshot2')\n",
    "    getPosPlate()\n",
    "    break"
   ],
   "outputs": [
    {
     "name": "stdout",
     "output_type": "stream",
     "text": [
      "now\n",
      "now\n",
      "Screenshot2.png erstellt.\n"
     ]
    }
   ],
   "execution_count": 7
  },
  {
   "cell_type": "code",
   "execution_count": null,
   "id": "b749a0165e2f87fb",
   "metadata": {
    "is_executing": true
   },
   "outputs": [],
   "source": [
    "from datetime import datetime\n",
    "import time\n",
    "\n",
    "# Example timestamp (replace this with your timestamp or time object)\n",
    "timestamp = time.time()  # Example timestamp representing 2021-03-22 14:09:05 (Unix timestamp)\n",
    "\n",
    "# Convert the timestamp to a datetime object\n",
    "dt_object = datetime.fromtimestamp(timestamp)\n",
    "\n",
    "# Format the datetime object as a string with desired components\n",
    "formatted_string = dt_object.strftime(\"%Y-%m-%d-%H-%M-%S\")\n",
    "\n",
    "# Print the formatted string\n",
    "print(formatted_string)\n"
   ]
  },
  {
   "cell_type": "code",
   "outputs": [],
   "source": [],
   "metadata": {
    "collapsed": false
   },
   "id": "69792011c9a40259",
   "execution_count": null
  }
 ],
 "metadata": {
  "kernelspec": {
   "display_name": "Python 3 (ipykernel)",
   "language": "python",
   "name": "python3"
  },
  "language_info": {
   "codemirror_mode": {
    "name": "ipython",
    "version": 3
   },
   "file_extension": ".py",
   "mimetype": "text/x-python",
   "name": "python",
   "nbconvert_exporter": "python",
   "pygments_lexer": "ipython3",
   "version": "3.10.1"
  }
 },
 "nbformat": 4,
 "nbformat_minor": 5
}

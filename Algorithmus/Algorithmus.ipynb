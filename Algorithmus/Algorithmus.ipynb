{
 "cells": [
  {
   "cell_type": "markdown",
   "id": "e3fa196f-11d7-4dd3-b115-d067c2ce7bed",
   "metadata": {},
   "source": [
    "# Würfelkombis erstellen"
   ]
  },
  {
   "cell_type": "code",
   "execution_count": null,
   "id": "e9984635-097b-4677-a525-ef3ba903c270",
   "metadata": {},
   "outputs": [],
   "source": [
    "def generate_options(Colours,Cubes, prefix=None, results=None):\n",
    "\n",
    "    if prefix is None:\n",
    "        prefix = []\n",
    "    if results is None:\n",
    "        results = []\n",
    "        \n",
    "    if Cubes == 0:\n",
    "        results.append(prefix)\n",
    "        return\n",
    "        \n",
    "    for Colour in Colours:\n",
    "        new_prefix = prefix + [Colour]\n",
    "        generate_options(Colours, Cubes - 1, new_prefix, results)\n",
    "        \n",
    "    return results\n",
    "\n",
    "Colours = [0,1,2,3]\n",
    "Cubes = 4\n",
    "result = generate_options(Colours,Cubes)\n",
    "result"
   ]
  },
  {
   "cell_type": "code",
   "execution_count": null,
   "id": "388f2f8e-b559-4b35-8d31-66ce4870e524",
   "metadata": {},
   "outputs": [],
   "source": [
    "colornames = [\"Nothing\", \"Red\", \"Blue\", \"Yellow\"]\n",
    "\n",
    "folder = 0\n",
    "\n",
    "cubeconfig = []\n",
    "\n",
    "for folder in range(len(result)):\n",
    "    cube = result[folder]\n",
    "    name1, name2, name3, name4 = color_names[cube[0]], color_names[cube[1]], color_names[cube[2]], color_names[cube[3]]\n",
    "    cubeconfig = cubeconfig + [[name1, name2, name3, name4]]\n",
    "    if name1==\"Nothing\" and name2==\"Nothing\" and name3!=\"Nothing\" and name4!=\"Nothing\" or name1==\"Nothing\" and name3!=\"Nothing\" or name2==\"Nothing\" and name4!=\"Nothing\":\n",
    "        cubeconfig = cubeconfig.remove(name1, name2, name4, name3)"
   ]
  },
  {
   "cell_type": "markdown",
   "id": "fa68be6c-48d6-45ac-9aed-10bc77cc6cd1",
   "metadata": {},
   "source": [
    "# Algorithmus um möglichst viele Würfel gleichzeitig zu platzieren"
   ]
  },
  {
   "cell_type": "code",
   "execution_count": null,
   "id": "c68a8ce5-df52-4f38-b5ec-319c3996b776",
   "metadata": {},
   "outputs": [],
   "source": [
    "count = 0\n",
    "if pos(1) = red:\n",
    "    red\n",
    "    pos.drop(1)\n",
    "    if pos(4) = red:\n",
    "        red\n",
    "        pos.drop(4)\n",
    "        \n",
    "if pos(1) != yellow:       \n",
    "    if pos(2) = yellow:\n",
    "        yellow\n",
    "        pos.drop(2)\n",
    "        if pos(3) = yellow:\n",
    "            yellow\n",
    "            pos.drop(3)\n",
    "       \n",
    "if pos(1) = blue:\n",
    "    blue\n",
    "    pos.drop(1)\n",
    "    if pos(4) = blue:\n",
    "        blue\n",
    "        pos.drop(4)\n",
    "    if pos(2) = red:\n",
    "        red\n",
    "        pos.drop(2)\n",
    "        if pos(3) = red:\n",
    "            red\n",
    "            pos.drop(3)\n",
    "    left         \n",
    "\n",
    "if pos(1) = yellow:\n",
    "    yellow\n",
    "    pos.drop(1)\n",
    "    if pos(4) = yellow:\n",
    "        yellow\n",
    "        pos.drop(4)\n",
    "        \n",
    "    right\n",
    "    if pos(4) = red:\n",
    "        red\n",
    "        pos.drop(4)\n",
    "        \n",
    "    if pos(2) = yellow:\n",
    "        yellow\n",
    "        pos.drop(2)\n",
    "        if pos(3) = yellow:\n",
    "            yellow\n",
    "            pos.drop(3)\n",
    "\n",
    "    right\n",
    "    count += 1\n",
    "        \n",
    "    if pos(4) = blue:\n",
    "        blue\n",
    "        pos.drop(4)\n",
    "        \n",
    "    if pos(2) = red:\n",
    "        red\n",
    "        pos.drop(2)\n",
    "        if pos(3) = red:\n",
    "            red\n",
    "            pos.drop(3)\n",
    "             \n",
    "    if pos(2) = blue:\n",
    "\n",
    "            right\n",
    "            \n",
    "            blue\n",
    "            pos.drop(2)\n",
    "        if pos(3) = blue:\n",
    "            blue\n",
    "            pos.drop(3)\n",
    "\n",
    "        count += 1\n",
    "                "
   ]
  },
  {
   "cell_type": "markdown",
   "id": "11242f22-4a88-49fd-9def-562d6a209fec",
   "metadata": {},
   "source": [
    "# Algorithmus um möglichst einfach Würfel platzieren"
   ]
  },
  {
   "cell_type": "code",
   "execution_count": null,
   "id": "a9360101-a4e7-4575-9405-66918f840452",
   "metadata": {},
   "outputs": [],
   "source": [
    "for x in range(1,9)\n",
    "\n",
    "if(dataconfig.getPos(x) == \"Yellow\"):\n",
    "\t\t\tprint(turner[1])\n",
    "\t\tif(dataconfig.getPos(x) == \"Red\"):\n",
    "\t\t\tprint(turner[2])\n",
    "\t\tif(dataconfig.getPos(x) == \"Blue\"):\n",
    "\t\t\tprint(turner[3])\n",
    "\t\t\tfor y in range(turner[3]):\n",
    "\t\t\t\tEngine.turnRight()\n",
    "\t\t\tEngine.solBlue()\n",
    "\t\tif(dataconfig.getPos(x) == \"Nothing\"):\n",
    "\t\t\tprint(\"Nothing to do)\n",
    "\n",
    "turner = {1: 0, 2: 1, 3: 2}                  "
   ]
  }
 ],
 "metadata": {
  "kernelspec": {
   "display_name": "Python 3 (ipykernel)",
   "language": "python",
   "name": "python3"
  },
  "language_info": {
   "codemirror_mode": {
    "name": "ipython",
    "version": 3
   },
   "file_extension": ".py",
   "mimetype": "text/x-python",
   "name": "python",
   "nbconvert_exporter": "python",
   "pygments_lexer": "ipython3",
   "version": "3.10.8"
  }
 },
 "nbformat": 4,
 "nbformat_minor": 5
}

{
 "cells": [
  {
   "cell_type": "markdown",
   "id": "4885d689-8082-406a-a838-4b7067999f0b",
   "metadata": {},
   "source": [
    "# Kreismodell erstellen\n"
   ]
  },
  {
   "cell_type": "code",
   "execution_count": 14,
   "id": "e5535072-2053-4a73-a2f5-4af82a0c9446",
   "metadata": {},
   "outputs": [
    {
     "name": "stdout",
     "output_type": "stream",
     "text": [
      "Requirement already satisfied: pygame in c:\\users\\silvan mangold\\appdata\\local\\programs\\python\\python310\\lib\\site-packages (2.5.2)\n"
     ]
    }
   ],
   "source": [
    "!pip install pygame"
   ]
  },
  {
   "cell_type": "code",
   "execution_count": 15,
   "id": "672f9883-a544-4572-9e54-3d0d125003d1",
   "metadata": {},
   "outputs": [
    {
     "name": "stdout",
     "output_type": "stream",
     "text": [
      "Requirement already satisfied: pyopengl in c:\\users\\silvan mangold\\appdata\\local\\programs\\python\\python310\\lib\\site-packages (3.1.7)\n"
     ]
    }
   ],
   "source": [
    "!pip install pyopengl"
   ]
  },
  {
   "cell_type": "code",
   "execution_count": 16,
   "id": "14960534-f66b-4421-8cf5-1122bab35fe6",
   "metadata": {},
   "outputs": [
    {
     "name": "stdout",
     "output_type": "stream",
     "text": [
      "Requirement already satisfied: pillow in c:\\users\\silvan mangold\\appdata\\local\\programs\\python\\python310\\lib\\site-packages (10.1.0)\n"
     ]
    }
   ],
   "source": [
    "!pip install pillow"
   ]
  },
  {
   "cell_type": "code",
   "execution_count": 17,
   "id": "777fb17a-1bc8-45c6-9b99-1675a5aa172e",
   "metadata": {},
   "outputs": [
    {
     "name": "stdout",
     "output_type": "stream",
     "text": [
      "Requirement already satisfied: opencv-python in c:\\users\\silvan mangold\\appdata\\local\\programs\\python\\python310\\lib\\site-packages (4.8.1.78)\n",
      "Requirement already satisfied: numpy>=1.21.2 in c:\\users\\silvan mangold\\appdata\\local\\programs\\python\\python310\\lib\\site-packages (from opencv-python) (1.26.2)\n"
     ]
    }
   ],
   "source": [
    "!pip install opencv-python"
   ]
  },
  {
   "cell_type": "code",
   "execution_count": 18,
   "id": "6ba4d219-ddb5-4d14-8065-0314a58a05f9",
   "metadata": {},
   "outputs": [
    {
     "name": "stdout",
     "output_type": "stream",
     "text": [
      "Requirement already satisfied: PyOpenGL in c:\\users\\silvan mangold\\appdata\\local\\programs\\python\\python310\\lib\\site-packages (3.1.7)\n"
     ]
    }
   ],
   "source": [
    "!pip install --upgrade PyOpenGL"
   ]
  },
  {
   "cell_type": "code",
   "execution_count": 21,
   "id": "c89c7610-a13d-4901-ab4d-d5fea94f2ece",
   "metadata": {},
   "outputs": [
    {
     "ename": "IndentationError",
     "evalue": "unexpected indent (68168457.py, line 35)",
     "output_type": "error",
     "traceback": [
      "\u001b[1;36m  Cell \u001b[1;32mIn[21], line 35\u001b[1;36m\u001b[0m\n\u001b[1;33m    for i in range(sides + 1):\u001b[0m\n\u001b[1;37m    ^\u001b[0m\n\u001b[1;31mIndentationError\u001b[0m\u001b[1;31m:\u001b[0m unexpected indent\n"
     ]
    }
   ],
   "source": [
    "from OpenGL.GL import *\n",
    "from OpenGL.GLU import *\n",
    "import pygame\n",
    "from pygame.locals import *\n",
    "from PIL import Image\n",
    "import os\n",
    "import uuid\n",
    "from math import pi, sin, cos\n",
    "\n",
    "\n",
    "IMAGES_PATH = os.path.join('Tensorflow', 'workspace', 'images','train')\n",
    "\n",
    "if not os.path.exists(IMAGES_PATH):\n",
    "    if os.name == \"nt\":\n",
    "        !mkdir {IMAGES_PATH}\n",
    "\n",
    "sides = 2\n",
    "\n",
    "height = 5\n",
    "\n",
    "radius = 10\n",
    "\n",
    "colours = ((1,1,1,0.1),(0,0,0,1)) #(\"white\":1,1,1,0 ,\"black\":0,0,0,1)\n",
    "\n",
    "def save_image(imagename):\n",
    "    width,height = 600,600\n",
    "    glPixelStorei(GL_PACK_ALIGNMENT, 1)\n",
    "    data = glReadPixels(0,0, width,height,GL_RGBA,GL_UNSIGNED_BYTE)\n",
    "    circleimage = Image.frombytes(\"RGBA\",(width,height), data)\n",
    "    circleimage = circleimage.convert(\"RGB\")\n",
    "    circleimage = circleimage.transpose(Image.FLIP_TOP_BOTTOM)\n",
    "    circleimage.save(imagename)\n",
    "\n",
    "def Circle():\n",
    "    glBegin(GL_QUAD_STRIP)\n",
    "        for i in range(1,sides + 1):\n",
    "            theta = (2.0 * 3.1415926 * float(i)) / float(sides)\n",
    "            x = radius * cos(theta)\n",
    "            y = radius * sin(theta)\n",
    "        \n",
    "            glVertex3f(x, y, 0.0)\n",
    "            glVertex3f(x, y, height)\n",
    "        \n",
    "    glEnd()\n",
    "    \n",
    "    glBegin(GL_POLYGON)\n",
    "        for i in range(sides + 1):\n",
    "            theta = (2.0 * 3.1415926 * float(i)) / float(sides)\n",
    "            x = radius * cos(theta)\n",
    "            y = radius * sin(theta)\n",
    "        \n",
    "            glVertex3f(x, y, height)\n",
    "        \n",
    "    glEnd()\n",
    "        \n",
    "    glBegin(GL_POLYGON)\n",
    "          for i in range(sides + 1):\n",
    "            theta = (2.0 * 3.1415926 * float(i)) / float(sides)\n",
    "            x = radius * cos(theta)\n",
    "            y = radius * sin(theta)\n",
    "        \n",
    "            glVertex3f(x, y, 0.0)\n",
    "        \n",
    "    glEnd()   \n",
    "def Quadrant():\n",
    "       glBegin(GL_QUADS)\n",
    "       for surface in surfaces:\n",
    "           glColor4f(*colours[0])\n",
    "           for vertex in surface:\n",
    "               glVertex3fv(verticies[vertex])\n",
    "       glEnd()\n",
    "    \n",
    "       glBegin(GL_LINES)\n",
    "       for edge in edges:\n",
    "           glColor4f(0,0,0,0.2)\n",
    "           for vertex in edge:\n",
    "               glVertex3fv(verticies[vertex])\n",
    "       glEnd()\n",
    "\n",
    "def main():\n",
    "    pygame.init()\n",
    "    display = (800,800)\n",
    "    pygame.display.set_mode(display, DOUBLEBUF|OPENGL)\n",
    "    \n",
    "    gluPerspective(100, display[0]/display[1], 0.1, 100)\n",
    "    gluLookAt(0,3,3,0,0,-1,0,0,-1)\n",
    "    glTranslatef(0.0,0.0,-5)\n",
    "    glRotatef(20, 0, -5, 0)\n",
    "    glClearColor(0.9,0.9,0.9,1)\n",
    "    \n",
    "    glEnable(GL_BLEND)\n",
    "    glBlendFunc(GL_SRC_ALPHA, GL_ONE_MINUS_SRC_ALPHA)\n",
    "    glClear(GL_COLOR_BUFFER_BIT|GL_DEPTH_BUFFER_BIT)\n",
    "\n",
    "\"\"\"\n",
    "    x = 0\n",
    "\n",
    "    while x==1:\n",
    "        x = x + 1\n",
    "        Circle()\n",
    "        pygame.display.flip()\n",
    "        filename = os.path.join(IMAGES_PATH, str(uuid.uuid1()) + '.jpg')\n",
    "        save_image(filename)\"\"\"\n",
    "main()"
   ]
  },
  {
   "cell_type": "code",
   "execution_count": 1,
   "id": "bca0c5b4-7a4a-4d1a-b9a6-3412f4d773e6",
   "metadata": {},
   "outputs": [
    {
     "name": "stdout",
     "output_type": "stream",
     "text": [
      "pygame 2.5.2 (SDL 2.28.3, Python 3.10.8)\n",
      "Hello from the pygame community. https://www.pygame.org/contribute.html\n"
     ]
    }
   ],
   "source": [
    "import pygame\n",
    "from pygame.locals import *\n",
    "from OpenGL.GL import *\n",
    "from OpenGL.GLU import *\n",
    "import math\n",
    "import sys\n",
    "\n",
    "colours = ((1,1,1,1),(0,0,0,1),(0,1,0,1),(1,0,0,1)) #(\"white\":1,1,1,0 ,\"black\":0,0,0,1)\n",
    "\n",
    "def draw_cylinder(radius, height, num_slices):\n",
    "    r = radius\n",
    "    h = height\n",
    "    n = float(num_slices)\n",
    "\n",
    "    circle_pts = []\n",
    "    for i in range(int(n) + 1):\n",
    "        angle = 4/3 * math.pi * (i/n)\n",
    "        x = r * math.cos(angle)\n",
    "        y = r * math.sin(angle)\n",
    "        pt = (x, y)\n",
    "        circle_pts.append(pt)\n",
    "\n",
    "    glBegin(GL_TRIANGLE_FAN)#drawing the back circle\n",
    "    glColor4f(*colours[1])\n",
    "    glVertex(0, 0, h)\n",
    "    for (x, y) in circle_pts:\n",
    "        z = 0\n",
    "        glVertex(x, y, z)\n",
    "    glEnd()\n",
    "\n",
    "    glBegin(GL_TRIANGLE_STRIP)#draw the tube\n",
    "    glColor4f(*colours[3])\n",
    "    for (x, y) in circle_pts:\n",
    "        z = h\n",
    "        glVertex(x, y, z)\n",
    "        glVertex(x, y, -z)\n",
    "    glEnd()\n",
    "\n",
    "def main():\n",
    "\n",
    "    pygame.init()\n",
    "    display = (800,800)\n",
    "    pygame.display.set_mode(display, DOUBLEBUF|OPENGL)\n",
    "\n",
    "    gluPerspective(100, display[0]/display[1], 0.1, 100)\n",
    "    gluLookAt(0,3,3,0,0,-1,0,0,-1)\n",
    "    glTranslatef(0.0,0.0,-5)\n",
    "    glRotatef(20, 0, -5, 0)\n",
    "    glClearColor(0.9,0.9,0.9,1)\n",
    "    \n",
    "    glEnable(GL_BLEND)\n",
    "    glBlendFunc(GL_SRC_ALPHA, GL_ONE_MINUS_SRC_ALPHA)\n",
    "    glClear(GL_COLOR_BUFFER_BIT|GL_DEPTH_BUFFER_BIT)\n",
    "\n",
    "\n",
    "    draw_cylinder(2,1, 100)\n",
    "    pygame.display.flip()\n",
    "\n",
    "main()"
   ]
  },
  {
   "cell_type": "code",
   "execution_count": null,
   "id": "22b20487-b8e2-4fd0-a6d7-e9a86102a9d3",
   "metadata": {},
   "outputs": [],
   "source": []
  }
 ],
 "metadata": {
  "kernelspec": {
   "display_name": "Python 3 (ipykernel)",
   "language": "python",
   "name": "python3"
  },
  "language_info": {
   "codemirror_mode": {
    "name": "ipython",
    "version": 3
   },
   "file_extension": ".py",
   "mimetype": "text/x-python",
   "name": "python",
   "nbconvert_exporter": "python",
   "pygments_lexer": "ipython3",
   "version": "3.10.8"
  }
 },
 "nbformat": 4,
 "nbformat_minor": 5
}

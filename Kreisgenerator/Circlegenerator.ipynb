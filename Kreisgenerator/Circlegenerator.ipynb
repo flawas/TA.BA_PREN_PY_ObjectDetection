{
 "cells": [
  {
   "cell_type": "markdown",
   "id": "4885d689-8082-406a-a838-4b7067999f0b",
   "metadata": {},
   "source": [
    "# Kreismodell erstellen\n"
   ]
  },
  {
   "cell_type": "code",
   "execution_count": 1,
   "id": "e5535072-2053-4a73-a2f5-4af82a0c9446",
   "metadata": {},
   "outputs": [
    {
     "name": "stdout",
     "output_type": "stream",
     "text": [
      "Requirement already satisfied: pygame in c:\\users\\silvan mangold\\appdata\\local\\programs\\python\\python310\\lib\\site-packages (2.5.2)\n"
     ]
    }
   ],
   "source": [
    "!pip install pygame"
   ]
  },
  {
   "cell_type": "code",
   "execution_count": 2,
   "id": "672f9883-a544-4572-9e54-3d0d125003d1",
   "metadata": {},
   "outputs": [
    {
     "name": "stdout",
     "output_type": "stream",
     "text": [
      "Requirement already satisfied: pyopengl in c:\\users\\silvan mangold\\appdata\\local\\programs\\python\\python310\\lib\\site-packages (3.1.7)\n"
     ]
    }
   ],
   "source": [
    "!pip install pyopengl"
   ]
  },
  {
   "cell_type": "code",
   "execution_count": 3,
   "id": "14960534-f66b-4421-8cf5-1122bab35fe6",
   "metadata": {},
   "outputs": [
    {
     "name": "stdout",
     "output_type": "stream",
     "text": [
      "Requirement already satisfied: pillow in c:\\users\\silvan mangold\\appdata\\local\\programs\\python\\python310\\lib\\site-packages (10.1.0)\n"
     ]
    }
   ],
   "source": [
    "!pip install pillow"
   ]
  },
  {
   "cell_type": "code",
   "execution_count": 4,
   "id": "777fb17a-1bc8-45c6-9b99-1675a5aa172e",
   "metadata": {},
   "outputs": [
    {
     "name": "stdout",
     "output_type": "stream",
     "text": [
      "Requirement already satisfied: opencv-python in c:\\users\\silvan mangold\\appdata\\local\\programs\\python\\python310\\lib\\site-packages (4.8.1.78)\n",
      "Requirement already satisfied: numpy>=1.21.2 in c:\\users\\silvan mangold\\appdata\\local\\programs\\python\\python310\\lib\\site-packages (from opencv-python) (1.26.2)\n"
     ]
    }
   ],
   "source": [
    "!pip install opencv-python"
   ]
  },
  {
   "cell_type": "code",
   "execution_count": 5,
   "id": "6ba4d219-ddb5-4d14-8065-0314a58a05f9",
   "metadata": {},
   "outputs": [
    {
     "name": "stdout",
     "output_type": "stream",
     "text": [
      "Requirement already satisfied: PyOpenGL in c:\\users\\silvan mangold\\appdata\\local\\programs\\python\\python310\\lib\\site-packages (3.1.7)\n"
     ]
    }
   ],
   "source": [
    "!pip install --upgrade PyOpenGL"
   ]
  },
  {
   "cell_type": "code",
   "execution_count": 73,
   "id": "22b20487-b8e2-4fd0-a6d7-e9a86102a9d3",
   "metadata": {},
   "outputs": [
    {
     "ename": "SystemExit",
     "evalue": "",
     "output_type": "error",
     "traceback": [
      "An exception has occurred, use %tb to see the full traceback.\n",
      "\u001b[1;31mSystemExit\u001b[0m\n"
     ]
    }
   ],
   "source": [
    "import pygame\n",
    "from pygame.locals import *\n",
    "from OpenGL.GL import *\n",
    "from OpenGL.GLU import *\n",
    "import math\n",
    "import sys\n",
    "\n",
    "colours = ((1,1,1),(0,0,0)) # (\"White\":1,1,1, \"Black\":0,0,0)\n",
    "\n",
    "def draw_cylinder(radius, height, num_slices):\n",
    "    r = radius\n",
    "    h = height\n",
    "    n = float(num_slices)\n",
    "\n",
    "    circle_pts1 = []\n",
    "    circle_pts2 = []\n",
    "    for i in range(int(n) + 1):\n",
    "        angle1 = 3/2 * math.pi * (i/n)\n",
    "        angle2 = -1/2 * math.pi * (i/n)\n",
    "        x = r * math.cos(angle1)\n",
    "        y = r * math.sin(angle1)\n",
    "        u = r * math.cos(angle2)\n",
    "        v = r * math.sin(angle2)\n",
    "        pt1 = (x, y)\n",
    "        pt2 = (u, v)\n",
    "        circle_pts1.append(pt1)\n",
    "        circle_pts2.append(pt2)\n",
    "\n",
    "    glBegin(GL_TRIANGLE_FAN)# Black back circle\n",
    "    glColor3f(*colours[1]) # Black\n",
    "    glVertex(0, 0, h/2.0)\n",
    "    for (x, y) in circle_pts1:\n",
    "        z = h/2.0\n",
    "        glVertex(x, y, z)\n",
    "    glEnd()\n",
    "\n",
    "    glBegin(GL_TRIANGLE_FAN)# Black front circle\n",
    "    glColor3f(*colours[1]) # Black\n",
    "    glVertex(0, 0, -h/2.0)\n",
    "    for (x, y) in circle_pts1:\n",
    "        z = h/2.0\n",
    "        glVertex(x, y, -z)\n",
    "    glEnd()\n",
    "\n",
    "    glBegin(GL_TRIANGLE_STRIP)# Black Tube\n",
    "    glColor3f(*colours[1]) # Black\n",
    "    for (x, y) in circle_pts1:\n",
    "        z = h/2.0\n",
    "        glVertex(x, y, z)\n",
    "        glVertex(x, y, -z)\n",
    "    glEnd()\n",
    "\n",
    "    glBegin(GL_TRIANGLE_FAN)# Black back circle\n",
    "    glColor3f(*colours[1]) # Black\n",
    "    glVertex(0, 0, h/2.0)\n",
    "    for (u, v) in circle_pts2:\n",
    "        w = h/2.0\n",
    "        glVertex(u, v, w)\n",
    "    glEnd()\n",
    "\n",
    "    glBegin(GL_TRIANGLE_FAN)# White front circle\n",
    "    glColor3f(*colours[0]) # White\n",
    "    glVertex(0, 0, -h/2.0)\n",
    "    for (u, v) in circle_pts2:\n",
    "        w = h/2.0\n",
    "        glVertex(u, v, -w)\n",
    "    glEnd()\n",
    "\n",
    "    glBegin(GL_TRIANGLE_STRIP)# Black Tube\n",
    "    glColor3f(*colours[1]) # Black\n",
    "    for (u, v) in circle_pts2:\n",
    "        w = h/2.0\n",
    "        glVertex(u, v, w)\n",
    "        glVertex(u, v, -w)\n",
    "    glEnd()\n",
    "\n",
    "pygame.init()\n",
    "display = (800,800)\n",
    "screen = pygame.display.set_mode((width, height), OPENGL | DOUBLEBUF)\n",
    "clock = pygame.time.Clock()\n",
    "rotation = 0.0\n",
    "\n",
    "while True:\n",
    "    for event in pygame.event.get():\n",
    "        if event.type == pygame.QUIT:\n",
    "            pygame.quit()\n",
    "            sys.exit()\n",
    "\n",
    "    rotation -= 1.0\n",
    "    glClear(GL_COLOR_BUFFER_BIT)\n",
    "    glClear(GL_DEPTH_BUFFER_BIT)\n",
    "    glEnable(GL_DEPTH_TEST)\n",
    "\n",
    "    glMatrixMode(GL_PROJECTION)\n",
    "    glLoadIdentity()\n",
    "    gluPerspective(100, display[0]/display[1], 10, 100)\n",
    "    glMatrixMode(GL_MODELVIEW)\n",
    "    glLoadIdentity()\n",
    "    gluLookAt(-10,-10,0,0,0,20,0,0,-1)\n",
    "    glTranslatef(0.0,0.0,15)\n",
    "    glClearColor(0.9,0.9,0.9,1)\n",
    "    glRotate(rotation,0, 0, 1)# NOTE: this is applied BEFORE the translation due to OpenGL multiply order\n",
    "\n",
    "    draw_cylinder(5, 2, 50)\n",
    "    pygame.display.flip()\n",
    "    clock.tick(60)"
   ]
  },
  {
   "cell_type": "code",
   "execution_count": null,
   "id": "ee84012a-2a21-429e-8030-0678e4e0e060",
   "metadata": {},
   "outputs": [],
   "source": []
  },
  {
   "cell_type": "code",
   "execution_count": null,
   "id": "211d9a17-f4c7-4978-9942-c004912d1ff9",
   "metadata": {},
   "outputs": [],
   "source": []
  }
 ],
 "metadata": {
  "kernelspec": {
   "display_name": "Python 3 (ipykernel)",
   "language": "python",
   "name": "python3"
  },
  "language_info": {
   "codemirror_mode": {
    "name": "ipython",
    "version": 3
   },
   "file_extension": ".py",
   "mimetype": "text/x-python",
   "name": "python",
   "nbconvert_exporter": "python",
   "pygments_lexer": "ipython3",
   "version": "3.10.8"
  }
 },
 "nbformat": 4,
 "nbformat_minor": 5
}

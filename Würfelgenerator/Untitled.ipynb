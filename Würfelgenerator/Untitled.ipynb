{
 "cells": [
  {
   "cell_type": "markdown",
   "id": "4885d689-8082-406a-a838-4b7067999f0b",
   "metadata": {},
   "source": [
    "# Kreismodell erstellen\n"
   ]
  },
  {
   "cell_type": "code",
   "execution_count": 1,
   "id": "e5535072-2053-4a73-a2f5-4af82a0c9446",
   "metadata": {},
   "outputs": [
    {
     "name": "stdout",
     "output_type": "stream",
     "text": [
      "Requirement already satisfied: pygame in c:\\users\\silvan mangold\\appdata\\local\\programs\\python\\python310\\lib\\site-packages (2.5.2)\n"
     ]
    },
    {
     "name": "stderr",
     "output_type": "stream",
     "text": [
      "\n",
      "[notice] A new release of pip available: 22.2.2 -> 23.3.1\n",
      "[notice] To update, run: python.exe -m pip install --upgrade pip\n"
     ]
    }
   ],
   "source": [
    "!pip install pygame"
   ]
  },
  {
   "cell_type": "code",
   "execution_count": 2,
   "id": "672f9883-a544-4572-9e54-3d0d125003d1",
   "metadata": {},
   "outputs": [
    {
     "name": "stdout",
     "output_type": "stream",
     "text": [
      "Requirement already satisfied: pyopengl in c:\\users\\silvan mangold\\appdata\\local\\programs\\python\\python310\\lib\\site-packages (3.1.7)\n"
     ]
    },
    {
     "name": "stderr",
     "output_type": "stream",
     "text": [
      "\n",
      "[notice] A new release of pip available: 22.2.2 -> 23.3.1\n",
      "[notice] To update, run: python.exe -m pip install --upgrade pip\n"
     ]
    }
   ],
   "source": [
    "!pip install pyopengl"
   ]
  },
  {
   "cell_type": "code",
   "execution_count": 3,
   "id": "14960534-f66b-4421-8cf5-1122bab35fe6",
   "metadata": {},
   "outputs": [
    {
     "name": "stdout",
     "output_type": "stream",
     "text": [
      "Requirement already satisfied: pillow in c:\\users\\silvan mangold\\appdata\\local\\programs\\python\\python310\\lib\\site-packages (10.1.0)\n"
     ]
    },
    {
     "name": "stderr",
     "output_type": "stream",
     "text": [
      "\n",
      "[notice] A new release of pip available: 22.2.2 -> 23.3.1\n",
      "[notice] To update, run: python.exe -m pip install --upgrade pip\n"
     ]
    }
   ],
   "source": [
    "!pip install pillow"
   ]
  },
  {
   "cell_type": "code",
   "execution_count": 4,
   "id": "777fb17a-1bc8-45c6-9b99-1675a5aa172e",
   "metadata": {},
   "outputs": [
    {
     "name": "stdout",
     "output_type": "stream",
     "text": [
      "Requirement already satisfied: opencv-python in c:\\users\\silvan mangold\\appdata\\local\\programs\\python\\python310\\lib\\site-packages (4.8.1.78)\n",
      "Requirement already satisfied: numpy>=1.17.0 in c:\\users\\silvan mangold\\appdata\\local\\programs\\python\\python310\\lib\\site-packages (from opencv-python) (1.26.2)\n"
     ]
    },
    {
     "name": "stderr",
     "output_type": "stream",
     "text": [
      "\n",
      "[notice] A new release of pip available: 22.2.2 -> 23.3.1\n",
      "[notice] To update, run: python.exe -m pip install --upgrade pip\n"
     ]
    }
   ],
   "source": [
    "!pip install opencv-python"
   ]
  },
  {
   "cell_type": "code",
   "execution_count": 5,
   "id": "6ba4d219-ddb5-4d14-8065-0314a58a05f9",
   "metadata": {},
   "outputs": [
    {
     "name": "stdout",
     "output_type": "stream",
     "text": [
      "Requirement already satisfied: PyOpenGL in c:\\users\\silvan mangold\\appdata\\local\\programs\\python\\python310\\lib\\site-packages (3.1.7)\n"
     ]
    },
    {
     "name": "stderr",
     "output_type": "stream",
     "text": [
      "\n",
      "[notice] A new release of pip available: 22.2.2 -> 23.3.1\n",
      "[notice] To update, run: python.exe -m pip install --upgrade pip\n"
     ]
    }
   ],
   "source": [
    "!pip install --upgrade PyOpenGL"
   ]
  },
  {
   "cell_type": "code",
   "execution_count": null,
   "id": "c89c7610-a13d-4901-ab4d-d5fea94f2ece",
   "metadata": {},
   "outputs": [],
   "source": [
    "from OpenGL.GL import *\n",
    "from OpenGL.GLU import *\n",
    "import pygame\n",
    "from pygame.locals import *\n",
    "from PIL import Image\n",
    "import os\n",
    "import uuid\n",
    "\n",
    "\n",
    "IMAGES_PATH = os.path.join('Tensorflow', 'workspace', 'images','train')\n",
    "\n",
    "if not os.path.exists(IMAGES_PATH):\n",
    "    if os.name == \"nt\":\n",
    "        !mkdir {IMAGES_PATH}\n",
    "\n",
    "verticies = ((1,-1,-1,),(1,1,-1),(-1,1,-1),(-1,-1,-1),(1,-1,1),(1,1,1),(-1,-1,1),(-1,1,1))\n",
    "\n",
    "edges = ((0,1),(0,3),(0,4),(2,1),(2,3),(2,7),(6,3),(6,4),(6,7),(5,1),(5,4),(5,7))\n",
    "\n",
    "surfaces = ((0,1,2,3),(3,2,7,6),(6,7,5,4),(4,5,1,0),(1,5,7,2),(4,0,3,6))\n",
    "\n",
    "colours = ((1,1,1,0.1),(0,0,0,1)) #(\"nothing\":1,1,1,,0 \"black\":0,0,0,1)\n",
    "\n",
    "def save_image(imagename):\n",
    "    width,height = 600,600\n",
    "    glPixelStorei(GL_PACK_ALIGNMENT, 1)\n",
    "    data = glReadPixels(0,0, width,height,GL_RGBA,GL_UNSIGNED_BYTE)\n",
    "    cubeimage = Image.frombytes(\"RGBA\",(width,height), data)\n",
    "    cubeimage = cubeimage.convert(\"RGB\")\n",
    "    cubeimage = cubeimage.transpose(Image.FLIP_TOP_BOTTOM)\n",
    "    cubeimage.save(imagename)\n",
    "\n",
    "def Circle(ColorCube1):\n",
    "       glBegin(GL_QUADS)\n",
    "       for surface in surfaces:\n",
    "           glColor4f(*colours[1])\n",
    "           for vertex in surface:\n",
    "               glVertex3fv(verticies[vertex])\n",
    "       glEnd()\n",
    "    \n",
    "       glBegin(GL_LINES)\n",
    "       for edge in edges:\n",
    "           glColor4f(0,0,0,0.2)\n",
    "           for vertex in edge:\n",
    "               glVertex3fv(verticies[vertex])\n",
    "       glEnd()\n",
    "    \n",
    "def Cube2(ColorCube2):\n",
    "       glBegin(GL_QUADS)\n",
    "       for surface in surfaces:\n",
    "           glColor4f(*colours[ColorCube2])\n",
    "           for vertex in surface:\n",
    "               glVertex3fv(verticies[vertex])\n",
    "       glEnd()\n",
    "    \n",
    "       glBegin(GL_LINES)\n",
    "       for edge in edges:\n",
    "           glColor4f(0,0,0,0.2)\n",
    "           for vertex in edge:\n",
    "               glVertex3fv(verticies[vertex])\n",
    "       glEnd()\n",
    "\n",
    "\n",
    "def main():\n",
    "    pygame.init()\n",
    "    display = (800,800)\n",
    "    pygame.display.set_mode(display, DOUBLEBUF|OPENGL)\n",
    "    \n",
    "    gluPerspective(100, display[0]/display[1], 0.1, 100)\n",
    "    gluLookAt(0,3,3,0,0,-1,0,0,-1)\n",
    "    glTranslatef(0.0,0.0,-5)\n",
    "    glRotatef(20, 0, -5, 0)\n",
    "    glClearColor(0.9,0.9,0.9,1)\n",
    "    \n",
    "    glEnable(GL_BLEND)\n",
    "    glBlendFunc(GL_SRC_ALPHA, GL_ONE_MINUS_SRC_ALPHA)\n",
    "    glClear(GL_COLOR_BUFFER_BIT|GL_DEPTH_BUFFER_BIT)\n",
    "\n",
    "    x = 0\n",
    "    \n",
    "    for x in range(len(result)):\n",
    "        glClear(GL_COLOR_BUFFER_BIT|GL_DEPTH_BUFFER_BIT)\n",
    "        cube = result[x]\n",
    "        ColorCube1 = cube[0]\n",
    "        ColorCube2 = cube[1]\n",
    "        ColorCube3 = cube[2]\n",
    "        ColorCube4 = cube[3]\n",
    "        x = x + 1 \n",
    "        glPushMatrix()\n",
    "        glTranslatef(-1,-1,1)\n",
    "        Cube1(ColorCube1)\n",
    "        glPopMatrix()\n",
    "        glPushMatrix()\n",
    "        glTranslatef(1,-1,1)\n",
    "        Cube2(ColorCube2)\n",
    "        glPopMatrix()\n",
    "        glPushMatrix()\n",
    "        glTranslatef(-1,1,1)\n",
    "        Cube3(ColorCube3)\n",
    "        glPopMatrix()\n",
    "        glPushMatrix()\n",
    "        glTranslatef(1,1,1)\n",
    "        Cube4(ColorCube4)\n",
    "        glPopMatrix()\n",
    "        pygame.display.flip()\n",
    "        filename = os.path.join(IMAGES_PATH, str(uuid.uuid1()) + '.jpg')\n",
    "        save_image(filename)\n",
    "main()"
   ]
  }
 ],
 "metadata": {
  "kernelspec": {
   "display_name": "Python 3 (ipykernel)",
   "language": "python",
   "name": "python3"
  },
  "language_info": {
   "codemirror_mode": {
    "name": "ipython",
    "version": 3
   },
   "file_extension": ".py",
   "mimetype": "text/x-python",
   "name": "python",
   "nbconvert_exporter": "python",
   "pygments_lexer": "ipython3",
   "version": "3.10.8"
  }
 },
 "nbformat": 4,
 "nbformat_minor": 5
}

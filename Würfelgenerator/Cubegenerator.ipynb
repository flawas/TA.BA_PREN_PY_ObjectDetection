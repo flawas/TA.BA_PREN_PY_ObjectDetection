{
 "cells": [
  {
   "cell_type": "markdown",
   "id": "20462d81",
   "metadata": {},
   "source": [
    "# Würfelmodell erstellen"
   ]
  },
  {
   "cell_type": "code",
   "execution_count": 1,
   "id": "afa41e43-4fe3-4849-a1a0-fb1a5b0da267",
   "metadata": {},
   "outputs": [
    {
     "name": "stdout",
     "output_type": "stream",
     "text": [
      "Collecting pygame\n",
      "  Downloading pygame-2.5.2-cp39-cp39-win_amd64.whl (10.8 MB)\n",
      "     ---------------------------------------- 10.8/10.8 MB 2.6 MB/s eta 0:00:00\n",
      "Installing collected packages: pygame\n",
      "Successfully installed pygame-2.5.2\n"
     ]
    }
   ],
   "source": [
    "!pip install pygame"
   ]
  },
  {
   "cell_type": "code",
   "execution_count": 2,
   "id": "27dcac67-7d76-48e2-8cbe-6343e258f1c2",
   "metadata": {},
   "outputs": [
    {
     "name": "stdout",
     "output_type": "stream",
     "text": [
      "Collecting pyopengl\n",
      "  Downloading PyOpenGL-3.1.7-py3-none-any.whl (2.4 MB)\n",
      "     ---------------------------------------- 2.4/2.4 MB 3.9 MB/s eta 0:00:00\n",
      "Installing collected packages: pyopengl\n",
      "Successfully installed pyopengl-3.1.7\n"
     ]
    }
   ],
   "source": [
    "!pip install pyopengl"
   ]
  },
  {
   "cell_type": "code",
   "execution_count": 3,
   "id": "0fadaee5-f6ff-44a4-bab6-572ce24b433a",
   "metadata": {},
   "outputs": [
    {
     "name": "stdout",
     "output_type": "stream",
     "text": [
      "Requirement already satisfied: pillow in c:\\users\\julia\\anaconda3\\lib\\site-packages (9.2.0)\n"
     ]
    }
   ],
   "source": [
    "!pip install pillow"
   ]
  },
  {
   "cell_type": "code",
   "execution_count": 4,
   "id": "37b0387d-f01b-4e42-9b90-25bff5048754",
   "metadata": {},
   "outputs": [
    {
     "name": "stdout",
     "output_type": "stream",
     "text": [
      "Collecting opencv-python\n",
      "  Downloading opencv_python-4.9.0.80-cp37-abi3-win_amd64.whl (38.6 MB)\n",
      "     ---------------------------------------- 38.6/38.6 MB 3.2 MB/s eta 0:00:00\n",
      "Requirement already satisfied: numpy>=1.19.3 in c:\\users\\julia\\anaconda3\\lib\\site-packages (from opencv-python) (1.21.5)\n",
      "Installing collected packages: opencv-python\n",
      "Successfully installed opencv-python-4.9.0.80\n"
     ]
    }
   ],
   "source": [
    "!pip install opencv-python"
   ]
  },
  {
   "cell_type": "code",
   "execution_count": 5,
   "id": "86b49fbd-0552-4666-86e6-16d1307979f8",
   "metadata": {},
   "outputs": [
    {
     "name": "stdout",
     "output_type": "stream",
     "text": [
      "Requirement already satisfied: PyOpenGL in c:\\users\\julia\\anaconda3\\lib\\site-packages (3.1.7)\n"
     ]
    }
   ],
   "source": [
    "!pip install --upgrade PyOpenGL"
   ]
  },
  {
   "cell_type": "code",
   "execution_count": 6,
   "id": "37e3d0cb",
   "metadata": {},
   "outputs": [],
   "source": [
    "def generate_options(Colours,Cubes, prefix=None, results=None):\n",
    "\n",
    "    if prefix is None:\n",
    "        prefix = []\n",
    "    if results is None:\n",
    "        results = []\n",
    "        \n",
    "    if Cubes == 0:\n",
    "        results.append(prefix)\n",
    "        return\n",
    "        \n",
    "    for Colour in Colours:\n",
    "        new_prefix = prefix + [Colour]\n",
    "        generate_options(Colours, Cubes - 1, new_prefix, results)\n",
    "        \n",
    "    return results\n",
    "\n",
    "Colours = [0,1,2,3]\n",
    "Cubes = 4\n",
    "result = generate_options(Colours,Cubes)\n",
    "\n",
    "x = 0\n",
    "\n",
    "while x < len(result):\n",
    "    cube = result[x]\n",
    "    ColorCube1 = cube[0]\n",
    "    ColorCube2 = cube[1]\n",
    "    ColorCube3 = cube[2]\n",
    "    ColorCube4 = cube[3]\n",
    "    x = x + 1"
   ]
  },
  {
   "cell_type": "code",
   "execution_count": 8,
   "id": "c0d2b536-d21d-48be-938a-ddbfd211a51b",
   "metadata": {},
   "outputs": [
    {
     "name": "stderr",
     "output_type": "stream",
     "text": [
      "C:\\Users\\julia\\AppData\\Local\\Temp\\ipykernel_20304\\643725756.py:30: DeprecationWarning: FLIP_TOP_BOTTOM is deprecated and will be removed in Pillow 10 (2023-07-01). Use Transpose.FLIP_TOP_BOTTOM instead.\n",
      "  cubeimage = cubeimage.transpose(Image.FLIP_TOP_BOTTOM)\n"
     ]
    },
    {
     "ename": "IndexError",
     "evalue": "tuple index out of range",
     "output_type": "error",
     "traceback": [
      "\u001b[1;31m---------------------------------------------------------------------------\u001b[0m",
      "\u001b[1;31mIndexError\u001b[0m                                Traceback (most recent call last)",
      "\u001b[1;32m~\\AppData\\Local\\Temp\\ipykernel_20304\\643725756.py\u001b[0m in \u001b[0;36m<module>\u001b[1;34m\u001b[0m\n\u001b[0;32m    137\u001b[0m         \u001b[0mfilename\u001b[0m \u001b[1;33m=\u001b[0m \u001b[0mos\u001b[0m\u001b[1;33m.\u001b[0m\u001b[0mpath\u001b[0m\u001b[1;33m.\u001b[0m\u001b[0mjoin\u001b[0m\u001b[1;33m(\u001b[0m\u001b[0mIMAGES_PATH\u001b[0m\u001b[1;33m,\u001b[0m \u001b[0mstr\u001b[0m\u001b[1;33m(\u001b[0m\u001b[0muuid\u001b[0m\u001b[1;33m.\u001b[0m\u001b[0muuid1\u001b[0m\u001b[1;33m(\u001b[0m\u001b[1;33m)\u001b[0m\u001b[1;33m)\u001b[0m \u001b[1;33m+\u001b[0m \u001b[1;34m'.jpg'\u001b[0m\u001b[1;33m)\u001b[0m\u001b[1;33m\u001b[0m\u001b[1;33m\u001b[0m\u001b[0m\n\u001b[0;32m    138\u001b[0m         \u001b[0msave_image\u001b[0m\u001b[1;33m(\u001b[0m\u001b[0mfilename\u001b[0m\u001b[1;33m)\u001b[0m\u001b[1;33m\u001b[0m\u001b[1;33m\u001b[0m\u001b[0m\n\u001b[1;32m--> 139\u001b[1;33m \u001b[0mmain\u001b[0m\u001b[1;33m(\u001b[0m\u001b[1;33m)\u001b[0m\u001b[1;33m\u001b[0m\u001b[1;33m\u001b[0m\u001b[0m\n\u001b[0m",
      "\u001b[1;32m~\\AppData\\Local\\Temp\\ipykernel_20304\\643725756.py\u001b[0m in \u001b[0;36mmain\u001b[1;34m()\u001b[0m\n\u001b[0;32m    132\u001b[0m         \u001b[0mglPushMatrix\u001b[0m\u001b[1;33m(\u001b[0m\u001b[1;33m)\u001b[0m\u001b[1;33m\u001b[0m\u001b[1;33m\u001b[0m\u001b[0m\n\u001b[0;32m    133\u001b[0m         \u001b[0mglTranslatef\u001b[0m\u001b[1;33m(\u001b[0m\u001b[1;36m1\u001b[0m\u001b[1;33m,\u001b[0m\u001b[1;36m1\u001b[0m\u001b[1;33m,\u001b[0m\u001b[1;36m1\u001b[0m\u001b[1;33m)\u001b[0m\u001b[1;33m\u001b[0m\u001b[1;33m\u001b[0m\u001b[0m\n\u001b[1;32m--> 134\u001b[1;33m         \u001b[0mCube4\u001b[0m\u001b[1;33m(\u001b[0m\u001b[0mColorCube4\u001b[0m\u001b[1;33m)\u001b[0m\u001b[1;33m\u001b[0m\u001b[1;33m\u001b[0m\u001b[0m\n\u001b[0m\u001b[0;32m    135\u001b[0m         \u001b[0mglPopMatrix\u001b[0m\u001b[1;33m(\u001b[0m\u001b[1;33m)\u001b[0m\u001b[1;33m\u001b[0m\u001b[1;33m\u001b[0m\u001b[0m\n\u001b[0;32m    136\u001b[0m         \u001b[0mpygame\u001b[0m\u001b[1;33m.\u001b[0m\u001b[0mdisplay\u001b[0m\u001b[1;33m.\u001b[0m\u001b[0mflip\u001b[0m\u001b[1;33m(\u001b[0m\u001b[1;33m)\u001b[0m\u001b[1;33m\u001b[0m\u001b[1;33m\u001b[0m\u001b[0m\n",
      "\u001b[1;32m~\\AppData\\Local\\Temp\\ipykernel_20304\\643725756.py\u001b[0m in \u001b[0;36mCube4\u001b[1;34m(ColorCube4)\u001b[0m\n\u001b[0;32m     80\u001b[0m        \u001b[0mglBegin\u001b[0m\u001b[1;33m(\u001b[0m\u001b[0mGL_QUADS\u001b[0m\u001b[1;33m)\u001b[0m\u001b[1;33m\u001b[0m\u001b[1;33m\u001b[0m\u001b[0m\n\u001b[0;32m     81\u001b[0m        \u001b[1;32mfor\u001b[0m \u001b[0msurface\u001b[0m \u001b[1;32min\u001b[0m \u001b[0msurfaces\u001b[0m\u001b[1;33m:\u001b[0m\u001b[1;33m\u001b[0m\u001b[1;33m\u001b[0m\u001b[0m\n\u001b[1;32m---> 82\u001b[1;33m            \u001b[0mglColor4f\u001b[0m\u001b[1;33m(\u001b[0m\u001b[1;33m*\u001b[0m\u001b[0mcolours\u001b[0m\u001b[1;33m[\u001b[0m\u001b[0mColorCube4\u001b[0m\u001b[1;33m]\u001b[0m\u001b[1;33m)\u001b[0m\u001b[1;33m\u001b[0m\u001b[1;33m\u001b[0m\u001b[0m\n\u001b[0m\u001b[0;32m     83\u001b[0m            \u001b[1;32mfor\u001b[0m \u001b[0mvertex\u001b[0m \u001b[1;32min\u001b[0m \u001b[0msurface\u001b[0m\u001b[1;33m:\u001b[0m\u001b[1;33m\u001b[0m\u001b[1;33m\u001b[0m\u001b[0m\n\u001b[0;32m     84\u001b[0m                \u001b[0mglVertex3fv\u001b[0m\u001b[1;33m(\u001b[0m\u001b[0mverticies\u001b[0m\u001b[1;33m[\u001b[0m\u001b[0mvertex\u001b[0m\u001b[1;33m]\u001b[0m\u001b[1;33m)\u001b[0m\u001b[1;33m\u001b[0m\u001b[1;33m\u001b[0m\u001b[0m\n",
      "\u001b[1;31mIndexError\u001b[0m: tuple index out of range"
     ]
    }
   ],
   "source": [
    "from OpenGL.GL import *\n",
    "from OpenGL.GLU import *\n",
    "import pygame\n",
    "from pygame.locals import *\n",
    "from PIL import Image\n",
    "import os\n",
    "import uuid\n",
    "\n",
    "\n",
    "IMAGES_PATH = os.path.join('Tensorflow', 'workspace', 'images','train')\n",
    "\n",
    "if not os.path.exists(IMAGES_PATH):\n",
    "    if os.name == \"nt\":\n",
    "        !mkdir {IMAGES_PATH}\n",
    "\n",
    "verticies = ((1,-1,-1,),(1,1,-1),(-1,1,-1),(-1,-1,-1),(1,-1,1),(1,1,1),(-1,-1,1),(-1,1,1))\n",
    "\n",
    "edges = ((0,1),(0,3),(0,4),(2,1),(2,3),(2,7),(6,3),(6,4),(6,7),(5,1),(5,4),(5,7))\n",
    "\n",
    "surfaces = ((0,1,2,3),(3,2,7,6),(6,7,5,4),(4,5,1,0),(1,5,7,2),(4,0,3,6))\n",
    "\n",
    "colours = ((1,1,1,0.1),(1,0,0,1),(0,0,1,1),(1,1,0,1)) #(\"nothing\":1,1,1,,0 \"red\":1,0,0,1 \"blue\":0,0,1,1 \"yellow\":1,1,0,1)\n",
    "\n",
    "def save_image(imagename):\n",
    "    width,height = 800,800\n",
    "    glPixelStorei(GL_PACK_ALIGNMENT, 1)\n",
    "    data = glReadPixels(0,0, width,height,GL_RGBA,GL_UNSIGNED_BYTE)\n",
    "    cubeimage = Image.frombytes(\"RGBA\",(width,height), data)\n",
    "    cubeimage = cubeimage.convert(\"RGB\")\n",
    "    cubeimage = cubeimage.transpose(Image.FLIP_TOP_BOTTOM)\n",
    "    cubeimage.save(imagename)\n",
    "\n",
    "def Cube1(ColorCube1):\n",
    "       glBegin(GL_QUADS)\n",
    "       for surface in surfaces:\n",
    "           glColor4f(*colours[ColorCube1])\n",
    "           for vertex in surface:\n",
    "               glVertex3fv(verticies[vertex])\n",
    "       glEnd()\n",
    "    \n",
    "       glBegin(GL_LINES)\n",
    "       for edge in edges:\n",
    "           glColor4f(0,0,0,0.2)\n",
    "           for vertex in edge:\n",
    "               glVertex3fv(verticies[vertex])\n",
    "       glEnd()\n",
    "    \n",
    "def Cube2(ColorCube2):\n",
    "       glBegin(GL_QUADS)\n",
    "       for surface in surfaces:\n",
    "           glColor4f(*colours[ColorCube2])\n",
    "           for vertex in surface:\n",
    "               glVertex3fv(verticies[vertex])\n",
    "       glEnd()\n",
    "    \n",
    "       glBegin(GL_LINES)\n",
    "       for edge in edges:\n",
    "           glColor4f(0,0,0,0.2)\n",
    "           for vertex in edge:\n",
    "               glVertex3fv(verticies[vertex])\n",
    "       glEnd()\n",
    " \n",
    "\n",
    "def Cube3(ColorCube3):\n",
    "       glBegin(GL_QUADS)\n",
    "       for surface in surfaces:\n",
    "           glColor4f(*colours[ColorCube3])\n",
    "           for vertex in surface:\n",
    "               glVertex3fv(verticies[vertex])\n",
    "       glEnd()\n",
    "    \n",
    "       glBegin(GL_LINES)\n",
    "       for edge in edges:\n",
    "           glColor4f(0,0,0,0.2)\n",
    "           for vertex in edge:\n",
    "               glVertex3fv(verticies[vertex])\n",
    "       glEnd()\n",
    "    \n",
    "def Cube4(ColorCube4):\n",
    "       glBegin(GL_QUADS)\n",
    "       for surface in surfaces:\n",
    "           glColor4f(*colours[ColorCube4])\n",
    "           for vertex in surface:\n",
    "               glVertex3fv(verticies[vertex])\n",
    "       glEnd()\n",
    "    \n",
    "       glBegin(GL_LINES)\n",
    "       for edge in edges:\n",
    "           glColor4f(0,0,0,0.2)\n",
    "           for vertex in edge:\n",
    "               glVertex3fv(verticies[vertex])\n",
    "       glEnd()\n",
    "\n",
    "    \n",
    "def main():\n",
    "    pygame.init()\n",
    "    display = (800,800)\n",
    "    pygame.display.set_mode(display, DOUBLEBUF|OPENGL)\n",
    "    \n",
    "    gluPerspective(100, display[0]/display[1], 0.1, 100)\n",
    "    gluLookAt(0,3,3,0,0,-1,0,0,-1)\n",
    "    glTranslatef(0.0,0.0,-5)\n",
    "    glRotatef(20, 0, -5, 0)\n",
    "    glClearColor(0.9,0.9,0.9,1)\n",
    "    \n",
    "    glEnable(GL_BLEND)\n",
    "    glBlendFunc(GL_SRC_ALPHA, GL_ONE_MINUS_SRC_ALPHA)\n",
    "    glClear(GL_COLOR_BUFFER_BIT|GL_DEPTH_BUFFER_BIT)\n",
    "\n",
    "    x = 0\n",
    "    \n",
    "    for x in range(len(result)):\n",
    "        glClear(GL_COLOR_BUFFER_BIT|GL_DEPTH_BUFFER_BIT)\n",
    "        cube = result[x]\n",
    "        ColorCube1 = cube[0]\n",
    "        ColorCube2 = cube[1]\n",
    "        ColorCube3 = cube[2]\n",
    "        ColorCube4 = cube[3]\n",
    "        x = x + 1 \n",
    "        glPushMatrix()\n",
    "        glTranslatef(-1,-1,1)\n",
    "        Cube1(ColorCube1)\n",
    "        glPopMatrix()\n",
    "        glPushMatrix()\n",
    "        glTranslatef(1,-1,1)\n",
    "        Cube2(ColorCube2)\n",
    "        glPopMatrix()\n",
    "        glPushMatrix()\n",
    "        glTranslatef(-1,1,1)\n",
    "        Cube3(ColorCube3)\n",
    "        glPopMatrix()\n",
    "        glPushMatrix()\n",
    "        glTranslatef(1,1,1)\n",
    "        Cube4(ColorCube4)\n",
    "        glPopMatrix()\n",
    "        pygame.display.flip()\n",
    "        filename = os.path.join(IMAGES_PATH, str(uuid.uuid1()) + '.jpg')\n",
    "        save_image(filename)\n",
    "main()"
   ]
  },
  {
   "cell_type": "code",
   "execution_count": null,
   "id": "680a57cb-4d73-474e-abe1-cacf45778449",
   "metadata": {},
   "outputs": [],
   "source": []
  }
 ],
 "metadata": {
  "kernelspec": {
   "display_name": "Python 3 (ipykernel)",
   "language": "python",
   "name": "python3"
  },
  "language_info": {
   "codemirror_mode": {
    "name": "ipython",
    "version": 3
   },
   "file_extension": ".py",
   "mimetype": "text/x-python",
   "name": "python",
   "nbconvert_exporter": "python",
   "pygments_lexer": "ipython3",
   "version": "3.10.8"
  }
 },
 "nbformat": 4,
 "nbformat_minor": 5
}
